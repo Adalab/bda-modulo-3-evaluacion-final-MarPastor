{
 "cells": [
  {
   "cell_type": "markdown",
   "id": "658288cf",
   "metadata": {},
   "source": [
    "# Evaluación Final MOD3 - Mar Pastor\n",
    "---"
   ]
  },
  {
   "cell_type": "markdown",
   "id": "be453e47",
   "metadata": {},
   "source": [
    "### Ejercicio EDA y Vizualización de datos\n",
    "\n",
    "En este ejercicio usaremos datos que consisten en dos BBDD de tipo CSV que contienen datos que describen el comportamiento de los clientes dentro de un programa de lealtad de una aerolínea.\n",
    "\n",
    "Exploraremos los archivos:\n",
    "\n",
    "- `Customer Flight Analysis.csv` que contiene informacion sobre la actividad de vuelo de los clientes\n",
    "- `Customer Loyalty History.csv` que proporciona un perfil detallado de los clientes y detalles sobre su membresía en el programa de lealtad"
   ]
  },
  {
   "cell_type": "markdown",
   "id": "5181aa8d",
   "metadata": {},
   "source": []
  }
 ],
 "metadata": {
  "kernelspec": {
   "display_name": "base",
   "language": "python",
   "name": "python3"
  },
  "language_info": {
   "codemirror_mode": {
    "name": "ipython",
    "version": 3
   },
   "file_extension": ".py",
   "mimetype": "text/x-python",
   "name": "python",
   "nbconvert_exporter": "python",
   "pygments_lexer": "ipython3",
   "version": "3.12.7"
  }
 },
 "nbformat": 4,
 "nbformat_minor": 5
}
