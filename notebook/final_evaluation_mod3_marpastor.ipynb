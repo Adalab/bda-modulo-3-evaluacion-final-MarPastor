{
 "cells": [
  {
   "cell_type": "markdown",
   "id": "658288cf",
   "metadata": {},
   "source": [
    "# Evaluación Final MOD3 - Mar Pastor\n",
    "---"
   ]
  },
  {
   "cell_type": "markdown",
   "id": "be453e47",
   "metadata": {},
   "source": [
    "### Ejercicio EDA y Vizualización de datos\n",
    "\n",
    "En este ejercicio usaremos datos que consisten en dos BBDD de tipo CSV que contienen datos que describen el comportamiento de los clientes dentro de un programa de lealtad de una aerolínea.\n",
    "\n",
    "Exploraremos los archivos:\n",
    "\n",
    "- `Customer Flight Activity.csv` que contiene información sobre la actividad de vuelo de los clientes\n",
    "- `Customer Loyalty History.csv` que proporciona un perfil detallado de los clientes y detalles sobre su membresía en el programa de lealtad\n",
    "---"
   ]
  },
  {
   "cell_type": "code",
   "execution_count": 147,
   "id": "d2d74f71",
   "metadata": {},
   "outputs": [],
   "source": [
    "# Tratamiento de datos\n",
    "# ------------------------------------------------------------------------------\n",
    "import pandas as pd\n",
    "import numpy as np\n",
    "\n",
    "# Visualización\n",
    "# ------------------------------------------------------------------------------\n",
    "import matplotlib.pyplot as plt\n",
    "import seaborn as sns\n",
    "\n",
    "# Evaluar linealidad de las relaciones entre las variables\n",
    "# y la distribución de las variables\n",
    "# ------------------------------------------------------------------------------\n",
    "#import scipy.stats as stats\n",
    "import scipy.stats as st\n",
    "import scipy.stats as stats\n",
    "from scipy.stats import shapiro, poisson, chisquare, expon, kstest\n",
    "\n",
    "# Configuración\n",
    "# ------------------------------------------------------------------------------\n",
    "pd.set_option('display.max_columns', None) # para poder visualizar todas las columnas de los DataFrames"
   ]
  },
  {
   "cell_type": "code",
   "execution_count": 148,
   "id": "0de4a6ad",
   "metadata": {},
   "outputs": [],
   "source": [
    "# abrimos los DataFrames:\n",
    "\n",
    "df_flight = pd.read_csv('../data/Customer Flight Activity.csv')\n",
    "df_loyalty = pd.read_csv('../data/Customer Loyalty History.csv')"
   ]
  },
  {
   "cell_type": "markdown",
   "id": "d7528186",
   "metadata": {},
   "source": [
    "### Trabajamos con el DataFrame de información sobre la actividad de vuelo de los clientes\n",
    "#### DataFrame: `df_flight`\n",
    "---"
   ]
  },
  {
   "cell_type": "code",
   "execution_count": 149,
   "id": "47a0c665",
   "metadata": {},
   "outputs": [
    {
     "data": {
      "application/vnd.microsoft.datawrangler.viewer.v0+json": {
       "columns": [
        {
         "name": "index",
         "rawType": "int64",
         "type": "integer"
        },
        {
         "name": "Loyalty Number",
         "rawType": "int64",
         "type": "integer"
        },
        {
         "name": "Year",
         "rawType": "int64",
         "type": "integer"
        },
        {
         "name": "Month",
         "rawType": "int64",
         "type": "integer"
        },
        {
         "name": "Flights Booked",
         "rawType": "int64",
         "type": "integer"
        },
        {
         "name": "Flights with Companions",
         "rawType": "int64",
         "type": "integer"
        },
        {
         "name": "Total Flights",
         "rawType": "int64",
         "type": "integer"
        },
        {
         "name": "Distance",
         "rawType": "int64",
         "type": "integer"
        },
        {
         "name": "Points Accumulated",
         "rawType": "float64",
         "type": "float"
        },
        {
         "name": "Points Redeemed",
         "rawType": "int64",
         "type": "integer"
        },
        {
         "name": "Dollar Cost Points Redeemed",
         "rawType": "int64",
         "type": "integer"
        }
       ],
       "ref": "0d66a071-4bf1-4eee-a7a2-53ea5c55c62c",
       "rows": [
        [
         "0",
         "100018",
         "2017",
         "1",
         "3",
         "0",
         "3",
         "1521",
         "152.0",
         "0",
         "0"
        ],
        [
         "1",
         "100102",
         "2017",
         "1",
         "10",
         "4",
         "14",
         "2030",
         "203.0",
         "0",
         "0"
        ]
       ],
       "shape": {
        "columns": 10,
        "rows": 2
       }
      },
      "text/html": [
       "<div>\n",
       "<style scoped>\n",
       "    .dataframe tbody tr th:only-of-type {\n",
       "        vertical-align: middle;\n",
       "    }\n",
       "\n",
       "    .dataframe tbody tr th {\n",
       "        vertical-align: top;\n",
       "    }\n",
       "\n",
       "    .dataframe thead th {\n",
       "        text-align: right;\n",
       "    }\n",
       "</style>\n",
       "<table border=\"1\" class=\"dataframe\">\n",
       "  <thead>\n",
       "    <tr style=\"text-align: right;\">\n",
       "      <th></th>\n",
       "      <th>Loyalty Number</th>\n",
       "      <th>Year</th>\n",
       "      <th>Month</th>\n",
       "      <th>Flights Booked</th>\n",
       "      <th>Flights with Companions</th>\n",
       "      <th>Total Flights</th>\n",
       "      <th>Distance</th>\n",
       "      <th>Points Accumulated</th>\n",
       "      <th>Points Redeemed</th>\n",
       "      <th>Dollar Cost Points Redeemed</th>\n",
       "    </tr>\n",
       "  </thead>\n",
       "  <tbody>\n",
       "    <tr>\n",
       "      <th>0</th>\n",
       "      <td>100018</td>\n",
       "      <td>2017</td>\n",
       "      <td>1</td>\n",
       "      <td>3</td>\n",
       "      <td>0</td>\n",
       "      <td>3</td>\n",
       "      <td>1521</td>\n",
       "      <td>152.0</td>\n",
       "      <td>0</td>\n",
       "      <td>0</td>\n",
       "    </tr>\n",
       "    <tr>\n",
       "      <th>1</th>\n",
       "      <td>100102</td>\n",
       "      <td>2017</td>\n",
       "      <td>1</td>\n",
       "      <td>10</td>\n",
       "      <td>4</td>\n",
       "      <td>14</td>\n",
       "      <td>2030</td>\n",
       "      <td>203.0</td>\n",
       "      <td>0</td>\n",
       "      <td>0</td>\n",
       "    </tr>\n",
       "  </tbody>\n",
       "</table>\n",
       "</div>"
      ],
      "text/plain": [
       "   Loyalty Number  Year  Month  Flights Booked  Flights with Companions  \\\n",
       "0          100018  2017      1               3                        0   \n",
       "1          100102  2017      1              10                        4   \n",
       "\n",
       "   Total Flights  Distance  Points Accumulated  Points Redeemed  \\\n",
       "0              3      1521               152.0                0   \n",
       "1             14      2030               203.0                0   \n",
       "\n",
       "   Dollar Cost Points Redeemed  \n",
       "0                            0  \n",
       "1                            0  "
      ]
     },
     "metadata": {},
     "output_type": "display_data"
    },
    {
     "name": "stdout",
     "output_type": "stream",
     "text": [
      "------------------------------------------------------------------------------------------------------------------------------------------------------\n"
     ]
    },
    {
     "data": {
      "application/vnd.microsoft.datawrangler.viewer.v0+json": {
       "columns": [
        {
         "name": "index",
         "rawType": "int64",
         "type": "integer"
        },
        {
         "name": "Loyalty Number",
         "rawType": "int64",
         "type": "integer"
        },
        {
         "name": "Year",
         "rawType": "int64",
         "type": "integer"
        },
        {
         "name": "Month",
         "rawType": "int64",
         "type": "integer"
        },
        {
         "name": "Flights Booked",
         "rawType": "int64",
         "type": "integer"
        },
        {
         "name": "Flights with Companions",
         "rawType": "int64",
         "type": "integer"
        },
        {
         "name": "Total Flights",
         "rawType": "int64",
         "type": "integer"
        },
        {
         "name": "Distance",
         "rawType": "int64",
         "type": "integer"
        },
        {
         "name": "Points Accumulated",
         "rawType": "float64",
         "type": "float"
        },
        {
         "name": "Points Redeemed",
         "rawType": "int64",
         "type": "integer"
        },
        {
         "name": "Dollar Cost Points Redeemed",
         "rawType": "int64",
         "type": "integer"
        }
       ],
       "ref": "2cb9491f-e34b-4961-b9ca-3c335e407f19",
       "rows": [
        [
         "405622",
         "999982",
         "2018",
         "12",
         "0",
         "0",
         "0",
         "0",
         "0.0",
         "0",
         "0"
        ],
        [
         "405623",
         "999986",
         "2018",
         "12",
         "0",
         "0",
         "0",
         "0",
         "0.0",
         "0",
         "0"
        ]
       ],
       "shape": {
        "columns": 10,
        "rows": 2
       }
      },
      "text/html": [
       "<div>\n",
       "<style scoped>\n",
       "    .dataframe tbody tr th:only-of-type {\n",
       "        vertical-align: middle;\n",
       "    }\n",
       "\n",
       "    .dataframe tbody tr th {\n",
       "        vertical-align: top;\n",
       "    }\n",
       "\n",
       "    .dataframe thead th {\n",
       "        text-align: right;\n",
       "    }\n",
       "</style>\n",
       "<table border=\"1\" class=\"dataframe\">\n",
       "  <thead>\n",
       "    <tr style=\"text-align: right;\">\n",
       "      <th></th>\n",
       "      <th>Loyalty Number</th>\n",
       "      <th>Year</th>\n",
       "      <th>Month</th>\n",
       "      <th>Flights Booked</th>\n",
       "      <th>Flights with Companions</th>\n",
       "      <th>Total Flights</th>\n",
       "      <th>Distance</th>\n",
       "      <th>Points Accumulated</th>\n",
       "      <th>Points Redeemed</th>\n",
       "      <th>Dollar Cost Points Redeemed</th>\n",
       "    </tr>\n",
       "  </thead>\n",
       "  <tbody>\n",
       "    <tr>\n",
       "      <th>405622</th>\n",
       "      <td>999982</td>\n",
       "      <td>2018</td>\n",
       "      <td>12</td>\n",
       "      <td>0</td>\n",
       "      <td>0</td>\n",
       "      <td>0</td>\n",
       "      <td>0</td>\n",
       "      <td>0.0</td>\n",
       "      <td>0</td>\n",
       "      <td>0</td>\n",
       "    </tr>\n",
       "    <tr>\n",
       "      <th>405623</th>\n",
       "      <td>999986</td>\n",
       "      <td>2018</td>\n",
       "      <td>12</td>\n",
       "      <td>0</td>\n",
       "      <td>0</td>\n",
       "      <td>0</td>\n",
       "      <td>0</td>\n",
       "      <td>0.0</td>\n",
       "      <td>0</td>\n",
       "      <td>0</td>\n",
       "    </tr>\n",
       "  </tbody>\n",
       "</table>\n",
       "</div>"
      ],
      "text/plain": [
       "        Loyalty Number  Year  Month  Flights Booked  Flights with Companions  \\\n",
       "405622          999982  2018     12               0                        0   \n",
       "405623          999986  2018     12               0                        0   \n",
       "\n",
       "        Total Flights  Distance  Points Accumulated  Points Redeemed  \\\n",
       "405622              0         0                 0.0                0   \n",
       "405623              0         0                 0.0                0   \n",
       "\n",
       "        Dollar Cost Points Redeemed  \n",
       "405622                            0  \n",
       "405623                            0  "
      ]
     },
     "metadata": {},
     "output_type": "display_data"
    },
    {
     "name": "stdout",
     "output_type": "stream",
     "text": [
      "------------------------------------------------------------------------------------------------------------------------------------------------------\n"
     ]
    },
    {
     "data": {
      "application/vnd.microsoft.datawrangler.viewer.v0+json": {
       "columns": [
        {
         "name": "index",
         "rawType": "int64",
         "type": "integer"
        },
        {
         "name": "Loyalty Number",
         "rawType": "int64",
         "type": "integer"
        },
        {
         "name": "Year",
         "rawType": "int64",
         "type": "integer"
        },
        {
         "name": "Month",
         "rawType": "int64",
         "type": "integer"
        },
        {
         "name": "Flights Booked",
         "rawType": "int64",
         "type": "integer"
        },
        {
         "name": "Flights with Companions",
         "rawType": "int64",
         "type": "integer"
        },
        {
         "name": "Total Flights",
         "rawType": "int64",
         "type": "integer"
        },
        {
         "name": "Distance",
         "rawType": "int64",
         "type": "integer"
        },
        {
         "name": "Points Accumulated",
         "rawType": "float64",
         "type": "float"
        },
        {
         "name": "Points Redeemed",
         "rawType": "int64",
         "type": "integer"
        },
        {
         "name": "Dollar Cost Points Redeemed",
         "rawType": "int64",
         "type": "integer"
        }
       ],
       "ref": "a121a677-a322-49c3-a78e-636919ceda04",
       "rows": [
        [
         "256370",
         "342156",
         "2018",
         "3",
         "12",
         "5",
         "17",
         "3859",
         "415.8",
         "0",
         "0"
        ],
        [
         "205311",
         "235063",
         "2018",
         "1",
         "3",
         "0",
         "3",
         "1227",
         "122.0",
         "0",
         "0"
        ]
       ],
       "shape": {
        "columns": 10,
        "rows": 2
       }
      },
      "text/html": [
       "<div>\n",
       "<style scoped>\n",
       "    .dataframe tbody tr th:only-of-type {\n",
       "        vertical-align: middle;\n",
       "    }\n",
       "\n",
       "    .dataframe tbody tr th {\n",
       "        vertical-align: top;\n",
       "    }\n",
       "\n",
       "    .dataframe thead th {\n",
       "        text-align: right;\n",
       "    }\n",
       "</style>\n",
       "<table border=\"1\" class=\"dataframe\">\n",
       "  <thead>\n",
       "    <tr style=\"text-align: right;\">\n",
       "      <th></th>\n",
       "      <th>Loyalty Number</th>\n",
       "      <th>Year</th>\n",
       "      <th>Month</th>\n",
       "      <th>Flights Booked</th>\n",
       "      <th>Flights with Companions</th>\n",
       "      <th>Total Flights</th>\n",
       "      <th>Distance</th>\n",
       "      <th>Points Accumulated</th>\n",
       "      <th>Points Redeemed</th>\n",
       "      <th>Dollar Cost Points Redeemed</th>\n",
       "    </tr>\n",
       "  </thead>\n",
       "  <tbody>\n",
       "    <tr>\n",
       "      <th>256370</th>\n",
       "      <td>342156</td>\n",
       "      <td>2018</td>\n",
       "      <td>3</td>\n",
       "      <td>12</td>\n",
       "      <td>5</td>\n",
       "      <td>17</td>\n",
       "      <td>3859</td>\n",
       "      <td>415.8</td>\n",
       "      <td>0</td>\n",
       "      <td>0</td>\n",
       "    </tr>\n",
       "    <tr>\n",
       "      <th>205311</th>\n",
       "      <td>235063</td>\n",
       "      <td>2018</td>\n",
       "      <td>1</td>\n",
       "      <td>3</td>\n",
       "      <td>0</td>\n",
       "      <td>3</td>\n",
       "      <td>1227</td>\n",
       "      <td>122.0</td>\n",
       "      <td>0</td>\n",
       "      <td>0</td>\n",
       "    </tr>\n",
       "  </tbody>\n",
       "</table>\n",
       "</div>"
      ],
      "text/plain": [
       "        Loyalty Number  Year  Month  Flights Booked  Flights with Companions  \\\n",
       "256370          342156  2018      3              12                        5   \n",
       "205311          235063  2018      1               3                        0   \n",
       "\n",
       "        Total Flights  Distance  Points Accumulated  Points Redeemed  \\\n",
       "256370             17      3859               415.8                0   \n",
       "205311              3      1227               122.0                0   \n",
       "\n",
       "        Dollar Cost Points Redeemed  \n",
       "256370                            0  \n",
       "205311                            0  "
      ]
     },
     "metadata": {},
     "output_type": "display_data"
    }
   ],
   "source": [
    "# 1. Exploramos una visión general de cada uno de los DataFrame:\n",
    "\n",
    "display(df_flight.head(2)) # revisamos los primeros datos\n",
    "print('---' * 50)\n",
    "display(df_flight.tail(2)) # revisamos los últimos datos\n",
    "print('---' * 50)\n",
    "display(df_flight.sample(2)) # revisamos datos aleatorios"
   ]
  },
  {
   "cell_type": "code",
   "execution_count": 150,
   "id": "24cc19c5",
   "metadata": {},
   "outputs": [
    {
     "name": "stdout",
     "output_type": "stream",
     "text": [
      "El número de filas es 405624, el número de columnas es 10\n"
     ]
    }
   ],
   "source": [
    "# exploramos el número de filas y columnas:\n",
    " \n",
    "print(f\"El número de filas es {df_flight.shape[0]}, el número de columnas es {df_flight.shape[1]}\")"
   ]
  },
  {
   "cell_type": "code",
   "execution_count": 151,
   "id": "884caefd",
   "metadata": {},
   "outputs": [
    {
     "data": {
      "text/plain": [
       "Index(['Loyalty Number', 'Year', 'Month', 'Flights Booked',\n",
       "       'Flights with Companions', 'Total Flights', 'Distance',\n",
       "       'Points Accumulated', 'Points Redeemed', 'Dollar Cost Points Redeemed'],\n",
       "      dtype='object')"
      ]
     },
     "execution_count": 151,
     "metadata": {},
     "output_type": "execute_result"
    }
   ],
   "source": [
    "# exploramos los nombres de las columnas:\n",
    "\n",
    "df_flight.columns"
   ]
  },
  {
   "cell_type": "code",
   "execution_count": 152,
   "id": "eebef8f1",
   "metadata": {},
   "outputs": [
    {
     "name": "stdout",
     "output_type": "stream",
     "text": [
      "<class 'pandas.core.frame.DataFrame'>\n",
      "RangeIndex: 405624 entries, 0 to 405623\n",
      "Data columns (total 10 columns):\n",
      " #   Column                       Non-Null Count   Dtype  \n",
      "---  ------                       --------------   -----  \n",
      " 0   Loyalty Number               405624 non-null  int64  \n",
      " 1   Year                         405624 non-null  int64  \n",
      " 2   Month                        405624 non-null  int64  \n",
      " 3   Flights Booked               405624 non-null  int64  \n",
      " 4   Flights with Companions      405624 non-null  int64  \n",
      " 5   Total Flights                405624 non-null  int64  \n",
      " 6   Distance                     405624 non-null  int64  \n",
      " 7   Points Accumulated           405624 non-null  float64\n",
      " 8   Points Redeemed              405624 non-null  int64  \n",
      " 9   Dollar Cost Points Redeemed  405624 non-null  int64  \n",
      "dtypes: float64(1), int64(9)\n",
      "memory usage: 30.9 MB\n"
     ]
    }
   ],
   "source": [
    "# 2. Exploramos la información de las columnas:\n",
    "\n",
    "df_flight.info()"
   ]
  },
  {
   "cell_type": "markdown",
   "id": "ff074525",
   "metadata": {},
   "source": [
    "### Primeras conclusiones de la epxloración de datos del DataFrame:\n",
    "\n",
    "- No existen datos nulos, por lo que no haremos ninguna modificación\n",
    "- Las columnas tienen nombres unificados, por lo que haremos cambios\n",
    "- La columna 'Points Accumulated' tiene un tipo de dato 'float' y luego de la exploración inicial podríamos unificar los datos y cambiarlo a 'entero'\n",
    "- La columna 'Year' la convertimos en object para tratarla como una columna categórica"
   ]
  },
  {
   "cell_type": "code",
   "execution_count": 153,
   "id": "a72ab168",
   "metadata": {},
   "outputs": [
    {
     "name": "stdout",
     "output_type": "stream",
     "text": [
      "<class 'pandas.core.frame.DataFrame'>\n",
      "RangeIndex: 405624 entries, 0 to 405623\n",
      "Data columns (total 10 columns):\n",
      " #   Column                       Non-Null Count   Dtype\n",
      "---  ------                       --------------   -----\n",
      " 0   Loyalty Number               405624 non-null  int64\n",
      " 1   Year                         405624 non-null  int64\n",
      " 2   Month                        405624 non-null  int64\n",
      " 3   Flights Booked               405624 non-null  int64\n",
      " 4   Flights with Companions      405624 non-null  int64\n",
      " 5   Total Flights                405624 non-null  int64\n",
      " 6   Distance                     405624 non-null  int64\n",
      " 7   Points Accumulated           405624 non-null  int32\n",
      " 8   Points Redeemed              405624 non-null  int64\n",
      " 9   Dollar Cost Points Redeemed  405624 non-null  int64\n",
      "dtypes: int32(1), int64(9)\n",
      "memory usage: 29.4 MB\n"
     ]
    }
   ],
   "source": [
    "# convertir dato 'float' a 'int' en la columna 'Points Accumulated'\n",
    "\n",
    "df_flight['Points Accumulated'] = df_flight['Points Accumulated'].astype(int)\n",
    "\n",
    "df_flight.info() # para comprobar el cambio"
   ]
  },
  {
   "cell_type": "code",
   "execution_count": 154,
   "id": "dbfaf473",
   "metadata": {},
   "outputs": [
    {
     "name": "stdout",
     "output_type": "stream",
     "text": [
      "<class 'pandas.core.frame.DataFrame'>\n",
      "RangeIndex: 405624 entries, 0 to 405623\n",
      "Data columns (total 10 columns):\n",
      " #   Column                       Non-Null Count   Dtype \n",
      "---  ------                       --------------   ----- \n",
      " 0   Loyalty Number               405624 non-null  int64 \n",
      " 1   Year                         405624 non-null  object\n",
      " 2   Month                        405624 non-null  int64 \n",
      " 3   Flights Booked               405624 non-null  int64 \n",
      " 4   Flights with Companions      405624 non-null  int64 \n",
      " 5   Total Flights                405624 non-null  int64 \n",
      " 6   Distance                     405624 non-null  int64 \n",
      " 7   Points Accumulated           405624 non-null  int32 \n",
      " 8   Points Redeemed              405624 non-null  int64 \n",
      " 9   Dollar Cost Points Redeemed  405624 non-null  int64 \n",
      "dtypes: int32(1), int64(8), object(1)\n",
      "memory usage: 29.4+ MB\n"
     ]
    }
   ],
   "source": [
    "# convertir dato 'int' a 'object' en la columna 'Year'\n",
    "\n",
    "df_flight['Year'] = df_flight['Year'].astype('object')\n",
    "\n",
    "df_flight.info() # para verificar el cambio"
   ]
  },
  {
   "cell_type": "code",
   "execution_count": 155,
   "id": "6c0da4af",
   "metadata": {},
   "outputs": [
    {
     "name": "stdout",
     "output_type": "stream",
     "text": [
      "<class 'pandas.core.frame.DataFrame'>\n",
      "RangeIndex: 405624 entries, 0 to 405623\n",
      "Data columns (total 10 columns):\n",
      " #   Column                       Non-Null Count   Dtype \n",
      "---  ------                       --------------   ----- \n",
      " 0   Loyalty Number               405624 non-null  int64 \n",
      " 1   Year                         405624 non-null  object\n",
      " 2   Month                        405624 non-null  object\n",
      " 3   Flights Booked               405624 non-null  int64 \n",
      " 4   Flights with Companions      405624 non-null  int64 \n",
      " 5   Total Flights                405624 non-null  int64 \n",
      " 6   Distance                     405624 non-null  int64 \n",
      " 7   Points Accumulated           405624 non-null  int32 \n",
      " 8   Points Redeemed              405624 non-null  int64 \n",
      " 9   Dollar Cost Points Redeemed  405624 non-null  int64 \n",
      "dtypes: int32(1), int64(7), object(2)\n",
      "memory usage: 29.4+ MB\n"
     ]
    }
   ],
   "source": [
    "# convertir dato 'int' a 'object' en la columna 'Month'\n",
    "\n",
    "df_flight['Month'] = df_flight['Month'].astype('str')\n",
    "\n",
    "df_flight.info() # para verificar el cambio"
   ]
  },
  {
   "cell_type": "code",
   "execution_count": 156,
   "id": "a0116208",
   "metadata": {},
   "outputs": [
    {
     "data": {
      "text/plain": [
       "array(['Enero', 'Septiembre', 'Febrero', 'Marzo', 'Noviembre', 'Abril',\n",
       "       'Mayo', 'Julio', 'Junio', 'Agosto', 'Octubre', 'Diciembre'],\n",
       "      dtype=object)"
      ]
     },
     "execution_count": 156,
     "metadata": {},
     "output_type": "execute_result"
    }
   ],
   "source": [
    "# convertimos los numeros de los meses por los nombre de los meses para mejor comprensión\n",
    "# usamos una diccionario-mascara que asigna a cada numero un nombre de mes, que luego aplicamos con un replace\n",
    "\n",
    "mapa_mes = {'1': 'Enero', '2': 'Febrero', '3': 'Marzo', '4': 'Abril', '5': 'Mayo', '6': 'Junio', \n",
    "            '7': 'Julio', '8': 'Agosto', '9': 'Septiembre', '10': 'Octubre', '11': 'Noviembre', '12': 'Diciembre'}\n",
    "\n",
    "df_flight['Month'] = df_flight['Month'].map(mapa_mes) # usamos 'map' porque verificamos que no tenemos valores nulos en esta columna\n",
    "df_flight['Month'].unique() # para verificar los cambios"
   ]
  },
  {
   "cell_type": "code",
   "execution_count": 157,
   "id": "57043c3c",
   "metadata": {},
   "outputs": [
    {
     "data": {
      "application/vnd.microsoft.datawrangler.viewer.v0+json": {
       "columns": [
        {
         "name": "index",
         "rawType": "object",
         "type": "string"
        },
        {
         "name": "count",
         "rawType": "object",
         "type": "unknown"
        },
        {
         "name": "unique",
         "rawType": "object",
         "type": "unknown"
        },
        {
         "name": "top",
         "rawType": "object",
         "type": "unknown"
        },
        {
         "name": "freq",
         "rawType": "object",
         "type": "unknown"
        }
       ],
       "ref": "6e73e43e-1862-4f7f-8f50-ee15e9e6d510",
       "rows": [
        [
         "Year",
         "405624",
         "2",
         "2017",
         "202812"
        ],
        [
         "Month",
         "405624",
         "12",
         "Enero",
         "33802"
        ]
       ],
       "shape": {
        "columns": 4,
        "rows": 2
       }
      },
      "text/html": [
       "<div>\n",
       "<style scoped>\n",
       "    .dataframe tbody tr th:only-of-type {\n",
       "        vertical-align: middle;\n",
       "    }\n",
       "\n",
       "    .dataframe tbody tr th {\n",
       "        vertical-align: top;\n",
       "    }\n",
       "\n",
       "    .dataframe thead th {\n",
       "        text-align: right;\n",
       "    }\n",
       "</style>\n",
       "<table border=\"1\" class=\"dataframe\">\n",
       "  <thead>\n",
       "    <tr style=\"text-align: right;\">\n",
       "      <th></th>\n",
       "      <th>count</th>\n",
       "      <th>unique</th>\n",
       "      <th>top</th>\n",
       "      <th>freq</th>\n",
       "    </tr>\n",
       "  </thead>\n",
       "  <tbody>\n",
       "    <tr>\n",
       "      <th>Year</th>\n",
       "      <td>405624</td>\n",
       "      <td>2</td>\n",
       "      <td>2017</td>\n",
       "      <td>202812</td>\n",
       "    </tr>\n",
       "    <tr>\n",
       "      <th>Month</th>\n",
       "      <td>405624</td>\n",
       "      <td>12</td>\n",
       "      <td>Enero</td>\n",
       "      <td>33802</td>\n",
       "    </tr>\n",
       "  </tbody>\n",
       "</table>\n",
       "</div>"
      ],
      "text/plain": [
       "        count unique    top    freq\n",
       "Year   405624      2   2017  202812\n",
       "Month  405624     12  Enero   33802"
      ]
     },
     "execution_count": 157,
     "metadata": {},
     "output_type": "execute_result"
    }
   ],
   "source": [
    "# 3. Exploramos los datos de las columnas categóricas usando 'describe()'\n",
    "\n",
    "df_flight.describe(include='O').T"
   ]
  },
  {
   "cell_type": "code",
   "execution_count": 158,
   "id": "f6af5a49",
   "metadata": {},
   "outputs": [
    {
     "data": {
      "application/vnd.microsoft.datawrangler.viewer.v0+json": {
       "columns": [
        {
         "name": "index",
         "rawType": "object",
         "type": "string"
        },
        {
         "name": "count",
         "rawType": "float64",
         "type": "float"
        },
        {
         "name": "mean",
         "rawType": "float64",
         "type": "float"
        },
        {
         "name": "std",
         "rawType": "float64",
         "type": "float"
        },
        {
         "name": "min",
         "rawType": "float64",
         "type": "float"
        },
        {
         "name": "25%",
         "rawType": "float64",
         "type": "float"
        },
        {
         "name": "50%",
         "rawType": "float64",
         "type": "float"
        },
        {
         "name": "75%",
         "rawType": "float64",
         "type": "float"
        },
        {
         "name": "max",
         "rawType": "float64",
         "type": "float"
        }
       ],
       "ref": "00565bac-acc9-4500-a045-80ad001ad521",
       "rows": [
        [
         "Loyalty Number",
         "405624.0",
         "550037.8730844329",
         "258935.2869685325",
         "100018.0",
         "326961.0",
         "550834.0",
         "772194.0",
         "999986.0"
        ],
        [
         "Flights Booked",
         "405624.0",
         "4.115052363765457",
         "5.225518362156165",
         "0.0",
         "0.0",
         "1.0",
         "8.0",
         "21.0"
        ],
        [
         "Flights with Companions",
         "405624.0",
         "1.031805317239611",
         "2.0768693438648906",
         "0.0",
         "0.0",
         "0.0",
         "1.0",
         "11.0"
        ],
        [
         "Total Flights",
         "405624.0",
         "5.146857681005069",
         "6.5212274242571455",
         "0.0",
         "0.0",
         "1.0",
         "10.0",
         "32.0"
        ],
        [
         "Distance",
         "405624.0",
         "1208.880058872256",
         "1433.1553197944165",
         "0.0",
         "0.0",
         "488.0",
         "2336.0",
         "6293.0"
        ],
        [
         "Points Accumulated",
         "405624.0",
         "123.66700195254718",
         "146.57908278834532",
         "0.0",
         "0.0",
         "50.0",
         "239.0",
         "676.0"
        ],
        [
         "Points Redeemed",
         "405624.0",
         "30.696871979961738",
         "125.4860493182356",
         "0.0",
         "0.0",
         "0.0",
         "0.0",
         "876.0"
        ],
        [
         "Dollar Cost Points Redeemed",
         "405624.0",
         "2.484502889375382",
         "10.150037777718726",
         "0.0",
         "0.0",
         "0.0",
         "0.0",
         "71.0"
        ]
       ],
       "shape": {
        "columns": 8,
        "rows": 8
       }
      },
      "text/html": [
       "<div>\n",
       "<style scoped>\n",
       "    .dataframe tbody tr th:only-of-type {\n",
       "        vertical-align: middle;\n",
       "    }\n",
       "\n",
       "    .dataframe tbody tr th {\n",
       "        vertical-align: top;\n",
       "    }\n",
       "\n",
       "    .dataframe thead th {\n",
       "        text-align: right;\n",
       "    }\n",
       "</style>\n",
       "<table border=\"1\" class=\"dataframe\">\n",
       "  <thead>\n",
       "    <tr style=\"text-align: right;\">\n",
       "      <th></th>\n",
       "      <th>count</th>\n",
       "      <th>mean</th>\n",
       "      <th>std</th>\n",
       "      <th>min</th>\n",
       "      <th>25%</th>\n",
       "      <th>50%</th>\n",
       "      <th>75%</th>\n",
       "      <th>max</th>\n",
       "    </tr>\n",
       "  </thead>\n",
       "  <tbody>\n",
       "    <tr>\n",
       "      <th>Loyalty Number</th>\n",
       "      <td>405624.0</td>\n",
       "      <td>550037.873084</td>\n",
       "      <td>258935.286969</td>\n",
       "      <td>100018.0</td>\n",
       "      <td>326961.0</td>\n",
       "      <td>550834.0</td>\n",
       "      <td>772194.0</td>\n",
       "      <td>999986.0</td>\n",
       "    </tr>\n",
       "    <tr>\n",
       "      <th>Flights Booked</th>\n",
       "      <td>405624.0</td>\n",
       "      <td>4.115052</td>\n",
       "      <td>5.225518</td>\n",
       "      <td>0.0</td>\n",
       "      <td>0.0</td>\n",
       "      <td>1.0</td>\n",
       "      <td>8.0</td>\n",
       "      <td>21.0</td>\n",
       "    </tr>\n",
       "    <tr>\n",
       "      <th>Flights with Companions</th>\n",
       "      <td>405624.0</td>\n",
       "      <td>1.031805</td>\n",
       "      <td>2.076869</td>\n",
       "      <td>0.0</td>\n",
       "      <td>0.0</td>\n",
       "      <td>0.0</td>\n",
       "      <td>1.0</td>\n",
       "      <td>11.0</td>\n",
       "    </tr>\n",
       "    <tr>\n",
       "      <th>Total Flights</th>\n",
       "      <td>405624.0</td>\n",
       "      <td>5.146858</td>\n",
       "      <td>6.521227</td>\n",
       "      <td>0.0</td>\n",
       "      <td>0.0</td>\n",
       "      <td>1.0</td>\n",
       "      <td>10.0</td>\n",
       "      <td>32.0</td>\n",
       "    </tr>\n",
       "    <tr>\n",
       "      <th>Distance</th>\n",
       "      <td>405624.0</td>\n",
       "      <td>1208.880059</td>\n",
       "      <td>1433.155320</td>\n",
       "      <td>0.0</td>\n",
       "      <td>0.0</td>\n",
       "      <td>488.0</td>\n",
       "      <td>2336.0</td>\n",
       "      <td>6293.0</td>\n",
       "    </tr>\n",
       "    <tr>\n",
       "      <th>Points Accumulated</th>\n",
       "      <td>405624.0</td>\n",
       "      <td>123.667002</td>\n",
       "      <td>146.579083</td>\n",
       "      <td>0.0</td>\n",
       "      <td>0.0</td>\n",
       "      <td>50.0</td>\n",
       "      <td>239.0</td>\n",
       "      <td>676.0</td>\n",
       "    </tr>\n",
       "    <tr>\n",
       "      <th>Points Redeemed</th>\n",
       "      <td>405624.0</td>\n",
       "      <td>30.696872</td>\n",
       "      <td>125.486049</td>\n",
       "      <td>0.0</td>\n",
       "      <td>0.0</td>\n",
       "      <td>0.0</td>\n",
       "      <td>0.0</td>\n",
       "      <td>876.0</td>\n",
       "    </tr>\n",
       "    <tr>\n",
       "      <th>Dollar Cost Points Redeemed</th>\n",
       "      <td>405624.0</td>\n",
       "      <td>2.484503</td>\n",
       "      <td>10.150038</td>\n",
       "      <td>0.0</td>\n",
       "      <td>0.0</td>\n",
       "      <td>0.0</td>\n",
       "      <td>0.0</td>\n",
       "      <td>71.0</td>\n",
       "    </tr>\n",
       "  </tbody>\n",
       "</table>\n",
       "</div>"
      ],
      "text/plain": [
       "                                count           mean            std       min  \\\n",
       "Loyalty Number               405624.0  550037.873084  258935.286969  100018.0   \n",
       "Flights Booked               405624.0       4.115052       5.225518       0.0   \n",
       "Flights with Companions      405624.0       1.031805       2.076869       0.0   \n",
       "Total Flights                405624.0       5.146858       6.521227       0.0   \n",
       "Distance                     405624.0    1208.880059    1433.155320       0.0   \n",
       "Points Accumulated           405624.0     123.667002     146.579083       0.0   \n",
       "Points Redeemed              405624.0      30.696872     125.486049       0.0   \n",
       "Dollar Cost Points Redeemed  405624.0       2.484503      10.150038       0.0   \n",
       "\n",
       "                                  25%       50%       75%       max  \n",
       "Loyalty Number               326961.0  550834.0  772194.0  999986.0  \n",
       "Flights Booked                    0.0       1.0       8.0      21.0  \n",
       "Flights with Companions           0.0       0.0       1.0      11.0  \n",
       "Total Flights                     0.0       1.0      10.0      32.0  \n",
       "Distance                          0.0     488.0    2336.0    6293.0  \n",
       "Points Accumulated                0.0      50.0     239.0     676.0  \n",
       "Points Redeemed                   0.0       0.0       0.0     876.0  \n",
       "Dollar Cost Points Redeemed       0.0       0.0       0.0      71.0  "
      ]
     },
     "execution_count": 158,
     "metadata": {},
     "output_type": "execute_result"
    }
   ],
   "source": [
    "# exploramos los datos de las columnas numéricas usando describe()\n",
    "\n",
    "df_flight.describe().T\n",
    "\n",
    "# concluímos que las media y la mediana no están cercanas en muchos de los datos de algunas columnas, \n",
    "# y en algunas columnas la dispersión de los datos es alta"
   ]
  },
  {
   "cell_type": "code",
   "execution_count": 159,
   "id": "73491646",
   "metadata": {},
   "outputs": [
    {
     "data": {
      "text/plain": [
       "1864"
      ]
     },
     "execution_count": 159,
     "metadata": {},
     "output_type": "execute_result"
    }
   ],
   "source": [
    "# 4. Exploramos el DataFrame para detectar registros duplicados\n",
    "\n",
    "df_flight.duplicated().sum() \n",
    "# se registran 1864 entradas de datos duplicadas"
   ]
  },
  {
   "cell_type": "code",
   "execution_count": 160,
   "id": "078fb71e",
   "metadata": {},
   "outputs": [
    {
     "data": {
      "application/vnd.microsoft.datawrangler.viewer.v0+json": {
       "columns": [
        {
         "name": "index",
         "rawType": "object",
         "type": "string"
        },
        {
         "name": "0",
         "rawType": "int64",
         "type": "integer"
        }
       ],
       "ref": "d9213cf0-349a-4029-8015-4f4bca1487ca",
       "rows": [
        [
         "Loyalty Number",
         "0"
        ],
        [
         "Year",
         "0"
        ],
        [
         "Month",
         "0"
        ],
        [
         "Flights Booked",
         "0"
        ],
        [
         "Flights with Companions",
         "0"
        ],
        [
         "Total Flights",
         "0"
        ],
        [
         "Distance",
         "0"
        ],
        [
         "Points Accumulated",
         "0"
        ],
        [
         "Points Redeemed",
         "0"
        ],
        [
         "Dollar Cost Points Redeemed",
         "0"
        ]
       ],
       "shape": {
        "columns": 1,
        "rows": 10
       }
      },
      "text/plain": [
       "Loyalty Number                 0\n",
       "Year                           0\n",
       "Month                          0\n",
       "Flights Booked                 0\n",
       "Flights with Companions        0\n",
       "Total Flights                  0\n",
       "Distance                       0\n",
       "Points Accumulated             0\n",
       "Points Redeemed                0\n",
       "Dollar Cost Points Redeemed    0\n",
       "dtype: int64"
      ]
     },
     "execution_count": 160,
     "metadata": {},
     "output_type": "execute_result"
    }
   ],
   "source": [
    "df_flight.isnull().sum() \n",
    "# podemos ver que los registros duplicados tiene valores '0' en cada una de las columnas"
   ]
  },
  {
   "cell_type": "code",
   "execution_count": 161,
   "id": "d640a3fc",
   "metadata": {},
   "outputs": [
    {
     "data": {
      "application/vnd.microsoft.datawrangler.viewer.v0+json": {
       "columns": [
        {
         "name": "index",
         "rawType": "int64",
         "type": "integer"
        },
        {
         "name": "Loyalty Number",
         "rawType": "int64",
         "type": "integer"
        },
        {
         "name": "Year",
         "rawType": "object",
         "type": "unknown"
        },
        {
         "name": "Month",
         "rawType": "object",
         "type": "string"
        },
        {
         "name": "Flights Booked",
         "rawType": "int64",
         "type": "integer"
        },
        {
         "name": "Flights with Companions",
         "rawType": "int64",
         "type": "integer"
        },
        {
         "name": "Total Flights",
         "rawType": "int64",
         "type": "integer"
        },
        {
         "name": "Distance",
         "rawType": "int64",
         "type": "integer"
        },
        {
         "name": "Points Accumulated",
         "rawType": "int32",
         "type": "integer"
        },
        {
         "name": "Points Redeemed",
         "rawType": "int64",
         "type": "integer"
        },
        {
         "name": "Dollar Cost Points Redeemed",
         "rawType": "int64",
         "type": "integer"
        }
       ],
       "ref": "0abaee1a-9685-42d2-9a6d-9e98ffd4ad70",
       "rows": [
        [
         "41",
         "101902",
         "2017",
         "Enero",
         "0",
         "0",
         "0",
         "0",
         "0",
         "0",
         "0"
        ],
        [
         "33843",
         "101902",
         "2017",
         "Marzo",
         "0",
         "0",
         "0",
         "0",
         "0",
         "0",
         "0"
        ],
        [
         "16942",
         "101902",
         "2017",
         "Febrero",
         "0",
         "0",
         "0",
         "0",
         "0",
         "0",
         "0"
        ],
        [
         "185952",
         "101902",
         "2017",
         "Diciembre",
         "0",
         "0",
         "0",
         "0",
         "0",
         "0",
         "0"
        ],
        [
         "185953",
         "101902",
         "2017",
         "Diciembre",
         "0",
         "0",
         "0",
         "0",
         "0",
         "0",
         "0"
        ],
        [
         "101447",
         "101902",
         "2017",
         "Julio",
         "0",
         "0",
         "0",
         "0",
         "0",
         "0",
         "0"
        ],
        [
         "16943",
         "101902",
         "2017",
         "Febrero",
         "0",
         "0",
         "0",
         "0",
         "0",
         "0",
         "0"
        ],
        [
         "33844",
         "101902",
         "2017",
         "Marzo",
         "0",
         "0",
         "0",
         "0",
         "0",
         "0",
         "0"
        ],
        [
         "42",
         "101902",
         "2017",
         "Enero",
         "0",
         "0",
         "0",
         "0",
         "0",
         "0",
         "0"
        ],
        [
         "101448",
         "101902",
         "2017",
         "Julio",
         "0",
         "0",
         "0",
         "0",
         "0",
         "0",
         "0"
        ],
        [
         "287431",
         "106001",
         "2018",
         "Junio",
         "0",
         "0",
         "0",
         "0",
         "0",
         "0",
         "0"
        ],
        [
         "287432",
         "106001",
         "2018",
         "Junio",
         "0",
         "0",
         "0",
         "0",
         "0",
         "0",
         "0"
        ],
        [
         "1683",
         "106509",
         "2018",
         "Mayo",
         "0",
         "0",
         "0",
         "0",
         "0",
         "0",
         "0"
        ],
        [
         "1651",
         "106509",
         "2018",
         "Enero",
         "0",
         "0",
         "0",
         "0",
         "0",
         "0",
         "0"
        ],
        [
         "1654",
         "106509",
         "2018",
         "Febrero",
         "0",
         "0",
         "0",
         "0",
         "0",
         "0",
         "0"
        ],
        [
         "1664",
         "106509",
         "2018",
         "Febrero",
         "0",
         "0",
         "0",
         "0",
         "0",
         "0",
         "0"
        ],
        [
         "1667",
         "106509",
         "2018",
         "Marzo",
         "0",
         "0",
         "0",
         "0",
         "0",
         "0",
         "0"
        ],
        [
         "1671",
         "106509",
         "2018",
         "Marzo",
         "0",
         "0",
         "0",
         "0",
         "0",
         "0",
         "0"
        ],
        [
         "1677",
         "106509",
         "2018",
         "Abril",
         "0",
         "0",
         "0",
         "0",
         "0",
         "0",
         "0"
        ],
        [
         "1682",
         "106509",
         "2018",
         "Abril",
         "0",
         "0",
         "0",
         "0",
         "0",
         "0",
         "0"
        ],
        [
         "1690",
         "106509",
         "2018",
         "Mayo",
         "0",
         "0",
         "0",
         "0",
         "0",
         "0",
         "0"
        ],
        [
         "1924",
         "106509",
         "2018",
         "Septiembre",
         "0",
         "0",
         "0",
         "0",
         "0",
         "0",
         "0"
        ],
        [
         "1791",
         "106509",
         "2018",
         "Junio",
         "0",
         "0",
         "0",
         "0",
         "0",
         "0",
         "0"
        ],
        [
         "1838",
         "106509",
         "2018",
         "Julio",
         "0",
         "0",
         "0",
         "0",
         "0",
         "0",
         "0"
        ],
        [
         "1888",
         "106509",
         "2018",
         "Julio",
         "0",
         "0",
         "0",
         "0",
         "0",
         "0",
         "0"
        ],
        [
         "1898",
         "106509",
         "2018",
         "Septiembre",
         "0",
         "0",
         "0",
         "0",
         "0",
         "0",
         "0"
        ],
        [
         "1643",
         "106509",
         "2018",
         "Enero",
         "0",
         "0",
         "0",
         "0",
         "0",
         "0",
         "0"
        ],
        [
         "1945",
         "106509",
         "2018",
         "Noviembre",
         "0",
         "0",
         "0",
         "0",
         "0",
         "0",
         "0"
        ],
        [
         "1950",
         "106509",
         "2018",
         "Noviembre",
         "0",
         "0",
         "0",
         "0",
         "0",
         "0",
         "0"
        ],
        [
         "1965",
         "106509",
         "2018",
         "Diciembre",
         "0",
         "0",
         "0",
         "0",
         "0",
         "0",
         "0"
        ],
        [
         "1969",
         "106509",
         "2018",
         "Diciembre",
         "0",
         "0",
         "0",
         "0",
         "0",
         "0",
         "0"
        ],
        [
         "1778",
         "106509",
         "2018",
         "Junio",
         "0",
         "0",
         "0",
         "0",
         "0",
         "0",
         "0"
        ],
        [
         "1616",
         "106509",
         "2017",
         "Diciembre",
         "0",
         "0",
         "0",
         "0",
         "0",
         "0",
         "0"
        ],
        [
         "1639",
         "106509",
         "2017",
         "Diciembre",
         "0",
         "0",
         "0",
         "0",
         "0",
         "0",
         "0"
        ],
        [
         "1607",
         "106509",
         "2017",
         "Noviembre",
         "0",
         "0",
         "0",
         "0",
         "0",
         "0",
         "0"
        ],
        [
         "1334",
         "106509",
         "2017",
         "Enero",
         "0",
         "0",
         "0",
         "0",
         "0",
         "0",
         "0"
        ],
        [
         "1336",
         "106509",
         "2017",
         "Enero",
         "0",
         "0",
         "0",
         "0",
         "0",
         "0",
         "0"
        ],
        [
         "1339",
         "106509",
         "2017",
         "Febrero",
         "0",
         "0",
         "0",
         "0",
         "0",
         "0",
         "0"
        ],
        [
         "1348",
         "106509",
         "2017",
         "Febrero",
         "0",
         "0",
         "0",
         "0",
         "0",
         "0",
         "0"
        ],
        [
         "1379",
         "106509",
         "2017",
         "Marzo",
         "0",
         "0",
         "0",
         "0",
         "0",
         "0",
         "0"
        ],
        [
         "1609",
         "106509",
         "2017",
         "Noviembre",
         "0",
         "0",
         "0",
         "0",
         "0",
         "0",
         "0"
        ],
        [
         "1451",
         "106509",
         "2017",
         "Abril",
         "0",
         "0",
         "0",
         "0",
         "0",
         "0",
         "0"
        ],
        [
         "1458",
         "106509",
         "2017",
         "Abril",
         "0",
         "0",
         "0",
         "0",
         "0",
         "0",
         "0"
        ],
        [
         "1474",
         "106509",
         "2017",
         "Mayo",
         "0",
         "0",
         "0",
         "0",
         "0",
         "0",
         "0"
        ],
        [
         "1491",
         "106509",
         "2017",
         "Mayo",
         "0",
         "0",
         "0",
         "0",
         "0",
         "0",
         "0"
        ],
        [
         "1420",
         "106509",
         "2017",
         "Marzo",
         "0",
         "0",
         "0",
         "0",
         "0",
         "0",
         "0"
        ],
        [
         "1584",
         "106509",
         "2017",
         "Septiembre",
         "0",
         "0",
         "0",
         "0",
         "0",
         "0",
         "0"
        ],
        [
         "1521",
         "106509",
         "2017",
         "Junio",
         "0",
         "0",
         "0",
         "0",
         "0",
         "0",
         "0"
        ],
        [
         "1523",
         "106509",
         "2017",
         "Julio",
         "0",
         "0",
         "0",
         "0",
         "0",
         "0",
         "0"
        ],
        [
         "1528",
         "106509",
         "2017",
         "Julio",
         "0",
         "0",
         "0",
         "0",
         "0",
         "0",
         "0"
        ]
       ],
       "shape": {
        "columns": 10,
        "rows": 3712
       }
      },
      "text/html": [
       "<div>\n",
       "<style scoped>\n",
       "    .dataframe tbody tr th:only-of-type {\n",
       "        vertical-align: middle;\n",
       "    }\n",
       "\n",
       "    .dataframe tbody tr th {\n",
       "        vertical-align: top;\n",
       "    }\n",
       "\n",
       "    .dataframe thead th {\n",
       "        text-align: right;\n",
       "    }\n",
       "</style>\n",
       "<table border=\"1\" class=\"dataframe\">\n",
       "  <thead>\n",
       "    <tr style=\"text-align: right;\">\n",
       "      <th></th>\n",
       "      <th>Loyalty Number</th>\n",
       "      <th>Year</th>\n",
       "      <th>Month</th>\n",
       "      <th>Flights Booked</th>\n",
       "      <th>Flights with Companions</th>\n",
       "      <th>Total Flights</th>\n",
       "      <th>Distance</th>\n",
       "      <th>Points Accumulated</th>\n",
       "      <th>Points Redeemed</th>\n",
       "      <th>Dollar Cost Points Redeemed</th>\n",
       "    </tr>\n",
       "  </thead>\n",
       "  <tbody>\n",
       "    <tr>\n",
       "      <th>41</th>\n",
       "      <td>101902</td>\n",
       "      <td>2017</td>\n",
       "      <td>Enero</td>\n",
       "      <td>0</td>\n",
       "      <td>0</td>\n",
       "      <td>0</td>\n",
       "      <td>0</td>\n",
       "      <td>0</td>\n",
       "      <td>0</td>\n",
       "      <td>0</td>\n",
       "    </tr>\n",
       "    <tr>\n",
       "      <th>33843</th>\n",
       "      <td>101902</td>\n",
       "      <td>2017</td>\n",
       "      <td>Marzo</td>\n",
       "      <td>0</td>\n",
       "      <td>0</td>\n",
       "      <td>0</td>\n",
       "      <td>0</td>\n",
       "      <td>0</td>\n",
       "      <td>0</td>\n",
       "      <td>0</td>\n",
       "    </tr>\n",
       "    <tr>\n",
       "      <th>16942</th>\n",
       "      <td>101902</td>\n",
       "      <td>2017</td>\n",
       "      <td>Febrero</td>\n",
       "      <td>0</td>\n",
       "      <td>0</td>\n",
       "      <td>0</td>\n",
       "      <td>0</td>\n",
       "      <td>0</td>\n",
       "      <td>0</td>\n",
       "      <td>0</td>\n",
       "    </tr>\n",
       "    <tr>\n",
       "      <th>185952</th>\n",
       "      <td>101902</td>\n",
       "      <td>2017</td>\n",
       "      <td>Diciembre</td>\n",
       "      <td>0</td>\n",
       "      <td>0</td>\n",
       "      <td>0</td>\n",
       "      <td>0</td>\n",
       "      <td>0</td>\n",
       "      <td>0</td>\n",
       "      <td>0</td>\n",
       "    </tr>\n",
       "    <tr>\n",
       "      <th>185953</th>\n",
       "      <td>101902</td>\n",
       "      <td>2017</td>\n",
       "      <td>Diciembre</td>\n",
       "      <td>0</td>\n",
       "      <td>0</td>\n",
       "      <td>0</td>\n",
       "      <td>0</td>\n",
       "      <td>0</td>\n",
       "      <td>0</td>\n",
       "      <td>0</td>\n",
       "    </tr>\n",
       "    <tr>\n",
       "      <th>...</th>\n",
       "      <td>...</td>\n",
       "      <td>...</td>\n",
       "      <td>...</td>\n",
       "      <td>...</td>\n",
       "      <td>...</td>\n",
       "      <td>...</td>\n",
       "      <td>...</td>\n",
       "      <td>...</td>\n",
       "      <td>...</td>\n",
       "      <td>...</td>\n",
       "    </tr>\n",
       "    <tr>\n",
       "      <th>354784</th>\n",
       "      <td>992168</td>\n",
       "      <td>2018</td>\n",
       "      <td>Septiembre</td>\n",
       "      <td>0</td>\n",
       "      <td>0</td>\n",
       "      <td>0</td>\n",
       "      <td>0</td>\n",
       "      <td>0</td>\n",
       "      <td>0</td>\n",
       "      <td>0</td>\n",
       "    </tr>\n",
       "    <tr>\n",
       "      <th>33665</th>\n",
       "      <td>992168</td>\n",
       "      <td>2017</td>\n",
       "      <td>Febrero</td>\n",
       "      <td>0</td>\n",
       "      <td>0</td>\n",
       "      <td>0</td>\n",
       "      <td>0</td>\n",
       "      <td>0</td>\n",
       "      <td>0</td>\n",
       "      <td>0</td>\n",
       "    </tr>\n",
       "    <tr>\n",
       "      <th>33664</th>\n",
       "      <td>992168</td>\n",
       "      <td>2017</td>\n",
       "      <td>Febrero</td>\n",
       "      <td>0</td>\n",
       "      <td>0</td>\n",
       "      <td>0</td>\n",
       "      <td>0</td>\n",
       "      <td>0</td>\n",
       "      <td>0</td>\n",
       "      <td>0</td>\n",
       "    </tr>\n",
       "    <tr>\n",
       "      <th>101269</th>\n",
       "      <td>992168</td>\n",
       "      <td>2017</td>\n",
       "      <td>Junio</td>\n",
       "      <td>0</td>\n",
       "      <td>0</td>\n",
       "      <td>0</td>\n",
       "      <td>0</td>\n",
       "      <td>0</td>\n",
       "      <td>0</td>\n",
       "      <td>0</td>\n",
       "    </tr>\n",
       "    <tr>\n",
       "      <th>151971</th>\n",
       "      <td>992168</td>\n",
       "      <td>2017</td>\n",
       "      <td>Septiembre</td>\n",
       "      <td>0</td>\n",
       "      <td>0</td>\n",
       "      <td>0</td>\n",
       "      <td>0</td>\n",
       "      <td>0</td>\n",
       "      <td>0</td>\n",
       "      <td>0</td>\n",
       "    </tr>\n",
       "  </tbody>\n",
       "</table>\n",
       "<p>3712 rows × 10 columns</p>\n",
       "</div>"
      ],
      "text/plain": [
       "        Loyalty Number  Year       Month  Flights Booked  \\\n",
       "41              101902  2017       Enero               0   \n",
       "33843           101902  2017       Marzo               0   \n",
       "16942           101902  2017     Febrero               0   \n",
       "185952          101902  2017   Diciembre               0   \n",
       "185953          101902  2017   Diciembre               0   \n",
       "...                ...   ...         ...             ...   \n",
       "354784          992168  2018  Septiembre               0   \n",
       "33665           992168  2017     Febrero               0   \n",
       "33664           992168  2017     Febrero               0   \n",
       "101269          992168  2017       Junio               0   \n",
       "151971          992168  2017  Septiembre               0   \n",
       "\n",
       "        Flights with Companions  Total Flights  Distance  Points Accumulated  \\\n",
       "41                            0              0         0                   0   \n",
       "33843                         0              0         0                   0   \n",
       "16942                         0              0         0                   0   \n",
       "185952                        0              0         0                   0   \n",
       "185953                        0              0         0                   0   \n",
       "...                         ...            ...       ...                 ...   \n",
       "354784                        0              0         0                   0   \n",
       "33665                         0              0         0                   0   \n",
       "33664                         0              0         0                   0   \n",
       "101269                        0              0         0                   0   \n",
       "151971                        0              0         0                   0   \n",
       "\n",
       "        Points Redeemed  Dollar Cost Points Redeemed  \n",
       "41                    0                            0  \n",
       "33843                 0                            0  \n",
       "16942                 0                            0  \n",
       "185952                0                            0  \n",
       "185953                0                            0  \n",
       "...                 ...                          ...  \n",
       "354784                0                            0  \n",
       "33665                 0                            0  \n",
       "33664                 0                            0  \n",
       "101269                0                            0  \n",
       "151971                0                            0  \n",
       "\n",
       "[3712 rows x 10 columns]"
      ]
     },
     "execution_count": 161,
     "metadata": {},
     "output_type": "execute_result"
    }
   ],
   "source": [
    "mascara = df_flight.duplicated(keep=False) # mantenemos visible las entradas originales y las duplicadas\n",
    "df_flight[mascara].sort_values('Loyalty Number') # aplicamos la mascara para la columna de los id de los clientes que deben ser unicos\n",
    "\n",
    "# comprobamos que los clientes se repiten en los registros en diferentes meses y sin ningun otro dato registrado"
   ]
  },
  {
   "cell_type": "code",
   "execution_count": 162,
   "id": "bc1787c0",
   "metadata": {},
   "outputs": [
    {
     "data": {
      "application/vnd.microsoft.datawrangler.viewer.v0+json": {
       "columns": [
        {
         "name": "index",
         "rawType": "int64",
         "type": "integer"
        },
        {
         "name": "Loyalty Number",
         "rawType": "int64",
         "type": "integer"
        },
        {
         "name": "Cantidad Duplicados",
         "rawType": "int64",
         "type": "integer"
        }
       ],
       "ref": "6e10cbd0-ff28-43f5-ad97-f47a391ec0ba",
       "rows": [
        [
         "94",
         "678205",
         "52"
        ],
        [
         "60",
         "467894",
         "48"
        ],
        [
         "64",
         "488224",
         "48"
        ],
        [
         "114",
         "762990",
         "48"
        ],
        [
         "110",
         "741848",
         "48"
        ],
        [
         "35",
         "342569",
         "48"
        ],
        [
         "66",
         "497476",
         "48"
        ],
        [
         "73",
         "546259",
         "48"
        ],
        [
         "23",
         "263267",
         "48"
        ],
        [
         "141",
         "947778",
         "48"
        ],
        [
         "142",
         "949628",
         "48"
        ],
        [
         "42",
         "361680",
         "48"
        ],
        [
         "75",
         "556755",
         "48"
        ],
        [
         "18",
         "224676",
         "48"
        ],
        [
         "77",
         "577232",
         "48"
        ],
        [
         "44",
         "369638",
         "48"
        ],
        [
         "127",
         "849813",
         "48"
        ],
        [
         "47",
         "403529",
         "48"
        ],
        [
         "147",
         "960050",
         "48"
        ],
        [
         "105",
         "719633",
         "48"
        ],
        [
         "103",
         "710003",
         "48"
        ],
        [
         "48",
         "407404",
         "48"
        ],
        [
         "9",
         "156031",
         "48"
        ],
        [
         "100",
         "693926",
         "48"
        ],
        [
         "120",
         "790940",
         "48"
        ],
        [
         "5",
         "126100",
         "48"
        ],
        [
         "119",
         "783165",
         "48"
        ],
        [
         "90",
         "646756",
         "48"
        ],
        [
         "115",
         "773857",
         "48"
        ],
        [
         "124",
         "831341",
         "46"
        ],
        [
         "126",
         "841296",
         "46"
        ],
        [
         "29",
         "308480",
         "46"
        ],
        [
         "111",
         "746226",
         "46"
        ],
        [
         "72",
         "536021",
         "44"
        ],
        [
         "2",
         "106509",
         "44"
        ],
        [
         "15",
         "208241",
         "44"
        ],
        [
         "49",
         "411030",
         "44"
        ],
        [
         "14",
         "206050",
         "42"
        ],
        [
         "36",
         "342945",
         "42"
        ],
        [
         "132",
         "886803",
         "42"
        ],
        [
         "112",
         "750578",
         "42"
        ],
        [
         "39",
         "354438",
         "42"
        ],
        [
         "143",
         "950304",
         "42"
        ],
        [
         "45",
         "373638",
         "40"
        ],
        [
         "157",
         "990512",
         "40"
        ],
        [
         "133",
         "890361",
         "40"
        ],
        [
         "99",
         "687951",
         "38"
        ],
        [
         "118",
         "776466",
         "38"
        ],
        [
         "116",
         "774168",
         "38"
        ],
        [
         "102",
         "702482",
         "36"
        ]
       ],
       "shape": {
        "columns": 2,
        "rows": 159
       }
      },
      "text/html": [
       "<div>\n",
       "<style scoped>\n",
       "    .dataframe tbody tr th:only-of-type {\n",
       "        vertical-align: middle;\n",
       "    }\n",
       "\n",
       "    .dataframe tbody tr th {\n",
       "        vertical-align: top;\n",
       "    }\n",
       "\n",
       "    .dataframe thead th {\n",
       "        text-align: right;\n",
       "    }\n",
       "</style>\n",
       "<table border=\"1\" class=\"dataframe\">\n",
       "  <thead>\n",
       "    <tr style=\"text-align: right;\">\n",
       "      <th></th>\n",
       "      <th>Loyalty Number</th>\n",
       "      <th>Cantidad Duplicados</th>\n",
       "    </tr>\n",
       "  </thead>\n",
       "  <tbody>\n",
       "    <tr>\n",
       "      <th>94</th>\n",
       "      <td>678205</td>\n",
       "      <td>52</td>\n",
       "    </tr>\n",
       "    <tr>\n",
       "      <th>60</th>\n",
       "      <td>467894</td>\n",
       "      <td>48</td>\n",
       "    </tr>\n",
       "    <tr>\n",
       "      <th>64</th>\n",
       "      <td>488224</td>\n",
       "      <td>48</td>\n",
       "    </tr>\n",
       "    <tr>\n",
       "      <th>114</th>\n",
       "      <td>762990</td>\n",
       "      <td>48</td>\n",
       "    </tr>\n",
       "    <tr>\n",
       "      <th>110</th>\n",
       "      <td>741848</td>\n",
       "      <td>48</td>\n",
       "    </tr>\n",
       "    <tr>\n",
       "      <th>...</th>\n",
       "      <td>...</td>\n",
       "      <td>...</td>\n",
       "    </tr>\n",
       "    <tr>\n",
       "      <th>67</th>\n",
       "      <td>499874</td>\n",
       "      <td>2</td>\n",
       "    </tr>\n",
       "    <tr>\n",
       "      <th>104</th>\n",
       "      <td>713132</td>\n",
       "      <td>2</td>\n",
       "    </tr>\n",
       "    <tr>\n",
       "      <th>1</th>\n",
       "      <td>106001</td>\n",
       "      <td>2</td>\n",
       "    </tr>\n",
       "    <tr>\n",
       "      <th>70</th>\n",
       "      <td>512296</td>\n",
       "      <td>2</td>\n",
       "    </tr>\n",
       "    <tr>\n",
       "      <th>91</th>\n",
       "      <td>650466</td>\n",
       "      <td>2</td>\n",
       "    </tr>\n",
       "  </tbody>\n",
       "</table>\n",
       "<p>159 rows × 2 columns</p>\n",
       "</div>"
      ],
      "text/plain": [
       "     Loyalty Number  Cantidad Duplicados\n",
       "94           678205                   52\n",
       "60           467894                   48\n",
       "64           488224                   48\n",
       "114          762990                   48\n",
       "110          741848                   48\n",
       "..              ...                  ...\n",
       "67           499874                    2\n",
       "104          713132                    2\n",
       "1            106001                    2\n",
       "70           512296                    2\n",
       "91           650466                    2\n",
       "\n",
       "[159 rows x 2 columns]"
      ]
     },
     "execution_count": 162,
     "metadata": {},
     "output_type": "execute_result"
    }
   ],
   "source": [
    "# se crea una nueva variable con la mascara creada\n",
    "mascara = df_flight.duplicated(keep=False)\n",
    "duplicados = df_flight[mascara]\n",
    "\n",
    "# se agrupa por 'Loyalty Number' y contamos cuántas veces aparece cada uno para explorar a profundidad\n",
    "conteo_por_cliente = duplicados.groupby('Loyalty Number').size().reset_index(name='Cantidad Duplicados') # nueva columna\n",
    "\n",
    "# se ordena por los que tienen más duplicados primero\n",
    "conteo_por_cliente = conteo_por_cliente.sort_values(by='Cantidad Duplicados', ascending=False)\n",
    "conteo_por_cliente"
   ]
  },
  {
   "cell_type": "code",
   "execution_count": null,
   "id": "4a80f496",
   "metadata": {},
   "outputs": [],
   "source": [
    "# luego de visualizar todas las entradas duplicadas, se decide eliminar estos datos para que no nos afecte los siguientes análisis\n",
    "\n",
    "# NOTA: Primero se verificó que habían muchas entradas con valores '0', lo que nos afectaba las visualizaciones de los datos\n",
    "# Siguiendo este razonamiento se decide explorar los datos duplicados primero y luego de verificar que son clientes repetidos \n",
    "# múltiple veces y sin ningún registro en las demás columnas, se decide eliminar estos registros para que no afecten los siguientes análisis\n",
    "\n",
    "# NOTA 2: Se le podría sugerir a la empresa que recoge los datos revisar el sistema de registro de clientes para no generar diferentes entradas\n",
    "# para un mismo cliente, o generar alguna alerta cuando se intente registrar un cliente que ya existe en la base de datos"
   ]
  },
  {
   "cell_type": "code",
   "execution_count": null,
   "id": "4ec74b8d",
   "metadata": {},
   "outputs": [
    {
     "data": {
      "text/plain": [
       "0"
      ]
     },
     "execution_count": 173,
     "metadata": {},
     "output_type": "execute_result"
    }
   ],
   "source": [
    "# se eliminan los datos duplicados \n",
    "df_flight.drop_duplicates(inplace=True)\n",
    "df_flight.duplicated().sum() # para verificar que no tenemos duplicados en el DataFrame"
   ]
  },
  {
   "cell_type": "code",
   "execution_count": 175,
   "id": "20ca5c33",
   "metadata": {},
   "outputs": [
    {
     "name": "stdout",
     "output_type": "stream",
     "text": [
      "<class 'pandas.core.frame.DataFrame'>\n",
      "Index: 403760 entries, 0 to 405623\n",
      "Data columns (total 10 columns):\n",
      " #   Column                       Non-Null Count   Dtype \n",
      "---  ------                       --------------   ----- \n",
      " 0   Loyalty Number               403760 non-null  int64 \n",
      " 1   Year                         403760 non-null  object\n",
      " 2   Month                        403760 non-null  object\n",
      " 3   Flights Booked               403760 non-null  int64 \n",
      " 4   Flights with Companions      403760 non-null  int64 \n",
      " 5   Total Flights                403760 non-null  int64 \n",
      " 6   Distance                     403760 non-null  int64 \n",
      " 7   Points Accumulated           403760 non-null  int32 \n",
      " 8   Points Redeemed              403760 non-null  int64 \n",
      " 9   Dollar Cost Points Redeemed  403760 non-null  int64 \n",
      "dtypes: int32(1), int64(7), object(2)\n",
      "memory usage: 32.3+ MB\n"
     ]
    }
   ],
   "source": [
    "# verificamos el total de filas de DataFrame\n",
    "df_flight.info()\n",
    "\n",
    "# el DataFram contenia originalmente 405.624 entradas, al elimnar los duplicados las entradas total quedan en 403.760\n",
    "# 405.624 - 403.760 = 1.864 (datos duplicados detectados anteriormente)"
   ]
  },
  {
   "cell_type": "code",
   "execution_count": 163,
   "id": "a7b355aa",
   "metadata": {},
   "outputs": [
    {
     "name": "stdout",
     "output_type": "stream",
     "text": [
      "Columna --> Year\n",
      "Year\n",
      "2017    202812\n",
      "2018    202812\n",
      "Name: count, dtype: int64\n",
      "***************************************************************************\n",
      "Columna --> Month\n",
      "Month\n",
      "Enero         33802\n",
      "Septiembre    33802\n",
      "Febrero       33802\n",
      "Marzo         33802\n",
      "Noviembre     33802\n",
      "Abril         33802\n",
      "Mayo          33802\n",
      "Julio         33802\n",
      "Junio         33802\n",
      "Agosto        33802\n",
      "Octubre       33802\n",
      "Diciembre     33802\n",
      "Name: count, dtype: int64\n",
      "***************************************************************************\n"
     ]
    }
   ],
   "source": [
    "# 4. Análisis la variable categóricas, usando un 'value_count'\n",
    "\n",
    "for col in df_flight.select_dtypes(include='O').columns:\n",
    "    print(f\"Columna --> {col}\")\n",
    "    print(f\"{df_flight[col].value_counts()}\")\n",
    "    print('***' * 25)\n",
    "\n",
    "# los años 2017 y 2018 aparecen la misma cantidad de veces en la columna 'Year'\n",
    "# todos los meses tienen la misma cantidad de entradas"
   ]
  },
  {
   "cell_type": "code",
   "execution_count": 164,
   "id": "372b1834",
   "metadata": {},
   "outputs": [
    {
     "data": {
      "text/plain": [
       "Index(['Loyalty Number', 'Year', 'Month', 'Flights Booked',\n",
       "       'Flights with Companions', 'Total Flights', 'Distance',\n",
       "       'Points Accumulated', 'Points Redeemed', 'Dollar Cost Points Redeemed'],\n",
       "      dtype='object')"
      ]
     },
     "execution_count": 164,
     "metadata": {},
     "output_type": "execute_result"
    }
   ],
   "source": [
    "# 5. Análisis de la variable numéricas, usando histograma y boxplot\n",
    "# seleccionamos las columnas que nos interesan\n",
    "\n",
    "df_flight.columns"
   ]
  },
  {
   "cell_type": "code",
   "execution_count": 165,
   "id": "19bfe445",
   "metadata": {},
   "outputs": [
    {
     "data": {
      "image/png": "[encoded data removed]",
      "text/plain": [
       "<Figure size 2000x1000 with 9 Axes>"
      ]
     },
     "metadata": {},
     "output_type": "display_data"
    }
   ],
   "source": [
    "df_flight[['Flights Booked', 'Flights with Companions', 'Total Flights', 'Distance',\n",
    "       'Points Accumulated', 'Points Redeemed', 'Dollar Cost Points Redeemed']].hist(bins=25, figsize=(20,10));"
   ]
  },
  {
   "cell_type": "code",
   "execution_count": 166,
   "id": "ae701eba",
   "metadata": {},
   "outputs": [
    {
     "data": {
      "application/vnd.microsoft.datawrangler.viewer.v0+json": {
       "columns": [
        {
         "name": "index",
         "rawType": "int64",
         "type": "integer"
        },
        {
         "name": "Loyalty Number",
         "rawType": "int64",
         "type": "integer"
        },
        {
         "name": "Year",
         "rawType": "object",
         "type": "unknown"
        },
        {
         "name": "Month",
         "rawType": "object",
         "type": "string"
        },
        {
         "name": "Flights Booked",
         "rawType": "int64",
         "type": "integer"
        },
        {
         "name": "Flights with Companions",
         "rawType": "int64",
         "type": "integer"
        },
        {
         "name": "Total Flights",
         "rawType": "int64",
         "type": "integer"
        },
        {
         "name": "Distance",
         "rawType": "int64",
         "type": "integer"
        },
        {
         "name": "Points Accumulated",
         "rawType": "int32",
         "type": "integer"
        },
        {
         "name": "Points Redeemed",
         "rawType": "int64",
         "type": "integer"
        },
        {
         "name": "Dollar Cost Points Redeemed",
         "rawType": "int64",
         "type": "integer"
        }
       ],
       "ref": "323425e4-b82f-4180-a45a-f046a33bc1e2",
       "rows": [
        [
         "0",
         "100018",
         "2017",
         "Enero",
         "3",
         "0",
         "3",
         "1521",
         "152",
         "0",
         "0"
        ],
        [
         "1",
         "100102",
         "2017",
         "Enero",
         "10",
         "4",
         "14",
         "2030",
         "203",
         "0",
         "0"
        ],
        [
         "2",
         "100140",
         "2017",
         "Enero",
         "6",
         "0",
         "6",
         "1200",
         "120",
         "0",
         "0"
        ],
        [
         "3",
         "100214",
         "2017",
         "Enero",
         "0",
         "0",
         "0",
         "0",
         "0",
         "0",
         "0"
        ],
        [
         "4",
         "100272",
         "2017",
         "Enero",
         "0",
         "0",
         "0",
         "0",
         "0",
         "0",
         "0"
        ],
        [
         "5",
         "100301",
         "2017",
         "Enero",
         "0",
         "0",
         "0",
         "0",
         "0",
         "0",
         "0"
        ],
        [
         "6",
         "100364",
         "2017",
         "Enero",
         "0",
         "0",
         "0",
         "0",
         "0",
         "0",
         "0"
        ],
        [
         "7",
         "100380",
         "2017",
         "Enero",
         "0",
         "0",
         "0",
         "0",
         "0",
         "0",
         "0"
        ],
        [
         "8",
         "100428",
         "2017",
         "Enero",
         "6",
         "0",
         "6",
         "606",
         "60",
         "0",
         "0"
        ],
        [
         "9",
         "100504",
         "2017",
         "Enero",
         "0",
         "0",
         "0",
         "0",
         "0",
         "0",
         "0"
        ],
        [
         "10",
         "100550",
         "2017",
         "Enero",
         "3",
         "0",
         "3",
         "2037",
         "203",
         "0",
         "0"
        ],
        [
         "11",
         "863070",
         "2017",
         "Septiembre",
         "8",
         "7",
         "15",
         "4245",
         "424",
         "341",
         "28"
        ],
        [
         "12",
         "100590",
         "2017",
         "Enero",
         "0",
         "0",
         "0",
         "0",
         "0",
         "0",
         "0"
        ],
        [
         "13",
         "100642",
         "2017",
         "Enero",
         "0",
         "0",
         "0",
         "0",
         "0",
         "0",
         "0"
        ],
        [
         "14",
         "100644",
         "2017",
         "Enero",
         "0",
         "0",
         "0",
         "0",
         "0",
         "0",
         "0"
        ],
        [
         "15",
         "100646",
         "2017",
         "Enero",
         "0",
         "0",
         "0",
         "0",
         "0",
         "0",
         "0"
        ],
        [
         "16",
         "100727",
         "2017",
         "Enero",
         "11",
         "0",
         "11",
         "1144",
         "114",
         "0",
         "0"
        ],
        [
         "17",
         "100737",
         "2017",
         "Enero",
         "0",
         "0",
         "0",
         "0",
         "0",
         "0",
         "0"
        ],
        [
         "18",
         "100753",
         "2017",
         "Enero",
         "8",
         "4",
         "12",
         "3264",
         "326",
         "0",
         "0"
        ],
        [
         "19",
         "100816",
         "2017",
         "Enero",
         "9",
         "1",
         "10",
         "2340",
         "234",
         "0",
         "0"
        ]
       ],
       "shape": {
        "columns": 10,
        "rows": 20
       }
      },
      "text/html": [
       "<div>\n",
       "<style scoped>\n",
       "    .dataframe tbody tr th:only-of-type {\n",
       "        vertical-align: middle;\n",
       "    }\n",
       "\n",
       "    .dataframe tbody tr th {\n",
       "        vertical-align: top;\n",
       "    }\n",
       "\n",
       "    .dataframe thead th {\n",
       "        text-align: right;\n",
       "    }\n",
       "</style>\n",
       "<table border=\"1\" class=\"dataframe\">\n",
       "  <thead>\n",
       "    <tr style=\"text-align: right;\">\n",
       "      <th></th>\n",
       "      <th>Loyalty Number</th>\n",
       "      <th>Year</th>\n",
       "      <th>Month</th>\n",
       "      <th>Flights Booked</th>\n",
       "      <th>Flights with Companions</th>\n",
       "      <th>Total Flights</th>\n",
       "      <th>Distance</th>\n",
       "      <th>Points Accumulated</th>\n",
       "      <th>Points Redeemed</th>\n",
       "      <th>Dollar Cost Points Redeemed</th>\n",
       "    </tr>\n",
       "  </thead>\n",
       "  <tbody>\n",
       "    <tr>\n",
       "      <th>0</th>\n",
       "      <td>100018</td>\n",
       "      <td>2017</td>\n",
       "      <td>Enero</td>\n",
       "      <td>3</td>\n",
       "      <td>0</td>\n",
       "      <td>3</td>\n",
       "      <td>1521</td>\n",
       "      <td>152</td>\n",
       "      <td>0</td>\n",
       "      <td>0</td>\n",
       "    </tr>\n",
       "    <tr>\n",
       "      <th>1</th>\n",
       "      <td>100102</td>\n",
       "      <td>2017</td>\n",
       "      <td>Enero</td>\n",
       "      <td>10</td>\n",
       "      <td>4</td>\n",
       "      <td>14</td>\n",
       "      <td>2030</td>\n",
       "      <td>203</td>\n",
       "      <td>0</td>\n",
       "      <td>0</td>\n",
       "    </tr>\n",
       "    <tr>\n",
       "      <th>2</th>\n",
       "      <td>100140</td>\n",
       "      <td>2017</td>\n",
       "      <td>Enero</td>\n",
       "      <td>6</td>\n",
       "      <td>0</td>\n",
       "      <td>6</td>\n",
       "      <td>1200</td>\n",
       "      <td>120</td>\n",
       "      <td>0</td>\n",
       "      <td>0</td>\n",
       "    </tr>\n",
       "    <tr>\n",
       "      <th>3</th>\n",
       "      <td>100214</td>\n",
       "      <td>2017</td>\n",
       "      <td>Enero</td>\n",
       "      <td>0</td>\n",
       "      <td>0</td>\n",
       "      <td>0</td>\n",
       "      <td>0</td>\n",
       "      <td>0</td>\n",
       "      <td>0</td>\n",
       "      <td>0</td>\n",
       "    </tr>\n",
       "    <tr>\n",
       "      <th>4</th>\n",
       "      <td>100272</td>\n",
       "      <td>2017</td>\n",
       "      <td>Enero</td>\n",
       "      <td>0</td>\n",
       "      <td>0</td>\n",
       "      <td>0</td>\n",
       "      <td>0</td>\n",
       "      <td>0</td>\n",
       "      <td>0</td>\n",
       "      <td>0</td>\n",
       "    </tr>\n",
       "    <tr>\n",
       "      <th>5</th>\n",
       "      <td>100301</td>\n",
       "      <td>2017</td>\n",
       "      <td>Enero</td>\n",
       "      <td>0</td>\n",
       "      <td>0</td>\n",
       "      <td>0</td>\n",
       "      <td>0</td>\n",
       "      <td>0</td>\n",
       "      <td>0</td>\n",
       "      <td>0</td>\n",
       "    </tr>\n",
       "    <tr>\n",
       "      <th>6</th>\n",
       "      <td>100364</td>\n",
       "      <td>2017</td>\n",
       "      <td>Enero</td>\n",
       "      <td>0</td>\n",
       "      <td>0</td>\n",
       "      <td>0</td>\n",
       "      <td>0</td>\n",
       "      <td>0</td>\n",
       "      <td>0</td>\n",
       "      <td>0</td>\n",
       "    </tr>\n",
       "    <tr>\n",
       "      <th>7</th>\n",
       "      <td>100380</td>\n",
       "      <td>2017</td>\n",
       "      <td>Enero</td>\n",
       "      <td>0</td>\n",
       "      <td>0</td>\n",
       "      <td>0</td>\n",
       "      <td>0</td>\n",
       "      <td>0</td>\n",
       "      <td>0</td>\n",
       "      <td>0</td>\n",
       "    </tr>\n",
       "    <tr>\n",
       "      <th>8</th>\n",
       "      <td>100428</td>\n",
       "      <td>2017</td>\n",
       "      <td>Enero</td>\n",
       "      <td>6</td>\n",
       "      <td>0</td>\n",
       "      <td>6</td>\n",
       "      <td>606</td>\n",
       "      <td>60</td>\n",
       "      <td>0</td>\n",
       "      <td>0</td>\n",
       "    </tr>\n",
       "    <tr>\n",
       "      <th>9</th>\n",
       "      <td>100504</td>\n",
       "      <td>2017</td>\n",
       "      <td>Enero</td>\n",
       "      <td>0</td>\n",
       "      <td>0</td>\n",
       "      <td>0</td>\n",
       "      <td>0</td>\n",
       "      <td>0</td>\n",
       "      <td>0</td>\n",
       "      <td>0</td>\n",
       "    </tr>\n",
       "    <tr>\n",
       "      <th>10</th>\n",
       "      <td>100550</td>\n",
       "      <td>2017</td>\n",
       "      <td>Enero</td>\n",
       "      <td>3</td>\n",
       "      <td>0</td>\n",
       "      <td>3</td>\n",
       "      <td>2037</td>\n",
       "      <td>203</td>\n",
       "      <td>0</td>\n",
       "      <td>0</td>\n",
       "    </tr>\n",
       "    <tr>\n",
       "      <th>11</th>\n",
       "      <td>863070</td>\n",
       "      <td>2017</td>\n",
       "      <td>Septiembre</td>\n",
       "      <td>8</td>\n",
       "      <td>7</td>\n",
       "      <td>15</td>\n",
       "      <td>4245</td>\n",
       "      <td>424</td>\n",
       "      <td>341</td>\n",
       "      <td>28</td>\n",
       "    </tr>\n",
       "    <tr>\n",
       "      <th>12</th>\n",
       "      <td>100590</td>\n",
       "      <td>2017</td>\n",
       "      <td>Enero</td>\n",
       "      <td>0</td>\n",
       "      <td>0</td>\n",
       "      <td>0</td>\n",
       "      <td>0</td>\n",
       "      <td>0</td>\n",
       "      <td>0</td>\n",
       "      <td>0</td>\n",
       "    </tr>\n",
       "    <tr>\n",
       "      <th>13</th>\n",
       "      <td>100642</td>\n",
       "      <td>2017</td>\n",
       "      <td>Enero</td>\n",
       "      <td>0</td>\n",
       "      <td>0</td>\n",
       "      <td>0</td>\n",
       "      <td>0</td>\n",
       "      <td>0</td>\n",
       "      <td>0</td>\n",
       "      <td>0</td>\n",
       "    </tr>\n",
       "    <tr>\n",
       "      <th>14</th>\n",
       "      <td>100644</td>\n",
       "      <td>2017</td>\n",
       "      <td>Enero</td>\n",
       "      <td>0</td>\n",
       "      <td>0</td>\n",
       "      <td>0</td>\n",
       "      <td>0</td>\n",
       "      <td>0</td>\n",
       "      <td>0</td>\n",
       "      <td>0</td>\n",
       "    </tr>\n",
       "    <tr>\n",
       "      <th>15</th>\n",
       "      <td>100646</td>\n",
       "      <td>2017</td>\n",
       "      <td>Enero</td>\n",
       "      <td>0</td>\n",
       "      <td>0</td>\n",
       "      <td>0</td>\n",
       "      <td>0</td>\n",
       "      <td>0</td>\n",
       "      <td>0</td>\n",
       "      <td>0</td>\n",
       "    </tr>\n",
       "    <tr>\n",
       "      <th>16</th>\n",
       "      <td>100727</td>\n",
       "      <td>2017</td>\n",
       "      <td>Enero</td>\n",
       "      <td>11</td>\n",
       "      <td>0</td>\n",
       "      <td>11</td>\n",
       "      <td>1144</td>\n",
       "      <td>114</td>\n",
       "      <td>0</td>\n",
       "      <td>0</td>\n",
       "    </tr>\n",
       "    <tr>\n",
       "      <th>17</th>\n",
       "      <td>100737</td>\n",
       "      <td>2017</td>\n",
       "      <td>Enero</td>\n",
       "      <td>0</td>\n",
       "      <td>0</td>\n",
       "      <td>0</td>\n",
       "      <td>0</td>\n",
       "      <td>0</td>\n",
       "      <td>0</td>\n",
       "      <td>0</td>\n",
       "    </tr>\n",
       "    <tr>\n",
       "      <th>18</th>\n",
       "      <td>100753</td>\n",
       "      <td>2017</td>\n",
       "      <td>Enero</td>\n",
       "      <td>8</td>\n",
       "      <td>4</td>\n",
       "      <td>12</td>\n",
       "      <td>3264</td>\n",
       "      <td>326</td>\n",
       "      <td>0</td>\n",
       "      <td>0</td>\n",
       "    </tr>\n",
       "    <tr>\n",
       "      <th>19</th>\n",
       "      <td>100816</td>\n",
       "      <td>2017</td>\n",
       "      <td>Enero</td>\n",
       "      <td>9</td>\n",
       "      <td>1</td>\n",
       "      <td>10</td>\n",
       "      <td>2340</td>\n",
       "      <td>234</td>\n",
       "      <td>0</td>\n",
       "      <td>0</td>\n",
       "    </tr>\n",
       "  </tbody>\n",
       "</table>\n",
       "</div>"
      ],
      "text/plain": [
       "    Loyalty Number  Year       Month  Flights Booked  Flights with Companions  \\\n",
       "0           100018  2017       Enero               3                        0   \n",
       "1           100102  2017       Enero              10                        4   \n",
       "2           100140  2017       Enero               6                        0   \n",
       "3           100214  2017       Enero               0                        0   \n",
       "4           100272  2017       Enero               0                        0   \n",
       "5           100301  2017       Enero               0                        0   \n",
       "6           100364  2017       Enero               0                        0   \n",
       "7           100380  2017       Enero               0                        0   \n",
       "8           100428  2017       Enero               6                        0   \n",
       "9           100504  2017       Enero               0                        0   \n",
       "10          100550  2017       Enero               3                        0   \n",
       "11          863070  2017  Septiembre               8                        7   \n",
       "12          100590  2017       Enero               0                        0   \n",
       "13          100642  2017       Enero               0                        0   \n",
       "14          100644  2017       Enero               0                        0   \n",
       "15          100646  2017       Enero               0                        0   \n",
       "16          100727  2017       Enero              11                        0   \n",
       "17          100737  2017       Enero               0                        0   \n",
       "18          100753  2017       Enero               8                        4   \n",
       "19          100816  2017       Enero               9                        1   \n",
       "\n",
       "    Total Flights  Distance  Points Accumulated  Points Redeemed  \\\n",
       "0               3      1521                 152                0   \n",
       "1              14      2030                 203                0   \n",
       "2               6      1200                 120                0   \n",
       "3               0         0                   0                0   \n",
       "4               0         0                   0                0   \n",
       "5               0         0                   0                0   \n",
       "6               0         0                   0                0   \n",
       "7               0         0                   0                0   \n",
       "8               6       606                  60                0   \n",
       "9               0         0                   0                0   \n",
       "10              3      2037                 203                0   \n",
       "11             15      4245                 424              341   \n",
       "12              0         0                   0                0   \n",
       "13              0         0                   0                0   \n",
       "14              0         0                   0                0   \n",
       "15              0         0                   0                0   \n",
       "16             11      1144                 114                0   \n",
       "17              0         0                   0                0   \n",
       "18             12      3264                 326                0   \n",
       "19             10      2340                 234                0   \n",
       "\n",
       "    Dollar Cost Points Redeemed  \n",
       "0                             0  \n",
       "1                             0  \n",
       "2                             0  \n",
       "3                             0  \n",
       "4                             0  \n",
       "5                             0  \n",
       "6                             0  \n",
       "7                             0  \n",
       "8                             0  \n",
       "9                             0  \n",
       "10                            0  \n",
       "11                           28  \n",
       "12                            0  \n",
       "13                            0  \n",
       "14                            0  \n",
       "15                            0  \n",
       "16                            0  \n",
       "17                            0  \n",
       "18                            0  \n",
       "19                            0  "
      ]
     },
     "execution_count": 166,
     "metadata": {},
     "output_type": "execute_result"
    }
   ],
   "source": [
    "# en las gráficas anteriores vemos que los valores '0' nos distorcionan los datos, \n",
    "# ya que hay una gran cantidad de clientes en nuestra base de datos que no han registrado ningún vuelo aún\n",
    "\n",
    "df_flight.head(20)"
   ]
  },
  {
   "cell_type": "code",
   "execution_count": 167,
   "id": "63b26faa",
   "metadata": {},
   "outputs": [
    {
     "data": {
      "application/vnd.microsoft.datawrangler.viewer.v0+json": {
       "columns": [
        {
         "name": "index",
         "rawType": "int64",
         "type": "integer"
        },
        {
         "name": "Loyalty Number",
         "rawType": "int64",
         "type": "integer"
        },
        {
         "name": "Year",
         "rawType": "object",
         "type": "unknown"
        },
        {
         "name": "Month",
         "rawType": "object",
         "type": "string"
        },
        {
         "name": "Flights Booked",
         "rawType": "int64",
         "type": "integer"
        },
        {
         "name": "Flights with Companions",
         "rawType": "int64",
         "type": "integer"
        },
        {
         "name": "Total Flights",
         "rawType": "int64",
         "type": "integer"
        },
        {
         "name": "Distance",
         "rawType": "int64",
         "type": "integer"
        },
        {
         "name": "Points Accumulated",
         "rawType": "int32",
         "type": "integer"
        },
        {
         "name": "Points Redeemed",
         "rawType": "int64",
         "type": "integer"
        },
        {
         "name": "Dollar Cost Points Redeemed",
         "rawType": "int64",
         "type": "integer"
        }
       ],
       "ref": "44a3856a-da51-493f-a478-5c56b5373345",
       "rows": [
        [
         "0",
         "100018",
         "2017",
         "Enero",
         "3",
         "0",
         "3",
         "1521",
         "152",
         "0",
         "0"
        ],
        [
         "1",
         "100102",
         "2017",
         "Enero",
         "10",
         "4",
         "14",
         "2030",
         "203",
         "0",
         "0"
        ],
        [
         "2",
         "100140",
         "2017",
         "Enero",
         "6",
         "0",
         "6",
         "1200",
         "120",
         "0",
         "0"
        ],
        [
         "8",
         "100428",
         "2017",
         "Enero",
         "6",
         "0",
         "6",
         "606",
         "60",
         "0",
         "0"
        ],
        [
         "10",
         "100550",
         "2017",
         "Enero",
         "3",
         "0",
         "3",
         "2037",
         "203",
         "0",
         "0"
        ],
        [
         "11",
         "863070",
         "2017",
         "Septiembre",
         "8",
         "7",
         "15",
         "4245",
         "424",
         "341",
         "28"
        ],
        [
         "16",
         "100727",
         "2017",
         "Enero",
         "11",
         "0",
         "11",
         "1144",
         "114",
         "0",
         "0"
        ],
        [
         "18",
         "100753",
         "2017",
         "Enero",
         "8",
         "4",
         "12",
         "3264",
         "326",
         "0",
         "0"
        ],
        [
         "19",
         "100816",
         "2017",
         "Enero",
         "9",
         "1",
         "10",
         "2340",
         "234",
         "0",
         "0"
        ],
        [
         "20",
         "100853",
         "2017",
         "Enero",
         "6",
         "6",
         "12",
         "1236",
         "123",
         "0",
         "0"
        ],
        [
         "21",
         "100883",
         "2017",
         "Enero",
         "11",
         "0",
         "11",
         "3124",
         "312",
         "0",
         "0"
        ],
        [
         "22",
         "100890",
         "2017",
         "Enero",
         "8",
         "0",
         "8",
         "2296",
         "229",
         "0",
         "0"
        ],
        [
         "23",
         "101018",
         "2017",
         "Enero",
         "9",
         "0",
         "9",
         "2772",
         "277",
         "0",
         "0"
        ],
        [
         "26",
         "101363",
         "2017",
         "Enero",
         "8",
         "0",
         "8",
         "2944",
         "294",
         "0",
         "0"
        ],
        [
         "27",
         "691626",
         "2018",
         "Septiembre",
         "8",
         "7",
         "15",
         "4245",
         "424",
         "341",
         "28"
        ],
        [
         "28",
         "101515",
         "2017",
         "Enero",
         "11",
         "0",
         "11",
         "1100",
         "110",
         "0",
         "0"
        ],
        [
         "30",
         "101544",
         "2017",
         "Enero",
         "6",
         "0",
         "6",
         "1332",
         "133",
         "0",
         "0"
        ],
        [
         "32",
         "101581",
         "2017",
         "Enero",
         "6",
         "0",
         "6",
         "2082",
         "208",
         "0",
         "0"
        ],
        [
         "33",
         "101594",
         "2017",
         "Enero",
         "11",
         "0",
         "11",
         "3399",
         "339",
         "0",
         "0"
        ],
        [
         "36",
         "101664",
         "2017",
         "Enero",
         "4",
         "4",
         "8",
         "3128",
         "312",
         "0",
         "0"
        ]
       ],
       "shape": {
        "columns": 10,
        "rows": 20
       }
      },
      "text/html": [
       "<div>\n",
       "<style scoped>\n",
       "    .dataframe tbody tr th:only-of-type {\n",
       "        vertical-align: middle;\n",
       "    }\n",
       "\n",
       "    .dataframe tbody tr th {\n",
       "        vertical-align: top;\n",
       "    }\n",
       "\n",
       "    .dataframe thead th {\n",
       "        text-align: right;\n",
       "    }\n",
       "</style>\n",
       "<table border=\"1\" class=\"dataframe\">\n",
       "  <thead>\n",
       "    <tr style=\"text-align: right;\">\n",
       "      <th></th>\n",
       "      <th>Loyalty Number</th>\n",
       "      <th>Year</th>\n",
       "      <th>Month</th>\n",
       "      <th>Flights Booked</th>\n",
       "      <th>Flights with Companions</th>\n",
       "      <th>Total Flights</th>\n",
       "      <th>Distance</th>\n",
       "      <th>Points Accumulated</th>\n",
       "      <th>Points Redeemed</th>\n",
       "      <th>Dollar Cost Points Redeemed</th>\n",
       "    </tr>\n",
       "  </thead>\n",
       "  <tbody>\n",
       "    <tr>\n",
       "      <th>0</th>\n",
       "      <td>100018</td>\n",
       "      <td>2017</td>\n",
       "      <td>Enero</td>\n",
       "      <td>3</td>\n",
       "      <td>0</td>\n",
       "      <td>3</td>\n",
       "      <td>1521</td>\n",
       "      <td>152</td>\n",
       "      <td>0</td>\n",
       "      <td>0</td>\n",
       "    </tr>\n",
       "    <tr>\n",
       "      <th>1</th>\n",
       "      <td>100102</td>\n",
       "      <td>2017</td>\n",
       "      <td>Enero</td>\n",
       "      <td>10</td>\n",
       "      <td>4</td>\n",
       "      <td>14</td>\n",
       "      <td>2030</td>\n",
       "      <td>203</td>\n",
       "      <td>0</td>\n",
       "      <td>0</td>\n",
       "    </tr>\n",
       "    <tr>\n",
       "      <th>2</th>\n",
       "      <td>100140</td>\n",
       "      <td>2017</td>\n",
       "      <td>Enero</td>\n",
       "      <td>6</td>\n",
       "      <td>0</td>\n",
       "      <td>6</td>\n",
       "      <td>1200</td>\n",
       "      <td>120</td>\n",
       "      <td>0</td>\n",
       "      <td>0</td>\n",
       "    </tr>\n",
       "    <tr>\n",
       "      <th>8</th>\n",
       "      <td>100428</td>\n",
       "      <td>2017</td>\n",
       "      <td>Enero</td>\n",
       "      <td>6</td>\n",
       "      <td>0</td>\n",
       "      <td>6</td>\n",
       "      <td>606</td>\n",
       "      <td>60</td>\n",
       "      <td>0</td>\n",
       "      <td>0</td>\n",
       "    </tr>\n",
       "    <tr>\n",
       "      <th>10</th>\n",
       "      <td>100550</td>\n",
       "      <td>2017</td>\n",
       "      <td>Enero</td>\n",
       "      <td>3</td>\n",
       "      <td>0</td>\n",
       "      <td>3</td>\n",
       "      <td>2037</td>\n",
       "      <td>203</td>\n",
       "      <td>0</td>\n",
       "      <td>0</td>\n",
       "    </tr>\n",
       "    <tr>\n",
       "      <th>11</th>\n",
       "      <td>863070</td>\n",
       "      <td>2017</td>\n",
       "      <td>Septiembre</td>\n",
       "      <td>8</td>\n",
       "      <td>7</td>\n",
       "      <td>15</td>\n",
       "      <td>4245</td>\n",
       "      <td>424</td>\n",
       "      <td>341</td>\n",
       "      <td>28</td>\n",
       "    </tr>\n",
       "    <tr>\n",
       "      <th>16</th>\n",
       "      <td>100727</td>\n",
       "      <td>2017</td>\n",
       "      <td>Enero</td>\n",
       "      <td>11</td>\n",
       "      <td>0</td>\n",
       "      <td>11</td>\n",
       "      <td>1144</td>\n",
       "      <td>114</td>\n",
       "      <td>0</td>\n",
       "      <td>0</td>\n",
       "    </tr>\n",
       "    <tr>\n",
       "      <th>18</th>\n",
       "      <td>100753</td>\n",
       "      <td>2017</td>\n",
       "      <td>Enero</td>\n",
       "      <td>8</td>\n",
       "      <td>4</td>\n",
       "      <td>12</td>\n",
       "      <td>3264</td>\n",
       "      <td>326</td>\n",
       "      <td>0</td>\n",
       "      <td>0</td>\n",
       "    </tr>\n",
       "    <tr>\n",
       "      <th>19</th>\n",
       "      <td>100816</td>\n",
       "      <td>2017</td>\n",
       "      <td>Enero</td>\n",
       "      <td>9</td>\n",
       "      <td>1</td>\n",
       "      <td>10</td>\n",
       "      <td>2340</td>\n",
       "      <td>234</td>\n",
       "      <td>0</td>\n",
       "      <td>0</td>\n",
       "    </tr>\n",
       "    <tr>\n",
       "      <th>20</th>\n",
       "      <td>100853</td>\n",
       "      <td>2017</td>\n",
       "      <td>Enero</td>\n",
       "      <td>6</td>\n",
       "      <td>6</td>\n",
       "      <td>12</td>\n",
       "      <td>1236</td>\n",
       "      <td>123</td>\n",
       "      <td>0</td>\n",
       "      <td>0</td>\n",
       "    </tr>\n",
       "    <tr>\n",
       "      <th>21</th>\n",
       "      <td>100883</td>\n",
       "      <td>2017</td>\n",
       "      <td>Enero</td>\n",
       "      <td>11</td>\n",
       "      <td>0</td>\n",
       "      <td>11</td>\n",
       "      <td>3124</td>\n",
       "      <td>312</td>\n",
       "      <td>0</td>\n",
       "      <td>0</td>\n",
       "    </tr>\n",
       "    <tr>\n",
       "      <th>22</th>\n",
       "      <td>100890</td>\n",
       "      <td>2017</td>\n",
       "      <td>Enero</td>\n",
       "      <td>8</td>\n",
       "      <td>0</td>\n",
       "      <td>8</td>\n",
       "      <td>2296</td>\n",
       "      <td>229</td>\n",
       "      <td>0</td>\n",
       "      <td>0</td>\n",
       "    </tr>\n",
       "    <tr>\n",
       "      <th>23</th>\n",
       "      <td>101018</td>\n",
       "      <td>2017</td>\n",
       "      <td>Enero</td>\n",
       "      <td>9</td>\n",
       "      <td>0</td>\n",
       "      <td>9</td>\n",
       "      <td>2772</td>\n",
       "      <td>277</td>\n",
       "      <td>0</td>\n",
       "      <td>0</td>\n",
       "    </tr>\n",
       "    <tr>\n",
       "      <th>26</th>\n",
       "      <td>101363</td>\n",
       "      <td>2017</td>\n",
       "      <td>Enero</td>\n",
       "      <td>8</td>\n",
       "      <td>0</td>\n",
       "      <td>8</td>\n",
       "      <td>2944</td>\n",
       "      <td>294</td>\n",
       "      <td>0</td>\n",
       "      <td>0</td>\n",
       "    </tr>\n",
       "    <tr>\n",
       "      <th>27</th>\n",
       "      <td>691626</td>\n",
       "      <td>2018</td>\n",
       "      <td>Septiembre</td>\n",
       "      <td>8</td>\n",
       "      <td>7</td>\n",
       "      <td>15</td>\n",
       "      <td>4245</td>\n",
       "      <td>424</td>\n",
       "      <td>341</td>\n",
       "      <td>28</td>\n",
       "    </tr>\n",
       "    <tr>\n",
       "      <th>28</th>\n",
       "      <td>101515</td>\n",
       "      <td>2017</td>\n",
       "      <td>Enero</td>\n",
       "      <td>11</td>\n",
       "      <td>0</td>\n",
       "      <td>11</td>\n",
       "      <td>1100</td>\n",
       "      <td>110</td>\n",
       "      <td>0</td>\n",
       "      <td>0</td>\n",
       "    </tr>\n",
       "    <tr>\n",
       "      <th>30</th>\n",
       "      <td>101544</td>\n",
       "      <td>2017</td>\n",
       "      <td>Enero</td>\n",
       "      <td>6</td>\n",
       "      <td>0</td>\n",
       "      <td>6</td>\n",
       "      <td>1332</td>\n",
       "      <td>133</td>\n",
       "      <td>0</td>\n",
       "      <td>0</td>\n",
       "    </tr>\n",
       "    <tr>\n",
       "      <th>32</th>\n",
       "      <td>101581</td>\n",
       "      <td>2017</td>\n",
       "      <td>Enero</td>\n",
       "      <td>6</td>\n",
       "      <td>0</td>\n",
       "      <td>6</td>\n",
       "      <td>2082</td>\n",
       "      <td>208</td>\n",
       "      <td>0</td>\n",
       "      <td>0</td>\n",
       "    </tr>\n",
       "    <tr>\n",
       "      <th>33</th>\n",
       "      <td>101594</td>\n",
       "      <td>2017</td>\n",
       "      <td>Enero</td>\n",
       "      <td>11</td>\n",
       "      <td>0</td>\n",
       "      <td>11</td>\n",
       "      <td>3399</td>\n",
       "      <td>339</td>\n",
       "      <td>0</td>\n",
       "      <td>0</td>\n",
       "    </tr>\n",
       "    <tr>\n",
       "      <th>36</th>\n",
       "      <td>101664</td>\n",
       "      <td>2017</td>\n",
       "      <td>Enero</td>\n",
       "      <td>4</td>\n",
       "      <td>4</td>\n",
       "      <td>8</td>\n",
       "      <td>3128</td>\n",
       "      <td>312</td>\n",
       "      <td>0</td>\n",
       "      <td>0</td>\n",
       "    </tr>\n",
       "  </tbody>\n",
       "</table>\n",
       "</div>"
      ],
      "text/plain": [
       "    Loyalty Number  Year       Month  Flights Booked  Flights with Companions  \\\n",
       "0           100018  2017       Enero               3                        0   \n",
       "1           100102  2017       Enero              10                        4   \n",
       "2           100140  2017       Enero               6                        0   \n",
       "8           100428  2017       Enero               6                        0   \n",
       "10          100550  2017       Enero               3                        0   \n",
       "11          863070  2017  Septiembre               8                        7   \n",
       "16          100727  2017       Enero              11                        0   \n",
       "18          100753  2017       Enero               8                        4   \n",
       "19          100816  2017       Enero               9                        1   \n",
       "20          100853  2017       Enero               6                        6   \n",
       "21          100883  2017       Enero              11                        0   \n",
       "22          100890  2017       Enero               8                        0   \n",
       "23          101018  2017       Enero               9                        0   \n",
       "26          101363  2017       Enero               8                        0   \n",
       "27          691626  2018  Septiembre               8                        7   \n",
       "28          101515  2017       Enero              11                        0   \n",
       "30          101544  2017       Enero               6                        0   \n",
       "32          101581  2017       Enero               6                        0   \n",
       "33          101594  2017       Enero              11                        0   \n",
       "36          101664  2017       Enero               4                        4   \n",
       "\n",
       "    Total Flights  Distance  Points Accumulated  Points Redeemed  \\\n",
       "0               3      1521                 152                0   \n",
       "1              14      2030                 203                0   \n",
       "2               6      1200                 120                0   \n",
       "8               6       606                  60                0   \n",
       "10              3      2037                 203                0   \n",
       "11             15      4245                 424              341   \n",
       "16             11      1144                 114                0   \n",
       "18             12      3264                 326                0   \n",
       "19             10      2340                 234                0   \n",
       "20             12      1236                 123                0   \n",
       "21             11      3124                 312                0   \n",
       "22              8      2296                 229                0   \n",
       "23              9      2772                 277                0   \n",
       "26              8      2944                 294                0   \n",
       "27             15      4245                 424              341   \n",
       "28             11      1100                 110                0   \n",
       "30              6      1332                 133                0   \n",
       "32              6      2082                 208                0   \n",
       "33             11      3399                 339                0   \n",
       "36              8      3128                 312                0   \n",
       "\n",
       "    Dollar Cost Points Redeemed  \n",
       "0                             0  \n",
       "1                             0  \n",
       "2                             0  \n",
       "8                             0  \n",
       "10                            0  \n",
       "11                           28  \n",
       "16                            0  \n",
       "18                            0  \n",
       "19                            0  \n",
       "20                            0  \n",
       "21                            0  \n",
       "22                            0  \n",
       "23                            0  \n",
       "26                            0  \n",
       "27                           28  \n",
       "28                            0  \n",
       "30                            0  \n",
       "32                            0  \n",
       "33                            0  \n",
       "36                            0  "
      ]
     },
     "execution_count": 167,
     "metadata": {},
     "output_type": "execute_result"
    }
   ],
   "source": [
    "# creamos un DataFrame que filtre los clientes activos para analizar mejor su actividad. \n",
    "# Lo filtramos por 'Total Flights'ya que si no hay valores en esta columna, vemos que no se registran datos en las demás columnas\n",
    "\n",
    "df_flight_active = df_flight[df_flight['Total Flights'] > 0]\n",
    "df_flight_active.head(20)"
   ]
  },
  {
   "cell_type": "code",
   "execution_count": 168,
   "id": "90e6f5f5",
   "metadata": {},
   "outputs": [
    {
     "data": {
      "image/png": "[encoded data removed]",
      "text/plain": [
       "<Figure size 2000x1000 with 9 Axes>"
      ]
     },
     "metadata": {},
     "output_type": "display_data"
    }
   ],
   "source": [
    "# con el DataFrame de clientes activos podemos visualizar mejor las gráficas:\n",
    "\n",
    "df_flight_active[['Flights Booked', 'Flights with Companions', 'Total Flights', 'Distance',\n",
    "       'Points Accumulated', 'Points Redeemed', 'Dollar Cost Points Redeemed']].hist(bins=25, figsize=(20,10));"
   ]
  },
  {
   "cell_type": "code",
   "execution_count": 169,
   "id": "74f48d86",
   "metadata": {},
   "outputs": [
    {
     "data": {
      "image/png": "[encoded data removed]",
      "text/plain": [
       "<Figure size 640x480 with 1 Axes>"
      ]
     },
     "metadata": {},
     "output_type": "display_data"
    },
    {
     "data": {
      "image/png": "[encoded data removed]",
      "text/plain": [
       "<Figure size 640x480 with 1 Axes>"
      ]
     },
     "metadata": {},
     "output_type": "display_data"
    },
    {
     "data": {
      "image/png": "[encoded data removed]",
      "text/plain": [
       "<Figure size 640x480 with 1 Axes>"
      ]
     },
     "metadata": {},
     "output_type": "display_data"
    },
    {
     "data": {
      "image/png": "[encoded data removed]",
      "text/plain": [
       "<Figure size 640x480 with 1 Axes>"
      ]
     },
     "metadata": {},
     "output_type": "display_data"
    },
    {
     "data": {
      "image/png": "[encoded data removed]",
      "text/plain": [
       "<Figure size 640x480 with 1 Axes>"
      ]
     },
     "metadata": {},
     "output_type": "display_data"
    },
    {
     "data": {
      "image/png": "[encoded data removed]",
      "text/plain": [
       "<Figure size 640x480 with 1 Axes>"
      ]
     },
     "metadata": {},
     "output_type": "display_data"
    }
   ],
   "source": [
    "# usamos el DataFrame con los clientes filtrados (activos) y las columnas que nos aportan información:\n",
    "\n",
    "for col in df_flight_active[['Flights Booked', \n",
    "                      'Flights with Companions', \n",
    "                      'Total Flights', \n",
    "                      'Distance',\n",
    "                      'Points Accumulated',\n",
    "                      'Points Redeemed']].columns:\n",
    "    media_col = round(df_flight_active[col].mean(), 2) # incorporar la media en el gráfico\n",
    "    sns.boxplot(data=df_flight_active, x=col)\n",
    "    plt.axvline(x=media_col, color='red', linestyle='--', linewidth=2, label=f'Media: {media_col}')\n",
    "    plt.legend()\n",
    "    plt.show()"
   ]
  },
  {
   "cell_type": "markdown",
   "id": "d27c3669",
   "metadata": {},
   "source": [
    "### Algunas conclusiones:\n",
    "\n",
    "- Vemos que muchos clientes tienen entre 3 y 10 vuelos que han sido reservados, que corresponde un poco con la grafica de 'Total vuelos' (entre 5 y 10 vuelos totales)\n",
    "- La media de vuelos reservados es de 8 vuelos reservados por cliente, y vuelos totales 10. Se podría decir que la mayoría de vuelos reservados se realizan\n",
    "- Menos clientes han realizado mas de 20 vuelos\n",
    "- En su mayoría los vuelos han sido sin acompañantes (vuelos individuales)\n",
    "- La gran parte de los vuelos son de distancias cortas: entre 1.500 y 3.000. Pocos clientes han realizado vuelos mas largos\n",
    "- Los clientes acumulan puntos por vuelos, entre 100 y 300 puentos (que se puede corresponder a la distancia de vuelo)\n",
    "- Se puede concluir que la gran mayoría no ha utilizado aun estos puntos acumulados por vuelos realizados, ya que la media de los puntos usados se encuentra en 500 (tomando en cuenta que la mayoría de clientes tiene entre 150 y 300 puntos actualmente, 240 de media)"
   ]
  },
  {
   "cell_type": "code",
   "execution_count": 172,
   "id": "be65f062",
   "metadata": {},
   "outputs": [],
   "source": [
    "# valores nulos 'Salary', 'Cancellation Year, 'Cancellation Month'\n",
    "# cambio valores a int 'Salary', 'Cancellation Year, 'Cancellation Month'"
   ]
  },
  {
   "cell_type": "code",
   "execution_count": null,
   "id": "1a740a8b",
   "metadata": {},
   "outputs": [],
   "source": []
  }
 ],
 "metadata": {
  "kernelspec": {
   "display_name": "base",
   "language": "python",
   "name": "python3"
  },
  "language_info": {
   "codemirror_mode": {
    "name": "ipython",
    "version": 3
   },
   "file_extension": ".py",
   "mimetype": "text/x-python",
   "name": "python",
   "nbconvert_exporter": "python",
   "pygments_lexer": "ipython3",
   "version": "3.12.7"
  }
 },
 "nbformat": 4,
 "nbformat_minor": 5
}
