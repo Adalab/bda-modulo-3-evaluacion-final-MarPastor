{
 "cells": [
  {
   "cell_type": "markdown",
   "id": "658288cf",
   "metadata": {},
   "source": [
    "# Evaluación Final MOD3 - Mar Pastor\n",
    "---"
   ]
  },
  {
   "cell_type": "markdown",
   "id": "be453e47",
   "metadata": {},
   "source": [
    "### Ejercicio EDA y Vizualización de datos\n",
    "\n",
    "En este ejercicio usaremos datos que consisten en dos BBDD de tipo CSV que contienen datos que describen el comportamiento de los clientes dentro de un programa de lealtad de una aerolínea.\n",
    "\n",
    "Exploraremos los archivos:\n",
    "\n",
    "- `Customer Flight Activity.csv` que contiene información sobre la actividad de vuelo de los clientes\n",
    "- `Customer Loyalty History.csv` que proporciona un perfil detallado de los clientes y detalles sobre su membresía en el programa de lealtad\n",
    "---"
   ]
  },
  {
   "cell_type": "code",
   "execution_count": 14,
   "id": "d2d74f71",
   "metadata": {},
   "outputs": [],
   "source": [
    "# Tratamiento de datos\n",
    "# ------------------------------------------------------------------------------\n",
    "import pandas as pd\n",
    "import numpy as np\n",
    "\n",
    "# Visualización\n",
    "# ------------------------------------------------------------------------------\n",
    "import matplotlib.pyplot as plt\n",
    "import seaborn as sns\n",
    "\n",
    "# Evaluar linealidad de las relaciones entre las variables\n",
    "# y la distribución de las variables\n",
    "# ------------------------------------------------------------------------------\n",
    "#import scipy.stats as stats\n",
    "import scipy.stats as st\n",
    "import scipy.stats as stats\n",
    "from scipy.stats import shapiro, poisson, chisquare, expon, kstest\n",
    "\n",
    "# Configuración\n",
    "# ------------------------------------------------------------------------------\n",
    "pd.set_option('display.max_columns', None) # para poder visualizar todas las columnas de los DataFrames"
   ]
  },
  {
   "cell_type": "code",
   "execution_count": null,
   "id": "0de4a6ad",
   "metadata": {},
   "outputs": [],
   "source": [
    "# abrimos los DataFrames:\n",
    "\n",
    "df_flight = pd.read_csv('../data/Customer Flight Activity.csv')\n",
    "df_loyalty = pd.read_csv('../data/Customer Loyalty History.csv')"
   ]
  },
  {
   "cell_type": "markdown",
   "id": "d7528186",
   "metadata": {},
   "source": [
    "### Trabajamos con el DataFrame de información sobre la actividad de vuelo de los clientes\n",
    "#### DataFrame: `df_flight`\n",
    "---"
   ]
  },
  {
   "cell_type": "code",
   "execution_count": 29,
   "id": "47a0c665",
   "metadata": {},
   "outputs": [
    {
     "data": {
      "application/vnd.microsoft.datawrangler.viewer.v0+json": {
       "columns": [
        {
         "name": "index",
         "rawType": "int64",
         "type": "integer"
        },
        {
         "name": "Loyalty Number",
         "rawType": "int64",
         "type": "integer"
        },
        {
         "name": "Year",
         "rawType": "int64",
         "type": "integer"
        },
        {
         "name": "Month",
         "rawType": "int64",
         "type": "integer"
        },
        {
         "name": "Flights Booked",
         "rawType": "int64",
         "type": "integer"
        },
        {
         "name": "Flights with Companions",
         "rawType": "int64",
         "type": "integer"
        },
        {
         "name": "Total Flights",
         "rawType": "int64",
         "type": "integer"
        },
        {
         "name": "Distance",
         "rawType": "int64",
         "type": "integer"
        },
        {
         "name": "Points Accumulated",
         "rawType": "float64",
         "type": "float"
        },
        {
         "name": "Points Redeemed",
         "rawType": "int64",
         "type": "integer"
        },
        {
         "name": "Dollar Cost Points Redeemed",
         "rawType": "int64",
         "type": "integer"
        }
       ],
       "ref": "b58d345c-a57d-4b49-86a4-a96d74ddc6ce",
       "rows": [
        [
         "0",
         "100018",
         "2017",
         "1",
         "3",
         "0",
         "3",
         "1521",
         "152.0",
         "0",
         "0"
        ],
        [
         "1",
         "100102",
         "2017",
         "1",
         "10",
         "4",
         "14",
         "2030",
         "203.0",
         "0",
         "0"
        ]
       ],
       "shape": {
        "columns": 10,
        "rows": 2
       }
      },
      "text/html": [
       "<div>\n",
       "<style scoped>\n",
       "    .dataframe tbody tr th:only-of-type {\n",
       "        vertical-align: middle;\n",
       "    }\n",
       "\n",
       "    .dataframe tbody tr th {\n",
       "        vertical-align: top;\n",
       "    }\n",
       "\n",
       "    .dataframe thead th {\n",
       "        text-align: right;\n",
       "    }\n",
       "</style>\n",
       "<table border=\"1\" class=\"dataframe\">\n",
       "  <thead>\n",
       "    <tr style=\"text-align: right;\">\n",
       "      <th></th>\n",
       "      <th>Loyalty Number</th>\n",
       "      <th>Year</th>\n",
       "      <th>Month</th>\n",
       "      <th>Flights Booked</th>\n",
       "      <th>Flights with Companions</th>\n",
       "      <th>Total Flights</th>\n",
       "      <th>Distance</th>\n",
       "      <th>Points Accumulated</th>\n",
       "      <th>Points Redeemed</th>\n",
       "      <th>Dollar Cost Points Redeemed</th>\n",
       "    </tr>\n",
       "  </thead>\n",
       "  <tbody>\n",
       "    <tr>\n",
       "      <th>0</th>\n",
       "      <td>100018</td>\n",
       "      <td>2017</td>\n",
       "      <td>1</td>\n",
       "      <td>3</td>\n",
       "      <td>0</td>\n",
       "      <td>3</td>\n",
       "      <td>1521</td>\n",
       "      <td>152.0</td>\n",
       "      <td>0</td>\n",
       "      <td>0</td>\n",
       "    </tr>\n",
       "    <tr>\n",
       "      <th>1</th>\n",
       "      <td>100102</td>\n",
       "      <td>2017</td>\n",
       "      <td>1</td>\n",
       "      <td>10</td>\n",
       "      <td>4</td>\n",
       "      <td>14</td>\n",
       "      <td>2030</td>\n",
       "      <td>203.0</td>\n",
       "      <td>0</td>\n",
       "      <td>0</td>\n",
       "    </tr>\n",
       "  </tbody>\n",
       "</table>\n",
       "</div>"
      ],
      "text/plain": [
       "   Loyalty Number  Year  Month  Flights Booked  Flights with Companions  \\\n",
       "0          100018  2017      1               3                        0   \n",
       "1          100102  2017      1              10                        4   \n",
       "\n",
       "   Total Flights  Distance  Points Accumulated  Points Redeemed  \\\n",
       "0              3      1521               152.0                0   \n",
       "1             14      2030               203.0                0   \n",
       "\n",
       "   Dollar Cost Points Redeemed  \n",
       "0                            0  \n",
       "1                            0  "
      ]
     },
     "metadata": {},
     "output_type": "display_data"
    },
    {
     "name": "stdout",
     "output_type": "stream",
     "text": [
      "------------------------------------------------------------------------------------------------------------------------------------------------------\n"
     ]
    },
    {
     "data": {
      "application/vnd.microsoft.datawrangler.viewer.v0+json": {
       "columns": [
        {
         "name": "index",
         "rawType": "int64",
         "type": "integer"
        },
        {
         "name": "Loyalty Number",
         "rawType": "int64",
         "type": "integer"
        },
        {
         "name": "Year",
         "rawType": "int64",
         "type": "integer"
        },
        {
         "name": "Month",
         "rawType": "int64",
         "type": "integer"
        },
        {
         "name": "Flights Booked",
         "rawType": "int64",
         "type": "integer"
        },
        {
         "name": "Flights with Companions",
         "rawType": "int64",
         "type": "integer"
        },
        {
         "name": "Total Flights",
         "rawType": "int64",
         "type": "integer"
        },
        {
         "name": "Distance",
         "rawType": "int64",
         "type": "integer"
        },
        {
         "name": "Points Accumulated",
         "rawType": "float64",
         "type": "float"
        },
        {
         "name": "Points Redeemed",
         "rawType": "int64",
         "type": "integer"
        },
        {
         "name": "Dollar Cost Points Redeemed",
         "rawType": "int64",
         "type": "integer"
        }
       ],
       "ref": "0afcdbfd-57fb-442f-8879-b71c934025a6",
       "rows": [
        [
         "405622",
         "999982",
         "2018",
         "12",
         "0",
         "0",
         "0",
         "0",
         "0.0",
         "0",
         "0"
        ],
        [
         "405623",
         "999986",
         "2018",
         "12",
         "0",
         "0",
         "0",
         "0",
         "0.0",
         "0",
         "0"
        ]
       ],
       "shape": {
        "columns": 10,
        "rows": 2
       }
      },
      "text/html": [
       "<div>\n",
       "<style scoped>\n",
       "    .dataframe tbody tr th:only-of-type {\n",
       "        vertical-align: middle;\n",
       "    }\n",
       "\n",
       "    .dataframe tbody tr th {\n",
       "        vertical-align: top;\n",
       "    }\n",
       "\n",
       "    .dataframe thead th {\n",
       "        text-align: right;\n",
       "    }\n",
       "</style>\n",
       "<table border=\"1\" class=\"dataframe\">\n",
       "  <thead>\n",
       "    <tr style=\"text-align: right;\">\n",
       "      <th></th>\n",
       "      <th>Loyalty Number</th>\n",
       "      <th>Year</th>\n",
       "      <th>Month</th>\n",
       "      <th>Flights Booked</th>\n",
       "      <th>Flights with Companions</th>\n",
       "      <th>Total Flights</th>\n",
       "      <th>Distance</th>\n",
       "      <th>Points Accumulated</th>\n",
       "      <th>Points Redeemed</th>\n",
       "      <th>Dollar Cost Points Redeemed</th>\n",
       "    </tr>\n",
       "  </thead>\n",
       "  <tbody>\n",
       "    <tr>\n",
       "      <th>405622</th>\n",
       "      <td>999982</td>\n",
       "      <td>2018</td>\n",
       "      <td>12</td>\n",
       "      <td>0</td>\n",
       "      <td>0</td>\n",
       "      <td>0</td>\n",
       "      <td>0</td>\n",
       "      <td>0.0</td>\n",
       "      <td>0</td>\n",
       "      <td>0</td>\n",
       "    </tr>\n",
       "    <tr>\n",
       "      <th>405623</th>\n",
       "      <td>999986</td>\n",
       "      <td>2018</td>\n",
       "      <td>12</td>\n",
       "      <td>0</td>\n",
       "      <td>0</td>\n",
       "      <td>0</td>\n",
       "      <td>0</td>\n",
       "      <td>0.0</td>\n",
       "      <td>0</td>\n",
       "      <td>0</td>\n",
       "    </tr>\n",
       "  </tbody>\n",
       "</table>\n",
       "</div>"
      ],
      "text/plain": [
       "        Loyalty Number  Year  Month  Flights Booked  Flights with Companions  \\\n",
       "405622          999982  2018     12               0                        0   \n",
       "405623          999986  2018     12               0                        0   \n",
       "\n",
       "        Total Flights  Distance  Points Accumulated  Points Redeemed  \\\n",
       "405622              0         0                 0.0                0   \n",
       "405623              0         0                 0.0                0   \n",
       "\n",
       "        Dollar Cost Points Redeemed  \n",
       "405622                            0  \n",
       "405623                            0  "
      ]
     },
     "metadata": {},
     "output_type": "display_data"
    },
    {
     "name": "stdout",
     "output_type": "stream",
     "text": [
      "------------------------------------------------------------------------------------------------------------------------------------------------------\n"
     ]
    },
    {
     "data": {
      "application/vnd.microsoft.datawrangler.viewer.v0+json": {
       "columns": [
        {
         "name": "index",
         "rawType": "int64",
         "type": "integer"
        },
        {
         "name": "Loyalty Number",
         "rawType": "int64",
         "type": "integer"
        },
        {
         "name": "Year",
         "rawType": "int64",
         "type": "integer"
        },
        {
         "name": "Month",
         "rawType": "int64",
         "type": "integer"
        },
        {
         "name": "Flights Booked",
         "rawType": "int64",
         "type": "integer"
        },
        {
         "name": "Flights with Companions",
         "rawType": "int64",
         "type": "integer"
        },
        {
         "name": "Total Flights",
         "rawType": "int64",
         "type": "integer"
        },
        {
         "name": "Distance",
         "rawType": "int64",
         "type": "integer"
        },
        {
         "name": "Points Accumulated",
         "rawType": "float64",
         "type": "float"
        },
        {
         "name": "Points Redeemed",
         "rawType": "int64",
         "type": "integer"
        },
        {
         "name": "Dollar Cost Points Redeemed",
         "rawType": "int64",
         "type": "integer"
        }
       ],
       "ref": "d54c791b-f115-4d05-af22-6f08cf955ce6",
       "rows": [
        [
         "78924",
         "702327",
         "2017",
         "5",
         "6",
         "3",
         "9",
         "3276",
         "327.0",
         "0",
         "0"
        ],
        [
         "289049",
         "193781",
         "2018",
         "6",
         "0",
         "0",
         "0",
         "0",
         "0.0",
         "0",
         "0"
        ]
       ],
       "shape": {
        "columns": 10,
        "rows": 2
       }
      },
      "text/html": [
       "<div>\n",
       "<style scoped>\n",
       "    .dataframe tbody tr th:only-of-type {\n",
       "        vertical-align: middle;\n",
       "    }\n",
       "\n",
       "    .dataframe tbody tr th {\n",
       "        vertical-align: top;\n",
       "    }\n",
       "\n",
       "    .dataframe thead th {\n",
       "        text-align: right;\n",
       "    }\n",
       "</style>\n",
       "<table border=\"1\" class=\"dataframe\">\n",
       "  <thead>\n",
       "    <tr style=\"text-align: right;\">\n",
       "      <th></th>\n",
       "      <th>Loyalty Number</th>\n",
       "      <th>Year</th>\n",
       "      <th>Month</th>\n",
       "      <th>Flights Booked</th>\n",
       "      <th>Flights with Companions</th>\n",
       "      <th>Total Flights</th>\n",
       "      <th>Distance</th>\n",
       "      <th>Points Accumulated</th>\n",
       "      <th>Points Redeemed</th>\n",
       "      <th>Dollar Cost Points Redeemed</th>\n",
       "    </tr>\n",
       "  </thead>\n",
       "  <tbody>\n",
       "    <tr>\n",
       "      <th>78924</th>\n",
       "      <td>702327</td>\n",
       "      <td>2017</td>\n",
       "      <td>5</td>\n",
       "      <td>6</td>\n",
       "      <td>3</td>\n",
       "      <td>9</td>\n",
       "      <td>3276</td>\n",
       "      <td>327.0</td>\n",
       "      <td>0</td>\n",
       "      <td>0</td>\n",
       "    </tr>\n",
       "    <tr>\n",
       "      <th>289049</th>\n",
       "      <td>193781</td>\n",
       "      <td>2018</td>\n",
       "      <td>6</td>\n",
       "      <td>0</td>\n",
       "      <td>0</td>\n",
       "      <td>0</td>\n",
       "      <td>0</td>\n",
       "      <td>0.0</td>\n",
       "      <td>0</td>\n",
       "      <td>0</td>\n",
       "    </tr>\n",
       "  </tbody>\n",
       "</table>\n",
       "</div>"
      ],
      "text/plain": [
       "        Loyalty Number  Year  Month  Flights Booked  Flights with Companions  \\\n",
       "78924           702327  2017      5               6                        3   \n",
       "289049          193781  2018      6               0                        0   \n",
       "\n",
       "        Total Flights  Distance  Points Accumulated  Points Redeemed  \\\n",
       "78924               9      3276               327.0                0   \n",
       "289049              0         0                 0.0                0   \n",
       "\n",
       "        Dollar Cost Points Redeemed  \n",
       "78924                             0  \n",
       "289049                            0  "
      ]
     },
     "metadata": {},
     "output_type": "display_data"
    }
   ],
   "source": [
    "# exploramos una visión general de cada uno de los DataFrame:\n",
    "\n",
    "display(df_flight.head(2)) # revisamos los primeros datos\n",
    "print('---' * 50)\n",
    "display(df_flight.tail(2)) # revisamos los últimos datos\n",
    "print('---' * 50)\n",
    "display(df_flight.sample(2)) # revisamos datos aleatorios"
   ]
  },
  {
   "cell_type": "code",
   "execution_count": 21,
   "id": "24cc19c5",
   "metadata": {},
   "outputs": [
    {
     "name": "stdout",
     "output_type": "stream",
     "text": [
      "El número de filas es 405624, el número de columnas es 10\n"
     ]
    }
   ],
   "source": [
    "# exploramos el número:\n",
    " \n",
    "print(f\"El número de filas es {df_flight.shape[0]}, el número de columnas es {df_flight.shape[1]}\")"
   ]
  },
  {
   "cell_type": "code",
   "execution_count": 22,
   "id": "884caefd",
   "metadata": {},
   "outputs": [
    {
     "data": {
      "text/plain": [
       "Index(['Loyalty Number', 'Year', 'Month', 'Flights Booked',\n",
       "       'Flights with Companions', 'Total Flights', 'Distance',\n",
       "       'Points Accumulated', 'Points Redeemed', 'Dollar Cost Points Redeemed'],\n",
       "      dtype='object')"
      ]
     },
     "execution_count": 22,
     "metadata": {},
     "output_type": "execute_result"
    }
   ],
   "source": [
    "# exploramos las columnas:\n",
    "\n",
    "df_flight.columns"
   ]
  },
  {
   "cell_type": "code",
   "execution_count": null,
   "id": "eebef8f1",
   "metadata": {},
   "outputs": [
    {
     "name": "stdout",
     "output_type": "stream",
     "text": [
      "<class 'pandas.core.frame.DataFrame'>\n",
      "RangeIndex: 405624 entries, 0 to 405623\n",
      "Data columns (total 10 columns):\n",
      " #   Column                       Non-Null Count   Dtype  \n",
      "---  ------                       --------------   -----  \n",
      " 0   Loyalty Number               405624 non-null  int64  \n",
      " 1   Year                         405624 non-null  int64  \n",
      " 2   Month                        405624 non-null  int64  \n",
      " 3   Flights Booked               405624 non-null  int64  \n",
      " 4   Flights with Companions      405624 non-null  int64  \n",
      " 5   Total Flights                405624 non-null  int64  \n",
      " 6   Distance                     405624 non-null  int64  \n",
      " 7   Points Accumulated           405624 non-null  float64\n",
      " 8   Points Redeemed              405624 non-null  int64  \n",
      " 9   Dollar Cost Points Redeemed  405624 non-null  int64  \n",
      "dtypes: float64(1), int64(9)\n",
      "memory usage: 30.9 MB\n"
     ]
    }
   ],
   "source": [
    "# 2. exploramos la información de las columnas:\n",
    "\n",
    "df_flight.info()"
   ]
  },
  {
   "cell_type": "markdown",
   "id": "ff074525",
   "metadata": {},
   "source": [
    "### Primeras conclusiones de la epxloración de datos del DataFrame:\n",
    "\n",
    "- No existen datos nulos, por lo que no haremos ninguna modificación\n",
    "- Las columnas tienen nombres unificados, por lo que haremos cambios\n",
    "- La columna 'Points Accumulated' tiene un tipo de dato 'float' y luego de la exploración inicial podríamos unificar los datos y cambiarlo a 'entero'\n",
    "- La columna 'Year' la convertimos en object para tratarla como una columna categórica"
   ]
  },
  {
   "cell_type": "code",
   "execution_count": null,
   "id": "a72ab168",
   "metadata": {},
   "outputs": [
    {
     "name": "stdout",
     "output_type": "stream",
     "text": [
      "<class 'pandas.core.frame.DataFrame'>\n",
      "RangeIndex: 405624 entries, 0 to 405623\n",
      "Data columns (total 10 columns):\n",
      " #   Column                       Non-Null Count   Dtype\n",
      "---  ------                       --------------   -----\n",
      " 0   Loyalty Number               405624 non-null  int64\n",
      " 1   Year                         405624 non-null  int64\n",
      " 2   Month                        405624 non-null  int64\n",
      " 3   Flights Booked               405624 non-null  int64\n",
      " 4   Flights with Companions      405624 non-null  int64\n",
      " 5   Total Flights                405624 non-null  int64\n",
      " 6   Distance                     405624 non-null  int64\n",
      " 7   Points Accumulated           405624 non-null  int32\n",
      " 8   Points Redeemed              405624 non-null  int64\n",
      " 9   Dollar Cost Points Redeemed  405624 non-null  int64\n",
      "dtypes: int32(1), int64(9)\n",
      "memory usage: 29.4 MB\n"
     ]
    }
   ],
   "source": [
    "# convertir dato 'float' a 'int' en la columna 'Points Accumulated'\n",
    "\n",
    "df_flight['Points Accumulated'] = df_flight['Points Accumulated'].astype(int)\n",
    "\n",
    "df_flight.info() # para comprobar el cambio"
   ]
  },
  {
   "cell_type": "code",
   "execution_count": 31,
   "id": "dbfaf473",
   "metadata": {},
   "outputs": [
    {
     "name": "stdout",
     "output_type": "stream",
     "text": [
      "<class 'pandas.core.frame.DataFrame'>\n",
      "RangeIndex: 405624 entries, 0 to 405623\n",
      "Data columns (total 10 columns):\n",
      " #   Column                       Non-Null Count   Dtype \n",
      "---  ------                       --------------   ----- \n",
      " 0   Loyalty Number               405624 non-null  int64 \n",
      " 1   Year                         405624 non-null  object\n",
      " 2   Month                        405624 non-null  int64 \n",
      " 3   Flights Booked               405624 non-null  int64 \n",
      " 4   Flights with Companions      405624 non-null  int64 \n",
      " 5   Total Flights                405624 non-null  int64 \n",
      " 6   Distance                     405624 non-null  int64 \n",
      " 7   Points Accumulated           405624 non-null  int32 \n",
      " 8   Points Redeemed              405624 non-null  int64 \n",
      " 9   Dollar Cost Points Redeemed  405624 non-null  int64 \n",
      "dtypes: int32(1), int64(8), object(1)\n",
      "memory usage: 29.4+ MB\n"
     ]
    }
   ],
   "source": [
    "# convertir dato 'int' a 'object' en la columna 'Year'ArithmeticError\n",
    "\n",
    "df_flight['Year'] = df_flight['Year'].astype('object')\n",
    "\n",
    "df_flight.info() # para verificar el cambio"
   ]
  },
  {
   "cell_type": "code",
   "execution_count": null,
   "id": "57043c3c",
   "metadata": {},
   "outputs": [
    {
     "data": {
      "application/vnd.microsoft.datawrangler.viewer.v0+json": {
       "columns": [
        {
         "name": "index",
         "rawType": "object",
         "type": "string"
        },
        {
         "name": "count",
         "rawType": "int64",
         "type": "integer"
        },
        {
         "name": "unique",
         "rawType": "int64",
         "type": "integer"
        },
        {
         "name": "top",
         "rawType": "int64",
         "type": "integer"
        },
        {
         "name": "freq",
         "rawType": "int64",
         "type": "integer"
        }
       ],
       "ref": "ecfe317b-504a-4ae2-a06c-1128fa07ea90",
       "rows": [
        [
         "Year",
         "405624",
         "2",
         "2017",
         "202812"
        ]
       ],
       "shape": {
        "columns": 4,
        "rows": 1
       }
      },
      "text/html": [
       "<div>\n",
       "<style scoped>\n",
       "    .dataframe tbody tr th:only-of-type {\n",
       "        vertical-align: middle;\n",
       "    }\n",
       "\n",
       "    .dataframe tbody tr th {\n",
       "        vertical-align: top;\n",
       "    }\n",
       "\n",
       "    .dataframe thead th {\n",
       "        text-align: right;\n",
       "    }\n",
       "</style>\n",
       "<table border=\"1\" class=\"dataframe\">\n",
       "  <thead>\n",
       "    <tr style=\"text-align: right;\">\n",
       "      <th></th>\n",
       "      <th>count</th>\n",
       "      <th>unique</th>\n",
       "      <th>top</th>\n",
       "      <th>freq</th>\n",
       "    </tr>\n",
       "  </thead>\n",
       "  <tbody>\n",
       "    <tr>\n",
       "      <th>Year</th>\n",
       "      <td>405624</td>\n",
       "      <td>2</td>\n",
       "      <td>2017</td>\n",
       "      <td>202812</td>\n",
       "    </tr>\n",
       "  </tbody>\n",
       "</table>\n",
       "</div>"
      ],
      "text/plain": [
       "       count  unique   top    freq\n",
       "Year  405624       2  2017  202812"
      ]
     },
     "execution_count": 33,
     "metadata": {},
     "output_type": "execute_result"
    }
   ],
   "source": [
    "# 3. exploramos los datos de las columnas categóricas usando 'describe()'\n",
    "\n",
    "df_flight.describe(include='O').T\n",
    "\n",
    "# concluímos que 2017 es el año que mas repite en los datos"
   ]
  },
  {
   "cell_type": "code",
   "execution_count": null,
   "id": "f6af5a49",
   "metadata": {},
   "outputs": [
    {
     "data": {
      "application/vnd.microsoft.datawrangler.viewer.v0+json": {
       "columns": [
        {
         "name": "index",
         "rawType": "object",
         "type": "string"
        },
        {
         "name": "count",
         "rawType": "float64",
         "type": "float"
        },
        {
         "name": "mean",
         "rawType": "float64",
         "type": "float"
        },
        {
         "name": "std",
         "rawType": "float64",
         "type": "float"
        },
        {
         "name": "min",
         "rawType": "float64",
         "type": "float"
        },
        {
         "name": "25%",
         "rawType": "float64",
         "type": "float"
        },
        {
         "name": "50%",
         "rawType": "float64",
         "type": "float"
        },
        {
         "name": "75%",
         "rawType": "float64",
         "type": "float"
        },
        {
         "name": "max",
         "rawType": "float64",
         "type": "float"
        }
       ],
       "ref": "0532eaa5-a4f1-4d5b-9573-33a58fe5437d",
       "rows": [
        [
         "Loyalty Number",
         "405624.0",
         "550037.8730844329",
         "258935.2869685325",
         "100018.0",
         "326961.0",
         "550834.0",
         "772194.0",
         "999986.0"
        ],
        [
         "Month",
         "405624.0",
         "6.5",
         "3.4520567847795607",
         "1.0",
         "3.75",
         "6.5",
         "9.25",
         "12.0"
        ],
        [
         "Flights Booked",
         "405624.0",
         "4.115052363765457",
         "5.225518362156165",
         "0.0",
         "0.0",
         "1.0",
         "8.0",
         "21.0"
        ],
        [
         "Flights with Companions",
         "405624.0",
         "1.031805317239611",
         "2.0768693438648906",
         "0.0",
         "0.0",
         "0.0",
         "1.0",
         "11.0"
        ],
        [
         "Total Flights",
         "405624.0",
         "5.146857681005069",
         "6.5212274242571455",
         "0.0",
         "0.0",
         "1.0",
         "10.0",
         "32.0"
        ],
        [
         "Distance",
         "405624.0",
         "1208.880058872256",
         "1433.1553197944165",
         "0.0",
         "0.0",
         "488.0",
         "2336.0",
         "6293.0"
        ],
        [
         "Points Accumulated",
         "405624.0",
         "123.66700195254718",
         "146.57908278834532",
         "0.0",
         "0.0",
         "50.0",
         "239.0",
         "676.0"
        ],
        [
         "Points Redeemed",
         "405624.0",
         "30.696871979961738",
         "125.4860493182356",
         "0.0",
         "0.0",
         "0.0",
         "0.0",
         "876.0"
        ],
        [
         "Dollar Cost Points Redeemed",
         "405624.0",
         "2.484502889375382",
         "10.150037777718726",
         "0.0",
         "0.0",
         "0.0",
         "0.0",
         "71.0"
        ]
       ],
       "shape": {
        "columns": 8,
        "rows": 9
       }
      },
      "text/html": [
       "<div>\n",
       "<style scoped>\n",
       "    .dataframe tbody tr th:only-of-type {\n",
       "        vertical-align: middle;\n",
       "    }\n",
       "\n",
       "    .dataframe tbody tr th {\n",
       "        vertical-align: top;\n",
       "    }\n",
       "\n",
       "    .dataframe thead th {\n",
       "        text-align: right;\n",
       "    }\n",
       "</style>\n",
       "<table border=\"1\" class=\"dataframe\">\n",
       "  <thead>\n",
       "    <tr style=\"text-align: right;\">\n",
       "      <th></th>\n",
       "      <th>count</th>\n",
       "      <th>mean</th>\n",
       "      <th>std</th>\n",
       "      <th>min</th>\n",
       "      <th>25%</th>\n",
       "      <th>50%</th>\n",
       "      <th>75%</th>\n",
       "      <th>max</th>\n",
       "    </tr>\n",
       "  </thead>\n",
       "  <tbody>\n",
       "    <tr>\n",
       "      <th>Loyalty Number</th>\n",
       "      <td>405624.0</td>\n",
       "      <td>550037.873084</td>\n",
       "      <td>258935.286969</td>\n",
       "      <td>100018.0</td>\n",
       "      <td>326961.00</td>\n",
       "      <td>550834.0</td>\n",
       "      <td>772194.00</td>\n",
       "      <td>999986.0</td>\n",
       "    </tr>\n",
       "    <tr>\n",
       "      <th>Month</th>\n",
       "      <td>405624.0</td>\n",
       "      <td>6.500000</td>\n",
       "      <td>3.452057</td>\n",
       "      <td>1.0</td>\n",
       "      <td>3.75</td>\n",
       "      <td>6.5</td>\n",
       "      <td>9.25</td>\n",
       "      <td>12.0</td>\n",
       "    </tr>\n",
       "    <tr>\n",
       "      <th>Flights Booked</th>\n",
       "      <td>405624.0</td>\n",
       "      <td>4.115052</td>\n",
       "      <td>5.225518</td>\n",
       "      <td>0.0</td>\n",
       "      <td>0.00</td>\n",
       "      <td>1.0</td>\n",
       "      <td>8.00</td>\n",
       "      <td>21.0</td>\n",
       "    </tr>\n",
       "    <tr>\n",
       "      <th>Flights with Companions</th>\n",
       "      <td>405624.0</td>\n",
       "      <td>1.031805</td>\n",
       "      <td>2.076869</td>\n",
       "      <td>0.0</td>\n",
       "      <td>0.00</td>\n",
       "      <td>0.0</td>\n",
       "      <td>1.00</td>\n",
       "      <td>11.0</td>\n",
       "    </tr>\n",
       "    <tr>\n",
       "      <th>Total Flights</th>\n",
       "      <td>405624.0</td>\n",
       "      <td>5.146858</td>\n",
       "      <td>6.521227</td>\n",
       "      <td>0.0</td>\n",
       "      <td>0.00</td>\n",
       "      <td>1.0</td>\n",
       "      <td>10.00</td>\n",
       "      <td>32.0</td>\n",
       "    </tr>\n",
       "    <tr>\n",
       "      <th>Distance</th>\n",
       "      <td>405624.0</td>\n",
       "      <td>1208.880059</td>\n",
       "      <td>1433.155320</td>\n",
       "      <td>0.0</td>\n",
       "      <td>0.00</td>\n",
       "      <td>488.0</td>\n",
       "      <td>2336.00</td>\n",
       "      <td>6293.0</td>\n",
       "    </tr>\n",
       "    <tr>\n",
       "      <th>Points Accumulated</th>\n",
       "      <td>405624.0</td>\n",
       "      <td>123.667002</td>\n",
       "      <td>146.579083</td>\n",
       "      <td>0.0</td>\n",
       "      <td>0.00</td>\n",
       "      <td>50.0</td>\n",
       "      <td>239.00</td>\n",
       "      <td>676.0</td>\n",
       "    </tr>\n",
       "    <tr>\n",
       "      <th>Points Redeemed</th>\n",
       "      <td>405624.0</td>\n",
       "      <td>30.696872</td>\n",
       "      <td>125.486049</td>\n",
       "      <td>0.0</td>\n",
       "      <td>0.00</td>\n",
       "      <td>0.0</td>\n",
       "      <td>0.00</td>\n",
       "      <td>876.0</td>\n",
       "    </tr>\n",
       "    <tr>\n",
       "      <th>Dollar Cost Points Redeemed</th>\n",
       "      <td>405624.0</td>\n",
       "      <td>2.484503</td>\n",
       "      <td>10.150038</td>\n",
       "      <td>0.0</td>\n",
       "      <td>0.00</td>\n",
       "      <td>0.0</td>\n",
       "      <td>0.00</td>\n",
       "      <td>71.0</td>\n",
       "    </tr>\n",
       "  </tbody>\n",
       "</table>\n",
       "</div>"
      ],
      "text/plain": [
       "                                count           mean            std       min  \\\n",
       "Loyalty Number               405624.0  550037.873084  258935.286969  100018.0   \n",
       "Month                        405624.0       6.500000       3.452057       1.0   \n",
       "Flights Booked               405624.0       4.115052       5.225518       0.0   \n",
       "Flights with Companions      405624.0       1.031805       2.076869       0.0   \n",
       "Total Flights                405624.0       5.146858       6.521227       0.0   \n",
       "Distance                     405624.0    1208.880059    1433.155320       0.0   \n",
       "Points Accumulated           405624.0     123.667002     146.579083       0.0   \n",
       "Points Redeemed              405624.0      30.696872     125.486049       0.0   \n",
       "Dollar Cost Points Redeemed  405624.0       2.484503      10.150038       0.0   \n",
       "\n",
       "                                   25%       50%        75%       max  \n",
       "Loyalty Number               326961.00  550834.0  772194.00  999986.0  \n",
       "Month                             3.75       6.5       9.25      12.0  \n",
       "Flights Booked                    0.00       1.0       8.00      21.0  \n",
       "Flights with Companions           0.00       0.0       1.00      11.0  \n",
       "Total Flights                     0.00       1.0      10.00      32.0  \n",
       "Distance                          0.00     488.0    2336.00    6293.0  \n",
       "Points Accumulated                0.00      50.0     239.00     676.0  \n",
       "Points Redeemed                   0.00       0.0       0.00     876.0  \n",
       "Dollar Cost Points Redeemed       0.00       0.0       0.00      71.0  "
      ]
     },
     "execution_count": 35,
     "metadata": {},
     "output_type": "execute_result"
    }
   ],
   "source": [
    "# exploramos los datos de las columnas categoricas usando describe()\n",
    "\n",
    "df_flight.describe().T\n",
    "\n",
    "# concluímos que las media y la mediana no están cercanas en muchos de los datos de algunas columnas, \n",
    "# y en algunas columnas la dispersión de los datos es alta"
   ]
  },
  {
   "cell_type": "code",
   "execution_count": 25,
   "id": "be65f062",
   "metadata": {},
   "outputs": [],
   "source": [
    "# valores nulos 'Salary', 'Cancellation Year, 'Cancellation Month'\n",
    "# cambio valores a int 'Salary', 'Cancellation Year, 'Cancellation Month'"
   ]
  },
  {
   "cell_type": "code",
   "execution_count": null,
   "id": "1a740a8b",
   "metadata": {},
   "outputs": [],
   "source": []
  }
 ],
 "metadata": {
  "kernelspec": {
   "display_name": "base",
   "language": "python",
   "name": "python3"
  },
  "language_info": {
   "codemirror_mode": {
    "name": "ipython",
    "version": 3
   },
   "file_extension": ".py",
   "mimetype": "text/x-python",
   "name": "python",
   "nbconvert_exporter": "python",
   "pygments_lexer": "ipython3",
   "version": "3.12.7"
  }
 },
 "nbformat": 4,
 "nbformat_minor": 5
}
