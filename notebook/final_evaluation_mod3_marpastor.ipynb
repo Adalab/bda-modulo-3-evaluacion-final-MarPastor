{
 "cells": [
  {
   "cell_type": "markdown",
   "id": "658288cf",
   "metadata": {},
   "source": [
    "# Evaluación Final MOD3 - Mar Pastor\n",
    "---"
   ]
  },
  {
   "cell_type": "markdown",
   "id": "be453e47",
   "metadata": {},
   "source": [
    "### Ejercicio EDA y Vizualización de datos\n",
    "\n",
    "En este ejercicio usaremos datos que consisten en dos BBDD de tipo CSV que contienen datos que describen el comportamiento de los clientes dentro de un programa de lealtad de una aerolínea.\n",
    "\n",
    "Exploraremos los archivos:\n",
    "\n",
    "- `Customer Flight Activity.csv` que contiene información sobre la actividad de vuelo de los clientes\n",
    "- `Customer Loyalty History.csv` que proporciona un perfil detallado de los clientes y detalles sobre su membresía en el programa de lealtad\n",
    "---"
   ]
  },
  {
   "cell_type": "code",
   "execution_count": 14,
   "id": "d2d74f71",
   "metadata": {},
   "outputs": [],
   "source": [
    "# Tratamiento de datos\n",
    "# ------------------------------------------------------------------------------\n",
    "import pandas as pd\n",
    "import numpy as np\n",
    "\n",
    "# Visualización\n",
    "# ------------------------------------------------------------------------------\n",
    "import matplotlib.pyplot as plt\n",
    "import seaborn as sns\n",
    "\n",
    "# Evaluar linealidad de las relaciones entre las variables\n",
    "# y la distribución de las variables\n",
    "# ------------------------------------------------------------------------------\n",
    "#import scipy.stats as stats\n",
    "import scipy.stats as st\n",
    "import scipy.stats as stats\n",
    "from scipy.stats import shapiro, poisson, chisquare, expon, kstest\n",
    "\n",
    "# Configuración\n",
    "# ------------------------------------------------------------------------------\n",
    "pd.set_option('display.max_columns', None) # para poder visualizar todas las columnas de los DataFrames"
   ]
  },
  {
   "cell_type": "code",
   "execution_count": 27,
   "id": "0de4a6ad",
   "metadata": {},
   "outputs": [],
   "source": [
    "# abrimos los dataframes:\n",
    "\n",
    "df_flight = pd.read_csv('../data/Customer Flight Activity.csv')\n",
    "df_loyalty = pd.read_csv('../data/Customer Loyalty History.csv')"
   ]
  },
  {
   "cell_type": "markdown",
   "id": "d7528186",
   "metadata": {},
   "source": [
    "### Trabajamos con el DataFrame de información sobre la actividad de vuelo de los clientes\n",
    "#### Trabajamos con el DataFrame: `df_flight`\n",
    "---"
   ]
  },
  {
   "cell_type": "code",
   "execution_count": 28,
   "id": "47a0c665",
   "metadata": {},
   "outputs": [
    {
     "data": {
      "application/vnd.microsoft.datawrangler.viewer.v0+json": {
       "columns": [
        {
         "name": "index",
         "rawType": "int64",
         "type": "integer"
        },
        {
         "name": "Loyalty Number",
         "rawType": "int64",
         "type": "integer"
        },
        {
         "name": "Year",
         "rawType": "int64",
         "type": "integer"
        },
        {
         "name": "Month",
         "rawType": "int64",
         "type": "integer"
        },
        {
         "name": "Flights Booked",
         "rawType": "int64",
         "type": "integer"
        },
        {
         "name": "Flights with Companions",
         "rawType": "int64",
         "type": "integer"
        },
        {
         "name": "Total Flights",
         "rawType": "int64",
         "type": "integer"
        },
        {
         "name": "Distance",
         "rawType": "int64",
         "type": "integer"
        },
        {
         "name": "Points Accumulated",
         "rawType": "float64",
         "type": "float"
        },
        {
         "name": "Points Redeemed",
         "rawType": "int64",
         "type": "integer"
        },
        {
         "name": "Dollar Cost Points Redeemed",
         "rawType": "int64",
         "type": "integer"
        }
       ],
       "ref": "14cfdbb1-42cb-4317-ae8a-0fde099a839d",
       "rows": [
        [
         "0",
         "100018",
         "2017",
         "1",
         "3",
         "0",
         "3",
         "1521",
         "152.0",
         "0",
         "0"
        ],
        [
         "1",
         "100102",
         "2017",
         "1",
         "10",
         "4",
         "14",
         "2030",
         "203.0",
         "0",
         "0"
        ]
       ],
       "shape": {
        "columns": 10,
        "rows": 2
       }
      },
      "text/html": [
       "<div>\n",
       "<style scoped>\n",
       "    .dataframe tbody tr th:only-of-type {\n",
       "        vertical-align: middle;\n",
       "    }\n",
       "\n",
       "    .dataframe tbody tr th {\n",
       "        vertical-align: top;\n",
       "    }\n",
       "\n",
       "    .dataframe thead th {\n",
       "        text-align: right;\n",
       "    }\n",
       "</style>\n",
       "<table border=\"1\" class=\"dataframe\">\n",
       "  <thead>\n",
       "    <tr style=\"text-align: right;\">\n",
       "      <th></th>\n",
       "      <th>Loyalty Number</th>\n",
       "      <th>Year</th>\n",
       "      <th>Month</th>\n",
       "      <th>Flights Booked</th>\n",
       "      <th>Flights with Companions</th>\n",
       "      <th>Total Flights</th>\n",
       "      <th>Distance</th>\n",
       "      <th>Points Accumulated</th>\n",
       "      <th>Points Redeemed</th>\n",
       "      <th>Dollar Cost Points Redeemed</th>\n",
       "    </tr>\n",
       "  </thead>\n",
       "  <tbody>\n",
       "    <tr>\n",
       "      <th>0</th>\n",
       "      <td>100018</td>\n",
       "      <td>2017</td>\n",
       "      <td>1</td>\n",
       "      <td>3</td>\n",
       "      <td>0</td>\n",
       "      <td>3</td>\n",
       "      <td>1521</td>\n",
       "      <td>152.0</td>\n",
       "      <td>0</td>\n",
       "      <td>0</td>\n",
       "    </tr>\n",
       "    <tr>\n",
       "      <th>1</th>\n",
       "      <td>100102</td>\n",
       "      <td>2017</td>\n",
       "      <td>1</td>\n",
       "      <td>10</td>\n",
       "      <td>4</td>\n",
       "      <td>14</td>\n",
       "      <td>2030</td>\n",
       "      <td>203.0</td>\n",
       "      <td>0</td>\n",
       "      <td>0</td>\n",
       "    </tr>\n",
       "  </tbody>\n",
       "</table>\n",
       "</div>"
      ],
      "text/plain": [
       "   Loyalty Number  Year  Month  Flights Booked  Flights with Companions  \\\n",
       "0          100018  2017      1               3                        0   \n",
       "1          100102  2017      1              10                        4   \n",
       "\n",
       "   Total Flights  Distance  Points Accumulated  Points Redeemed  \\\n",
       "0              3      1521               152.0                0   \n",
       "1             14      2030               203.0                0   \n",
       "\n",
       "   Dollar Cost Points Redeemed  \n",
       "0                            0  \n",
       "1                            0  "
      ]
     },
     "metadata": {},
     "output_type": "display_data"
    },
    {
     "name": "stdout",
     "output_type": "stream",
     "text": [
      "------------------------------------------------------------------------------------------------------------------------------------------------------------------------------------------------------------------------------------------------------------------------------------------------------------\n"
     ]
    },
    {
     "data": {
      "application/vnd.microsoft.datawrangler.viewer.v0+json": {
       "columns": [
        {
         "name": "index",
         "rawType": "int64",
         "type": "integer"
        },
        {
         "name": "Loyalty Number",
         "rawType": "int64",
         "type": "integer"
        },
        {
         "name": "Year",
         "rawType": "int64",
         "type": "integer"
        },
        {
         "name": "Month",
         "rawType": "int64",
         "type": "integer"
        },
        {
         "name": "Flights Booked",
         "rawType": "int64",
         "type": "integer"
        },
        {
         "name": "Flights with Companions",
         "rawType": "int64",
         "type": "integer"
        },
        {
         "name": "Total Flights",
         "rawType": "int64",
         "type": "integer"
        },
        {
         "name": "Distance",
         "rawType": "int64",
         "type": "integer"
        },
        {
         "name": "Points Accumulated",
         "rawType": "float64",
         "type": "float"
        },
        {
         "name": "Points Redeemed",
         "rawType": "int64",
         "type": "integer"
        },
        {
         "name": "Dollar Cost Points Redeemed",
         "rawType": "int64",
         "type": "integer"
        }
       ],
       "ref": "3924664b-1411-4d54-b3c8-f791809af3ff",
       "rows": [
        [
         "405622",
         "999982",
         "2018",
         "12",
         "0",
         "0",
         "0",
         "0",
         "0.0",
         "0",
         "0"
        ],
        [
         "405623",
         "999986",
         "2018",
         "12",
         "0",
         "0",
         "0",
         "0",
         "0.0",
         "0",
         "0"
        ]
       ],
       "shape": {
        "columns": 10,
        "rows": 2
       }
      },
      "text/html": [
       "<div>\n",
       "<style scoped>\n",
       "    .dataframe tbody tr th:only-of-type {\n",
       "        vertical-align: middle;\n",
       "    }\n",
       "\n",
       "    .dataframe tbody tr th {\n",
       "        vertical-align: top;\n",
       "    }\n",
       "\n",
       "    .dataframe thead th {\n",
       "        text-align: right;\n",
       "    }\n",
       "</style>\n",
       "<table border=\"1\" class=\"dataframe\">\n",
       "  <thead>\n",
       "    <tr style=\"text-align: right;\">\n",
       "      <th></th>\n",
       "      <th>Loyalty Number</th>\n",
       "      <th>Year</th>\n",
       "      <th>Month</th>\n",
       "      <th>Flights Booked</th>\n",
       "      <th>Flights with Companions</th>\n",
       "      <th>Total Flights</th>\n",
       "      <th>Distance</th>\n",
       "      <th>Points Accumulated</th>\n",
       "      <th>Points Redeemed</th>\n",
       "      <th>Dollar Cost Points Redeemed</th>\n",
       "    </tr>\n",
       "  </thead>\n",
       "  <tbody>\n",
       "    <tr>\n",
       "      <th>405622</th>\n",
       "      <td>999982</td>\n",
       "      <td>2018</td>\n",
       "      <td>12</td>\n",
       "      <td>0</td>\n",
       "      <td>0</td>\n",
       "      <td>0</td>\n",
       "      <td>0</td>\n",
       "      <td>0.0</td>\n",
       "      <td>0</td>\n",
       "      <td>0</td>\n",
       "    </tr>\n",
       "    <tr>\n",
       "      <th>405623</th>\n",
       "      <td>999986</td>\n",
       "      <td>2018</td>\n",
       "      <td>12</td>\n",
       "      <td>0</td>\n",
       "      <td>0</td>\n",
       "      <td>0</td>\n",
       "      <td>0</td>\n",
       "      <td>0.0</td>\n",
       "      <td>0</td>\n",
       "      <td>0</td>\n",
       "    </tr>\n",
       "  </tbody>\n",
       "</table>\n",
       "</div>"
      ],
      "text/plain": [
       "        Loyalty Number  Year  Month  Flights Booked  Flights with Companions  \\\n",
       "405622          999982  2018     12               0                        0   \n",
       "405623          999986  2018     12               0                        0   \n",
       "\n",
       "        Total Flights  Distance  Points Accumulated  Points Redeemed  \\\n",
       "405622              0         0                 0.0                0   \n",
       "405623              0         0                 0.0                0   \n",
       "\n",
       "        Dollar Cost Points Redeemed  \n",
       "405622                            0  \n",
       "405623                            0  "
      ]
     },
     "metadata": {},
     "output_type": "display_data"
    },
    {
     "name": "stdout",
     "output_type": "stream",
     "text": [
      "------------------------------------------------------------------------------------------------------------------------------------------------------------------------------------------------------------------------------------------------------------------------------------------------------------\n"
     ]
    },
    {
     "data": {
      "application/vnd.microsoft.datawrangler.viewer.v0+json": {
       "columns": [
        {
         "name": "index",
         "rawType": "int64",
         "type": "integer"
        },
        {
         "name": "Loyalty Number",
         "rawType": "int64",
         "type": "integer"
        },
        {
         "name": "Year",
         "rawType": "int64",
         "type": "integer"
        },
        {
         "name": "Month",
         "rawType": "int64",
         "type": "integer"
        },
        {
         "name": "Flights Booked",
         "rawType": "int64",
         "type": "integer"
        },
        {
         "name": "Flights with Companions",
         "rawType": "int64",
         "type": "integer"
        },
        {
         "name": "Total Flights",
         "rawType": "int64",
         "type": "integer"
        },
        {
         "name": "Distance",
         "rawType": "int64",
         "type": "integer"
        },
        {
         "name": "Points Accumulated",
         "rawType": "float64",
         "type": "float"
        },
        {
         "name": "Points Redeemed",
         "rawType": "int64",
         "type": "integer"
        },
        {
         "name": "Dollar Cost Points Redeemed",
         "rawType": "int64",
         "type": "integer"
        }
       ],
       "ref": "0cf824fb-5019-4771-b494-01da7bc9f072",
       "rows": [
        [
         "290950",
         "295355",
         "2018",
         "6",
         "18",
         "0",
         "18",
         "2376",
         "237.0",
         "0",
         "0"
        ],
        [
         "196133",
         "643605",
         "2017",
         "12",
         "14",
         "5",
         "19",
         "1501",
         "150.0",
         "0",
         "0"
        ]
       ],
       "shape": {
        "columns": 10,
        "rows": 2
       }
      },
      "text/html": [
       "<div>\n",
       "<style scoped>\n",
       "    .dataframe tbody tr th:only-of-type {\n",
       "        vertical-align: middle;\n",
       "    }\n",
       "\n",
       "    .dataframe tbody tr th {\n",
       "        vertical-align: top;\n",
       "    }\n",
       "\n",
       "    .dataframe thead th {\n",
       "        text-align: right;\n",
       "    }\n",
       "</style>\n",
       "<table border=\"1\" class=\"dataframe\">\n",
       "  <thead>\n",
       "    <tr style=\"text-align: right;\">\n",
       "      <th></th>\n",
       "      <th>Loyalty Number</th>\n",
       "      <th>Year</th>\n",
       "      <th>Month</th>\n",
       "      <th>Flights Booked</th>\n",
       "      <th>Flights with Companions</th>\n",
       "      <th>Total Flights</th>\n",
       "      <th>Distance</th>\n",
       "      <th>Points Accumulated</th>\n",
       "      <th>Points Redeemed</th>\n",
       "      <th>Dollar Cost Points Redeemed</th>\n",
       "    </tr>\n",
       "  </thead>\n",
       "  <tbody>\n",
       "    <tr>\n",
       "      <th>290950</th>\n",
       "      <td>295355</td>\n",
       "      <td>2018</td>\n",
       "      <td>6</td>\n",
       "      <td>18</td>\n",
       "      <td>0</td>\n",
       "      <td>18</td>\n",
       "      <td>2376</td>\n",
       "      <td>237.0</td>\n",
       "      <td>0</td>\n",
       "      <td>0</td>\n",
       "    </tr>\n",
       "    <tr>\n",
       "      <th>196133</th>\n",
       "      <td>643605</td>\n",
       "      <td>2017</td>\n",
       "      <td>12</td>\n",
       "      <td>14</td>\n",
       "      <td>5</td>\n",
       "      <td>19</td>\n",
       "      <td>1501</td>\n",
       "      <td>150.0</td>\n",
       "      <td>0</td>\n",
       "      <td>0</td>\n",
       "    </tr>\n",
       "  </tbody>\n",
       "</table>\n",
       "</div>"
      ],
      "text/plain": [
       "        Loyalty Number  Year  Month  Flights Booked  Flights with Companions  \\\n",
       "290950          295355  2018      6              18                        0   \n",
       "196133          643605  2017     12              14                        5   \n",
       "\n",
       "        Total Flights  Distance  Points Accumulated  Points Redeemed  \\\n",
       "290950             18      2376               237.0                0   \n",
       "196133             19      1501               150.0                0   \n",
       "\n",
       "        Dollar Cost Points Redeemed  \n",
       "290950                            0  \n",
       "196133                            0  "
      ]
     },
     "metadata": {},
     "output_type": "display_data"
    }
   ],
   "source": [
    "# exploramos una visión general del DataFrame:\n",
    "\n",
    "display(df_flight.head(2)) # revisamos los primeros datos\n",
    "print('---' * 100)\n",
    "display(df_flight.tail(2)) # revisamos los últimos datos\n",
    "print('---' * 100)\n",
    "display(df_flight.sample(2)) # revisamos datos aleatorios"
   ]
  },
  {
   "cell_type": "code",
   "execution_count": 21,
   "id": "24cc19c5",
   "metadata": {},
   "outputs": [
    {
     "name": "stdout",
     "output_type": "stream",
     "text": [
      "El número de filas es 405624, el número de columnas es 10\n"
     ]
    }
   ],
   "source": [
    "# exploramos el número:\n",
    " \n",
    "print(f\"El número de filas es {df_flight.shape[0]}, el número de columnas es {df_flight.shape[1]}\")"
   ]
  },
  {
   "cell_type": "code",
   "execution_count": 22,
   "id": "884caefd",
   "metadata": {},
   "outputs": [
    {
     "data": {
      "text/plain": [
       "Index(['Loyalty Number', 'Year', 'Month', 'Flights Booked',\n",
       "       'Flights with Companions', 'Total Flights', 'Distance',\n",
       "       'Points Accumulated', 'Points Redeemed', 'Dollar Cost Points Redeemed'],\n",
       "      dtype='object')"
      ]
     },
     "execution_count": 22,
     "metadata": {},
     "output_type": "execute_result"
    }
   ],
   "source": [
    "# exploramos las columnas:\n",
    "\n",
    "df_flight.columns"
   ]
  },
  {
   "cell_type": "code",
   "execution_count": 23,
   "id": "eebef8f1",
   "metadata": {},
   "outputs": [
    {
     "name": "stdout",
     "output_type": "stream",
     "text": [
      "<class 'pandas.core.frame.DataFrame'>\n",
      "RangeIndex: 405624 entries, 0 to 405623\n",
      "Data columns (total 10 columns):\n",
      " #   Column                       Non-Null Count   Dtype  \n",
      "---  ------                       --------------   -----  \n",
      " 0   Loyalty Number               405624 non-null  int64  \n",
      " 1   Year                         405624 non-null  int64  \n",
      " 2   Month                        405624 non-null  int64  \n",
      " 3   Flights Booked               405624 non-null  int64  \n",
      " 4   Flights with Companions      405624 non-null  int64  \n",
      " 5   Total Flights                405624 non-null  int64  \n",
      " 6   Distance                     405624 non-null  int64  \n",
      " 7   Points Accumulated           405624 non-null  float64\n",
      " 8   Points Redeemed              405624 non-null  int64  \n",
      " 9   Dollar Cost Points Redeemed  405624 non-null  int64  \n",
      "dtypes: float64(1), int64(9)\n",
      "memory usage: 30.9 MB\n"
     ]
    }
   ],
   "source": [
    "# 2. exploramos la información de las columnas:\n",
    "\n",
    "df_flight.info()"
   ]
  },
  {
   "cell_type": "code",
   "execution_count": null,
   "id": "c2a6f5bc",
   "metadata": {},
   "outputs": [],
   "source": [
    "# Podemos ver que no existen datos nulos, por lo que no haremos ninguna modificación\n",
    "# Vemos que las columnas tienen nombres unificados, por lo que haremos cambios en eso\n",
    "# Podemos cambiar el dato de 'Points Accumulated' a número entero"
   ]
  },
  {
   "cell_type": "code",
   "execution_count": 25,
   "id": "be65f062",
   "metadata": {},
   "outputs": [],
   "source": [
    "# valores nulos 'Salary', 'Cancellation Year, 'Cancellation Month'\n",
    "# cambio valores a int 'Salary', 'Cancellation Year, 'Cancellation Month'"
   ]
  },
  {
   "cell_type": "code",
   "execution_count": null,
   "id": "1a740a8b",
   "metadata": {},
   "outputs": [],
   "source": []
  }
 ],
 "metadata": {
  "kernelspec": {
   "display_name": "base",
   "language": "python",
   "name": "python3"
  },
  "language_info": {
   "codemirror_mode": {
    "name": "ipython",
    "version": 3
   },
   "file_extension": ".py",
   "mimetype": "text/x-python",
   "name": "python",
   "nbconvert_exporter": "python",
   "pygments_lexer": "ipython3",
   "version": "3.12.7"
  }
 },
 "nbformat": 4,
 "nbformat_minor": 5
}
