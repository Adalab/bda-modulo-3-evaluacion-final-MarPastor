{
 "cells": [
  {
   "cell_type": "markdown",
   "id": "658288cf",
   "metadata": {},
   "source": [
    "# Evaluación Final MOD3 - Mar Pastor\n",
    "---"
   ]
  },
  {
   "cell_type": "markdown",
   "id": "be453e47",
   "metadata": {},
   "source": [
    "### Ejercicio EDA y Vizualización de datos\n",
    "\n",
    "En este ejercicio usaremos datos que consisten en dos BBDD de tipo CSV que contienen datos que describen el comportamiento de los clientes dentro de un programa de lealtad de una aerolínea.\n",
    "\n",
    "Exploraremos los archivos:\n",
    "\n",
    "- `Customer Flight Activity.csv` que contiene información sobre la actividad de vuelo de los clientes\n",
    "- `Customer Loyalty History.csv` que proporciona un perfil detallado de los clientes y detalles sobre su membresía en el programa de lealtad\n",
    "---"
   ]
  },
  {
   "cell_type": "code",
   "execution_count": 196,
   "id": "d2d74f71",
   "metadata": {},
   "outputs": [],
   "source": [
    "# Tratamiento de datos\n",
    "# ------------------------------------------------------------------------------\n",
    "import pandas as pd\n",
    "import numpy as np\n",
    "\n",
    "# Visualización\n",
    "# ------------------------------------------------------------------------------\n",
    "import matplotlib.pyplot as plt\n",
    "import seaborn as sns\n",
    "\n",
    "# Evaluar linealidad de las relaciones entre las variables\n",
    "# y la distribución de las variables\n",
    "# ------------------------------------------------------------------------------\n",
    "#import scipy.stats as stats\n",
    "import scipy.stats as st\n",
    "import scipy.stats as stats\n",
    "from scipy.stats import shapiro, poisson, chisquare, expon, kstest\n",
    "\n",
    "# Configuración\n",
    "# ------------------------------------------------------------------------------\n",
    "pd.set_option('display.max_columns', None) # para poder visualizar todas las columnas de los DataFrames"
   ]
  },
  {
   "cell_type": "code",
   "execution_count": 197,
   "id": "0de4a6ad",
   "metadata": {},
   "outputs": [],
   "source": [
    "# abrimos los DataFrame:\n",
    "\n",
    "df_flight = pd.read_csv('../data/Customer Flight Activity.csv')\n",
    "df_loyalty = pd.read_csv('../data/Customer Loyalty History.csv')"
   ]
  },
  {
   "cell_type": "markdown",
   "id": "d7528186",
   "metadata": {},
   "source": [
    "### Se decide trabajar cada DataFrame de forma individual para la exploracion y limpieza de datos, para luego realizar la unión de ambos\n",
    "\n",
    "## I. Trabajamos con el DataFrame de información sobre la actividad de vuelo de los clientes\n",
    "#### DataFrame: `df_flight`\n",
    "---"
   ]
  },
  {
   "cell_type": "code",
   "execution_count": 198,
   "id": "47a0c665",
   "metadata": {},
   "outputs": [
    {
     "data": {
      "application/vnd.microsoft.datawrangler.viewer.v0+json": {
       "columns": [
        {
         "name": "index",
         "rawType": "int64",
         "type": "integer"
        },
        {
         "name": "Loyalty Number",
         "rawType": "int64",
         "type": "integer"
        },
        {
         "name": "Year",
         "rawType": "int64",
         "type": "integer"
        },
        {
         "name": "Month",
         "rawType": "int64",
         "type": "integer"
        },
        {
         "name": "Flights Booked",
         "rawType": "int64",
         "type": "integer"
        },
        {
         "name": "Flights with Companions",
         "rawType": "int64",
         "type": "integer"
        },
        {
         "name": "Total Flights",
         "rawType": "int64",
         "type": "integer"
        },
        {
         "name": "Distance",
         "rawType": "int64",
         "type": "integer"
        },
        {
         "name": "Points Accumulated",
         "rawType": "float64",
         "type": "float"
        },
        {
         "name": "Points Redeemed",
         "rawType": "int64",
         "type": "integer"
        },
        {
         "name": "Dollar Cost Points Redeemed",
         "rawType": "int64",
         "type": "integer"
        }
       ],
       "ref": "49b27ead-4e3a-40ba-a6c8-2e9b1b9d5c3b",
       "rows": [
        [
         "0",
         "100018",
         "2017",
         "1",
         "3",
         "0",
         "3",
         "1521",
         "152.0",
         "0",
         "0"
        ],
        [
         "1",
         "100102",
         "2017",
         "1",
         "10",
         "4",
         "14",
         "2030",
         "203.0",
         "0",
         "0"
        ]
       ],
       "shape": {
        "columns": 10,
        "rows": 2
       }
      },
      "text/html": [
       "<div>\n",
       "<style scoped>\n",
       "    .dataframe tbody tr th:only-of-type {\n",
       "        vertical-align: middle;\n",
       "    }\n",
       "\n",
       "    .dataframe tbody tr th {\n",
       "        vertical-align: top;\n",
       "    }\n",
       "\n",
       "    .dataframe thead th {\n",
       "        text-align: right;\n",
       "    }\n",
       "</style>\n",
       "<table border=\"1\" class=\"dataframe\">\n",
       "  <thead>\n",
       "    <tr style=\"text-align: right;\">\n",
       "      <th></th>\n",
       "      <th>Loyalty Number</th>\n",
       "      <th>Year</th>\n",
       "      <th>Month</th>\n",
       "      <th>Flights Booked</th>\n",
       "      <th>Flights with Companions</th>\n",
       "      <th>Total Flights</th>\n",
       "      <th>Distance</th>\n",
       "      <th>Points Accumulated</th>\n",
       "      <th>Points Redeemed</th>\n",
       "      <th>Dollar Cost Points Redeemed</th>\n",
       "    </tr>\n",
       "  </thead>\n",
       "  <tbody>\n",
       "    <tr>\n",
       "      <th>0</th>\n",
       "      <td>100018</td>\n",
       "      <td>2017</td>\n",
       "      <td>1</td>\n",
       "      <td>3</td>\n",
       "      <td>0</td>\n",
       "      <td>3</td>\n",
       "      <td>1521</td>\n",
       "      <td>152.0</td>\n",
       "      <td>0</td>\n",
       "      <td>0</td>\n",
       "    </tr>\n",
       "    <tr>\n",
       "      <th>1</th>\n",
       "      <td>100102</td>\n",
       "      <td>2017</td>\n",
       "      <td>1</td>\n",
       "      <td>10</td>\n",
       "      <td>4</td>\n",
       "      <td>14</td>\n",
       "      <td>2030</td>\n",
       "      <td>203.0</td>\n",
       "      <td>0</td>\n",
       "      <td>0</td>\n",
       "    </tr>\n",
       "  </tbody>\n",
       "</table>\n",
       "</div>"
      ],
      "text/plain": [
       "   Loyalty Number  Year  Month  Flights Booked  Flights with Companions  \\\n",
       "0          100018  2017      1               3                        0   \n",
       "1          100102  2017      1              10                        4   \n",
       "\n",
       "   Total Flights  Distance  Points Accumulated  Points Redeemed  \\\n",
       "0              3      1521               152.0                0   \n",
       "1             14      2030               203.0                0   \n",
       "\n",
       "   Dollar Cost Points Redeemed  \n",
       "0                            0  \n",
       "1                            0  "
      ]
     },
     "metadata": {},
     "output_type": "display_data"
    },
    {
     "name": "stdout",
     "output_type": "stream",
     "text": [
      "******************************************************************************************************************************************************\n"
     ]
    },
    {
     "data": {
      "application/vnd.microsoft.datawrangler.viewer.v0+json": {
       "columns": [
        {
         "name": "index",
         "rawType": "int64",
         "type": "integer"
        },
        {
         "name": "Loyalty Number",
         "rawType": "int64",
         "type": "integer"
        },
        {
         "name": "Year",
         "rawType": "int64",
         "type": "integer"
        },
        {
         "name": "Month",
         "rawType": "int64",
         "type": "integer"
        },
        {
         "name": "Flights Booked",
         "rawType": "int64",
         "type": "integer"
        },
        {
         "name": "Flights with Companions",
         "rawType": "int64",
         "type": "integer"
        },
        {
         "name": "Total Flights",
         "rawType": "int64",
         "type": "integer"
        },
        {
         "name": "Distance",
         "rawType": "int64",
         "type": "integer"
        },
        {
         "name": "Points Accumulated",
         "rawType": "float64",
         "type": "float"
        },
        {
         "name": "Points Redeemed",
         "rawType": "int64",
         "type": "integer"
        },
        {
         "name": "Dollar Cost Points Redeemed",
         "rawType": "int64",
         "type": "integer"
        }
       ],
       "ref": "7b478769-3d9a-41e7-8f90-e8dbef510008",
       "rows": [
        [
         "405622",
         "999982",
         "2018",
         "12",
         "0",
         "0",
         "0",
         "0",
         "0.0",
         "0",
         "0"
        ],
        [
         "405623",
         "999986",
         "2018",
         "12",
         "0",
         "0",
         "0",
         "0",
         "0.0",
         "0",
         "0"
        ]
       ],
       "shape": {
        "columns": 10,
        "rows": 2
       }
      },
      "text/html": [
       "<div>\n",
       "<style scoped>\n",
       "    .dataframe tbody tr th:only-of-type {\n",
       "        vertical-align: middle;\n",
       "    }\n",
       "\n",
       "    .dataframe tbody tr th {\n",
       "        vertical-align: top;\n",
       "    }\n",
       "\n",
       "    .dataframe thead th {\n",
       "        text-align: right;\n",
       "    }\n",
       "</style>\n",
       "<table border=\"1\" class=\"dataframe\">\n",
       "  <thead>\n",
       "    <tr style=\"text-align: right;\">\n",
       "      <th></th>\n",
       "      <th>Loyalty Number</th>\n",
       "      <th>Year</th>\n",
       "      <th>Month</th>\n",
       "      <th>Flights Booked</th>\n",
       "      <th>Flights with Companions</th>\n",
       "      <th>Total Flights</th>\n",
       "      <th>Distance</th>\n",
       "      <th>Points Accumulated</th>\n",
       "      <th>Points Redeemed</th>\n",
       "      <th>Dollar Cost Points Redeemed</th>\n",
       "    </tr>\n",
       "  </thead>\n",
       "  <tbody>\n",
       "    <tr>\n",
       "      <th>405622</th>\n",
       "      <td>999982</td>\n",
       "      <td>2018</td>\n",
       "      <td>12</td>\n",
       "      <td>0</td>\n",
       "      <td>0</td>\n",
       "      <td>0</td>\n",
       "      <td>0</td>\n",
       "      <td>0.0</td>\n",
       "      <td>0</td>\n",
       "      <td>0</td>\n",
       "    </tr>\n",
       "    <tr>\n",
       "      <th>405623</th>\n",
       "      <td>999986</td>\n",
       "      <td>2018</td>\n",
       "      <td>12</td>\n",
       "      <td>0</td>\n",
       "      <td>0</td>\n",
       "      <td>0</td>\n",
       "      <td>0</td>\n",
       "      <td>0.0</td>\n",
       "      <td>0</td>\n",
       "      <td>0</td>\n",
       "    </tr>\n",
       "  </tbody>\n",
       "</table>\n",
       "</div>"
      ],
      "text/plain": [
       "        Loyalty Number  Year  Month  Flights Booked  Flights with Companions  \\\n",
       "405622          999982  2018     12               0                        0   \n",
       "405623          999986  2018     12               0                        0   \n",
       "\n",
       "        Total Flights  Distance  Points Accumulated  Points Redeemed  \\\n",
       "405622              0         0                 0.0                0   \n",
       "405623              0         0                 0.0                0   \n",
       "\n",
       "        Dollar Cost Points Redeemed  \n",
       "405622                            0  \n",
       "405623                            0  "
      ]
     },
     "metadata": {},
     "output_type": "display_data"
    },
    {
     "name": "stdout",
     "output_type": "stream",
     "text": [
      "******************************************************************************************************************************************************\n"
     ]
    },
    {
     "data": {
      "application/vnd.microsoft.datawrangler.viewer.v0+json": {
       "columns": [
        {
         "name": "index",
         "rawType": "int64",
         "type": "integer"
        },
        {
         "name": "Loyalty Number",
         "rawType": "int64",
         "type": "integer"
        },
        {
         "name": "Year",
         "rawType": "int64",
         "type": "integer"
        },
        {
         "name": "Month",
         "rawType": "int64",
         "type": "integer"
        },
        {
         "name": "Flights Booked",
         "rawType": "int64",
         "type": "integer"
        },
        {
         "name": "Flights with Companions",
         "rawType": "int64",
         "type": "integer"
        },
        {
         "name": "Total Flights",
         "rawType": "int64",
         "type": "integer"
        },
        {
         "name": "Distance",
         "rawType": "int64",
         "type": "integer"
        },
        {
         "name": "Points Accumulated",
         "rawType": "float64",
         "type": "float"
        },
        {
         "name": "Points Redeemed",
         "rawType": "int64",
         "type": "integer"
        },
        {
         "name": "Dollar Cost Points Redeemed",
         "rawType": "int64",
         "type": "integer"
        }
       ],
       "ref": "3d0b2907-630e-461f-bee8-4a40edc96b19",
       "rows": [
        [
         "377966",
         "428903",
         "2018",
         "11",
         "0",
         "0",
         "0",
         "0",
         "0.0",
         "0",
         "0"
        ],
        [
         "219329",
         "978484",
         "2018",
         "1",
         "0",
         "0",
         "0",
         "0",
         "0.0",
         "0",
         "0"
        ]
       ],
       "shape": {
        "columns": 10,
        "rows": 2
       }
      },
      "text/html": [
       "<div>\n",
       "<style scoped>\n",
       "    .dataframe tbody tr th:only-of-type {\n",
       "        vertical-align: middle;\n",
       "    }\n",
       "\n",
       "    .dataframe tbody tr th {\n",
       "        vertical-align: top;\n",
       "    }\n",
       "\n",
       "    .dataframe thead th {\n",
       "        text-align: right;\n",
       "    }\n",
       "</style>\n",
       "<table border=\"1\" class=\"dataframe\">\n",
       "  <thead>\n",
       "    <tr style=\"text-align: right;\">\n",
       "      <th></th>\n",
       "      <th>Loyalty Number</th>\n",
       "      <th>Year</th>\n",
       "      <th>Month</th>\n",
       "      <th>Flights Booked</th>\n",
       "      <th>Flights with Companions</th>\n",
       "      <th>Total Flights</th>\n",
       "      <th>Distance</th>\n",
       "      <th>Points Accumulated</th>\n",
       "      <th>Points Redeemed</th>\n",
       "      <th>Dollar Cost Points Redeemed</th>\n",
       "    </tr>\n",
       "  </thead>\n",
       "  <tbody>\n",
       "    <tr>\n",
       "      <th>377966</th>\n",
       "      <td>428903</td>\n",
       "      <td>2018</td>\n",
       "      <td>11</td>\n",
       "      <td>0</td>\n",
       "      <td>0</td>\n",
       "      <td>0</td>\n",
       "      <td>0</td>\n",
       "      <td>0.0</td>\n",
       "      <td>0</td>\n",
       "      <td>0</td>\n",
       "    </tr>\n",
       "    <tr>\n",
       "      <th>219329</th>\n",
       "      <td>978484</td>\n",
       "      <td>2018</td>\n",
       "      <td>1</td>\n",
       "      <td>0</td>\n",
       "      <td>0</td>\n",
       "      <td>0</td>\n",
       "      <td>0</td>\n",
       "      <td>0.0</td>\n",
       "      <td>0</td>\n",
       "      <td>0</td>\n",
       "    </tr>\n",
       "  </tbody>\n",
       "</table>\n",
       "</div>"
      ],
      "text/plain": [
       "        Loyalty Number  Year  Month  Flights Booked  Flights with Companions  \\\n",
       "377966          428903  2018     11               0                        0   \n",
       "219329          978484  2018      1               0                        0   \n",
       "\n",
       "        Total Flights  Distance  Points Accumulated  Points Redeemed  \\\n",
       "377966              0         0                 0.0                0   \n",
       "219329              0         0                 0.0                0   \n",
       "\n",
       "        Dollar Cost Points Redeemed  \n",
       "377966                            0  \n",
       "219329                            0  "
      ]
     },
     "metadata": {},
     "output_type": "display_data"
    }
   ],
   "source": [
    "# 1. Exploramos una visión general del DataFrame:\n",
    "\n",
    "display(df_flight.head(2)) # revisamos los primeros datos\n",
    "print('***' * 50)\n",
    "display(df_flight.tail(2)) # revisamos los últimos datos\n",
    "print('***' * 50)\n",
    "display(df_flight.sample(2)) # revisamos datos aleatorios"
   ]
  },
  {
   "cell_type": "code",
   "execution_count": 199,
   "id": "24cc19c5",
   "metadata": {},
   "outputs": [
    {
     "name": "stdout",
     "output_type": "stream",
     "text": [
      "El número de filas es 405624, el número de columnas es 10\n"
     ]
    }
   ],
   "source": [
    "# exploramos el número de filas y columnas:\n",
    " \n",
    "print(f\"El número de filas es {df_flight.shape[0]}, el número de columnas es {df_flight.shape[1]}\")"
   ]
  },
  {
   "cell_type": "code",
   "execution_count": 200,
   "id": "884caefd",
   "metadata": {},
   "outputs": [
    {
     "data": {
      "text/plain": [
       "Index(['Loyalty Number', 'Year', 'Month', 'Flights Booked',\n",
       "       'Flights with Companions', 'Total Flights', 'Distance',\n",
       "       'Points Accumulated', 'Points Redeemed', 'Dollar Cost Points Redeemed'],\n",
       "      dtype='object')"
      ]
     },
     "execution_count": 200,
     "metadata": {},
     "output_type": "execute_result"
    }
   ],
   "source": [
    "# exploramos los nombres de las columnas:\n",
    "\n",
    "df_flight.columns\n",
    "\n",
    "# vemos que hay un patrón consistente en el nombre de las columnas, por lo que no hacemos modificaciones"
   ]
  },
  {
   "cell_type": "code",
   "execution_count": 201,
   "id": "eebef8f1",
   "metadata": {},
   "outputs": [
    {
     "name": "stdout",
     "output_type": "stream",
     "text": [
      "<class 'pandas.core.frame.DataFrame'>\n",
      "RangeIndex: 405624 entries, 0 to 405623\n",
      "Data columns (total 10 columns):\n",
      " #   Column                       Non-Null Count   Dtype  \n",
      "---  ------                       --------------   -----  \n",
      " 0   Loyalty Number               405624 non-null  int64  \n",
      " 1   Year                         405624 non-null  int64  \n",
      " 2   Month                        405624 non-null  int64  \n",
      " 3   Flights Booked               405624 non-null  int64  \n",
      " 4   Flights with Companions      405624 non-null  int64  \n",
      " 5   Total Flights                405624 non-null  int64  \n",
      " 6   Distance                     405624 non-null  int64  \n",
      " 7   Points Accumulated           405624 non-null  float64\n",
      " 8   Points Redeemed              405624 non-null  int64  \n",
      " 9   Dollar Cost Points Redeemed  405624 non-null  int64  \n",
      "dtypes: float64(1), int64(9)\n",
      "memory usage: 30.9 MB\n"
     ]
    }
   ],
   "source": [
    "# 2. Exploramos la información del DataFrame:\n",
    "\n",
    "df_flight.info()"
   ]
  },
  {
   "cell_type": "markdown",
   "id": "ff074525",
   "metadata": {},
   "source": [
    "### Primeras conclusiones de la exploración de datos del DataFrame:\n",
    "\n",
    "- No existen datos nulos, por lo que no haremos ninguna modificación\n",
    "- Las columnas tienen nombres unificados, por lo que no haremos cambios\n",
    "- La columna 'Points Accumulated' tiene un tipo de dato 'float' y luego de la exploración inicial podríamos unificar los datos y cambiarlo a 'entero'\n",
    "- La columna 'Year' la convertimos en object para tratarla como una columna categórica"
   ]
  },
  {
   "cell_type": "code",
   "execution_count": 202,
   "id": "a72ab168",
   "metadata": {},
   "outputs": [
    {
     "name": "stdout",
     "output_type": "stream",
     "text": [
      "<class 'pandas.core.frame.DataFrame'>\n",
      "RangeIndex: 405624 entries, 0 to 405623\n",
      "Data columns (total 10 columns):\n",
      " #   Column                       Non-Null Count   Dtype\n",
      "---  ------                       --------------   -----\n",
      " 0   Loyalty Number               405624 non-null  int64\n",
      " 1   Year                         405624 non-null  int64\n",
      " 2   Month                        405624 non-null  int64\n",
      " 3   Flights Booked               405624 non-null  int64\n",
      " 4   Flights with Companions      405624 non-null  int64\n",
      " 5   Total Flights                405624 non-null  int64\n",
      " 6   Distance                     405624 non-null  int64\n",
      " 7   Points Accumulated           405624 non-null  int32\n",
      " 8   Points Redeemed              405624 non-null  int64\n",
      " 9   Dollar Cost Points Redeemed  405624 non-null  int64\n",
      "dtypes: int32(1), int64(9)\n",
      "memory usage: 29.4 MB\n"
     ]
    }
   ],
   "source": [
    "# convertir dato 'float' a 'int' en la columna 'Points Accumulated'\n",
    "\n",
    "df_flight['Points Accumulated'] = df_flight['Points Accumulated'].astype(int)\n",
    "\n",
    "df_flight.info() # para comprobar el cambio"
   ]
  },
  {
   "cell_type": "code",
   "execution_count": 203,
   "id": "dbfaf473",
   "metadata": {},
   "outputs": [
    {
     "name": "stdout",
     "output_type": "stream",
     "text": [
      "<class 'pandas.core.frame.DataFrame'>\n",
      "RangeIndex: 405624 entries, 0 to 405623\n",
      "Data columns (total 10 columns):\n",
      " #   Column                       Non-Null Count   Dtype \n",
      "---  ------                       --------------   ----- \n",
      " 0   Loyalty Number               405624 non-null  int64 \n",
      " 1   Year                         405624 non-null  object\n",
      " 2   Month                        405624 non-null  int64 \n",
      " 3   Flights Booked               405624 non-null  int64 \n",
      " 4   Flights with Companions      405624 non-null  int64 \n",
      " 5   Total Flights                405624 non-null  int64 \n",
      " 6   Distance                     405624 non-null  int64 \n",
      " 7   Points Accumulated           405624 non-null  int32 \n",
      " 8   Points Redeemed              405624 non-null  int64 \n",
      " 9   Dollar Cost Points Redeemed  405624 non-null  int64 \n",
      "dtypes: int32(1), int64(8), object(1)\n",
      "memory usage: 29.4+ MB\n"
     ]
    }
   ],
   "source": [
    "# convertir dato 'int' a 'object' en la columna 'Year'\n",
    "\n",
    "df_flight['Year'] = df_flight['Year'].astype('object')\n",
    "\n",
    "df_flight.info() # para verificar el cambio"
   ]
  },
  {
   "cell_type": "code",
   "execution_count": 204,
   "id": "6c0da4af",
   "metadata": {},
   "outputs": [
    {
     "name": "stdout",
     "output_type": "stream",
     "text": [
      "<class 'pandas.core.frame.DataFrame'>\n",
      "RangeIndex: 405624 entries, 0 to 405623\n",
      "Data columns (total 10 columns):\n",
      " #   Column                       Non-Null Count   Dtype \n",
      "---  ------                       --------------   ----- \n",
      " 0   Loyalty Number               405624 non-null  int64 \n",
      " 1   Year                         405624 non-null  object\n",
      " 2   Month                        405624 non-null  object\n",
      " 3   Flights Booked               405624 non-null  int64 \n",
      " 4   Flights with Companions      405624 non-null  int64 \n",
      " 5   Total Flights                405624 non-null  int64 \n",
      " 6   Distance                     405624 non-null  int64 \n",
      " 7   Points Accumulated           405624 non-null  int32 \n",
      " 8   Points Redeemed              405624 non-null  int64 \n",
      " 9   Dollar Cost Points Redeemed  405624 non-null  int64 \n",
      "dtypes: int32(1), int64(7), object(2)\n",
      "memory usage: 29.4+ MB\n"
     ]
    }
   ],
   "source": [
    "# convertir dato 'int' a 'object' en la columna 'Month'\n",
    "\n",
    "df_flight['Month'] = df_flight['Month'].astype('str')\n",
    "\n",
    "df_flight.info() # para verificar el cambio"
   ]
  },
  {
   "cell_type": "code",
   "execution_count": 205,
   "id": "a0116208",
   "metadata": {},
   "outputs": [
    {
     "data": {
      "text/plain": [
       "array(['Enero', 'Septiembre', 'Febrero', 'Marzo', 'Noviembre', 'Abril',\n",
       "       'Mayo', 'Julio', 'Junio', 'Agosto', 'Octubre', 'Diciembre'],\n",
       "      dtype=object)"
      ]
     },
     "execution_count": 205,
     "metadata": {},
     "output_type": "execute_result"
    }
   ],
   "source": [
    "# convertimos los numeros de los meses por los nombre de los meses para mejor comprensión\n",
    "# usamos una diccionario-mascara que asigna a cada numero un nombre de mes, que luego aplicamos con un replace\n",
    "\n",
    "mapa_mes = {'1': 'Enero', '2': 'Febrero', '3': 'Marzo', '4': 'Abril', '5': 'Mayo', '6': 'Junio', \n",
    "            '7': 'Julio', '8': 'Agosto', '9': 'Septiembre', '10': 'Octubre', '11': 'Noviembre', '12': 'Diciembre'}\n",
    "\n",
    "df_flight['Month'] = df_flight['Month'].map(mapa_mes) # usamos 'map' porque verificamos que no tenemos valores nulos en esta columna\n",
    "df_flight['Month'].unique() # para verificar los cambios"
   ]
  },
  {
   "cell_type": "code",
   "execution_count": 206,
   "id": "57043c3c",
   "metadata": {},
   "outputs": [
    {
     "data": {
      "application/vnd.microsoft.datawrangler.viewer.v0+json": {
       "columns": [
        {
         "name": "index",
         "rawType": "object",
         "type": "string"
        },
        {
         "name": "count",
         "rawType": "object",
         "type": "unknown"
        },
        {
         "name": "unique",
         "rawType": "object",
         "type": "unknown"
        },
        {
         "name": "top",
         "rawType": "object",
         "type": "unknown"
        },
        {
         "name": "freq",
         "rawType": "object",
         "type": "unknown"
        }
       ],
       "ref": "f30a5e1b-23ce-4067-8860-5b6721d2d38f",
       "rows": [
        [
         "Year",
         "405624",
         "2",
         "2017",
         "202812"
        ],
        [
         "Month",
         "405624",
         "12",
         "Enero",
         "33802"
        ]
       ],
       "shape": {
        "columns": 4,
        "rows": 2
       }
      },
      "text/html": [
       "<div>\n",
       "<style scoped>\n",
       "    .dataframe tbody tr th:only-of-type {\n",
       "        vertical-align: middle;\n",
       "    }\n",
       "\n",
       "    .dataframe tbody tr th {\n",
       "        vertical-align: top;\n",
       "    }\n",
       "\n",
       "    .dataframe thead th {\n",
       "        text-align: right;\n",
       "    }\n",
       "</style>\n",
       "<table border=\"1\" class=\"dataframe\">\n",
       "  <thead>\n",
       "    <tr style=\"text-align: right;\">\n",
       "      <th></th>\n",
       "      <th>count</th>\n",
       "      <th>unique</th>\n",
       "      <th>top</th>\n",
       "      <th>freq</th>\n",
       "    </tr>\n",
       "  </thead>\n",
       "  <tbody>\n",
       "    <tr>\n",
       "      <th>Year</th>\n",
       "      <td>405624</td>\n",
       "      <td>2</td>\n",
       "      <td>2017</td>\n",
       "      <td>202812</td>\n",
       "    </tr>\n",
       "    <tr>\n",
       "      <th>Month</th>\n",
       "      <td>405624</td>\n",
       "      <td>12</td>\n",
       "      <td>Enero</td>\n",
       "      <td>33802</td>\n",
       "    </tr>\n",
       "  </tbody>\n",
       "</table>\n",
       "</div>"
      ],
      "text/plain": [
       "        count unique    top    freq\n",
       "Year   405624      2   2017  202812\n",
       "Month  405624     12  Enero   33802"
      ]
     },
     "execution_count": 206,
     "metadata": {},
     "output_type": "execute_result"
    }
   ],
   "source": [
    "# 3. Exploramos los datos de las columnas categóricas usando 'describe()'\n",
    "\n",
    "df_flight.describe(include='O').T"
   ]
  },
  {
   "cell_type": "code",
   "execution_count": 207,
   "id": "f6af5a49",
   "metadata": {},
   "outputs": [
    {
     "data": {
      "application/vnd.microsoft.datawrangler.viewer.v0+json": {
       "columns": [
        {
         "name": "index",
         "rawType": "object",
         "type": "string"
        },
        {
         "name": "count",
         "rawType": "float64",
         "type": "float"
        },
        {
         "name": "mean",
         "rawType": "float64",
         "type": "float"
        },
        {
         "name": "std",
         "rawType": "float64",
         "type": "float"
        },
        {
         "name": "min",
         "rawType": "float64",
         "type": "float"
        },
        {
         "name": "25%",
         "rawType": "float64",
         "type": "float"
        },
        {
         "name": "50%",
         "rawType": "float64",
         "type": "float"
        },
        {
         "name": "75%",
         "rawType": "float64",
         "type": "float"
        },
        {
         "name": "max",
         "rawType": "float64",
         "type": "float"
        }
       ],
       "ref": "bcee9239-64de-45b9-8a68-764bb2c3427f",
       "rows": [
        [
         "Loyalty Number",
         "405624.0",
         "550037.8730844329",
         "258935.2869685325",
         "100018.0",
         "326961.0",
         "550834.0",
         "772194.0",
         "999986.0"
        ],
        [
         "Flights Booked",
         "405624.0",
         "4.115052363765457",
         "5.225518362156165",
         "0.0",
         "0.0",
         "1.0",
         "8.0",
         "21.0"
        ],
        [
         "Flights with Companions",
         "405624.0",
         "1.031805317239611",
         "2.0768693438648906",
         "0.0",
         "0.0",
         "0.0",
         "1.0",
         "11.0"
        ],
        [
         "Total Flights",
         "405624.0",
         "5.146857681005069",
         "6.5212274242571455",
         "0.0",
         "0.0",
         "1.0",
         "10.0",
         "32.0"
        ],
        [
         "Distance",
         "405624.0",
         "1208.880058872256",
         "1433.1553197944165",
         "0.0",
         "0.0",
         "488.0",
         "2336.0",
         "6293.0"
        ],
        [
         "Points Accumulated",
         "405624.0",
         "123.66700195254718",
         "146.57908278834532",
         "0.0",
         "0.0",
         "50.0",
         "239.0",
         "676.0"
        ],
        [
         "Points Redeemed",
         "405624.0",
         "30.696871979961738",
         "125.4860493182356",
         "0.0",
         "0.0",
         "0.0",
         "0.0",
         "876.0"
        ],
        [
         "Dollar Cost Points Redeemed",
         "405624.0",
         "2.484502889375382",
         "10.150037777718726",
         "0.0",
         "0.0",
         "0.0",
         "0.0",
         "71.0"
        ]
       ],
       "shape": {
        "columns": 8,
        "rows": 8
       }
      },
      "text/html": [
       "<div>\n",
       "<style scoped>\n",
       "    .dataframe tbody tr th:only-of-type {\n",
       "        vertical-align: middle;\n",
       "    }\n",
       "\n",
       "    .dataframe tbody tr th {\n",
       "        vertical-align: top;\n",
       "    }\n",
       "\n",
       "    .dataframe thead th {\n",
       "        text-align: right;\n",
       "    }\n",
       "</style>\n",
       "<table border=\"1\" class=\"dataframe\">\n",
       "  <thead>\n",
       "    <tr style=\"text-align: right;\">\n",
       "      <th></th>\n",
       "      <th>count</th>\n",
       "      <th>mean</th>\n",
       "      <th>std</th>\n",
       "      <th>min</th>\n",
       "      <th>25%</th>\n",
       "      <th>50%</th>\n",
       "      <th>75%</th>\n",
       "      <th>max</th>\n",
       "    </tr>\n",
       "  </thead>\n",
       "  <tbody>\n",
       "    <tr>\n",
       "      <th>Loyalty Number</th>\n",
       "      <td>405624.0</td>\n",
       "      <td>550037.873084</td>\n",
       "      <td>258935.286969</td>\n",
       "      <td>100018.0</td>\n",
       "      <td>326961.0</td>\n",
       "      <td>550834.0</td>\n",
       "      <td>772194.0</td>\n",
       "      <td>999986.0</td>\n",
       "    </tr>\n",
       "    <tr>\n",
       "      <th>Flights Booked</th>\n",
       "      <td>405624.0</td>\n",
       "      <td>4.115052</td>\n",
       "      <td>5.225518</td>\n",
       "      <td>0.0</td>\n",
       "      <td>0.0</td>\n",
       "      <td>1.0</td>\n",
       "      <td>8.0</td>\n",
       "      <td>21.0</td>\n",
       "    </tr>\n",
       "    <tr>\n",
       "      <th>Flights with Companions</th>\n",
       "      <td>405624.0</td>\n",
       "      <td>1.031805</td>\n",
       "      <td>2.076869</td>\n",
       "      <td>0.0</td>\n",
       "      <td>0.0</td>\n",
       "      <td>0.0</td>\n",
       "      <td>1.0</td>\n",
       "      <td>11.0</td>\n",
       "    </tr>\n",
       "    <tr>\n",
       "      <th>Total Flights</th>\n",
       "      <td>405624.0</td>\n",
       "      <td>5.146858</td>\n",
       "      <td>6.521227</td>\n",
       "      <td>0.0</td>\n",
       "      <td>0.0</td>\n",
       "      <td>1.0</td>\n",
       "      <td>10.0</td>\n",
       "      <td>32.0</td>\n",
       "    </tr>\n",
       "    <tr>\n",
       "      <th>Distance</th>\n",
       "      <td>405624.0</td>\n",
       "      <td>1208.880059</td>\n",
       "      <td>1433.155320</td>\n",
       "      <td>0.0</td>\n",
       "      <td>0.0</td>\n",
       "      <td>488.0</td>\n",
       "      <td>2336.0</td>\n",
       "      <td>6293.0</td>\n",
       "    </tr>\n",
       "    <tr>\n",
       "      <th>Points Accumulated</th>\n",
       "      <td>405624.0</td>\n",
       "      <td>123.667002</td>\n",
       "      <td>146.579083</td>\n",
       "      <td>0.0</td>\n",
       "      <td>0.0</td>\n",
       "      <td>50.0</td>\n",
       "      <td>239.0</td>\n",
       "      <td>676.0</td>\n",
       "    </tr>\n",
       "    <tr>\n",
       "      <th>Points Redeemed</th>\n",
       "      <td>405624.0</td>\n",
       "      <td>30.696872</td>\n",
       "      <td>125.486049</td>\n",
       "      <td>0.0</td>\n",
       "      <td>0.0</td>\n",
       "      <td>0.0</td>\n",
       "      <td>0.0</td>\n",
       "      <td>876.0</td>\n",
       "    </tr>\n",
       "    <tr>\n",
       "      <th>Dollar Cost Points Redeemed</th>\n",
       "      <td>405624.0</td>\n",
       "      <td>2.484503</td>\n",
       "      <td>10.150038</td>\n",
       "      <td>0.0</td>\n",
       "      <td>0.0</td>\n",
       "      <td>0.0</td>\n",
       "      <td>0.0</td>\n",
       "      <td>71.0</td>\n",
       "    </tr>\n",
       "  </tbody>\n",
       "</table>\n",
       "</div>"
      ],
      "text/plain": [
       "                                count           mean            std       min  \\\n",
       "Loyalty Number               405624.0  550037.873084  258935.286969  100018.0   \n",
       "Flights Booked               405624.0       4.115052       5.225518       0.0   \n",
       "Flights with Companions      405624.0       1.031805       2.076869       0.0   \n",
       "Total Flights                405624.0       5.146858       6.521227       0.0   \n",
       "Distance                     405624.0    1208.880059    1433.155320       0.0   \n",
       "Points Accumulated           405624.0     123.667002     146.579083       0.0   \n",
       "Points Redeemed              405624.0      30.696872     125.486049       0.0   \n",
       "Dollar Cost Points Redeemed  405624.0       2.484503      10.150038       0.0   \n",
       "\n",
       "                                  25%       50%       75%       max  \n",
       "Loyalty Number               326961.0  550834.0  772194.0  999986.0  \n",
       "Flights Booked                    0.0       1.0       8.0      21.0  \n",
       "Flights with Companions           0.0       0.0       1.0      11.0  \n",
       "Total Flights                     0.0       1.0      10.0      32.0  \n",
       "Distance                          0.0     488.0    2336.0    6293.0  \n",
       "Points Accumulated                0.0      50.0     239.0     676.0  \n",
       "Points Redeemed                   0.0       0.0       0.0     876.0  \n",
       "Dollar Cost Points Redeemed       0.0       0.0       0.0      71.0  "
      ]
     },
     "execution_count": 207,
     "metadata": {},
     "output_type": "execute_result"
    }
   ],
   "source": [
    "# exploramos los datos de las columnas numéricas usando describe()\n",
    "\n",
    "df_flight.describe().T\n",
    "\n",
    "# concluímos que las media y la mediana no están cercanas en muchos de los datos de algunas columnas, \n",
    "# y en algunas columnas la dispersión de los datos es alta"
   ]
  },
  {
   "cell_type": "code",
   "execution_count": 208,
   "id": "73491646",
   "metadata": {},
   "outputs": [
    {
     "data": {
      "text/plain": [
       "1864"
      ]
     },
     "execution_count": 208,
     "metadata": {},
     "output_type": "execute_result"
    }
   ],
   "source": [
    "# 4. Exploramos el DataFrame para detectar registros duplicados\n",
    "\n",
    "df_flight.duplicated().sum() \n",
    "# se registran 1864 entradas de datos duplicadas"
   ]
  },
  {
   "cell_type": "code",
   "execution_count": 209,
   "id": "d640a3fc",
   "metadata": {},
   "outputs": [
    {
     "data": {
      "application/vnd.microsoft.datawrangler.viewer.v0+json": {
       "columns": [
        {
         "name": "index",
         "rawType": "int64",
         "type": "integer"
        },
        {
         "name": "Loyalty Number",
         "rawType": "int64",
         "type": "integer"
        },
        {
         "name": "Year",
         "rawType": "object",
         "type": "unknown"
        },
        {
         "name": "Month",
         "rawType": "object",
         "type": "string"
        },
        {
         "name": "Flights Booked",
         "rawType": "int64",
         "type": "integer"
        },
        {
         "name": "Flights with Companions",
         "rawType": "int64",
         "type": "integer"
        },
        {
         "name": "Total Flights",
         "rawType": "int64",
         "type": "integer"
        },
        {
         "name": "Distance",
         "rawType": "int64",
         "type": "integer"
        },
        {
         "name": "Points Accumulated",
         "rawType": "int32",
         "type": "integer"
        },
        {
         "name": "Points Redeemed",
         "rawType": "int64",
         "type": "integer"
        },
        {
         "name": "Dollar Cost Points Redeemed",
         "rawType": "int64",
         "type": "integer"
        }
       ],
       "ref": "dd029090-d441-4b90-bae3-efbde6b60d4b",
       "rows": [
        [
         "41",
         "101902",
         "2017",
         "Enero",
         "0",
         "0",
         "0",
         "0",
         "0",
         "0",
         "0"
        ],
        [
         "33843",
         "101902",
         "2017",
         "Marzo",
         "0",
         "0",
         "0",
         "0",
         "0",
         "0",
         "0"
        ],
        [
         "16942",
         "101902",
         "2017",
         "Febrero",
         "0",
         "0",
         "0",
         "0",
         "0",
         "0",
         "0"
        ],
        [
         "185952",
         "101902",
         "2017",
         "Diciembre",
         "0",
         "0",
         "0",
         "0",
         "0",
         "0",
         "0"
        ],
        [
         "185953",
         "101902",
         "2017",
         "Diciembre",
         "0",
         "0",
         "0",
         "0",
         "0",
         "0",
         "0"
        ],
        [
         "101447",
         "101902",
         "2017",
         "Julio",
         "0",
         "0",
         "0",
         "0",
         "0",
         "0",
         "0"
        ],
        [
         "16943",
         "101902",
         "2017",
         "Febrero",
         "0",
         "0",
         "0",
         "0",
         "0",
         "0",
         "0"
        ],
        [
         "33844",
         "101902",
         "2017",
         "Marzo",
         "0",
         "0",
         "0",
         "0",
         "0",
         "0",
         "0"
        ],
        [
         "42",
         "101902",
         "2017",
         "Enero",
         "0",
         "0",
         "0",
         "0",
         "0",
         "0",
         "0"
        ],
        [
         "101448",
         "101902",
         "2017",
         "Julio",
         "0",
         "0",
         "0",
         "0",
         "0",
         "0",
         "0"
        ],
        [
         "287431",
         "106001",
         "2018",
         "Junio",
         "0",
         "0",
         "0",
         "0",
         "0",
         "0",
         "0"
        ],
        [
         "287432",
         "106001",
         "2018",
         "Junio",
         "0",
         "0",
         "0",
         "0",
         "0",
         "0",
         "0"
        ],
        [
         "1683",
         "106509",
         "2018",
         "Mayo",
         "0",
         "0",
         "0",
         "0",
         "0",
         "0",
         "0"
        ],
        [
         "1651",
         "106509",
         "2018",
         "Enero",
         "0",
         "0",
         "0",
         "0",
         "0",
         "0",
         "0"
        ],
        [
         "1654",
         "106509",
         "2018",
         "Febrero",
         "0",
         "0",
         "0",
         "0",
         "0",
         "0",
         "0"
        ],
        [
         "1664",
         "106509",
         "2018",
         "Febrero",
         "0",
         "0",
         "0",
         "0",
         "0",
         "0",
         "0"
        ],
        [
         "1667",
         "106509",
         "2018",
         "Marzo",
         "0",
         "0",
         "0",
         "0",
         "0",
         "0",
         "0"
        ],
        [
         "1671",
         "106509",
         "2018",
         "Marzo",
         "0",
         "0",
         "0",
         "0",
         "0",
         "0",
         "0"
        ],
        [
         "1677",
         "106509",
         "2018",
         "Abril",
         "0",
         "0",
         "0",
         "0",
         "0",
         "0",
         "0"
        ],
        [
         "1682",
         "106509",
         "2018",
         "Abril",
         "0",
         "0",
         "0",
         "0",
         "0",
         "0",
         "0"
        ],
        [
         "1690",
         "106509",
         "2018",
         "Mayo",
         "0",
         "0",
         "0",
         "0",
         "0",
         "0",
         "0"
        ],
        [
         "1924",
         "106509",
         "2018",
         "Septiembre",
         "0",
         "0",
         "0",
         "0",
         "0",
         "0",
         "0"
        ],
        [
         "1791",
         "106509",
         "2018",
         "Junio",
         "0",
         "0",
         "0",
         "0",
         "0",
         "0",
         "0"
        ],
        [
         "1838",
         "106509",
         "2018",
         "Julio",
         "0",
         "0",
         "0",
         "0",
         "0",
         "0",
         "0"
        ],
        [
         "1888",
         "106509",
         "2018",
         "Julio",
         "0",
         "0",
         "0",
         "0",
         "0",
         "0",
         "0"
        ],
        [
         "1898",
         "106509",
         "2018",
         "Septiembre",
         "0",
         "0",
         "0",
         "0",
         "0",
         "0",
         "0"
        ],
        [
         "1643",
         "106509",
         "2018",
         "Enero",
         "0",
         "0",
         "0",
         "0",
         "0",
         "0",
         "0"
        ],
        [
         "1945",
         "106509",
         "2018",
         "Noviembre",
         "0",
         "0",
         "0",
         "0",
         "0",
         "0",
         "0"
        ],
        [
         "1950",
         "106509",
         "2018",
         "Noviembre",
         "0",
         "0",
         "0",
         "0",
         "0",
         "0",
         "0"
        ],
        [
         "1965",
         "106509",
         "2018",
         "Diciembre",
         "0",
         "0",
         "0",
         "0",
         "0",
         "0",
         "0"
        ],
        [
         "1969",
         "106509",
         "2018",
         "Diciembre",
         "0",
         "0",
         "0",
         "0",
         "0",
         "0",
         "0"
        ],
        [
         "1778",
         "106509",
         "2018",
         "Junio",
         "0",
         "0",
         "0",
         "0",
         "0",
         "0",
         "0"
        ],
        [
         "1616",
         "106509",
         "2017",
         "Diciembre",
         "0",
         "0",
         "0",
         "0",
         "0",
         "0",
         "0"
        ],
        [
         "1639",
         "106509",
         "2017",
         "Diciembre",
         "0",
         "0",
         "0",
         "0",
         "0",
         "0",
         "0"
        ],
        [
         "1607",
         "106509",
         "2017",
         "Noviembre",
         "0",
         "0",
         "0",
         "0",
         "0",
         "0",
         "0"
        ],
        [
         "1334",
         "106509",
         "2017",
         "Enero",
         "0",
         "0",
         "0",
         "0",
         "0",
         "0",
         "0"
        ],
        [
         "1336",
         "106509",
         "2017",
         "Enero",
         "0",
         "0",
         "0",
         "0",
         "0",
         "0",
         "0"
        ],
        [
         "1339",
         "106509",
         "2017",
         "Febrero",
         "0",
         "0",
         "0",
         "0",
         "0",
         "0",
         "0"
        ],
        [
         "1348",
         "106509",
         "2017",
         "Febrero",
         "0",
         "0",
         "0",
         "0",
         "0",
         "0",
         "0"
        ],
        [
         "1379",
         "106509",
         "2017",
         "Marzo",
         "0",
         "0",
         "0",
         "0",
         "0",
         "0",
         "0"
        ],
        [
         "1609",
         "106509",
         "2017",
         "Noviembre",
         "0",
         "0",
         "0",
         "0",
         "0",
         "0",
         "0"
        ],
        [
         "1451",
         "106509",
         "2017",
         "Abril",
         "0",
         "0",
         "0",
         "0",
         "0",
         "0",
         "0"
        ],
        [
         "1458",
         "106509",
         "2017",
         "Abril",
         "0",
         "0",
         "0",
         "0",
         "0",
         "0",
         "0"
        ],
        [
         "1474",
         "106509",
         "2017",
         "Mayo",
         "0",
         "0",
         "0",
         "0",
         "0",
         "0",
         "0"
        ],
        [
         "1491",
         "106509",
         "2017",
         "Mayo",
         "0",
         "0",
         "0",
         "0",
         "0",
         "0",
         "0"
        ],
        [
         "1420",
         "106509",
         "2017",
         "Marzo",
         "0",
         "0",
         "0",
         "0",
         "0",
         "0",
         "0"
        ],
        [
         "1584",
         "106509",
         "2017",
         "Septiembre",
         "0",
         "0",
         "0",
         "0",
         "0",
         "0",
         "0"
        ],
        [
         "1521",
         "106509",
         "2017",
         "Junio",
         "0",
         "0",
         "0",
         "0",
         "0",
         "0",
         "0"
        ],
        [
         "1523",
         "106509",
         "2017",
         "Julio",
         "0",
         "0",
         "0",
         "0",
         "0",
         "0",
         "0"
        ],
        [
         "1528",
         "106509",
         "2017",
         "Julio",
         "0",
         "0",
         "0",
         "0",
         "0",
         "0",
         "0"
        ]
       ],
       "shape": {
        "columns": 10,
        "rows": 3712
       }
      },
      "text/html": [
       "<div>\n",
       "<style scoped>\n",
       "    .dataframe tbody tr th:only-of-type {\n",
       "        vertical-align: middle;\n",
       "    }\n",
       "\n",
       "    .dataframe tbody tr th {\n",
       "        vertical-align: top;\n",
       "    }\n",
       "\n",
       "    .dataframe thead th {\n",
       "        text-align: right;\n",
       "    }\n",
       "</style>\n",
       "<table border=\"1\" class=\"dataframe\">\n",
       "  <thead>\n",
       "    <tr style=\"text-align: right;\">\n",
       "      <th></th>\n",
       "      <th>Loyalty Number</th>\n",
       "      <th>Year</th>\n",
       "      <th>Month</th>\n",
       "      <th>Flights Booked</th>\n",
       "      <th>Flights with Companions</th>\n",
       "      <th>Total Flights</th>\n",
       "      <th>Distance</th>\n",
       "      <th>Points Accumulated</th>\n",
       "      <th>Points Redeemed</th>\n",
       "      <th>Dollar Cost Points Redeemed</th>\n",
       "    </tr>\n",
       "  </thead>\n",
       "  <tbody>\n",
       "    <tr>\n",
       "      <th>41</th>\n",
       "      <td>101902</td>\n",
       "      <td>2017</td>\n",
       "      <td>Enero</td>\n",
       "      <td>0</td>\n",
       "      <td>0</td>\n",
       "      <td>0</td>\n",
       "      <td>0</td>\n",
       "      <td>0</td>\n",
       "      <td>0</td>\n",
       "      <td>0</td>\n",
       "    </tr>\n",
       "    <tr>\n",
       "      <th>33843</th>\n",
       "      <td>101902</td>\n",
       "      <td>2017</td>\n",
       "      <td>Marzo</td>\n",
       "      <td>0</td>\n",
       "      <td>0</td>\n",
       "      <td>0</td>\n",
       "      <td>0</td>\n",
       "      <td>0</td>\n",
       "      <td>0</td>\n",
       "      <td>0</td>\n",
       "    </tr>\n",
       "    <tr>\n",
       "      <th>16942</th>\n",
       "      <td>101902</td>\n",
       "      <td>2017</td>\n",
       "      <td>Febrero</td>\n",
       "      <td>0</td>\n",
       "      <td>0</td>\n",
       "      <td>0</td>\n",
       "      <td>0</td>\n",
       "      <td>0</td>\n",
       "      <td>0</td>\n",
       "      <td>0</td>\n",
       "    </tr>\n",
       "    <tr>\n",
       "      <th>185952</th>\n",
       "      <td>101902</td>\n",
       "      <td>2017</td>\n",
       "      <td>Diciembre</td>\n",
       "      <td>0</td>\n",
       "      <td>0</td>\n",
       "      <td>0</td>\n",
       "      <td>0</td>\n",
       "      <td>0</td>\n",
       "      <td>0</td>\n",
       "      <td>0</td>\n",
       "    </tr>\n",
       "    <tr>\n",
       "      <th>185953</th>\n",
       "      <td>101902</td>\n",
       "      <td>2017</td>\n",
       "      <td>Diciembre</td>\n",
       "      <td>0</td>\n",
       "      <td>0</td>\n",
       "      <td>0</td>\n",
       "      <td>0</td>\n",
       "      <td>0</td>\n",
       "      <td>0</td>\n",
       "      <td>0</td>\n",
       "    </tr>\n",
       "    <tr>\n",
       "      <th>...</th>\n",
       "      <td>...</td>\n",
       "      <td>...</td>\n",
       "      <td>...</td>\n",
       "      <td>...</td>\n",
       "      <td>...</td>\n",
       "      <td>...</td>\n",
       "      <td>...</td>\n",
       "      <td>...</td>\n",
       "      <td>...</td>\n",
       "      <td>...</td>\n",
       "    </tr>\n",
       "    <tr>\n",
       "      <th>354784</th>\n",
       "      <td>992168</td>\n",
       "      <td>2018</td>\n",
       "      <td>Septiembre</td>\n",
       "      <td>0</td>\n",
       "      <td>0</td>\n",
       "      <td>0</td>\n",
       "      <td>0</td>\n",
       "      <td>0</td>\n",
       "      <td>0</td>\n",
       "      <td>0</td>\n",
       "    </tr>\n",
       "    <tr>\n",
       "      <th>33665</th>\n",
       "      <td>992168</td>\n",
       "      <td>2017</td>\n",
       "      <td>Febrero</td>\n",
       "      <td>0</td>\n",
       "      <td>0</td>\n",
       "      <td>0</td>\n",
       "      <td>0</td>\n",
       "      <td>0</td>\n",
       "      <td>0</td>\n",
       "      <td>0</td>\n",
       "    </tr>\n",
       "    <tr>\n",
       "      <th>33664</th>\n",
       "      <td>992168</td>\n",
       "      <td>2017</td>\n",
       "      <td>Febrero</td>\n",
       "      <td>0</td>\n",
       "      <td>0</td>\n",
       "      <td>0</td>\n",
       "      <td>0</td>\n",
       "      <td>0</td>\n",
       "      <td>0</td>\n",
       "      <td>0</td>\n",
       "    </tr>\n",
       "    <tr>\n",
       "      <th>101269</th>\n",
       "      <td>992168</td>\n",
       "      <td>2017</td>\n",
       "      <td>Junio</td>\n",
       "      <td>0</td>\n",
       "      <td>0</td>\n",
       "      <td>0</td>\n",
       "      <td>0</td>\n",
       "      <td>0</td>\n",
       "      <td>0</td>\n",
       "      <td>0</td>\n",
       "    </tr>\n",
       "    <tr>\n",
       "      <th>151971</th>\n",
       "      <td>992168</td>\n",
       "      <td>2017</td>\n",
       "      <td>Septiembre</td>\n",
       "      <td>0</td>\n",
       "      <td>0</td>\n",
       "      <td>0</td>\n",
       "      <td>0</td>\n",
       "      <td>0</td>\n",
       "      <td>0</td>\n",
       "      <td>0</td>\n",
       "    </tr>\n",
       "  </tbody>\n",
       "</table>\n",
       "<p>3712 rows × 10 columns</p>\n",
       "</div>"
      ],
      "text/plain": [
       "        Loyalty Number  Year       Month  Flights Booked  \\\n",
       "41              101902  2017       Enero               0   \n",
       "33843           101902  2017       Marzo               0   \n",
       "16942           101902  2017     Febrero               0   \n",
       "185952          101902  2017   Diciembre               0   \n",
       "185953          101902  2017   Diciembre               0   \n",
       "...                ...   ...         ...             ...   \n",
       "354784          992168  2018  Septiembre               0   \n",
       "33665           992168  2017     Febrero               0   \n",
       "33664           992168  2017     Febrero               0   \n",
       "101269          992168  2017       Junio               0   \n",
       "151971          992168  2017  Septiembre               0   \n",
       "\n",
       "        Flights with Companions  Total Flights  Distance  Points Accumulated  \\\n",
       "41                            0              0         0                   0   \n",
       "33843                         0              0         0                   0   \n",
       "16942                         0              0         0                   0   \n",
       "185952                        0              0         0                   0   \n",
       "185953                        0              0         0                   0   \n",
       "...                         ...            ...       ...                 ...   \n",
       "354784                        0              0         0                   0   \n",
       "33665                         0              0         0                   0   \n",
       "33664                         0              0         0                   0   \n",
       "101269                        0              0         0                   0   \n",
       "151971                        0              0         0                   0   \n",
       "\n",
       "        Points Redeemed  Dollar Cost Points Redeemed  \n",
       "41                    0                            0  \n",
       "33843                 0                            0  \n",
       "16942                 0                            0  \n",
       "185952                0                            0  \n",
       "185953                0                            0  \n",
       "...                 ...                          ...  \n",
       "354784                0                            0  \n",
       "33665                 0                            0  \n",
       "33664                 0                            0  \n",
       "101269                0                            0  \n",
       "151971                0                            0  \n",
       "\n",
       "[3712 rows x 10 columns]"
      ]
     },
     "execution_count": 209,
     "metadata": {},
     "output_type": "execute_result"
    }
   ],
   "source": [
    "mascara = df_flight.duplicated(keep=False) # mantenemos visible las entradas originales y las duplicadas\n",
    "df_flight[mascara].sort_values('Loyalty Number') # aplicamos la mascara para la columna de los id de los clientes que deben ser unicos\n",
    "\n",
    "# comprobamos que los clientes se repiten en los registros en diferentes meses y sin ningun otro dato registrado"
   ]
  },
  {
   "cell_type": "code",
   "execution_count": 210,
   "id": "bc1787c0",
   "metadata": {},
   "outputs": [
    {
     "data": {
      "application/vnd.microsoft.datawrangler.viewer.v0+json": {
       "columns": [
        {
         "name": "index",
         "rawType": "int64",
         "type": "integer"
        },
        {
         "name": "Loyalty Number",
         "rawType": "int64",
         "type": "integer"
        },
        {
         "name": "Cantidad Duplicados",
         "rawType": "int64",
         "type": "integer"
        }
       ],
       "ref": "a05608b3-4191-4071-99b3-b076c1dfd634",
       "rows": [
        [
         "94",
         "678205",
         "52"
        ],
        [
         "60",
         "467894",
         "48"
        ],
        [
         "64",
         "488224",
         "48"
        ],
        [
         "114",
         "762990",
         "48"
        ],
        [
         "110",
         "741848",
         "48"
        ],
        [
         "35",
         "342569",
         "48"
        ],
        [
         "66",
         "497476",
         "48"
        ],
        [
         "73",
         "546259",
         "48"
        ],
        [
         "23",
         "263267",
         "48"
        ],
        [
         "141",
         "947778",
         "48"
        ],
        [
         "142",
         "949628",
         "48"
        ],
        [
         "42",
         "361680",
         "48"
        ],
        [
         "75",
         "556755",
         "48"
        ],
        [
         "18",
         "224676",
         "48"
        ],
        [
         "77",
         "577232",
         "48"
        ],
        [
         "44",
         "369638",
         "48"
        ],
        [
         "127",
         "849813",
         "48"
        ],
        [
         "47",
         "403529",
         "48"
        ],
        [
         "147",
         "960050",
         "48"
        ],
        [
         "105",
         "719633",
         "48"
        ],
        [
         "103",
         "710003",
         "48"
        ],
        [
         "48",
         "407404",
         "48"
        ],
        [
         "9",
         "156031",
         "48"
        ],
        [
         "100",
         "693926",
         "48"
        ],
        [
         "120",
         "790940",
         "48"
        ],
        [
         "5",
         "126100",
         "48"
        ],
        [
         "119",
         "783165",
         "48"
        ],
        [
         "90",
         "646756",
         "48"
        ],
        [
         "115",
         "773857",
         "48"
        ],
        [
         "124",
         "831341",
         "46"
        ],
        [
         "126",
         "841296",
         "46"
        ],
        [
         "29",
         "308480",
         "46"
        ],
        [
         "111",
         "746226",
         "46"
        ],
        [
         "72",
         "536021",
         "44"
        ],
        [
         "2",
         "106509",
         "44"
        ],
        [
         "15",
         "208241",
         "44"
        ],
        [
         "49",
         "411030",
         "44"
        ],
        [
         "14",
         "206050",
         "42"
        ],
        [
         "36",
         "342945",
         "42"
        ],
        [
         "132",
         "886803",
         "42"
        ],
        [
         "112",
         "750578",
         "42"
        ],
        [
         "39",
         "354438",
         "42"
        ],
        [
         "143",
         "950304",
         "42"
        ],
        [
         "45",
         "373638",
         "40"
        ],
        [
         "157",
         "990512",
         "40"
        ],
        [
         "133",
         "890361",
         "40"
        ],
        [
         "99",
         "687951",
         "38"
        ],
        [
         "118",
         "776466",
         "38"
        ],
        [
         "116",
         "774168",
         "38"
        ],
        [
         "102",
         "702482",
         "36"
        ]
       ],
       "shape": {
        "columns": 2,
        "rows": 159
       }
      },
      "text/html": [
       "<div>\n",
       "<style scoped>\n",
       "    .dataframe tbody tr th:only-of-type {\n",
       "        vertical-align: middle;\n",
       "    }\n",
       "\n",
       "    .dataframe tbody tr th {\n",
       "        vertical-align: top;\n",
       "    }\n",
       "\n",
       "    .dataframe thead th {\n",
       "        text-align: right;\n",
       "    }\n",
       "</style>\n",
       "<table border=\"1\" class=\"dataframe\">\n",
       "  <thead>\n",
       "    <tr style=\"text-align: right;\">\n",
       "      <th></th>\n",
       "      <th>Loyalty Number</th>\n",
       "      <th>Cantidad Duplicados</th>\n",
       "    </tr>\n",
       "  </thead>\n",
       "  <tbody>\n",
       "    <tr>\n",
       "      <th>94</th>\n",
       "      <td>678205</td>\n",
       "      <td>52</td>\n",
       "    </tr>\n",
       "    <tr>\n",
       "      <th>60</th>\n",
       "      <td>467894</td>\n",
       "      <td>48</td>\n",
       "    </tr>\n",
       "    <tr>\n",
       "      <th>64</th>\n",
       "      <td>488224</td>\n",
       "      <td>48</td>\n",
       "    </tr>\n",
       "    <tr>\n",
       "      <th>114</th>\n",
       "      <td>762990</td>\n",
       "      <td>48</td>\n",
       "    </tr>\n",
       "    <tr>\n",
       "      <th>110</th>\n",
       "      <td>741848</td>\n",
       "      <td>48</td>\n",
       "    </tr>\n",
       "    <tr>\n",
       "      <th>...</th>\n",
       "      <td>...</td>\n",
       "      <td>...</td>\n",
       "    </tr>\n",
       "    <tr>\n",
       "      <th>67</th>\n",
       "      <td>499874</td>\n",
       "      <td>2</td>\n",
       "    </tr>\n",
       "    <tr>\n",
       "      <th>104</th>\n",
       "      <td>713132</td>\n",
       "      <td>2</td>\n",
       "    </tr>\n",
       "    <tr>\n",
       "      <th>1</th>\n",
       "      <td>106001</td>\n",
       "      <td>2</td>\n",
       "    </tr>\n",
       "    <tr>\n",
       "      <th>70</th>\n",
       "      <td>512296</td>\n",
       "      <td>2</td>\n",
       "    </tr>\n",
       "    <tr>\n",
       "      <th>91</th>\n",
       "      <td>650466</td>\n",
       "      <td>2</td>\n",
       "    </tr>\n",
       "  </tbody>\n",
       "</table>\n",
       "<p>159 rows × 2 columns</p>\n",
       "</div>"
      ],
      "text/plain": [
       "     Loyalty Number  Cantidad Duplicados\n",
       "94           678205                   52\n",
       "60           467894                   48\n",
       "64           488224                   48\n",
       "114          762990                   48\n",
       "110          741848                   48\n",
       "..              ...                  ...\n",
       "67           499874                    2\n",
       "104          713132                    2\n",
       "1            106001                    2\n",
       "70           512296                    2\n",
       "91           650466                    2\n",
       "\n",
       "[159 rows x 2 columns]"
      ]
     },
     "execution_count": 210,
     "metadata": {},
     "output_type": "execute_result"
    }
   ],
   "source": [
    "# se crea una nueva variable con la mascara creada\n",
    "mascara = df_flight.duplicated(keep=False)\n",
    "duplicados = df_flight[mascara]\n",
    "\n",
    "# se agrupa por 'Loyalty Number' y contamos cuántas veces aparece cada uno para explorar a profundidad\n",
    "conteo_por_cliente = duplicados.groupby('Loyalty Number').size().reset_index(name='Cantidad Duplicados') # nueva columna\n",
    "\n",
    "# se ordena por los que tienen más duplicados primero\n",
    "conteo_por_cliente = conteo_por_cliente.sort_values(by='Cantidad Duplicados', ascending=False)\n",
    "conteo_por_cliente"
   ]
  },
  {
   "cell_type": "code",
   "execution_count": 211,
   "id": "4a80f496",
   "metadata": {},
   "outputs": [],
   "source": [
    "# luego de visualizar todas las entradas duplicadas, se decide eliminar estos datos para que no nos afecte los siguientes análisis\n",
    "\n",
    "# NOTA: Primero se verificó que habían muchas entradas con valores '0', lo que nos afectaba las visualizaciones de los datos\n",
    "# Siguiendo este razonamiento se decide explorar los datos duplicados primero y luego de verificar que son clientes repetidos \n",
    "# múltiple veces y sin ningún registro en las demás columnas, se decide eliminar estos registros para que no afecten los siguientes análisis\n",
    "\n",
    "# NOTA 2: Se le podría sugerir a la empresa que recoge los datos revisar el sistema de registro de clientes para no generar diferentes entradas\n",
    "# para un mismo cliente, o generar alguna alerta cuando se intente registrar un cliente que ya existe en la base de datos"
   ]
  },
  {
   "cell_type": "code",
   "execution_count": 212,
   "id": "4ec74b8d",
   "metadata": {},
   "outputs": [
    {
     "data": {
      "text/plain": [
       "0"
      ]
     },
     "execution_count": 212,
     "metadata": {},
     "output_type": "execute_result"
    }
   ],
   "source": [
    "# se eliminan los datos duplicados \n",
    "df_flight.drop_duplicates(inplace=True)\n",
    "df_flight.duplicated().sum() # para verificar que no tenemos duplicados en el DataFrame"
   ]
  },
  {
   "cell_type": "code",
   "execution_count": 213,
   "id": "20ca5c33",
   "metadata": {},
   "outputs": [
    {
     "name": "stdout",
     "output_type": "stream",
     "text": [
      "<class 'pandas.core.frame.DataFrame'>\n",
      "Index: 403760 entries, 0 to 405623\n",
      "Data columns (total 10 columns):\n",
      " #   Column                       Non-Null Count   Dtype \n",
      "---  ------                       --------------   ----- \n",
      " 0   Loyalty Number               403760 non-null  int64 \n",
      " 1   Year                         403760 non-null  object\n",
      " 2   Month                        403760 non-null  object\n",
      " 3   Flights Booked               403760 non-null  int64 \n",
      " 4   Flights with Companions      403760 non-null  int64 \n",
      " 5   Total Flights                403760 non-null  int64 \n",
      " 6   Distance                     403760 non-null  int64 \n",
      " 7   Points Accumulated           403760 non-null  int32 \n",
      " 8   Points Redeemed              403760 non-null  int64 \n",
      " 9   Dollar Cost Points Redeemed  403760 non-null  int64 \n",
      "dtypes: int32(1), int64(7), object(2)\n",
      "memory usage: 32.3+ MB\n"
     ]
    }
   ],
   "source": [
    "# verificamos el total de filas de DataFrame\n",
    "df_flight.info()\n",
    "\n",
    "# el DataFram contenia originalmente 405.624 entradas, al elimnar los duplicados las entradas total quedan en 403.760\n",
    "# 405.624 - 403.760 = 1.864 (datos duplicados detectados anteriormente)"
   ]
  },
  {
   "cell_type": "code",
   "execution_count": 214,
   "id": "a7b355aa",
   "metadata": {},
   "outputs": [
    {
     "name": "stdout",
     "output_type": "stream",
     "text": [
      "Columna --> Year\n",
      "Year\n",
      "2018    202022\n",
      "2017    201738\n",
      "Name: count, dtype: int64\n",
      "***************************************************************************\n",
      "Columna --> Month\n",
      "Month\n",
      "Noviembre     33663\n",
      "Octubre       33662\n",
      "Diciembre     33662\n",
      "Septiembre    33659\n",
      "Agosto        33655\n",
      "Julio         33648\n",
      "Junio         33646\n",
      "Abril         33640\n",
      "Mayo          33640\n",
      "Marzo         33634\n",
      "Febrero       33626\n",
      "Enero         33625\n",
      "Name: count, dtype: int64\n",
      "***************************************************************************\n"
     ]
    }
   ],
   "source": [
    "# 5. Análisis la variable categóricas, usando un 'value_count'\n",
    "\n",
    "for col in df_flight.select_dtypes(include='O').columns:\n",
    "    print(f\"Columna --> {col}\")\n",
    "    print(f\"{df_flight[col].value_counts()}\")\n",
    "    print('***' * 25)\n",
    "\n",
    "# En el 2018 se realizaron mas vuelos\n",
    "# Tenemos datos de los vuelos del 2018 y 2017\n",
    "# El mes que mas se realizaron mas vuelos fue en 'Noviembre'"
   ]
  },
  {
   "cell_type": "code",
   "execution_count": 215,
   "id": "372b1834",
   "metadata": {},
   "outputs": [
    {
     "data": {
      "text/plain": [
       "Index(['Loyalty Number', 'Year', 'Month', 'Flights Booked',\n",
       "       'Flights with Companions', 'Total Flights', 'Distance',\n",
       "       'Points Accumulated', 'Points Redeemed', 'Dollar Cost Points Redeemed'],\n",
       "      dtype='object')"
      ]
     },
     "execution_count": 215,
     "metadata": {},
     "output_type": "execute_result"
    }
   ],
   "source": [
    "# 6. Análisis de la variable numéricas, usando histograma y boxplot\n",
    "# seleccionamos las columnas que nos interesan\n",
    "\n",
    "df_flight.columns"
   ]
  },
  {
   "cell_type": "code",
   "execution_count": 216,
   "id": "19bfe445",
   "metadata": {},
   "outputs": [
    {
     "data": {
      "image/png": "[encoded data removed]",
      "text/plain": [
       "<Figure size 2000x1000 with 9 Axes>"
      ]
     },
     "metadata": {},
     "output_type": "display_data"
    }
   ],
   "source": [
    "# se realiza un histograma para verificar la distribución de los datos en las columnas\n",
    "\n",
    "df_flight[['Flights Booked', 'Flights with Companions', 'Total Flights', 'Distance',\n",
    "       'Points Accumulated', 'Points Redeemed', 'Dollar Cost Points Redeemed']].hist(bins=25, figsize=(20,10));"
   ]
  },
  {
   "cell_type": "code",
   "execution_count": 217,
   "id": "ae701eba",
   "metadata": {},
   "outputs": [
    {
     "data": {
      "application/vnd.microsoft.datawrangler.viewer.v0+json": {
       "columns": [
        {
         "name": "index",
         "rawType": "int64",
         "type": "integer"
        },
        {
         "name": "Loyalty Number",
         "rawType": "int64",
         "type": "integer"
        },
        {
         "name": "Year",
         "rawType": "object",
         "type": "unknown"
        },
        {
         "name": "Month",
         "rawType": "object",
         "type": "string"
        },
        {
         "name": "Flights Booked",
         "rawType": "int64",
         "type": "integer"
        },
        {
         "name": "Flights with Companions",
         "rawType": "int64",
         "type": "integer"
        },
        {
         "name": "Total Flights",
         "rawType": "int64",
         "type": "integer"
        },
        {
         "name": "Distance",
         "rawType": "int64",
         "type": "integer"
        },
        {
         "name": "Points Accumulated",
         "rawType": "int32",
         "type": "integer"
        },
        {
         "name": "Points Redeemed",
         "rawType": "int64",
         "type": "integer"
        },
        {
         "name": "Dollar Cost Points Redeemed",
         "rawType": "int64",
         "type": "integer"
        }
       ],
       "ref": "8227c9eb-6a37-4d62-bcf4-3d57ee11ee63",
       "rows": [
        [
         "0",
         "100018",
         "2017",
         "Enero",
         "3",
         "0",
         "3",
         "1521",
         "152",
         "0",
         "0"
        ],
        [
         "1",
         "100102",
         "2017",
         "Enero",
         "10",
         "4",
         "14",
         "2030",
         "203",
         "0",
         "0"
        ],
        [
         "2",
         "100140",
         "2017",
         "Enero",
         "6",
         "0",
         "6",
         "1200",
         "120",
         "0",
         "0"
        ],
        [
         "3",
         "100214",
         "2017",
         "Enero",
         "0",
         "0",
         "0",
         "0",
         "0",
         "0",
         "0"
        ],
        [
         "4",
         "100272",
         "2017",
         "Enero",
         "0",
         "0",
         "0",
         "0",
         "0",
         "0",
         "0"
        ],
        [
         "5",
         "100301",
         "2017",
         "Enero",
         "0",
         "0",
         "0",
         "0",
         "0",
         "0",
         "0"
        ],
        [
         "6",
         "100364",
         "2017",
         "Enero",
         "0",
         "0",
         "0",
         "0",
         "0",
         "0",
         "0"
        ],
        [
         "7",
         "100380",
         "2017",
         "Enero",
         "0",
         "0",
         "0",
         "0",
         "0",
         "0",
         "0"
        ],
        [
         "8",
         "100428",
         "2017",
         "Enero",
         "6",
         "0",
         "6",
         "606",
         "60",
         "0",
         "0"
        ],
        [
         "9",
         "100504",
         "2017",
         "Enero",
         "0",
         "0",
         "0",
         "0",
         "0",
         "0",
         "0"
        ],
        [
         "10",
         "100550",
         "2017",
         "Enero",
         "3",
         "0",
         "3",
         "2037",
         "203",
         "0",
         "0"
        ],
        [
         "11",
         "863070",
         "2017",
         "Septiembre",
         "8",
         "7",
         "15",
         "4245",
         "424",
         "341",
         "28"
        ],
        [
         "12",
         "100590",
         "2017",
         "Enero",
         "0",
         "0",
         "0",
         "0",
         "0",
         "0",
         "0"
        ],
        [
         "13",
         "100642",
         "2017",
         "Enero",
         "0",
         "0",
         "0",
         "0",
         "0",
         "0",
         "0"
        ],
        [
         "14",
         "100644",
         "2017",
         "Enero",
         "0",
         "0",
         "0",
         "0",
         "0",
         "0",
         "0"
        ],
        [
         "15",
         "100646",
         "2017",
         "Enero",
         "0",
         "0",
         "0",
         "0",
         "0",
         "0",
         "0"
        ],
        [
         "16",
         "100727",
         "2017",
         "Enero",
         "11",
         "0",
         "11",
         "1144",
         "114",
         "0",
         "0"
        ],
        [
         "17",
         "100737",
         "2017",
         "Enero",
         "0",
         "0",
         "0",
         "0",
         "0",
         "0",
         "0"
        ],
        [
         "18",
         "100753",
         "2017",
         "Enero",
         "8",
         "4",
         "12",
         "3264",
         "326",
         "0",
         "0"
        ],
        [
         "19",
         "100816",
         "2017",
         "Enero",
         "9",
         "1",
         "10",
         "2340",
         "234",
         "0",
         "0"
        ]
       ],
       "shape": {
        "columns": 10,
        "rows": 20
       }
      },
      "text/html": [
       "<div>\n",
       "<style scoped>\n",
       "    .dataframe tbody tr th:only-of-type {\n",
       "        vertical-align: middle;\n",
       "    }\n",
       "\n",
       "    .dataframe tbody tr th {\n",
       "        vertical-align: top;\n",
       "    }\n",
       "\n",
       "    .dataframe thead th {\n",
       "        text-align: right;\n",
       "    }\n",
       "</style>\n",
       "<table border=\"1\" class=\"dataframe\">\n",
       "  <thead>\n",
       "    <tr style=\"text-align: right;\">\n",
       "      <th></th>\n",
       "      <th>Loyalty Number</th>\n",
       "      <th>Year</th>\n",
       "      <th>Month</th>\n",
       "      <th>Flights Booked</th>\n",
       "      <th>Flights with Companions</th>\n",
       "      <th>Total Flights</th>\n",
       "      <th>Distance</th>\n",
       "      <th>Points Accumulated</th>\n",
       "      <th>Points Redeemed</th>\n",
       "      <th>Dollar Cost Points Redeemed</th>\n",
       "    </tr>\n",
       "  </thead>\n",
       "  <tbody>\n",
       "    <tr>\n",
       "      <th>0</th>\n",
       "      <td>100018</td>\n",
       "      <td>2017</td>\n",
       "      <td>Enero</td>\n",
       "      <td>3</td>\n",
       "      <td>0</td>\n",
       "      <td>3</td>\n",
       "      <td>1521</td>\n",
       "      <td>152</td>\n",
       "      <td>0</td>\n",
       "      <td>0</td>\n",
       "    </tr>\n",
       "    <tr>\n",
       "      <th>1</th>\n",
       "      <td>100102</td>\n",
       "      <td>2017</td>\n",
       "      <td>Enero</td>\n",
       "      <td>10</td>\n",
       "      <td>4</td>\n",
       "      <td>14</td>\n",
       "      <td>2030</td>\n",
       "      <td>203</td>\n",
       "      <td>0</td>\n",
       "      <td>0</td>\n",
       "    </tr>\n",
       "    <tr>\n",
       "      <th>2</th>\n",
       "      <td>100140</td>\n",
       "      <td>2017</td>\n",
       "      <td>Enero</td>\n",
       "      <td>6</td>\n",
       "      <td>0</td>\n",
       "      <td>6</td>\n",
       "      <td>1200</td>\n",
       "      <td>120</td>\n",
       "      <td>0</td>\n",
       "      <td>0</td>\n",
       "    </tr>\n",
       "    <tr>\n",
       "      <th>3</th>\n",
       "      <td>100214</td>\n",
       "      <td>2017</td>\n",
       "      <td>Enero</td>\n",
       "      <td>0</td>\n",
       "      <td>0</td>\n",
       "      <td>0</td>\n",
       "      <td>0</td>\n",
       "      <td>0</td>\n",
       "      <td>0</td>\n",
       "      <td>0</td>\n",
       "    </tr>\n",
       "    <tr>\n",
       "      <th>4</th>\n",
       "      <td>100272</td>\n",
       "      <td>2017</td>\n",
       "      <td>Enero</td>\n",
       "      <td>0</td>\n",
       "      <td>0</td>\n",
       "      <td>0</td>\n",
       "      <td>0</td>\n",
       "      <td>0</td>\n",
       "      <td>0</td>\n",
       "      <td>0</td>\n",
       "    </tr>\n",
       "    <tr>\n",
       "      <th>5</th>\n",
       "      <td>100301</td>\n",
       "      <td>2017</td>\n",
       "      <td>Enero</td>\n",
       "      <td>0</td>\n",
       "      <td>0</td>\n",
       "      <td>0</td>\n",
       "      <td>0</td>\n",
       "      <td>0</td>\n",
       "      <td>0</td>\n",
       "      <td>0</td>\n",
       "    </tr>\n",
       "    <tr>\n",
       "      <th>6</th>\n",
       "      <td>100364</td>\n",
       "      <td>2017</td>\n",
       "      <td>Enero</td>\n",
       "      <td>0</td>\n",
       "      <td>0</td>\n",
       "      <td>0</td>\n",
       "      <td>0</td>\n",
       "      <td>0</td>\n",
       "      <td>0</td>\n",
       "      <td>0</td>\n",
       "    </tr>\n",
       "    <tr>\n",
       "      <th>7</th>\n",
       "      <td>100380</td>\n",
       "      <td>2017</td>\n",
       "      <td>Enero</td>\n",
       "      <td>0</td>\n",
       "      <td>0</td>\n",
       "      <td>0</td>\n",
       "      <td>0</td>\n",
       "      <td>0</td>\n",
       "      <td>0</td>\n",
       "      <td>0</td>\n",
       "    </tr>\n",
       "    <tr>\n",
       "      <th>8</th>\n",
       "      <td>100428</td>\n",
       "      <td>2017</td>\n",
       "      <td>Enero</td>\n",
       "      <td>6</td>\n",
       "      <td>0</td>\n",
       "      <td>6</td>\n",
       "      <td>606</td>\n",
       "      <td>60</td>\n",
       "      <td>0</td>\n",
       "      <td>0</td>\n",
       "    </tr>\n",
       "    <tr>\n",
       "      <th>9</th>\n",
       "      <td>100504</td>\n",
       "      <td>2017</td>\n",
       "      <td>Enero</td>\n",
       "      <td>0</td>\n",
       "      <td>0</td>\n",
       "      <td>0</td>\n",
       "      <td>0</td>\n",
       "      <td>0</td>\n",
       "      <td>0</td>\n",
       "      <td>0</td>\n",
       "    </tr>\n",
       "    <tr>\n",
       "      <th>10</th>\n",
       "      <td>100550</td>\n",
       "      <td>2017</td>\n",
       "      <td>Enero</td>\n",
       "      <td>3</td>\n",
       "      <td>0</td>\n",
       "      <td>3</td>\n",
       "      <td>2037</td>\n",
       "      <td>203</td>\n",
       "      <td>0</td>\n",
       "      <td>0</td>\n",
       "    </tr>\n",
       "    <tr>\n",
       "      <th>11</th>\n",
       "      <td>863070</td>\n",
       "      <td>2017</td>\n",
       "      <td>Septiembre</td>\n",
       "      <td>8</td>\n",
       "      <td>7</td>\n",
       "      <td>15</td>\n",
       "      <td>4245</td>\n",
       "      <td>424</td>\n",
       "      <td>341</td>\n",
       "      <td>28</td>\n",
       "    </tr>\n",
       "    <tr>\n",
       "      <th>12</th>\n",
       "      <td>100590</td>\n",
       "      <td>2017</td>\n",
       "      <td>Enero</td>\n",
       "      <td>0</td>\n",
       "      <td>0</td>\n",
       "      <td>0</td>\n",
       "      <td>0</td>\n",
       "      <td>0</td>\n",
       "      <td>0</td>\n",
       "      <td>0</td>\n",
       "    </tr>\n",
       "    <tr>\n",
       "      <th>13</th>\n",
       "      <td>100642</td>\n",
       "      <td>2017</td>\n",
       "      <td>Enero</td>\n",
       "      <td>0</td>\n",
       "      <td>0</td>\n",
       "      <td>0</td>\n",
       "      <td>0</td>\n",
       "      <td>0</td>\n",
       "      <td>0</td>\n",
       "      <td>0</td>\n",
       "    </tr>\n",
       "    <tr>\n",
       "      <th>14</th>\n",
       "      <td>100644</td>\n",
       "      <td>2017</td>\n",
       "      <td>Enero</td>\n",
       "      <td>0</td>\n",
       "      <td>0</td>\n",
       "      <td>0</td>\n",
       "      <td>0</td>\n",
       "      <td>0</td>\n",
       "      <td>0</td>\n",
       "      <td>0</td>\n",
       "    </tr>\n",
       "    <tr>\n",
       "      <th>15</th>\n",
       "      <td>100646</td>\n",
       "      <td>2017</td>\n",
       "      <td>Enero</td>\n",
       "      <td>0</td>\n",
       "      <td>0</td>\n",
       "      <td>0</td>\n",
       "      <td>0</td>\n",
       "      <td>0</td>\n",
       "      <td>0</td>\n",
       "      <td>0</td>\n",
       "    </tr>\n",
       "    <tr>\n",
       "      <th>16</th>\n",
       "      <td>100727</td>\n",
       "      <td>2017</td>\n",
       "      <td>Enero</td>\n",
       "      <td>11</td>\n",
       "      <td>0</td>\n",
       "      <td>11</td>\n",
       "      <td>1144</td>\n",
       "      <td>114</td>\n",
       "      <td>0</td>\n",
       "      <td>0</td>\n",
       "    </tr>\n",
       "    <tr>\n",
       "      <th>17</th>\n",
       "      <td>100737</td>\n",
       "      <td>2017</td>\n",
       "      <td>Enero</td>\n",
       "      <td>0</td>\n",
       "      <td>0</td>\n",
       "      <td>0</td>\n",
       "      <td>0</td>\n",
       "      <td>0</td>\n",
       "      <td>0</td>\n",
       "      <td>0</td>\n",
       "    </tr>\n",
       "    <tr>\n",
       "      <th>18</th>\n",
       "      <td>100753</td>\n",
       "      <td>2017</td>\n",
       "      <td>Enero</td>\n",
       "      <td>8</td>\n",
       "      <td>4</td>\n",
       "      <td>12</td>\n",
       "      <td>3264</td>\n",
       "      <td>326</td>\n",
       "      <td>0</td>\n",
       "      <td>0</td>\n",
       "    </tr>\n",
       "    <tr>\n",
       "      <th>19</th>\n",
       "      <td>100816</td>\n",
       "      <td>2017</td>\n",
       "      <td>Enero</td>\n",
       "      <td>9</td>\n",
       "      <td>1</td>\n",
       "      <td>10</td>\n",
       "      <td>2340</td>\n",
       "      <td>234</td>\n",
       "      <td>0</td>\n",
       "      <td>0</td>\n",
       "    </tr>\n",
       "  </tbody>\n",
       "</table>\n",
       "</div>"
      ],
      "text/plain": [
       "    Loyalty Number  Year       Month  Flights Booked  Flights with Companions  \\\n",
       "0           100018  2017       Enero               3                        0   \n",
       "1           100102  2017       Enero              10                        4   \n",
       "2           100140  2017       Enero               6                        0   \n",
       "3           100214  2017       Enero               0                        0   \n",
       "4           100272  2017       Enero               0                        0   \n",
       "5           100301  2017       Enero               0                        0   \n",
       "6           100364  2017       Enero               0                        0   \n",
       "7           100380  2017       Enero               0                        0   \n",
       "8           100428  2017       Enero               6                        0   \n",
       "9           100504  2017       Enero               0                        0   \n",
       "10          100550  2017       Enero               3                        0   \n",
       "11          863070  2017  Septiembre               8                        7   \n",
       "12          100590  2017       Enero               0                        0   \n",
       "13          100642  2017       Enero               0                        0   \n",
       "14          100644  2017       Enero               0                        0   \n",
       "15          100646  2017       Enero               0                        0   \n",
       "16          100727  2017       Enero              11                        0   \n",
       "17          100737  2017       Enero               0                        0   \n",
       "18          100753  2017       Enero               8                        4   \n",
       "19          100816  2017       Enero               9                        1   \n",
       "\n",
       "    Total Flights  Distance  Points Accumulated  Points Redeemed  \\\n",
       "0               3      1521                 152                0   \n",
       "1              14      2030                 203                0   \n",
       "2               6      1200                 120                0   \n",
       "3               0         0                   0                0   \n",
       "4               0         0                   0                0   \n",
       "5               0         0                   0                0   \n",
       "6               0         0                   0                0   \n",
       "7               0         0                   0                0   \n",
       "8               6       606                  60                0   \n",
       "9               0         0                   0                0   \n",
       "10              3      2037                 203                0   \n",
       "11             15      4245                 424              341   \n",
       "12              0         0                   0                0   \n",
       "13              0         0                   0                0   \n",
       "14              0         0                   0                0   \n",
       "15              0         0                   0                0   \n",
       "16             11      1144                 114                0   \n",
       "17              0         0                   0                0   \n",
       "18             12      3264                 326                0   \n",
       "19             10      2340                 234                0   \n",
       "\n",
       "    Dollar Cost Points Redeemed  \n",
       "0                             0  \n",
       "1                             0  \n",
       "2                             0  \n",
       "3                             0  \n",
       "4                             0  \n",
       "5                             0  \n",
       "6                             0  \n",
       "7                             0  \n",
       "8                             0  \n",
       "9                             0  \n",
       "10                            0  \n",
       "11                           28  \n",
       "12                            0  \n",
       "13                            0  \n",
       "14                            0  \n",
       "15                            0  \n",
       "16                            0  \n",
       "17                            0  \n",
       "18                            0  \n",
       "19                            0  "
      ]
     },
     "execution_count": 217,
     "metadata": {},
     "output_type": "execute_result"
    }
   ],
   "source": [
    "# en las gráficas anteriores vemos que los valores '0' distorcionan los datos, \n",
    "# ya que existe una cantidad de clientes en nuestra base de datos que no han registrado ningún vuelo aún\n",
    "\n",
    "df_flight.head(20)"
   ]
  },
  {
   "cell_type": "code",
   "execution_count": 218,
   "id": "63b26faa",
   "metadata": {},
   "outputs": [
    {
     "data": {
      "application/vnd.microsoft.datawrangler.viewer.v0+json": {
       "columns": [
        {
         "name": "index",
         "rawType": "int64",
         "type": "integer"
        },
        {
         "name": "Loyalty Number",
         "rawType": "int64",
         "type": "integer"
        },
        {
         "name": "Year",
         "rawType": "object",
         "type": "unknown"
        },
        {
         "name": "Month",
         "rawType": "object",
         "type": "string"
        },
        {
         "name": "Flights Booked",
         "rawType": "int64",
         "type": "integer"
        },
        {
         "name": "Flights with Companions",
         "rawType": "int64",
         "type": "integer"
        },
        {
         "name": "Total Flights",
         "rawType": "int64",
         "type": "integer"
        },
        {
         "name": "Distance",
         "rawType": "int64",
         "type": "integer"
        },
        {
         "name": "Points Accumulated",
         "rawType": "int32",
         "type": "integer"
        },
        {
         "name": "Points Redeemed",
         "rawType": "int64",
         "type": "integer"
        },
        {
         "name": "Dollar Cost Points Redeemed",
         "rawType": "int64",
         "type": "integer"
        }
       ],
       "ref": "26c2d15d-d762-43e2-b374-81afe7d1b111",
       "rows": [
        [
         "0",
         "100018",
         "2017",
         "Enero",
         "3",
         "0",
         "3",
         "1521",
         "152",
         "0",
         "0"
        ],
        [
         "1",
         "100102",
         "2017",
         "Enero",
         "10",
         "4",
         "14",
         "2030",
         "203",
         "0",
         "0"
        ],
        [
         "2",
         "100140",
         "2017",
         "Enero",
         "6",
         "0",
         "6",
         "1200",
         "120",
         "0",
         "0"
        ],
        [
         "8",
         "100428",
         "2017",
         "Enero",
         "6",
         "0",
         "6",
         "606",
         "60",
         "0",
         "0"
        ],
        [
         "10",
         "100550",
         "2017",
         "Enero",
         "3",
         "0",
         "3",
         "2037",
         "203",
         "0",
         "0"
        ],
        [
         "11",
         "863070",
         "2017",
         "Septiembre",
         "8",
         "7",
         "15",
         "4245",
         "424",
         "341",
         "28"
        ],
        [
         "16",
         "100727",
         "2017",
         "Enero",
         "11",
         "0",
         "11",
         "1144",
         "114",
         "0",
         "0"
        ],
        [
         "18",
         "100753",
         "2017",
         "Enero",
         "8",
         "4",
         "12",
         "3264",
         "326",
         "0",
         "0"
        ],
        [
         "19",
         "100816",
         "2017",
         "Enero",
         "9",
         "1",
         "10",
         "2340",
         "234",
         "0",
         "0"
        ],
        [
         "20",
         "100853",
         "2017",
         "Enero",
         "6",
         "6",
         "12",
         "1236",
         "123",
         "0",
         "0"
        ],
        [
         "21",
         "100883",
         "2017",
         "Enero",
         "11",
         "0",
         "11",
         "3124",
         "312",
         "0",
         "0"
        ],
        [
         "22",
         "100890",
         "2017",
         "Enero",
         "8",
         "0",
         "8",
         "2296",
         "229",
         "0",
         "0"
        ],
        [
         "23",
         "101018",
         "2017",
         "Enero",
         "9",
         "0",
         "9",
         "2772",
         "277",
         "0",
         "0"
        ],
        [
         "26",
         "101363",
         "2017",
         "Enero",
         "8",
         "0",
         "8",
         "2944",
         "294",
         "0",
         "0"
        ],
        [
         "27",
         "691626",
         "2018",
         "Septiembre",
         "8",
         "7",
         "15",
         "4245",
         "424",
         "341",
         "28"
        ],
        [
         "28",
         "101515",
         "2017",
         "Enero",
         "11",
         "0",
         "11",
         "1100",
         "110",
         "0",
         "0"
        ],
        [
         "30",
         "101544",
         "2017",
         "Enero",
         "6",
         "0",
         "6",
         "1332",
         "133",
         "0",
         "0"
        ],
        [
         "32",
         "101581",
         "2017",
         "Enero",
         "6",
         "0",
         "6",
         "2082",
         "208",
         "0",
         "0"
        ],
        [
         "33",
         "101594",
         "2017",
         "Enero",
         "11",
         "0",
         "11",
         "3399",
         "339",
         "0",
         "0"
        ],
        [
         "36",
         "101664",
         "2017",
         "Enero",
         "4",
         "4",
         "8",
         "3128",
         "312",
         "0",
         "0"
        ]
       ],
       "shape": {
        "columns": 10,
        "rows": 20
       }
      },
      "text/html": [
       "<div>\n",
       "<style scoped>\n",
       "    .dataframe tbody tr th:only-of-type {\n",
       "        vertical-align: middle;\n",
       "    }\n",
       "\n",
       "    .dataframe tbody tr th {\n",
       "        vertical-align: top;\n",
       "    }\n",
       "\n",
       "    .dataframe thead th {\n",
       "        text-align: right;\n",
       "    }\n",
       "</style>\n",
       "<table border=\"1\" class=\"dataframe\">\n",
       "  <thead>\n",
       "    <tr style=\"text-align: right;\">\n",
       "      <th></th>\n",
       "      <th>Loyalty Number</th>\n",
       "      <th>Year</th>\n",
       "      <th>Month</th>\n",
       "      <th>Flights Booked</th>\n",
       "      <th>Flights with Companions</th>\n",
       "      <th>Total Flights</th>\n",
       "      <th>Distance</th>\n",
       "      <th>Points Accumulated</th>\n",
       "      <th>Points Redeemed</th>\n",
       "      <th>Dollar Cost Points Redeemed</th>\n",
       "    </tr>\n",
       "  </thead>\n",
       "  <tbody>\n",
       "    <tr>\n",
       "      <th>0</th>\n",
       "      <td>100018</td>\n",
       "      <td>2017</td>\n",
       "      <td>Enero</td>\n",
       "      <td>3</td>\n",
       "      <td>0</td>\n",
       "      <td>3</td>\n",
       "      <td>1521</td>\n",
       "      <td>152</td>\n",
       "      <td>0</td>\n",
       "      <td>0</td>\n",
       "    </tr>\n",
       "    <tr>\n",
       "      <th>1</th>\n",
       "      <td>100102</td>\n",
       "      <td>2017</td>\n",
       "      <td>Enero</td>\n",
       "      <td>10</td>\n",
       "      <td>4</td>\n",
       "      <td>14</td>\n",
       "      <td>2030</td>\n",
       "      <td>203</td>\n",
       "      <td>0</td>\n",
       "      <td>0</td>\n",
       "    </tr>\n",
       "    <tr>\n",
       "      <th>2</th>\n",
       "      <td>100140</td>\n",
       "      <td>2017</td>\n",
       "      <td>Enero</td>\n",
       "      <td>6</td>\n",
       "      <td>0</td>\n",
       "      <td>6</td>\n",
       "      <td>1200</td>\n",
       "      <td>120</td>\n",
       "      <td>0</td>\n",
       "      <td>0</td>\n",
       "    </tr>\n",
       "    <tr>\n",
       "      <th>8</th>\n",
       "      <td>100428</td>\n",
       "      <td>2017</td>\n",
       "      <td>Enero</td>\n",
       "      <td>6</td>\n",
       "      <td>0</td>\n",
       "      <td>6</td>\n",
       "      <td>606</td>\n",
       "      <td>60</td>\n",
       "      <td>0</td>\n",
       "      <td>0</td>\n",
       "    </tr>\n",
       "    <tr>\n",
       "      <th>10</th>\n",
       "      <td>100550</td>\n",
       "      <td>2017</td>\n",
       "      <td>Enero</td>\n",
       "      <td>3</td>\n",
       "      <td>0</td>\n",
       "      <td>3</td>\n",
       "      <td>2037</td>\n",
       "      <td>203</td>\n",
       "      <td>0</td>\n",
       "      <td>0</td>\n",
       "    </tr>\n",
       "    <tr>\n",
       "      <th>11</th>\n",
       "      <td>863070</td>\n",
       "      <td>2017</td>\n",
       "      <td>Septiembre</td>\n",
       "      <td>8</td>\n",
       "      <td>7</td>\n",
       "      <td>15</td>\n",
       "      <td>4245</td>\n",
       "      <td>424</td>\n",
       "      <td>341</td>\n",
       "      <td>28</td>\n",
       "    </tr>\n",
       "    <tr>\n",
       "      <th>16</th>\n",
       "      <td>100727</td>\n",
       "      <td>2017</td>\n",
       "      <td>Enero</td>\n",
       "      <td>11</td>\n",
       "      <td>0</td>\n",
       "      <td>11</td>\n",
       "      <td>1144</td>\n",
       "      <td>114</td>\n",
       "      <td>0</td>\n",
       "      <td>0</td>\n",
       "    </tr>\n",
       "    <tr>\n",
       "      <th>18</th>\n",
       "      <td>100753</td>\n",
       "      <td>2017</td>\n",
       "      <td>Enero</td>\n",
       "      <td>8</td>\n",
       "      <td>4</td>\n",
       "      <td>12</td>\n",
       "      <td>3264</td>\n",
       "      <td>326</td>\n",
       "      <td>0</td>\n",
       "      <td>0</td>\n",
       "    </tr>\n",
       "    <tr>\n",
       "      <th>19</th>\n",
       "      <td>100816</td>\n",
       "      <td>2017</td>\n",
       "      <td>Enero</td>\n",
       "      <td>9</td>\n",
       "      <td>1</td>\n",
       "      <td>10</td>\n",
       "      <td>2340</td>\n",
       "      <td>234</td>\n",
       "      <td>0</td>\n",
       "      <td>0</td>\n",
       "    </tr>\n",
       "    <tr>\n",
       "      <th>20</th>\n",
       "      <td>100853</td>\n",
       "      <td>2017</td>\n",
       "      <td>Enero</td>\n",
       "      <td>6</td>\n",
       "      <td>6</td>\n",
       "      <td>12</td>\n",
       "      <td>1236</td>\n",
       "      <td>123</td>\n",
       "      <td>0</td>\n",
       "      <td>0</td>\n",
       "    </tr>\n",
       "    <tr>\n",
       "      <th>21</th>\n",
       "      <td>100883</td>\n",
       "      <td>2017</td>\n",
       "      <td>Enero</td>\n",
       "      <td>11</td>\n",
       "      <td>0</td>\n",
       "      <td>11</td>\n",
       "      <td>3124</td>\n",
       "      <td>312</td>\n",
       "      <td>0</td>\n",
       "      <td>0</td>\n",
       "    </tr>\n",
       "    <tr>\n",
       "      <th>22</th>\n",
       "      <td>100890</td>\n",
       "      <td>2017</td>\n",
       "      <td>Enero</td>\n",
       "      <td>8</td>\n",
       "      <td>0</td>\n",
       "      <td>8</td>\n",
       "      <td>2296</td>\n",
       "      <td>229</td>\n",
       "      <td>0</td>\n",
       "      <td>0</td>\n",
       "    </tr>\n",
       "    <tr>\n",
       "      <th>23</th>\n",
       "      <td>101018</td>\n",
       "      <td>2017</td>\n",
       "      <td>Enero</td>\n",
       "      <td>9</td>\n",
       "      <td>0</td>\n",
       "      <td>9</td>\n",
       "      <td>2772</td>\n",
       "      <td>277</td>\n",
       "      <td>0</td>\n",
       "      <td>0</td>\n",
       "    </tr>\n",
       "    <tr>\n",
       "      <th>26</th>\n",
       "      <td>101363</td>\n",
       "      <td>2017</td>\n",
       "      <td>Enero</td>\n",
       "      <td>8</td>\n",
       "      <td>0</td>\n",
       "      <td>8</td>\n",
       "      <td>2944</td>\n",
       "      <td>294</td>\n",
       "      <td>0</td>\n",
       "      <td>0</td>\n",
       "    </tr>\n",
       "    <tr>\n",
       "      <th>27</th>\n",
       "      <td>691626</td>\n",
       "      <td>2018</td>\n",
       "      <td>Septiembre</td>\n",
       "      <td>8</td>\n",
       "      <td>7</td>\n",
       "      <td>15</td>\n",
       "      <td>4245</td>\n",
       "      <td>424</td>\n",
       "      <td>341</td>\n",
       "      <td>28</td>\n",
       "    </tr>\n",
       "    <tr>\n",
       "      <th>28</th>\n",
       "      <td>101515</td>\n",
       "      <td>2017</td>\n",
       "      <td>Enero</td>\n",
       "      <td>11</td>\n",
       "      <td>0</td>\n",
       "      <td>11</td>\n",
       "      <td>1100</td>\n",
       "      <td>110</td>\n",
       "      <td>0</td>\n",
       "      <td>0</td>\n",
       "    </tr>\n",
       "    <tr>\n",
       "      <th>30</th>\n",
       "      <td>101544</td>\n",
       "      <td>2017</td>\n",
       "      <td>Enero</td>\n",
       "      <td>6</td>\n",
       "      <td>0</td>\n",
       "      <td>6</td>\n",
       "      <td>1332</td>\n",
       "      <td>133</td>\n",
       "      <td>0</td>\n",
       "      <td>0</td>\n",
       "    </tr>\n",
       "    <tr>\n",
       "      <th>32</th>\n",
       "      <td>101581</td>\n",
       "      <td>2017</td>\n",
       "      <td>Enero</td>\n",
       "      <td>6</td>\n",
       "      <td>0</td>\n",
       "      <td>6</td>\n",
       "      <td>2082</td>\n",
       "      <td>208</td>\n",
       "      <td>0</td>\n",
       "      <td>0</td>\n",
       "    </tr>\n",
       "    <tr>\n",
       "      <th>33</th>\n",
       "      <td>101594</td>\n",
       "      <td>2017</td>\n",
       "      <td>Enero</td>\n",
       "      <td>11</td>\n",
       "      <td>0</td>\n",
       "      <td>11</td>\n",
       "      <td>3399</td>\n",
       "      <td>339</td>\n",
       "      <td>0</td>\n",
       "      <td>0</td>\n",
       "    </tr>\n",
       "    <tr>\n",
       "      <th>36</th>\n",
       "      <td>101664</td>\n",
       "      <td>2017</td>\n",
       "      <td>Enero</td>\n",
       "      <td>4</td>\n",
       "      <td>4</td>\n",
       "      <td>8</td>\n",
       "      <td>3128</td>\n",
       "      <td>312</td>\n",
       "      <td>0</td>\n",
       "      <td>0</td>\n",
       "    </tr>\n",
       "  </tbody>\n",
       "</table>\n",
       "</div>"
      ],
      "text/plain": [
       "    Loyalty Number  Year       Month  Flights Booked  Flights with Companions  \\\n",
       "0           100018  2017       Enero               3                        0   \n",
       "1           100102  2017       Enero              10                        4   \n",
       "2           100140  2017       Enero               6                        0   \n",
       "8           100428  2017       Enero               6                        0   \n",
       "10          100550  2017       Enero               3                        0   \n",
       "11          863070  2017  Septiembre               8                        7   \n",
       "16          100727  2017       Enero              11                        0   \n",
       "18          100753  2017       Enero               8                        4   \n",
       "19          100816  2017       Enero               9                        1   \n",
       "20          100853  2017       Enero               6                        6   \n",
       "21          100883  2017       Enero              11                        0   \n",
       "22          100890  2017       Enero               8                        0   \n",
       "23          101018  2017       Enero               9                        0   \n",
       "26          101363  2017       Enero               8                        0   \n",
       "27          691626  2018  Septiembre               8                        7   \n",
       "28          101515  2017       Enero              11                        0   \n",
       "30          101544  2017       Enero               6                        0   \n",
       "32          101581  2017       Enero               6                        0   \n",
       "33          101594  2017       Enero              11                        0   \n",
       "36          101664  2017       Enero               4                        4   \n",
       "\n",
       "    Total Flights  Distance  Points Accumulated  Points Redeemed  \\\n",
       "0               3      1521                 152                0   \n",
       "1              14      2030                 203                0   \n",
       "2               6      1200                 120                0   \n",
       "8               6       606                  60                0   \n",
       "10              3      2037                 203                0   \n",
       "11             15      4245                 424              341   \n",
       "16             11      1144                 114                0   \n",
       "18             12      3264                 326                0   \n",
       "19             10      2340                 234                0   \n",
       "20             12      1236                 123                0   \n",
       "21             11      3124                 312                0   \n",
       "22              8      2296                 229                0   \n",
       "23              9      2772                 277                0   \n",
       "26              8      2944                 294                0   \n",
       "27             15      4245                 424              341   \n",
       "28             11      1100                 110                0   \n",
       "30              6      1332                 133                0   \n",
       "32              6      2082                 208                0   \n",
       "33             11      3399                 339                0   \n",
       "36              8      3128                 312                0   \n",
       "\n",
       "    Dollar Cost Points Redeemed  \n",
       "0                             0  \n",
       "1                             0  \n",
       "2                             0  \n",
       "8                             0  \n",
       "10                            0  \n",
       "11                           28  \n",
       "16                            0  \n",
       "18                            0  \n",
       "19                            0  \n",
       "20                            0  \n",
       "21                            0  \n",
       "22                            0  \n",
       "23                            0  \n",
       "26                            0  \n",
       "27                           28  \n",
       "28                            0  \n",
       "30                            0  \n",
       "32                            0  \n",
       "33                            0  \n",
       "36                            0  "
      ]
     },
     "execution_count": 218,
     "metadata": {},
     "output_type": "execute_result"
    }
   ],
   "source": [
    "# Creamos un DataFrame que filtre los 'clientes activos' para analizar mejor su actividad\n",
    "# Lo filtramos por 'Total Flights', si no hay valores en esta columna no se registran datos en las demás columnas\n",
    "\n",
    "df_flight_active = df_flight[df_flight['Total Flights'] > 0] # filtramos para que guarde registros mayores a '0'\n",
    "df_flight_active.head(20)"
   ]
  },
  {
   "cell_type": "code",
   "execution_count": 219,
   "id": "90e6f5f5",
   "metadata": {},
   "outputs": [
    {
     "data": {
      "image/png": "[encoded data removed]",
      "text/plain": [
       "<Figure size 2000x1000 with 9 Axes>"
      ]
     },
     "metadata": {},
     "output_type": "display_data"
    }
   ],
   "source": [
    "# con el DataFrame de 'clientes activos' podemos visualizar mejor las gráficas:\n",
    "\n",
    "df_flight_active[['Flights Booked', 'Flights with Companions', 'Total Flights', 'Distance',\n",
    "       'Points Accumulated', 'Points Redeemed', 'Dollar Cost Points Redeemed']].hist(bins=25, figsize=(20,10));"
   ]
  },
  {
   "cell_type": "code",
   "execution_count": 220,
   "id": "74f48d86",
   "metadata": {},
   "outputs": [
    {
     "data": {
      "image/png": "[encoded data removed]",
      "text/plain": [
       "<Figure size 640x480 with 1 Axes>"
      ]
     },
     "metadata": {},
     "output_type": "display_data"
    },
    {
     "data": {
      "image/png": "[encoded data removed]",
      "text/plain": [
       "<Figure size 640x480 with 1 Axes>"
      ]
     },
     "metadata": {},
     "output_type": "display_data"
    },
    {
     "data": {
      "image/png": "[encoded data removed]",
      "text/plain": [
       "<Figure size 640x480 with 1 Axes>"
      ]
     },
     "metadata": {},
     "output_type": "display_data"
    },
    {
     "data": {
      "image/png": "[encoded data removed]",
      "text/plain": [
       "<Figure size 640x480 with 1 Axes>"
      ]
     },
     "metadata": {},
     "output_type": "display_data"
    },
    {
     "data": {
      "image/png": "[encoded data removed]",
      "text/plain": [
       "<Figure size 640x480 with 1 Axes>"
      ]
     },
     "metadata": {},
     "output_type": "display_data"
    },
    {
     "data": {
      "image/png": "[encoded data removed]",
      "text/plain": [
       "<Figure size 640x480 with 1 Axes>"
      ]
     },
     "metadata": {},
     "output_type": "display_data"
    }
   ],
   "source": [
    "# usamos el DataFrame con los clientes filtrados (activos) y las columnas que nos aportan información:\n",
    "\n",
    "for col in df_flight_active[['Flights Booked', \n",
    "                      'Flights with Companions', \n",
    "                      'Total Flights', \n",
    "                      'Distance',\n",
    "                      'Points Accumulated',\n",
    "                      'Points Redeemed']].columns:\n",
    "    media_col = round(df_flight_active[col].mean(), 2) # se incorpora la media en el gráfico\n",
    "    sns.boxplot(data=df_flight_active, x=col)\n",
    "    plt.axvline(x=media_col, color='red', linestyle='--', linewidth=2, label=f'Media: {media_col}')\n",
    "    plt.legend()\n",
    "    plt.show();"
   ]
  },
  {
   "cell_type": "markdown",
   "id": "d27c3669",
   "metadata": {},
   "source": [
    "### Algunas conclusiones:\n",
    "\n",
    "- Vemos que muchos clientes tienen entre 4 y 11 vuelos que han sido reservados, que corresponde un poco con la grafica de 'Total vuelos' (entre 5 y 15 vuelos totales aproximadamente)\n",
    "- La media de vuelos reservados es de 8 vuelos reservados por cliente, y vuelos totales 10. Se podría decir que la mayoría de vuelos reservados se realizan\n",
    "- Menos clientes han realizado mas de 25 vuelos\n",
    "- En su mayoría los vuelos han sido sin acompañantes (vuelos individuales) con una media de 2 vuelos\n",
    "- La gran parte de los vuelos son de distancias cortas: entre 1.500 y 3.000. Pocos clientes han realizado vuelos mas largos\n",
    "- Los clientes acumulan puntos por distancia de vuelo, entre 150 y 300 puntos (que se puede corresponder a la distancia de vuelo)\n",
    "- Se puede concluir que la gran mayoría no han utilizado estos puntos acumulados por vuelos realizados, ya que la media de los puntos usados se encuentra en 500 (tomando en cuenta que la mayoría de clientes tiene entre 150 y 300 puntos actualmente, 240 de media)\n",
    "- Se han realizado mas registros en 2018 comparado con 2017 (200 mas aproximadamente)\n",
    "- El mes en el que mas se han registrado clientes ha sido 'Noviembre'"
   ]
  },
  {
   "cell_type": "code",
   "execution_count": 221,
   "id": "a3c68289",
   "metadata": {},
   "outputs": [
    {
     "data": {
      "application/vnd.microsoft.datawrangler.viewer.v0+json": {
       "columns": [
        {
         "name": "index",
         "rawType": "object",
         "type": "string"
        },
        {
         "name": "0",
         "rawType": "int64",
         "type": "integer"
        }
       ],
       "ref": "28412eda-6b1d-49a1-a0cd-dd1399cbfe38",
       "rows": [
        [
         "Loyalty Number",
         "0"
        ],
        [
         "Year",
         "0"
        ],
        [
         "Month",
         "0"
        ],
        [
         "Flights Booked",
         "0"
        ],
        [
         "Flights with Companions",
         "0"
        ],
        [
         "Total Flights",
         "0"
        ],
        [
         "Distance",
         "0"
        ],
        [
         "Points Accumulated",
         "0"
        ],
        [
         "Points Redeemed",
         "0"
        ],
        [
         "Dollar Cost Points Redeemed",
         "0"
        ]
       ],
       "shape": {
        "columns": 1,
        "rows": 10
       }
      },
      "text/plain": [
       "Loyalty Number                 0\n",
       "Year                           0\n",
       "Month                          0\n",
       "Flights Booked                 0\n",
       "Flights with Companions        0\n",
       "Total Flights                  0\n",
       "Distance                       0\n",
       "Points Accumulated             0\n",
       "Points Redeemed                0\n",
       "Dollar Cost Points Redeemed    0\n",
       "dtype: int64"
      ]
     },
     "execution_count": 221,
     "metadata": {},
     "output_type": "execute_result"
    }
   ],
   "source": [
    "# 7. Se verifica la cantidad de nulos que tenemos en el DataFrame\n",
    "\n",
    "df_flight.isnull().sum() \n",
    "# no tenemos datos nulos en ninguna de las columnas"
   ]
  },
  {
   "cell_type": "code",
   "execution_count": 222,
   "id": "14223c2f",
   "metadata": {},
   "outputs": [
    {
     "name": "stdout",
     "output_type": "stream",
     "text": [
      "<class 'pandas.core.frame.DataFrame'>\n",
      "Index: 403760 entries, 0 to 405623\n",
      "Data columns (total 10 columns):\n",
      " #   Column                       Non-Null Count   Dtype \n",
      "---  ------                       --------------   ----- \n",
      " 0   Loyalty Number               403760 non-null  int64 \n",
      " 1   Year                         403760 non-null  object\n",
      " 2   Month                        403760 non-null  object\n",
      " 3   Flights Booked               403760 non-null  int64 \n",
      " 4   Flights with Companions      403760 non-null  int64 \n",
      " 5   Total Flights                403760 non-null  int64 \n",
      " 6   Distance                     403760 non-null  int64 \n",
      " 7   Points Accumulated           403760 non-null  int32 \n",
      " 8   Points Redeemed              403760 non-null  int64 \n",
      " 9   Dollar Cost Points Redeemed  403760 non-null  int64 \n",
      "dtypes: int32(1), int64(7), object(2)\n",
      "memory usage: 32.3+ MB\n"
     ]
    }
   ],
   "source": [
    "df_flight.info() # comprobar el total de registros. Tenemos el archivo limpio de duplicados y nulos"
   ]
  },
  {
   "cell_type": "markdown",
   "id": "4d0b6197",
   "metadata": {},
   "source": [
    "## II. Trabajamos con el DataFrame de información sobre el perfil de los clientes y detalles de su membresía\n",
    "#### DataFrame: `df_loyalty`\n",
    "---"
   ]
  },
  {
   "cell_type": "code",
   "execution_count": 223,
   "id": "1a740a8b",
   "metadata": {},
   "outputs": [
    {
     "data": {
      "application/vnd.microsoft.datawrangler.viewer.v0+json": {
       "columns": [
        {
         "name": "index",
         "rawType": "int64",
         "type": "integer"
        },
        {
         "name": "Loyalty Number",
         "rawType": "int64",
         "type": "integer"
        },
        {
         "name": "Country",
         "rawType": "object",
         "type": "string"
        },
        {
         "name": "Province",
         "rawType": "object",
         "type": "string"
        },
        {
         "name": "City",
         "rawType": "object",
         "type": "string"
        },
        {
         "name": "Postal Code",
         "rawType": "object",
         "type": "string"
        },
        {
         "name": "Gender",
         "rawType": "object",
         "type": "string"
        },
        {
         "name": "Education",
         "rawType": "object",
         "type": "string"
        },
        {
         "name": "Salary",
         "rawType": "float64",
         "type": "float"
        },
        {
         "name": "Marital Status",
         "rawType": "object",
         "type": "string"
        },
        {
         "name": "Loyalty Card",
         "rawType": "object",
         "type": "string"
        },
        {
         "name": "CLV",
         "rawType": "float64",
         "type": "float"
        },
        {
         "name": "Enrollment Type",
         "rawType": "object",
         "type": "string"
        },
        {
         "name": "Enrollment Year",
         "rawType": "int64",
         "type": "integer"
        },
        {
         "name": "Enrollment Month",
         "rawType": "int64",
         "type": "integer"
        },
        {
         "name": "Cancellation Year",
         "rawType": "float64",
         "type": "float"
        },
        {
         "name": "Cancellation Month",
         "rawType": "float64",
         "type": "float"
        }
       ],
       "ref": "d68d62cf-6745-44af-94d3-833bcb198e88",
       "rows": [
        [
         "0",
         "480934",
         "Canada",
         "Ontario",
         "Toronto",
         "M2Z 4K1",
         "Female",
         "Bachelor",
         "83236.0",
         "Married",
         "Star",
         "3839.14",
         "Standard",
         "2016",
         "2",
         null,
         null
        ],
        [
         "1",
         "549612",
         "Canada",
         "Alberta",
         "Edmonton",
         "T3G 6Y6",
         "Male",
         "College",
         null,
         "Divorced",
         "Star",
         "3839.61",
         "Standard",
         "2016",
         "3",
         null,
         null
        ]
       ],
       "shape": {
        "columns": 16,
        "rows": 2
       }
      },
      "text/html": [
       "<div>\n",
       "<style scoped>\n",
       "    .dataframe tbody tr th:only-of-type {\n",
       "        vertical-align: middle;\n",
       "    }\n",
       "\n",
       "    .dataframe tbody tr th {\n",
       "        vertical-align: top;\n",
       "    }\n",
       "\n",
       "    .dataframe thead th {\n",
       "        text-align: right;\n",
       "    }\n",
       "</style>\n",
       "<table border=\"1\" class=\"dataframe\">\n",
       "  <thead>\n",
       "    <tr style=\"text-align: right;\">\n",
       "      <th></th>\n",
       "      <th>Loyalty Number</th>\n",
       "      <th>Country</th>\n",
       "      <th>Province</th>\n",
       "      <th>City</th>\n",
       "      <th>Postal Code</th>\n",
       "      <th>Gender</th>\n",
       "      <th>Education</th>\n",
       "      <th>Salary</th>\n",
       "      <th>Marital Status</th>\n",
       "      <th>Loyalty Card</th>\n",
       "      <th>CLV</th>\n",
       "      <th>Enrollment Type</th>\n",
       "      <th>Enrollment Year</th>\n",
       "      <th>Enrollment Month</th>\n",
       "      <th>Cancellation Year</th>\n",
       "      <th>Cancellation Month</th>\n",
       "    </tr>\n",
       "  </thead>\n",
       "  <tbody>\n",
       "    <tr>\n",
       "      <th>0</th>\n",
       "      <td>480934</td>\n",
       "      <td>Canada</td>\n",
       "      <td>Ontario</td>\n",
       "      <td>Toronto</td>\n",
       "      <td>M2Z 4K1</td>\n",
       "      <td>Female</td>\n",
       "      <td>Bachelor</td>\n",
       "      <td>83236.0</td>\n",
       "      <td>Married</td>\n",
       "      <td>Star</td>\n",
       "      <td>3839.14</td>\n",
       "      <td>Standard</td>\n",
       "      <td>2016</td>\n",
       "      <td>2</td>\n",
       "      <td>NaN</td>\n",
       "      <td>NaN</td>\n",
       "    </tr>\n",
       "    <tr>\n",
       "      <th>1</th>\n",
       "      <td>549612</td>\n",
       "      <td>Canada</td>\n",
       "      <td>Alberta</td>\n",
       "      <td>Edmonton</td>\n",
       "      <td>T3G 6Y6</td>\n",
       "      <td>Male</td>\n",
       "      <td>College</td>\n",
       "      <td>NaN</td>\n",
       "      <td>Divorced</td>\n",
       "      <td>Star</td>\n",
       "      <td>3839.61</td>\n",
       "      <td>Standard</td>\n",
       "      <td>2016</td>\n",
       "      <td>3</td>\n",
       "      <td>NaN</td>\n",
       "      <td>NaN</td>\n",
       "    </tr>\n",
       "  </tbody>\n",
       "</table>\n",
       "</div>"
      ],
      "text/plain": [
       "   Loyalty Number Country Province      City Postal Code  Gender Education  \\\n",
       "0          480934  Canada  Ontario   Toronto     M2Z 4K1  Female  Bachelor   \n",
       "1          549612  Canada  Alberta  Edmonton     T3G 6Y6    Male   College   \n",
       "\n",
       "    Salary Marital Status Loyalty Card      CLV Enrollment Type  \\\n",
       "0  83236.0        Married         Star  3839.14        Standard   \n",
       "1      NaN       Divorced         Star  3839.61        Standard   \n",
       "\n",
       "   Enrollment Year  Enrollment Month  Cancellation Year  Cancellation Month  \n",
       "0             2016                 2                NaN                 NaN  \n",
       "1             2016                 3                NaN                 NaN  "
      ]
     },
     "metadata": {},
     "output_type": "display_data"
    },
    {
     "name": "stdout",
     "output_type": "stream",
     "text": [
      "******************************************************************************************************************************************************\n"
     ]
    },
    {
     "data": {
      "application/vnd.microsoft.datawrangler.viewer.v0+json": {
       "columns": [
        {
         "name": "index",
         "rawType": "int64",
         "type": "integer"
        },
        {
         "name": "Loyalty Number",
         "rawType": "int64",
         "type": "integer"
        },
        {
         "name": "Country",
         "rawType": "object",
         "type": "string"
        },
        {
         "name": "Province",
         "rawType": "object",
         "type": "string"
        },
        {
         "name": "City",
         "rawType": "object",
         "type": "string"
        },
        {
         "name": "Postal Code",
         "rawType": "object",
         "type": "string"
        },
        {
         "name": "Gender",
         "rawType": "object",
         "type": "string"
        },
        {
         "name": "Education",
         "rawType": "object",
         "type": "string"
        },
        {
         "name": "Salary",
         "rawType": "float64",
         "type": "float"
        },
        {
         "name": "Marital Status",
         "rawType": "object",
         "type": "string"
        },
        {
         "name": "Loyalty Card",
         "rawType": "object",
         "type": "string"
        },
        {
         "name": "CLV",
         "rawType": "float64",
         "type": "float"
        },
        {
         "name": "Enrollment Type",
         "rawType": "object",
         "type": "string"
        },
        {
         "name": "Enrollment Year",
         "rawType": "int64",
         "type": "integer"
        },
        {
         "name": "Enrollment Month",
         "rawType": "int64",
         "type": "integer"
        },
        {
         "name": "Cancellation Year",
         "rawType": "float64",
         "type": "float"
        },
        {
         "name": "Cancellation Month",
         "rawType": "float64",
         "type": "float"
        }
       ],
       "ref": "5101f4e7-cbd3-4f80-9a31-68f9e5bfe77b",
       "rows": [
        [
         "16735",
         "906428",
         "Canada",
         "Yukon",
         "Whitehorse",
         "Y2K 6R0",
         "Male",
         "Bachelor",
         "-57297.0",
         "Married",
         "Star",
         "10018.66",
         "2018 Promotion",
         "2018",
         "4",
         null,
         null
        ],
        [
         "16736",
         "652627",
         "Canada",
         "Manitoba",
         "Winnipeg",
         "R2C 0M5",
         "Female",
         "Bachelor",
         "75049.0",
         "Married",
         "Star",
         "83325.38",
         "Standard",
         "2015",
         "12",
         "2016.0",
         "8.0"
        ]
       ],
       "shape": {
        "columns": 16,
        "rows": 2
       }
      },
      "text/html": [
       "<div>\n",
       "<style scoped>\n",
       "    .dataframe tbody tr th:only-of-type {\n",
       "        vertical-align: middle;\n",
       "    }\n",
       "\n",
       "    .dataframe tbody tr th {\n",
       "        vertical-align: top;\n",
       "    }\n",
       "\n",
       "    .dataframe thead th {\n",
       "        text-align: right;\n",
       "    }\n",
       "</style>\n",
       "<table border=\"1\" class=\"dataframe\">\n",
       "  <thead>\n",
       "    <tr style=\"text-align: right;\">\n",
       "      <th></th>\n",
       "      <th>Loyalty Number</th>\n",
       "      <th>Country</th>\n",
       "      <th>Province</th>\n",
       "      <th>City</th>\n",
       "      <th>Postal Code</th>\n",
       "      <th>Gender</th>\n",
       "      <th>Education</th>\n",
       "      <th>Salary</th>\n",
       "      <th>Marital Status</th>\n",
       "      <th>Loyalty Card</th>\n",
       "      <th>CLV</th>\n",
       "      <th>Enrollment Type</th>\n",
       "      <th>Enrollment Year</th>\n",
       "      <th>Enrollment Month</th>\n",
       "      <th>Cancellation Year</th>\n",
       "      <th>Cancellation Month</th>\n",
       "    </tr>\n",
       "  </thead>\n",
       "  <tbody>\n",
       "    <tr>\n",
       "      <th>16735</th>\n",
       "      <td>906428</td>\n",
       "      <td>Canada</td>\n",
       "      <td>Yukon</td>\n",
       "      <td>Whitehorse</td>\n",
       "      <td>Y2K 6R0</td>\n",
       "      <td>Male</td>\n",
       "      <td>Bachelor</td>\n",
       "      <td>-57297.0</td>\n",
       "      <td>Married</td>\n",
       "      <td>Star</td>\n",
       "      <td>10018.66</td>\n",
       "      <td>2018 Promotion</td>\n",
       "      <td>2018</td>\n",
       "      <td>4</td>\n",
       "      <td>NaN</td>\n",
       "      <td>NaN</td>\n",
       "    </tr>\n",
       "    <tr>\n",
       "      <th>16736</th>\n",
       "      <td>652627</td>\n",
       "      <td>Canada</td>\n",
       "      <td>Manitoba</td>\n",
       "      <td>Winnipeg</td>\n",
       "      <td>R2C 0M5</td>\n",
       "      <td>Female</td>\n",
       "      <td>Bachelor</td>\n",
       "      <td>75049.0</td>\n",
       "      <td>Married</td>\n",
       "      <td>Star</td>\n",
       "      <td>83325.38</td>\n",
       "      <td>Standard</td>\n",
       "      <td>2015</td>\n",
       "      <td>12</td>\n",
       "      <td>2016.0</td>\n",
       "      <td>8.0</td>\n",
       "    </tr>\n",
       "  </tbody>\n",
       "</table>\n",
       "</div>"
      ],
      "text/plain": [
       "       Loyalty Number Country  Province        City Postal Code  Gender  \\\n",
       "16735          906428  Canada     Yukon  Whitehorse     Y2K 6R0    Male   \n",
       "16736          652627  Canada  Manitoba    Winnipeg     R2C 0M5  Female   \n",
       "\n",
       "      Education   Salary Marital Status Loyalty Card       CLV  \\\n",
       "16735  Bachelor -57297.0        Married         Star  10018.66   \n",
       "16736  Bachelor  75049.0        Married         Star  83325.38   \n",
       "\n",
       "      Enrollment Type  Enrollment Year  Enrollment Month  Cancellation Year  \\\n",
       "16735  2018 Promotion             2018                 4                NaN   \n",
       "16736        Standard             2015                12             2016.0   \n",
       "\n",
       "       Cancellation Month  \n",
       "16735                 NaN  \n",
       "16736                 8.0  "
      ]
     },
     "metadata": {},
     "output_type": "display_data"
    },
    {
     "name": "stdout",
     "output_type": "stream",
     "text": [
      "******************************************************************************************************************************************************\n"
     ]
    },
    {
     "data": {
      "application/vnd.microsoft.datawrangler.viewer.v0+json": {
       "columns": [
        {
         "name": "index",
         "rawType": "int64",
         "type": "integer"
        },
        {
         "name": "Loyalty Number",
         "rawType": "int64",
         "type": "integer"
        },
        {
         "name": "Country",
         "rawType": "object",
         "type": "string"
        },
        {
         "name": "Province",
         "rawType": "object",
         "type": "string"
        },
        {
         "name": "City",
         "rawType": "object",
         "type": "string"
        },
        {
         "name": "Postal Code",
         "rawType": "object",
         "type": "string"
        },
        {
         "name": "Gender",
         "rawType": "object",
         "type": "string"
        },
        {
         "name": "Education",
         "rawType": "object",
         "type": "string"
        },
        {
         "name": "Salary",
         "rawType": "float64",
         "type": "float"
        },
        {
         "name": "Marital Status",
         "rawType": "object",
         "type": "string"
        },
        {
         "name": "Loyalty Card",
         "rawType": "object",
         "type": "string"
        },
        {
         "name": "CLV",
         "rawType": "float64",
         "type": "float"
        },
        {
         "name": "Enrollment Type",
         "rawType": "object",
         "type": "string"
        },
        {
         "name": "Enrollment Year",
         "rawType": "int64",
         "type": "integer"
        },
        {
         "name": "Enrollment Month",
         "rawType": "int64",
         "type": "integer"
        },
        {
         "name": "Cancellation Year",
         "rawType": "float64",
         "type": "float"
        },
        {
         "name": "Cancellation Month",
         "rawType": "float64",
         "type": "float"
        }
       ],
       "ref": "765bf208-4f56-4556-aae2-3a4c1276db3d",
       "rows": [
        [
         "8506",
         "585853",
         "Canada",
         "Ontario",
         "Toronto",
         "P1W 1K4",
         "Female",
         "Doctor",
         "198197.0",
         "Married",
         "Nova",
         "9256.92",
         "Standard",
         "2013",
         "9",
         null,
         null
        ],
        [
         "11065",
         "483969",
         "Canada",
         "Ontario",
         "Toronto",
         "M8Y 4K8",
         "Male",
         "College",
         null,
         "Divorced",
         "Star",
         "2557.09",
         "Standard",
         "2018",
         "12",
         null,
         null
        ]
       ],
       "shape": {
        "columns": 16,
        "rows": 2
       }
      },
      "text/html": [
       "<div>\n",
       "<style scoped>\n",
       "    .dataframe tbody tr th:only-of-type {\n",
       "        vertical-align: middle;\n",
       "    }\n",
       "\n",
       "    .dataframe tbody tr th {\n",
       "        vertical-align: top;\n",
       "    }\n",
       "\n",
       "    .dataframe thead th {\n",
       "        text-align: right;\n",
       "    }\n",
       "</style>\n",
       "<table border=\"1\" class=\"dataframe\">\n",
       "  <thead>\n",
       "    <tr style=\"text-align: right;\">\n",
       "      <th></th>\n",
       "      <th>Loyalty Number</th>\n",
       "      <th>Country</th>\n",
       "      <th>Province</th>\n",
       "      <th>City</th>\n",
       "      <th>Postal Code</th>\n",
       "      <th>Gender</th>\n",
       "      <th>Education</th>\n",
       "      <th>Salary</th>\n",
       "      <th>Marital Status</th>\n",
       "      <th>Loyalty Card</th>\n",
       "      <th>CLV</th>\n",
       "      <th>Enrollment Type</th>\n",
       "      <th>Enrollment Year</th>\n",
       "      <th>Enrollment Month</th>\n",
       "      <th>Cancellation Year</th>\n",
       "      <th>Cancellation Month</th>\n",
       "    </tr>\n",
       "  </thead>\n",
       "  <tbody>\n",
       "    <tr>\n",
       "      <th>8506</th>\n",
       "      <td>585853</td>\n",
       "      <td>Canada</td>\n",
       "      <td>Ontario</td>\n",
       "      <td>Toronto</td>\n",
       "      <td>P1W 1K4</td>\n",
       "      <td>Female</td>\n",
       "      <td>Doctor</td>\n",
       "      <td>198197.0</td>\n",
       "      <td>Married</td>\n",
       "      <td>Nova</td>\n",
       "      <td>9256.92</td>\n",
       "      <td>Standard</td>\n",
       "      <td>2013</td>\n",
       "      <td>9</td>\n",
       "      <td>NaN</td>\n",
       "      <td>NaN</td>\n",
       "    </tr>\n",
       "    <tr>\n",
       "      <th>11065</th>\n",
       "      <td>483969</td>\n",
       "      <td>Canada</td>\n",
       "      <td>Ontario</td>\n",
       "      <td>Toronto</td>\n",
       "      <td>M8Y 4K8</td>\n",
       "      <td>Male</td>\n",
       "      <td>College</td>\n",
       "      <td>NaN</td>\n",
       "      <td>Divorced</td>\n",
       "      <td>Star</td>\n",
       "      <td>2557.09</td>\n",
       "      <td>Standard</td>\n",
       "      <td>2018</td>\n",
       "      <td>12</td>\n",
       "      <td>NaN</td>\n",
       "      <td>NaN</td>\n",
       "    </tr>\n",
       "  </tbody>\n",
       "</table>\n",
       "</div>"
      ],
      "text/plain": [
       "       Loyalty Number Country Province     City Postal Code  Gender Education  \\\n",
       "8506           585853  Canada  Ontario  Toronto     P1W 1K4  Female    Doctor   \n",
       "11065          483969  Canada  Ontario  Toronto     M8Y 4K8    Male   College   \n",
       "\n",
       "         Salary Marital Status Loyalty Card      CLV Enrollment Type  \\\n",
       "8506   198197.0        Married         Nova  9256.92        Standard   \n",
       "11065       NaN       Divorced         Star  2557.09        Standard   \n",
       "\n",
       "       Enrollment Year  Enrollment Month  Cancellation Year  \\\n",
       "8506              2013                 9                NaN   \n",
       "11065             2018                12                NaN   \n",
       "\n",
       "       Cancellation Month  \n",
       "8506                  NaN  \n",
       "11065                 NaN  "
      ]
     },
     "metadata": {},
     "output_type": "display_data"
    }
   ],
   "source": [
    "# 1. Exploramos una visión general del DataFrame:\n",
    "\n",
    "display(df_loyalty.head(2)) # revisamos los primeros datos\n",
    "print('***' * 50)\n",
    "display(df_loyalty.tail(2)) # revisamos los últimos datos\n",
    "print('***' * 50)\n",
    "display(df_loyalty.sample(2)) # revisamos datos aleatorios"
   ]
  },
  {
   "cell_type": "code",
   "execution_count": 224,
   "id": "ef00c2da",
   "metadata": {},
   "outputs": [],
   "source": [
    "# Primeras observaciones:\n",
    "# vemos que hay algunos salarios en negativo y hay valores faltantes\n",
    "# los datos de 'Enrollment Month' está en numero, se podría cambiar al nombre de los meses y tratar como una columna categórica\n",
    "# faltan valores en la columna de 'Cancellation Year' y 'Cancellation Month', y estan de tipo 'float', se podría cambiar a 'int'\n",
    "# 'Enrollment Type' tiene valores numéricos (año) y categóricos, se podría tratar como uan columnas de tipo categórico"
   ]
  },
  {
   "cell_type": "code",
   "execution_count": 225,
   "id": "8bd6b35e",
   "metadata": {},
   "outputs": [
    {
     "name": "stdout",
     "output_type": "stream",
     "text": [
      "El número de filas es 16737, el número de columnas es 16\n"
     ]
    }
   ],
   "source": [
    "# exploramos el número de filas y columnas:\n",
    " \n",
    "print(f\"El número de filas es {df_loyalty.shape[0]}, el número de columnas es {df_loyalty.shape[1]}\")"
   ]
  },
  {
   "cell_type": "code",
   "execution_count": 226,
   "id": "cc48a8d8",
   "metadata": {},
   "outputs": [
    {
     "data": {
      "text/plain": [
       "Index(['Loyalty Number', 'Country', 'Province', 'City', 'Postal Code',\n",
       "       'Gender', 'Education', 'Salary', 'Marital Status', 'Loyalty Card',\n",
       "       'CLV', 'Enrollment Type', 'Enrollment Year', 'Enrollment Month',\n",
       "       'Cancellation Year', 'Cancellation Month'],\n",
       "      dtype='object')"
      ]
     },
     "execution_count": 226,
     "metadata": {},
     "output_type": "execute_result"
    }
   ],
   "source": [
    "# exploramos los nombres de las columnas:\n",
    "\n",
    "df_loyalty.columns\n",
    "\n",
    "# vemos que el patrón entre las columnas es consistente, por lo que no modificamos"
   ]
  },
  {
   "cell_type": "code",
   "execution_count": 227,
   "id": "d6085bae",
   "metadata": {},
   "outputs": [
    {
     "name": "stdout",
     "output_type": "stream",
     "text": [
      "<class 'pandas.core.frame.DataFrame'>\n",
      "RangeIndex: 16737 entries, 0 to 16736\n",
      "Data columns (total 16 columns):\n",
      " #   Column              Non-Null Count  Dtype  \n",
      "---  ------              --------------  -----  \n",
      " 0   Loyalty Number      16737 non-null  int64  \n",
      " 1   Country             16737 non-null  object \n",
      " 2   Province            16737 non-null  object \n",
      " 3   City                16737 non-null  object \n",
      " 4   Postal Code         16737 non-null  object \n",
      " 5   Gender              16737 non-null  object \n",
      " 6   Education           16737 non-null  object \n",
      " 7   Salary              12499 non-null  float64\n",
      " 8   Marital Status      16737 non-null  object \n",
      " 9   Loyalty Card        16737 non-null  object \n",
      " 10  CLV                 16737 non-null  float64\n",
      " 11  Enrollment Type     16737 non-null  object \n",
      " 12  Enrollment Year     16737 non-null  int64  \n",
      " 13  Enrollment Month    16737 non-null  int64  \n",
      " 14  Cancellation Year   2067 non-null   float64\n",
      " 15  Cancellation Month  2067 non-null   float64\n",
      "dtypes: float64(4), int64(3), object(9)\n",
      "memory usage: 2.0+ MB\n"
     ]
    }
   ],
   "source": [
    "# 2. Exploramos la información del DataFrame:\n",
    "\n",
    "df_loyalty.info()"
   ]
  },
  {
   "cell_type": "code",
   "execution_count": 228,
   "id": "be65f062",
   "metadata": {},
   "outputs": [],
   "source": [
    "# Segundas observaciones:\n",
    "# existen valores nulos en 'Salary', 'Cancellation Year, 'Cancellation Month'\n",
    "# se puede considerar cambio valores a 'object/str' para los datos en 'Enrollment Year', 'Enrollment Month', 'Cancellation Year, 'Cancellation Month'"
   ]
  },
  {
   "cell_type": "markdown",
   "id": "e556a461",
   "metadata": {},
   "source": [
    "### Primeras conclusiones de la exploración de datos del DataFrame:\n",
    "\n",
    "- Existen datos nulos que debemos gestionar antes de las visualizaciones en 'Salary', 'Cancellation Year, 'Cancellation Month' ✓\n",
    "- Existen datos negativos en 'Salary' que debemos gestionar (no deberían haber salarios con valores negativos) ✓\n",
    "- Las columnas tienen nombres unificados, por lo que no haremos cambios \n",
    "- Los datos en 'Enrollment Month' y 'Cancellation Month' están expresados en número de los meses. Se podría cambiar al nombre de los meses y tratar como una columna categórica ✓\n",
    "- Los datos de las columnas 'Enrollment Year' y 'Enrollment Month' están de tipo 'int'. Se podría cambiar a 'object/str' y convertir a datos categóricos ✓\n",
    "- Los datos de las columnas 'Cancellation Year' y 'Cancellation Month' están de tipo 'float'. Se decide cambiar de tipo de dato 'object/str' y convertir a datos categóricos ✓"
   ]
  },
  {
   "cell_type": "code",
   "execution_count": 229,
   "id": "074cfa02",
   "metadata": {},
   "outputs": [
    {
     "data": {
      "application/vnd.microsoft.datawrangler.viewer.v0+json": {
       "columns": [
        {
         "name": "index",
         "rawType": "object",
         "type": "string"
        },
        {
         "name": "0",
         "rawType": "int64",
         "type": "integer"
        }
       ],
       "ref": "24a19789-8fb2-4ddd-8bfa-11a5e2ccdd8a",
       "rows": [
        [
         "Loyalty Number",
         "0"
        ],
        [
         "Country",
         "0"
        ],
        [
         "Province",
         "0"
        ],
        [
         "City",
         "0"
        ],
        [
         "Postal Code",
         "0"
        ],
        [
         "Gender",
         "0"
        ],
        [
         "Education",
         "0"
        ],
        [
         "Salary",
         "4238"
        ],
        [
         "Marital Status",
         "0"
        ],
        [
         "Loyalty Card",
         "0"
        ],
        [
         "CLV",
         "0"
        ],
        [
         "Enrollment Type",
         "0"
        ],
        [
         "Enrollment Year",
         "0"
        ],
        [
         "Enrollment Month",
         "0"
        ],
        [
         "Cancellation Year",
         "14670"
        ],
        [
         "Cancellation Month",
         "14670"
        ]
       ],
       "shape": {
        "columns": 1,
        "rows": 16
       }
      },
      "text/plain": [
       "Loyalty Number            0\n",
       "Country                   0\n",
       "Province                  0\n",
       "City                      0\n",
       "Postal Code               0\n",
       "Gender                    0\n",
       "Education                 0\n",
       "Salary                 4238\n",
       "Marital Status            0\n",
       "Loyalty Card              0\n",
       "CLV                       0\n",
       "Enrollment Type           0\n",
       "Enrollment Year           0\n",
       "Enrollment Month          0\n",
       "Cancellation Year     14670\n",
       "Cancellation Month    14670\n",
       "dtype: int64"
      ]
     },
     "execution_count": 229,
     "metadata": {},
     "output_type": "execute_result"
    }
   ],
   "source": [
    "# 3. Exploramos y gestionamos los valores nulos (gran cantidad de valores faltantes en el DataFrame y para que no afecte los análisis siguientes)\n",
    "\n",
    "df_loyalty.isnull().sum()\n",
    "\n",
    "# confirmamos que las columnas con datos nulos son 'Salary', 'Cancellation Year', 'Cancellation Month'"
   ]
  },
  {
   "cell_type": "code",
   "execution_count": 230,
   "id": "b2718835",
   "metadata": {},
   "outputs": [
    {
     "data": {
      "application/vnd.microsoft.datawrangler.viewer.v0+json": {
       "columns": [
        {
         "name": "index",
         "rawType": "object",
         "type": "string"
        },
        {
         "name": "0",
         "rawType": "float64",
         "type": "float"
        }
       ],
       "ref": "a9c03b04-411a-433b-9bb1-ff0e4cec9f20",
       "rows": [
        [
         "Loyalty Number",
         "0.0"
        ],
        [
         "Country",
         "0.0"
        ],
        [
         "Province",
         "0.0"
        ],
        [
         "City",
         "0.0"
        ],
        [
         "Postal Code",
         "0.0"
        ],
        [
         "Gender",
         "0.0"
        ],
        [
         "Education",
         "0.0"
        ],
        [
         "Salary",
         "25.321144769074504"
        ],
        [
         "Marital Status",
         "0.0"
        ],
        [
         "Loyalty Card",
         "0.0"
        ],
        [
         "CLV",
         "0.0"
        ],
        [
         "Enrollment Type",
         "0.0"
        ],
        [
         "Enrollment Year",
         "0.0"
        ],
        [
         "Enrollment Month",
         "0.0"
        ],
        [
         "Cancellation Year",
         "87.65011650833483"
        ],
        [
         "Cancellation Month",
         "87.65011650833483"
        ]
       ],
       "shape": {
        "columns": 1,
        "rows": 16
       }
      },
      "text/plain": [
       "Loyalty Number         0.000000\n",
       "Country                0.000000\n",
       "Province               0.000000\n",
       "City                   0.000000\n",
       "Postal Code            0.000000\n",
       "Gender                 0.000000\n",
       "Education              0.000000\n",
       "Salary                25.321145\n",
       "Marital Status         0.000000\n",
       "Loyalty Card           0.000000\n",
       "CLV                    0.000000\n",
       "Enrollment Type        0.000000\n",
       "Enrollment Year        0.000000\n",
       "Enrollment Month       0.000000\n",
       "Cancellation Year     87.650117\n",
       "Cancellation Month    87.650117\n",
       "dtype: float64"
      ]
     },
     "execution_count": 230,
     "metadata": {},
     "output_type": "execute_result"
    }
   ],
   "source": [
    "# para decidir como gestionar los nulos de estas columnas debemos verlo en porcentaje\n",
    "\n",
    "df_loyalty.isnull().sum()/df_loyalty.shape[0]*100 # para verlo en porcentaje"
   ]
  },
  {
   "cell_type": "code",
   "execution_count": 231,
   "id": "d9e97100",
   "metadata": {},
   "outputs": [
    {
     "data": {
      "application/vnd.microsoft.datawrangler.viewer.v0+json": {
       "columns": [
        {
         "name": "index",
         "rawType": "int64",
         "type": "integer"
        },
        {
         "name": "columna",
         "rawType": "object",
         "type": "string"
        },
        {
         "name": "% nulos",
         "rawType": "float64",
         "type": "float"
        }
       ],
       "ref": "79f682da-9404-422f-8b91-6de4cc2c6fe9",
       "rows": [
        [
         "7",
         "Salary",
         "25.321144769074504"
        ],
        [
         "14",
         "Cancellation Year",
         "87.65011650833483"
        ],
        [
         "15",
         "Cancellation Month",
         "87.65011650833483"
        ]
       ],
       "shape": {
        "columns": 2,
        "rows": 3
       }
      },
      "text/html": [
       "<div>\n",
       "<style scoped>\n",
       "    .dataframe tbody tr th:only-of-type {\n",
       "        vertical-align: middle;\n",
       "    }\n",
       "\n",
       "    .dataframe tbody tr th {\n",
       "        vertical-align: top;\n",
       "    }\n",
       "\n",
       "    .dataframe thead th {\n",
       "        text-align: right;\n",
       "    }\n",
       "</style>\n",
       "<table border=\"1\" class=\"dataframe\">\n",
       "  <thead>\n",
       "    <tr style=\"text-align: right;\">\n",
       "      <th></th>\n",
       "      <th>columna</th>\n",
       "      <th>% nulos</th>\n",
       "    </tr>\n",
       "  </thead>\n",
       "  <tbody>\n",
       "    <tr>\n",
       "      <th>7</th>\n",
       "      <td>Salary</td>\n",
       "      <td>25.321145</td>\n",
       "    </tr>\n",
       "    <tr>\n",
       "      <th>14</th>\n",
       "      <td>Cancellation Year</td>\n",
       "      <td>87.650117</td>\n",
       "    </tr>\n",
       "    <tr>\n",
       "      <th>15</th>\n",
       "      <td>Cancellation Month</td>\n",
       "      <td>87.650117</td>\n",
       "    </tr>\n",
       "  </tbody>\n",
       "</table>\n",
       "</div>"
      ],
      "text/plain": [
       "               columna    % nulos\n",
       "7               Salary  25.321145\n",
       "14   Cancellation Year  87.650117\n",
       "15  Cancellation Month  87.650117"
      ]
     },
     "execution_count": 231,
     "metadata": {},
     "output_type": "execute_result"
    }
   ],
   "source": [
    "# podemos representar los nulos en un DataFrame, para mejor visualización que nos ayude a tomar decisiones\n",
    "\n",
    "nulos = (df_loyalty.isnull().sum()/df_loyalty.shape[0]*100).reset_index() # guardamos los datos en porcentaje en una variable\n",
    "\n",
    "nulos.rename(columns={'index': 'columna', 0:'% nulos'}, inplace=True) # reenombrar las columnas del nuevo DataFrame\n",
    "mascara = nulos['% nulos'] > 0 # filtramos par que nos muestre los valores mayor a '0'\n",
    "nulos = nulos[mascara]\n",
    "nulos"
   ]
  },
  {
   "cell_type": "code",
   "execution_count": 232,
   "id": "e3785c46",
   "metadata": {},
   "outputs": [],
   "source": [
    "# verificamos que 'Salary' tiene un 25% de nulos\n",
    "# 'Cancellation Year' y 'Cancellation Month' tienen nulos con un 88%\n",
    "\n",
    "# En ningún caso podemos imputar estos valores por la media/mediana, por lo que se debe generar una nueva categoría/valor:\n",
    "\n",
    "# - 'No data' para los datos de cancelación, ya que podríamos determinar que estos clientes no han cancelado sus registro en el programa de lealtad\n",
    "\n",
    "# - Para los datos de salario, ya que podemos intuir que el cliente no proporcionó este dato a la hora del registro, reemplazamos los valores nulos\n",
    "# por el valor '0', que luedo podemos filtrar para los siguientes análisis\n",
    "\n",
    "# Se debe tomar en cuenta que el tipo de dato de estas columnas se reemplazaran de numérico a categórico, \n",
    "# por lo que se aplicará la función 'replace()' y que el mapa no nos afecte estos datos nulos modificados"
   ]
  },
  {
   "cell_type": "code",
   "execution_count": 233,
   "id": "f1ced820",
   "metadata": {},
   "outputs": [
    {
     "name": "stdout",
     "output_type": "stream",
     "text": [
      "count     12499.000000\n",
      "mean      79245.609409\n",
      "std       35008.297285\n",
      "min      -58486.000000\n",
      "25%       59246.500000\n",
      "50%       73455.000000\n",
      "75%       88517.500000\n",
      "max      407228.000000\n",
      "Name: Salary, dtype: float64\n",
      "       Loyalty Number Country          Province            City Postal Code  \\\n",
      "1082           542976  Canada            Quebec        Montreal     H2Y 4R4   \n",
      "1894           959977  Canada  British Columbia       Vancouver     V5R 1W3   \n",
      "2471           232755  Canada  British Columbia       Vancouver     V1E 4R6   \n",
      "3575           525245  Canada  British Columbia        Victoria     V10 6T5   \n",
      "3932           603070  Canada  British Columbia  West Vancouver     V6V 8Z3   \n",
      "4712           491242  Canada  British Columbia    Dawson Creek     U5I 4F1   \n",
      "6560           115505  Canada      Newfoundland      St. John's     A1C 6H9   \n",
      "6570           430398  Canada      Newfoundland      St. John's     A1C 6H9   \n",
      "7373           152016  Canada           Ontario         Toronto     P1J 8T7   \n",
      "8576           194065  Canada           Ontario         Sudbury     M5V 1G5   \n",
      "8767           212128  Canada           Ontario         Toronto     P2T 6G3   \n",
      "10232          790475  Canada           Ontario         Trenton     K8V 4B2   \n",
      "11635          366599  Canada           Ontario         Toronto     M1R 4K3   \n",
      "12596          436087  Canada            Quebec        Montreal     H2T 9K8   \n",
      "13564          364596  Canada            Quebec       Tremblant     H5Y 2S9   \n",
      "14327          239955  Canada            Quebec            Hull     J8Y 3Z5   \n",
      "14355          347013  Canada            Quebec     Quebec City     G1B 3L5   \n",
      "15416          729561  Canada            Quebec     Quebec City     G1B 3L5   \n",
      "16431          734647  Canada      Saskatchewan          Regina     S1J 3C5   \n",
      "16735          906428  Canada             Yukon      Whitehorse     Y2K 6R0   \n",
      "\n",
      "       Gender             Education   Salary Marital Status Loyalty Card  \\\n",
      "1082     Male  High School or Below -49830.0       Divorced         Star   \n",
      "1894   Female              Bachelor -12497.0        Married       Aurora   \n",
      "2471   Female              Bachelor -46683.0         Single         Nova   \n",
      "3575     Male              Bachelor -45962.0        Married         Star   \n",
      "3932   Female              Bachelor -19325.0         Single         Star   \n",
      "4712     Male              Bachelor -43234.0        Married         Star   \n",
      "6560     Male              Bachelor -10605.0        Married         Nova   \n",
      "6570     Male              Bachelor -17534.0        Married         Nova   \n",
      "7373   Female              Bachelor -58486.0        Married       Aurora   \n",
      "8576   Female              Bachelor -31911.0        Married         Nova   \n",
      "8767     Male              Bachelor -49001.0        Married         Nova   \n",
      "10232  Female              Bachelor -34079.0        Married         Nova   \n",
      "11635  Female              Bachelor  -9081.0        Married         Star   \n",
      "12596    Male              Bachelor -46470.0        Married         Star   \n",
      "13564  Female              Bachelor -26322.0         Single       Aurora   \n",
      "14327  Female              Bachelor -47310.0        Married         Nova   \n",
      "14355    Male              Bachelor -39503.0        Married         Nova   \n",
      "15416  Female              Bachelor -19332.0       Divorced         Star   \n",
      "16431    Male              Bachelor -46303.0        Married         Nova   \n",
      "16735    Male              Bachelor -57297.0        Married         Star   \n",
      "\n",
      "            CLV Enrollment Type  Enrollment Year  Enrollment Month  \\\n",
      "1082   24127.50  2018 Promotion             2018                 3   \n",
      "1894    9453.00  2018 Promotion             2018                 3   \n",
      "2471    4787.81  2018 Promotion             2018                 3   \n",
      "3575    2402.33  2018 Promotion             2018                 3   \n",
      "3932    2893.74  2018 Promotion             2018                 3   \n",
      "4712    7597.91  2018 Promotion             2018                 3   \n",
      "6560    5860.17  2018 Promotion             2018                 4   \n",
      "6570   49423.80  2018 Promotion             2018                 3   \n",
      "7373    5067.21  2018 Promotion             2018                 2   \n",
      "8576    2888.85  2018 Promotion             2018                 2   \n",
      "8767    3130.68  2018 Promotion             2018                 2   \n",
      "10232  12913.50  2018 Promotion             2018                 2   \n",
      "11635   6915.73  2018 Promotion             2018                 4   \n",
      "12596   4786.89  2018 Promotion             2018                 4   \n",
      "13564  16710.84  2018 Promotion             2018                 4   \n",
      "14327   6366.23  2018 Promotion             2018                 3   \n",
      "14355   6446.71  2018 Promotion             2018                 3   \n",
      "15416   5308.29  2018 Promotion             2018                 2   \n",
      "16431  11280.73  2018 Promotion             2018                 4   \n",
      "16735  10018.66  2018 Promotion             2018                 4   \n",
      "\n",
      "       Cancellation Year  Cancellation Month  \n",
      "1082                 NaN                 NaN  \n",
      "1894                 NaN                 NaN  \n",
      "2471                 NaN                 NaN  \n",
      "3575                 NaN                 NaN  \n",
      "3932                 NaN                 NaN  \n",
      "4712                 NaN                 NaN  \n",
      "6560                 NaN                 NaN  \n",
      "6570                 NaN                 NaN  \n",
      "7373                 NaN                 NaN  \n",
      "8576                 NaN                 NaN  \n",
      "8767                 NaN                 NaN  \n",
      "10232                NaN                 NaN  \n",
      "11635                NaN                 NaN  \n",
      "12596             2018.0                 8.0  \n",
      "13564             2018.0                12.0  \n",
      "14327                NaN                 NaN  \n",
      "14355                NaN                 NaN  \n",
      "15416                NaN                 NaN  \n",
      "16431                NaN                 NaN  \n",
      "16735                NaN                 NaN  \n",
      "Loyalty Number        20\n",
      "Country               20\n",
      "Province              20\n",
      "City                  20\n",
      "Postal Code           20\n",
      "Gender                20\n",
      "Education             20\n",
      "Salary                20\n",
      "Marital Status        20\n",
      "Loyalty Card          20\n",
      "CLV                   20\n",
      "Enrollment Type       20\n",
      "Enrollment Year       20\n",
      "Enrollment Month      20\n",
      "Cancellation Year      2\n",
      "Cancellation Month     2\n",
      "dtype: int64\n"
     ]
    }
   ],
   "source": [
    "# visualizamos los datos en negativo que existen en la columna 'Salary' para ver si es un error de entrada, si son casos aislados\n",
    "# determinar la razón\n",
    "\n",
    "print(df_loyalty['Salary'].describe())\n",
    "print(df_loyalty[df_loyalty['Salary'] < 0].head(20))\n",
    "print(df_loyalty[df_loyalty['Salary'] < 0].count())"
   ]
  },
  {
   "cell_type": "code",
   "execution_count": 234,
   "id": "6eba8ce0",
   "metadata": {},
   "outputs": [
    {
     "data": {
      "application/vnd.microsoft.datawrangler.viewer.v0+json": {
       "columns": [
        {
         "name": "index",
         "rawType": "int64",
         "type": "integer"
        },
        {
         "name": "Loyalty Number",
         "rawType": "int64",
         "type": "integer"
        },
        {
         "name": "Country",
         "rawType": "object",
         "type": "string"
        },
        {
         "name": "Province",
         "rawType": "object",
         "type": "string"
        },
        {
         "name": "City",
         "rawType": "object",
         "type": "string"
        },
        {
         "name": "Postal Code",
         "rawType": "object",
         "type": "string"
        },
        {
         "name": "Gender",
         "rawType": "object",
         "type": "string"
        },
        {
         "name": "Education",
         "rawType": "object",
         "type": "string"
        },
        {
         "name": "Salary",
         "rawType": "float64",
         "type": "float"
        },
        {
         "name": "Marital Status",
         "rawType": "object",
         "type": "string"
        },
        {
         "name": "Loyalty Card",
         "rawType": "object",
         "type": "string"
        },
        {
         "name": "CLV",
         "rawType": "float64",
         "type": "float"
        },
        {
         "name": "Enrollment Type",
         "rawType": "object",
         "type": "string"
        },
        {
         "name": "Enrollment Year",
         "rawType": "int64",
         "type": "integer"
        },
        {
         "name": "Enrollment Month",
         "rawType": "int64",
         "type": "integer"
        },
        {
         "name": "Cancellation Year",
         "rawType": "float64",
         "type": "float"
        },
        {
         "name": "Cancellation Month",
         "rawType": "float64",
         "type": "float"
        }
       ],
       "ref": "11e894fe-b907-434e-832d-8211a8395ba2",
       "rows": [
        [
         "0",
         "480934",
         "Canada",
         "Ontario",
         "Toronto",
         "M2Z 4K1",
         "Female",
         "Bachelor",
         "83236.0",
         "Married",
         "Star",
         "3839.14",
         "Standard",
         "2016",
         "2",
         null,
         null
        ],
        [
         "1",
         "549612",
         "Canada",
         "Alberta",
         "Edmonton",
         "T3G 6Y6",
         "Male",
         "College",
         null,
         "Divorced",
         "Star",
         "3839.61",
         "Standard",
         "2016",
         "3",
         null,
         null
        ],
        [
         "2",
         "429460",
         "Canada",
         "British Columbia",
         "Vancouver",
         "V6E 3D9",
         "Male",
         "College",
         null,
         "Single",
         "Star",
         "3839.75",
         "Standard",
         "2014",
         "7",
         "2018.0",
         "1.0"
        ],
        [
         "3",
         "608370",
         "Canada",
         "Ontario",
         "Toronto",
         "P1W 1K4",
         "Male",
         "College",
         null,
         "Single",
         "Star",
         "3839.75",
         "Standard",
         "2013",
         "2",
         null,
         null
        ],
        [
         "4",
         "530508",
         "Canada",
         "Quebec",
         "Hull",
         "J8Y 3Z5",
         "Male",
         "Bachelor",
         "103495.0",
         "Married",
         "Star",
         "3842.79",
         "Standard",
         "2014",
         "10",
         null,
         null
        ],
        [
         "5",
         "193662",
         "Canada",
         "Yukon",
         "Whitehorse",
         "Y2K 6R0",
         "Male",
         "Bachelor",
         "51124.0",
         "Married",
         "Star",
         "3844.57",
         "Standard",
         "2012",
         "5",
         null,
         null
        ],
        [
         "6",
         "927943",
         "Canada",
         "Ontario",
         "Toronto",
         "P5S 6R4",
         "Female",
         "College",
         null,
         "Single",
         "Star",
         "3857.95",
         "Standard",
         "2014",
         "6",
         null,
         null
        ],
        [
         "7",
         "188893",
         "Canada",
         "Ontario",
         "Trenton",
         "K8V 4B2",
         "Male",
         "Bachelor",
         "100159.0",
         "Married",
         "Star",
         "3861.49",
         "Standard",
         "2016",
         "12",
         null,
         null
        ],
        [
         "8",
         "852392",
         "Canada",
         "Quebec",
         "Montreal",
         "H2Y 2W2",
         "Female",
         "Bachelor",
         "100159.0",
         "Married",
         "Star",
         "3861.49",
         "Standard",
         "2015",
         "5",
         null,
         null
        ],
        [
         "9",
         "866307",
         "Canada",
         "Ontario",
         "Toronto",
         "M8Y 4K8",
         "Male",
         "Bachelor",
         "100159.0",
         "Married",
         "Star",
         "3861.49",
         "Standard",
         "2016",
         "10",
         null,
         null
        ],
        [
         "10",
         "932823",
         "Canada",
         "British Columbia",
         "Vancouver",
         "V6E 3D9",
         "Female",
         "Bachelor",
         "66444.0",
         "Married",
         "Star",
         "3863.31",
         "Standard",
         "2015",
         "3",
         null,
         null
        ],
        [
         "11",
         "144514",
         "Canada",
         "British Columbia",
         "Dawson Creek",
         "U5I 4F1",
         "Female",
         "Bachelor",
         "49618.0",
         "Married",
         "Star",
         "3864.78",
         "Standard",
         "2016",
         "6",
         null,
         null
        ],
        [
         "12",
         "611765",
         "Canada",
         "Quebec",
         "Quebec City",
         "G1B 3L5",
         "Male",
         "Bachelor",
         "90175.0",
         "Single",
         "Star",
         "3867.97",
         "Standard",
         "2018",
         "1",
         null,
         null
        ],
        [
         "13",
         "988178",
         "Canada",
         "Quebec",
         "Montreal",
         "H4G 3T4",
         "Male",
         "College",
         null,
         "Single",
         "Star",
         "3871.07",
         "Standard",
         "2013",
         "10",
         null,
         null
        ],
        [
         "14",
         "286114",
         "Canada",
         "Ontario",
         "Toronto",
         "M2M 7K8",
         "Female",
         "College",
         null,
         "Single",
         "Star",
         "3872.22",
         "Standard",
         "2016",
         "11",
         null,
         null
        ],
        [
         "15",
         "205785",
         "Canada",
         "Ontario",
         "Toronto",
         "M2M 6J7",
         "Male",
         "Master",
         "128118.0",
         "Married",
         "Star",
         "3873.65",
         "Standard",
         "2016",
         "8",
         null,
         null
        ],
        [
         "16",
         "735304",
         "Canada",
         "Alberta",
         "Edmonton",
         "T3G 6Y6",
         "Female",
         "Master",
         "128118.0",
         "Married",
         "Star",
         "3873.65",
         "Standard",
         "2016",
         "12",
         null,
         null
        ],
        [
         "17",
         "438936",
         "Canada",
         "Quebec",
         "Montreal",
         "H2Y 2W2",
         "Male",
         "Bachelor",
         "94092.0",
         "Married",
         "Star",
         "3878.77",
         "Standard",
         "2013",
         "10",
         null,
         null
        ],
        [
         "18",
         "172755",
         "Canada",
         "Alberta",
         "Edmonton",
         "T3G 6Y6",
         "Female",
         "College",
         null,
         "Single",
         "Aurora",
         "5303.76",
         "2018 Promotion",
         "2018",
         "3",
         null,
         null
        ],
        [
         "19",
         "354730",
         "Canada",
         "New Brunswick",
         "Fredericton",
         "E3B 2H2",
         "Female",
         "College",
         null,
         "Married",
         "Star",
         "3885.46",
         "Standard",
         "2014",
         "10",
         "2018.0",
         "1.0"
        ]
       ],
       "shape": {
        "columns": 16,
        "rows": 20
       }
      },
      "text/html": [
       "<div>\n",
       "<style scoped>\n",
       "    .dataframe tbody tr th:only-of-type {\n",
       "        vertical-align: middle;\n",
       "    }\n",
       "\n",
       "    .dataframe tbody tr th {\n",
       "        vertical-align: top;\n",
       "    }\n",
       "\n",
       "    .dataframe thead th {\n",
       "        text-align: right;\n",
       "    }\n",
       "</style>\n",
       "<table border=\"1\" class=\"dataframe\">\n",
       "  <thead>\n",
       "    <tr style=\"text-align: right;\">\n",
       "      <th></th>\n",
       "      <th>Loyalty Number</th>\n",
       "      <th>Country</th>\n",
       "      <th>Province</th>\n",
       "      <th>City</th>\n",
       "      <th>Postal Code</th>\n",
       "      <th>Gender</th>\n",
       "      <th>Education</th>\n",
       "      <th>Salary</th>\n",
       "      <th>Marital Status</th>\n",
       "      <th>Loyalty Card</th>\n",
       "      <th>CLV</th>\n",
       "      <th>Enrollment Type</th>\n",
       "      <th>Enrollment Year</th>\n",
       "      <th>Enrollment Month</th>\n",
       "      <th>Cancellation Year</th>\n",
       "      <th>Cancellation Month</th>\n",
       "    </tr>\n",
       "  </thead>\n",
       "  <tbody>\n",
       "    <tr>\n",
       "      <th>0</th>\n",
       "      <td>480934</td>\n",
       "      <td>Canada</td>\n",
       "      <td>Ontario</td>\n",
       "      <td>Toronto</td>\n",
       "      <td>M2Z 4K1</td>\n",
       "      <td>Female</td>\n",
       "      <td>Bachelor</td>\n",
       "      <td>83236.0</td>\n",
       "      <td>Married</td>\n",
       "      <td>Star</td>\n",
       "      <td>3839.14</td>\n",
       "      <td>Standard</td>\n",
       "      <td>2016</td>\n",
       "      <td>2</td>\n",
       "      <td>NaN</td>\n",
       "      <td>NaN</td>\n",
       "    </tr>\n",
       "    <tr>\n",
       "      <th>1</th>\n",
       "      <td>549612</td>\n",
       "      <td>Canada</td>\n",
       "      <td>Alberta</td>\n",
       "      <td>Edmonton</td>\n",
       "      <td>T3G 6Y6</td>\n",
       "      <td>Male</td>\n",
       "      <td>College</td>\n",
       "      <td>NaN</td>\n",
       "      <td>Divorced</td>\n",
       "      <td>Star</td>\n",
       "      <td>3839.61</td>\n",
       "      <td>Standard</td>\n",
       "      <td>2016</td>\n",
       "      <td>3</td>\n",
       "      <td>NaN</td>\n",
       "      <td>NaN</td>\n",
       "    </tr>\n",
       "    <tr>\n",
       "      <th>2</th>\n",
       "      <td>429460</td>\n",
       "      <td>Canada</td>\n",
       "      <td>British Columbia</td>\n",
       "      <td>Vancouver</td>\n",
       "      <td>V6E 3D9</td>\n",
       "      <td>Male</td>\n",
       "      <td>College</td>\n",
       "      <td>NaN</td>\n",
       "      <td>Single</td>\n",
       "      <td>Star</td>\n",
       "      <td>3839.75</td>\n",
       "      <td>Standard</td>\n",
       "      <td>2014</td>\n",
       "      <td>7</td>\n",
       "      <td>2018.0</td>\n",
       "      <td>1.0</td>\n",
       "    </tr>\n",
       "    <tr>\n",
       "      <th>3</th>\n",
       "      <td>608370</td>\n",
       "      <td>Canada</td>\n",
       "      <td>Ontario</td>\n",
       "      <td>Toronto</td>\n",
       "      <td>P1W 1K4</td>\n",
       "      <td>Male</td>\n",
       "      <td>College</td>\n",
       "      <td>NaN</td>\n",
       "      <td>Single</td>\n",
       "      <td>Star</td>\n",
       "      <td>3839.75</td>\n",
       "      <td>Standard</td>\n",
       "      <td>2013</td>\n",
       "      <td>2</td>\n",
       "      <td>NaN</td>\n",
       "      <td>NaN</td>\n",
       "    </tr>\n",
       "    <tr>\n",
       "      <th>4</th>\n",
       "      <td>530508</td>\n",
       "      <td>Canada</td>\n",
       "      <td>Quebec</td>\n",
       "      <td>Hull</td>\n",
       "      <td>J8Y 3Z5</td>\n",
       "      <td>Male</td>\n",
       "      <td>Bachelor</td>\n",
       "      <td>103495.0</td>\n",
       "      <td>Married</td>\n",
       "      <td>Star</td>\n",
       "      <td>3842.79</td>\n",
       "      <td>Standard</td>\n",
       "      <td>2014</td>\n",
       "      <td>10</td>\n",
       "      <td>NaN</td>\n",
       "      <td>NaN</td>\n",
       "    </tr>\n",
       "    <tr>\n",
       "      <th>5</th>\n",
       "      <td>193662</td>\n",
       "      <td>Canada</td>\n",
       "      <td>Yukon</td>\n",
       "      <td>Whitehorse</td>\n",
       "      <td>Y2K 6R0</td>\n",
       "      <td>Male</td>\n",
       "      <td>Bachelor</td>\n",
       "      <td>51124.0</td>\n",
       "      <td>Married</td>\n",
       "      <td>Star</td>\n",
       "      <td>3844.57</td>\n",
       "      <td>Standard</td>\n",
       "      <td>2012</td>\n",
       "      <td>5</td>\n",
       "      <td>NaN</td>\n",
       "      <td>NaN</td>\n",
       "    </tr>\n",
       "    <tr>\n",
       "      <th>6</th>\n",
       "      <td>927943</td>\n",
       "      <td>Canada</td>\n",
       "      <td>Ontario</td>\n",
       "      <td>Toronto</td>\n",
       "      <td>P5S 6R4</td>\n",
       "      <td>Female</td>\n",
       "      <td>College</td>\n",
       "      <td>NaN</td>\n",
       "      <td>Single</td>\n",
       "      <td>Star</td>\n",
       "      <td>3857.95</td>\n",
       "      <td>Standard</td>\n",
       "      <td>2014</td>\n",
       "      <td>6</td>\n",
       "      <td>NaN</td>\n",
       "      <td>NaN</td>\n",
       "    </tr>\n",
       "    <tr>\n",
       "      <th>7</th>\n",
       "      <td>188893</td>\n",
       "      <td>Canada</td>\n",
       "      <td>Ontario</td>\n",
       "      <td>Trenton</td>\n",
       "      <td>K8V 4B2</td>\n",
       "      <td>Male</td>\n",
       "      <td>Bachelor</td>\n",
       "      <td>100159.0</td>\n",
       "      <td>Married</td>\n",
       "      <td>Star</td>\n",
       "      <td>3861.49</td>\n",
       "      <td>Standard</td>\n",
       "      <td>2016</td>\n",
       "      <td>12</td>\n",
       "      <td>NaN</td>\n",
       "      <td>NaN</td>\n",
       "    </tr>\n",
       "    <tr>\n",
       "      <th>8</th>\n",
       "      <td>852392</td>\n",
       "      <td>Canada</td>\n",
       "      <td>Quebec</td>\n",
       "      <td>Montreal</td>\n",
       "      <td>H2Y 2W2</td>\n",
       "      <td>Female</td>\n",
       "      <td>Bachelor</td>\n",
       "      <td>100159.0</td>\n",
       "      <td>Married</td>\n",
       "      <td>Star</td>\n",
       "      <td>3861.49</td>\n",
       "      <td>Standard</td>\n",
       "      <td>2015</td>\n",
       "      <td>5</td>\n",
       "      <td>NaN</td>\n",
       "      <td>NaN</td>\n",
       "    </tr>\n",
       "    <tr>\n",
       "      <th>9</th>\n",
       "      <td>866307</td>\n",
       "      <td>Canada</td>\n",
       "      <td>Ontario</td>\n",
       "      <td>Toronto</td>\n",
       "      <td>M8Y 4K8</td>\n",
       "      <td>Male</td>\n",
       "      <td>Bachelor</td>\n",
       "      <td>100159.0</td>\n",
       "      <td>Married</td>\n",
       "      <td>Star</td>\n",
       "      <td>3861.49</td>\n",
       "      <td>Standard</td>\n",
       "      <td>2016</td>\n",
       "      <td>10</td>\n",
       "      <td>NaN</td>\n",
       "      <td>NaN</td>\n",
       "    </tr>\n",
       "    <tr>\n",
       "      <th>10</th>\n",
       "      <td>932823</td>\n",
       "      <td>Canada</td>\n",
       "      <td>British Columbia</td>\n",
       "      <td>Vancouver</td>\n",
       "      <td>V6E 3D9</td>\n",
       "      <td>Female</td>\n",
       "      <td>Bachelor</td>\n",
       "      <td>66444.0</td>\n",
       "      <td>Married</td>\n",
       "      <td>Star</td>\n",
       "      <td>3863.31</td>\n",
       "      <td>Standard</td>\n",
       "      <td>2015</td>\n",
       "      <td>3</td>\n",
       "      <td>NaN</td>\n",
       "      <td>NaN</td>\n",
       "    </tr>\n",
       "    <tr>\n",
       "      <th>11</th>\n",
       "      <td>144514</td>\n",
       "      <td>Canada</td>\n",
       "      <td>British Columbia</td>\n",
       "      <td>Dawson Creek</td>\n",
       "      <td>U5I 4F1</td>\n",
       "      <td>Female</td>\n",
       "      <td>Bachelor</td>\n",
       "      <td>49618.0</td>\n",
       "      <td>Married</td>\n",
       "      <td>Star</td>\n",
       "      <td>3864.78</td>\n",
       "      <td>Standard</td>\n",
       "      <td>2016</td>\n",
       "      <td>6</td>\n",
       "      <td>NaN</td>\n",
       "      <td>NaN</td>\n",
       "    </tr>\n",
       "    <tr>\n",
       "      <th>12</th>\n",
       "      <td>611765</td>\n",
       "      <td>Canada</td>\n",
       "      <td>Quebec</td>\n",
       "      <td>Quebec City</td>\n",
       "      <td>G1B 3L5</td>\n",
       "      <td>Male</td>\n",
       "      <td>Bachelor</td>\n",
       "      <td>90175.0</td>\n",
       "      <td>Single</td>\n",
       "      <td>Star</td>\n",
       "      <td>3867.97</td>\n",
       "      <td>Standard</td>\n",
       "      <td>2018</td>\n",
       "      <td>1</td>\n",
       "      <td>NaN</td>\n",
       "      <td>NaN</td>\n",
       "    </tr>\n",
       "    <tr>\n",
       "      <th>13</th>\n",
       "      <td>988178</td>\n",
       "      <td>Canada</td>\n",
       "      <td>Quebec</td>\n",
       "      <td>Montreal</td>\n",
       "      <td>H4G 3T4</td>\n",
       "      <td>Male</td>\n",
       "      <td>College</td>\n",
       "      <td>NaN</td>\n",
       "      <td>Single</td>\n",
       "      <td>Star</td>\n",
       "      <td>3871.07</td>\n",
       "      <td>Standard</td>\n",
       "      <td>2013</td>\n",
       "      <td>10</td>\n",
       "      <td>NaN</td>\n",
       "      <td>NaN</td>\n",
       "    </tr>\n",
       "    <tr>\n",
       "      <th>14</th>\n",
       "      <td>286114</td>\n",
       "      <td>Canada</td>\n",
       "      <td>Ontario</td>\n",
       "      <td>Toronto</td>\n",
       "      <td>M2M 7K8</td>\n",
       "      <td>Female</td>\n",
       "      <td>College</td>\n",
       "      <td>NaN</td>\n",
       "      <td>Single</td>\n",
       "      <td>Star</td>\n",
       "      <td>3872.22</td>\n",
       "      <td>Standard</td>\n",
       "      <td>2016</td>\n",
       "      <td>11</td>\n",
       "      <td>NaN</td>\n",
       "      <td>NaN</td>\n",
       "    </tr>\n",
       "    <tr>\n",
       "      <th>15</th>\n",
       "      <td>205785</td>\n",
       "      <td>Canada</td>\n",
       "      <td>Ontario</td>\n",
       "      <td>Toronto</td>\n",
       "      <td>M2M 6J7</td>\n",
       "      <td>Male</td>\n",
       "      <td>Master</td>\n",
       "      <td>128118.0</td>\n",
       "      <td>Married</td>\n",
       "      <td>Star</td>\n",
       "      <td>3873.65</td>\n",
       "      <td>Standard</td>\n",
       "      <td>2016</td>\n",
       "      <td>8</td>\n",
       "      <td>NaN</td>\n",
       "      <td>NaN</td>\n",
       "    </tr>\n",
       "    <tr>\n",
       "      <th>16</th>\n",
       "      <td>735304</td>\n",
       "      <td>Canada</td>\n",
       "      <td>Alberta</td>\n",
       "      <td>Edmonton</td>\n",
       "      <td>T3G 6Y6</td>\n",
       "      <td>Female</td>\n",
       "      <td>Master</td>\n",
       "      <td>128118.0</td>\n",
       "      <td>Married</td>\n",
       "      <td>Star</td>\n",
       "      <td>3873.65</td>\n",
       "      <td>Standard</td>\n",
       "      <td>2016</td>\n",
       "      <td>12</td>\n",
       "      <td>NaN</td>\n",
       "      <td>NaN</td>\n",
       "    </tr>\n",
       "    <tr>\n",
       "      <th>17</th>\n",
       "      <td>438936</td>\n",
       "      <td>Canada</td>\n",
       "      <td>Quebec</td>\n",
       "      <td>Montreal</td>\n",
       "      <td>H2Y 2W2</td>\n",
       "      <td>Male</td>\n",
       "      <td>Bachelor</td>\n",
       "      <td>94092.0</td>\n",
       "      <td>Married</td>\n",
       "      <td>Star</td>\n",
       "      <td>3878.77</td>\n",
       "      <td>Standard</td>\n",
       "      <td>2013</td>\n",
       "      <td>10</td>\n",
       "      <td>NaN</td>\n",
       "      <td>NaN</td>\n",
       "    </tr>\n",
       "    <tr>\n",
       "      <th>18</th>\n",
       "      <td>172755</td>\n",
       "      <td>Canada</td>\n",
       "      <td>Alberta</td>\n",
       "      <td>Edmonton</td>\n",
       "      <td>T3G 6Y6</td>\n",
       "      <td>Female</td>\n",
       "      <td>College</td>\n",
       "      <td>NaN</td>\n",
       "      <td>Single</td>\n",
       "      <td>Aurora</td>\n",
       "      <td>5303.76</td>\n",
       "      <td>2018 Promotion</td>\n",
       "      <td>2018</td>\n",
       "      <td>3</td>\n",
       "      <td>NaN</td>\n",
       "      <td>NaN</td>\n",
       "    </tr>\n",
       "    <tr>\n",
       "      <th>19</th>\n",
       "      <td>354730</td>\n",
       "      <td>Canada</td>\n",
       "      <td>New Brunswick</td>\n",
       "      <td>Fredericton</td>\n",
       "      <td>E3B 2H2</td>\n",
       "      <td>Female</td>\n",
       "      <td>College</td>\n",
       "      <td>NaN</td>\n",
       "      <td>Married</td>\n",
       "      <td>Star</td>\n",
       "      <td>3885.46</td>\n",
       "      <td>Standard</td>\n",
       "      <td>2014</td>\n",
       "      <td>10</td>\n",
       "      <td>2018.0</td>\n",
       "      <td>1.0</td>\n",
       "    </tr>\n",
       "  </tbody>\n",
       "</table>\n",
       "</div>"
      ],
      "text/plain": [
       "    Loyalty Number Country          Province          City Postal Code  \\\n",
       "0           480934  Canada           Ontario       Toronto     M2Z 4K1   \n",
       "1           549612  Canada           Alberta      Edmonton     T3G 6Y6   \n",
       "2           429460  Canada  British Columbia     Vancouver     V6E 3D9   \n",
       "3           608370  Canada           Ontario       Toronto     P1W 1K4   \n",
       "4           530508  Canada            Quebec          Hull     J8Y 3Z5   \n",
       "5           193662  Canada             Yukon    Whitehorse     Y2K 6R0   \n",
       "6           927943  Canada           Ontario       Toronto     P5S 6R4   \n",
       "7           188893  Canada           Ontario       Trenton     K8V 4B2   \n",
       "8           852392  Canada            Quebec      Montreal     H2Y 2W2   \n",
       "9           866307  Canada           Ontario       Toronto     M8Y 4K8   \n",
       "10          932823  Canada  British Columbia     Vancouver     V6E 3D9   \n",
       "11          144514  Canada  British Columbia  Dawson Creek     U5I 4F1   \n",
       "12          611765  Canada            Quebec   Quebec City     G1B 3L5   \n",
       "13          988178  Canada            Quebec      Montreal     H4G 3T4   \n",
       "14          286114  Canada           Ontario       Toronto     M2M 7K8   \n",
       "15          205785  Canada           Ontario       Toronto     M2M 6J7   \n",
       "16          735304  Canada           Alberta      Edmonton     T3G 6Y6   \n",
       "17          438936  Canada            Quebec      Montreal     H2Y 2W2   \n",
       "18          172755  Canada           Alberta      Edmonton     T3G 6Y6   \n",
       "19          354730  Canada     New Brunswick   Fredericton     E3B 2H2   \n",
       "\n",
       "    Gender Education    Salary Marital Status Loyalty Card      CLV  \\\n",
       "0   Female  Bachelor   83236.0        Married         Star  3839.14   \n",
       "1     Male   College       NaN       Divorced         Star  3839.61   \n",
       "2     Male   College       NaN         Single         Star  3839.75   \n",
       "3     Male   College       NaN         Single         Star  3839.75   \n",
       "4     Male  Bachelor  103495.0        Married         Star  3842.79   \n",
       "5     Male  Bachelor   51124.0        Married         Star  3844.57   \n",
       "6   Female   College       NaN         Single         Star  3857.95   \n",
       "7     Male  Bachelor  100159.0        Married         Star  3861.49   \n",
       "8   Female  Bachelor  100159.0        Married         Star  3861.49   \n",
       "9     Male  Bachelor  100159.0        Married         Star  3861.49   \n",
       "10  Female  Bachelor   66444.0        Married         Star  3863.31   \n",
       "11  Female  Bachelor   49618.0        Married         Star  3864.78   \n",
       "12    Male  Bachelor   90175.0         Single         Star  3867.97   \n",
       "13    Male   College       NaN         Single         Star  3871.07   \n",
       "14  Female   College       NaN         Single         Star  3872.22   \n",
       "15    Male    Master  128118.0        Married         Star  3873.65   \n",
       "16  Female    Master  128118.0        Married         Star  3873.65   \n",
       "17    Male  Bachelor   94092.0        Married         Star  3878.77   \n",
       "18  Female   College       NaN         Single       Aurora  5303.76   \n",
       "19  Female   College       NaN        Married         Star  3885.46   \n",
       "\n",
       "   Enrollment Type  Enrollment Year  Enrollment Month  Cancellation Year  \\\n",
       "0         Standard             2016                 2                NaN   \n",
       "1         Standard             2016                 3                NaN   \n",
       "2         Standard             2014                 7             2018.0   \n",
       "3         Standard             2013                 2                NaN   \n",
       "4         Standard             2014                10                NaN   \n",
       "5         Standard             2012                 5                NaN   \n",
       "6         Standard             2014                 6                NaN   \n",
       "7         Standard             2016                12                NaN   \n",
       "8         Standard             2015                 5                NaN   \n",
       "9         Standard             2016                10                NaN   \n",
       "10        Standard             2015                 3                NaN   \n",
       "11        Standard             2016                 6                NaN   \n",
       "12        Standard             2018                 1                NaN   \n",
       "13        Standard             2013                10                NaN   \n",
       "14        Standard             2016                11                NaN   \n",
       "15        Standard             2016                 8                NaN   \n",
       "16        Standard             2016                12                NaN   \n",
       "17        Standard             2013                10                NaN   \n",
       "18  2018 Promotion             2018                 3                NaN   \n",
       "19        Standard             2014                10             2018.0   \n",
       "\n",
       "    Cancellation Month  \n",
       "0                  NaN  \n",
       "1                  NaN  \n",
       "2                  1.0  \n",
       "3                  NaN  \n",
       "4                  NaN  \n",
       "5                  NaN  \n",
       "6                  NaN  \n",
       "7                  NaN  \n",
       "8                  NaN  \n",
       "9                  NaN  \n",
       "10                 NaN  \n",
       "11                 NaN  \n",
       "12                 NaN  \n",
       "13                 NaN  \n",
       "14                 NaN  \n",
       "15                 NaN  \n",
       "16                 NaN  \n",
       "17                 NaN  \n",
       "18                 NaN  \n",
       "19                 1.0  "
      ]
     },
     "execution_count": 234,
     "metadata": {},
     "output_type": "execute_result"
    }
   ],
   "source": [
    "# convertimos los valores negativos en positivos usando la función 'abs'\n",
    "\n",
    "df_loyalty['Salary'] = df_loyalty['Salary'].abs() \n",
    "df_loyalty.head(20)"
   ]
  },
  {
   "cell_type": "code",
   "execution_count": 235,
   "id": "930e7945",
   "metadata": {},
   "outputs": [
    {
     "name": "stdout",
     "output_type": "stream",
     "text": [
      "<class 'pandas.core.frame.DataFrame'>\n",
      "RangeIndex: 16737 entries, 0 to 16736\n",
      "Data columns (total 16 columns):\n",
      " #   Column              Non-Null Count  Dtype  \n",
      "---  ------              --------------  -----  \n",
      " 0   Loyalty Number      16737 non-null  int64  \n",
      " 1   Country             16737 non-null  object \n",
      " 2   Province            16737 non-null  object \n",
      " 3   City                16737 non-null  object \n",
      " 4   Postal Code         16737 non-null  object \n",
      " 5   Gender              16737 non-null  object \n",
      " 6   Education           16737 non-null  object \n",
      " 7   Salary              12499 non-null  float64\n",
      " 8   Marital Status      16737 non-null  object \n",
      " 9   Loyalty Card        16737 non-null  object \n",
      " 10  CLV                 16737 non-null  float64\n",
      " 11  Enrollment Type     16737 non-null  object \n",
      " 12  Enrollment Year     16737 non-null  int64  \n",
      " 13  Enrollment Month    16737 non-null  int64  \n",
      " 14  Cancellation Year   2067 non-null   float64\n",
      " 15  Cancellation Month  2067 non-null   float64\n",
      "dtypes: float64(4), int64(3), object(9)\n",
      "memory usage: 2.0+ MB\n"
     ]
    }
   ],
   "source": [
    "df_loyalty.info()"
   ]
  },
  {
   "cell_type": "code",
   "execution_count": 236,
   "id": "ed9c7f12",
   "metadata": {},
   "outputs": [
    {
     "name": "stdout",
     "output_type": "stream",
     "text": [
      "<class 'pandas.core.frame.DataFrame'>\n",
      "RangeIndex: 16737 entries, 0 to 16736\n",
      "Data columns (total 16 columns):\n",
      " #   Column              Non-Null Count  Dtype  \n",
      "---  ------              --------------  -----  \n",
      " 0   Loyalty Number      16737 non-null  int64  \n",
      " 1   Country             16737 non-null  object \n",
      " 2   Province            16737 non-null  object \n",
      " 3   City                16737 non-null  object \n",
      " 4   Postal Code         16737 non-null  object \n",
      " 5   Gender              16737 non-null  object \n",
      " 6   Education           16737 non-null  object \n",
      " 7   Salary              12499 non-null  Int64  \n",
      " 8   Marital Status      16737 non-null  object \n",
      " 9   Loyalty Card        16737 non-null  object \n",
      " 10  CLV                 16737 non-null  float64\n",
      " 11  Enrollment Type     16737 non-null  object \n",
      " 12  Enrollment Year     16737 non-null  int64  \n",
      " 13  Enrollment Month    16737 non-null  int64  \n",
      " 14  Cancellation Year   2067 non-null   float64\n",
      " 15  Cancellation Month  2067 non-null   float64\n",
      "dtypes: Int64(1), float64(3), int64(3), object(9)\n",
      "memory usage: 2.1+ MB\n"
     ]
    }
   ],
   "source": [
    "# convertimos los datos de float a int\n",
    "\n",
    "df_loyalty['Salary'] = df_loyalty['Salary'].astype('Int64')\n",
    "df_loyalty.info() # para comprobar el cambio\n",
    "\n",
    "# el tipo 'Int64' considera los Nan antes de convertir los datos"
   ]
  },
  {
   "cell_type": "code",
   "execution_count": 237,
   "id": "e0ebee77",
   "metadata": {},
   "outputs": [
    {
     "data": {
      "text/plain": [
       "4238"
      ]
     },
     "execution_count": 237,
     "metadata": {},
     "output_type": "execute_result"
    }
   ],
   "source": [
    "# verificamos la cantidad de nulos en la columna 'Salary'\n",
    "\n",
    "df_loyalty['Salary'].isnull().sum()"
   ]
  },
  {
   "cell_type": "code",
   "execution_count": 238,
   "id": "81c730f1",
   "metadata": {},
   "outputs": [
    {
     "name": "stdout",
     "output_type": "stream",
     "text": [
      "0\n"
     ]
    },
    {
     "data": {
      "application/vnd.microsoft.datawrangler.viewer.v0+json": {
       "columns": [
        {
         "name": "index",
         "rawType": "int64",
         "type": "integer"
        },
        {
         "name": "Loyalty Number",
         "rawType": "int64",
         "type": "integer"
        },
        {
         "name": "Country",
         "rawType": "object",
         "type": "string"
        },
        {
         "name": "Province",
         "rawType": "object",
         "type": "string"
        },
        {
         "name": "City",
         "rawType": "object",
         "type": "string"
        },
        {
         "name": "Postal Code",
         "rawType": "object",
         "type": "string"
        },
        {
         "name": "Gender",
         "rawType": "object",
         "type": "string"
        },
        {
         "name": "Education",
         "rawType": "object",
         "type": "string"
        },
        {
         "name": "Salary",
         "rawType": "Int64",
         "type": "integer"
        },
        {
         "name": "Marital Status",
         "rawType": "object",
         "type": "string"
        },
        {
         "name": "Loyalty Card",
         "rawType": "object",
         "type": "string"
        },
        {
         "name": "CLV",
         "rawType": "float64",
         "type": "float"
        },
        {
         "name": "Enrollment Type",
         "rawType": "object",
         "type": "string"
        },
        {
         "name": "Enrollment Year",
         "rawType": "int64",
         "type": "integer"
        },
        {
         "name": "Enrollment Month",
         "rawType": "int64",
         "type": "integer"
        },
        {
         "name": "Cancellation Year",
         "rawType": "float64",
         "type": "float"
        },
        {
         "name": "Cancellation Month",
         "rawType": "float64",
         "type": "float"
        }
       ],
       "ref": "b281cfcc-0e0e-4c8b-b271-b51f2b8ad43f",
       "rows": [
        [
         "0",
         "480934",
         "Canada",
         "Ontario",
         "Toronto",
         "M2Z 4K1",
         "Female",
         "Bachelor",
         "83236",
         "Married",
         "Star",
         "3839.14",
         "Standard",
         "2016",
         "2",
         null,
         null
        ],
        [
         "1",
         "549612",
         "Canada",
         "Alberta",
         "Edmonton",
         "T3G 6Y6",
         "Male",
         "College",
         "0",
         "Divorced",
         "Star",
         "3839.61",
         "Standard",
         "2016",
         "3",
         null,
         null
        ],
        [
         "2",
         "429460",
         "Canada",
         "British Columbia",
         "Vancouver",
         "V6E 3D9",
         "Male",
         "College",
         "0",
         "Single",
         "Star",
         "3839.75",
         "Standard",
         "2014",
         "7",
         "2018.0",
         "1.0"
        ],
        [
         "3",
         "608370",
         "Canada",
         "Ontario",
         "Toronto",
         "P1W 1K4",
         "Male",
         "College",
         "0",
         "Single",
         "Star",
         "3839.75",
         "Standard",
         "2013",
         "2",
         null,
         null
        ],
        [
         "4",
         "530508",
         "Canada",
         "Quebec",
         "Hull",
         "J8Y 3Z5",
         "Male",
         "Bachelor",
         "103495",
         "Married",
         "Star",
         "3842.79",
         "Standard",
         "2014",
         "10",
         null,
         null
        ],
        [
         "5",
         "193662",
         "Canada",
         "Yukon",
         "Whitehorse",
         "Y2K 6R0",
         "Male",
         "Bachelor",
         "51124",
         "Married",
         "Star",
         "3844.57",
         "Standard",
         "2012",
         "5",
         null,
         null
        ],
        [
         "6",
         "927943",
         "Canada",
         "Ontario",
         "Toronto",
         "P5S 6R4",
         "Female",
         "College",
         "0",
         "Single",
         "Star",
         "3857.95",
         "Standard",
         "2014",
         "6",
         null,
         null
        ],
        [
         "7",
         "188893",
         "Canada",
         "Ontario",
         "Trenton",
         "K8V 4B2",
         "Male",
         "Bachelor",
         "100159",
         "Married",
         "Star",
         "3861.49",
         "Standard",
         "2016",
         "12",
         null,
         null
        ],
        [
         "8",
         "852392",
         "Canada",
         "Quebec",
         "Montreal",
         "H2Y 2W2",
         "Female",
         "Bachelor",
         "100159",
         "Married",
         "Star",
         "3861.49",
         "Standard",
         "2015",
         "5",
         null,
         null
        ],
        [
         "9",
         "866307",
         "Canada",
         "Ontario",
         "Toronto",
         "M8Y 4K8",
         "Male",
         "Bachelor",
         "100159",
         "Married",
         "Star",
         "3861.49",
         "Standard",
         "2016",
         "10",
         null,
         null
        ],
        [
         "10",
         "932823",
         "Canada",
         "British Columbia",
         "Vancouver",
         "V6E 3D9",
         "Female",
         "Bachelor",
         "66444",
         "Married",
         "Star",
         "3863.31",
         "Standard",
         "2015",
         "3",
         null,
         null
        ],
        [
         "11",
         "144514",
         "Canada",
         "British Columbia",
         "Dawson Creek",
         "U5I 4F1",
         "Female",
         "Bachelor",
         "49618",
         "Married",
         "Star",
         "3864.78",
         "Standard",
         "2016",
         "6",
         null,
         null
        ],
        [
         "12",
         "611765",
         "Canada",
         "Quebec",
         "Quebec City",
         "G1B 3L5",
         "Male",
         "Bachelor",
         "90175",
         "Single",
         "Star",
         "3867.97",
         "Standard",
         "2018",
         "1",
         null,
         null
        ],
        [
         "13",
         "988178",
         "Canada",
         "Quebec",
         "Montreal",
         "H4G 3T4",
         "Male",
         "College",
         "0",
         "Single",
         "Star",
         "3871.07",
         "Standard",
         "2013",
         "10",
         null,
         null
        ],
        [
         "14",
         "286114",
         "Canada",
         "Ontario",
         "Toronto",
         "M2M 7K8",
         "Female",
         "College",
         "0",
         "Single",
         "Star",
         "3872.22",
         "Standard",
         "2016",
         "11",
         null,
         null
        ],
        [
         "15",
         "205785",
         "Canada",
         "Ontario",
         "Toronto",
         "M2M 6J7",
         "Male",
         "Master",
         "128118",
         "Married",
         "Star",
         "3873.65",
         "Standard",
         "2016",
         "8",
         null,
         null
        ],
        [
         "16",
         "735304",
         "Canada",
         "Alberta",
         "Edmonton",
         "T3G 6Y6",
         "Female",
         "Master",
         "128118",
         "Married",
         "Star",
         "3873.65",
         "Standard",
         "2016",
         "12",
         null,
         null
        ],
        [
         "17",
         "438936",
         "Canada",
         "Quebec",
         "Montreal",
         "H2Y 2W2",
         "Male",
         "Bachelor",
         "94092",
         "Married",
         "Star",
         "3878.77",
         "Standard",
         "2013",
         "10",
         null,
         null
        ],
        [
         "18",
         "172755",
         "Canada",
         "Alberta",
         "Edmonton",
         "T3G 6Y6",
         "Female",
         "College",
         "0",
         "Single",
         "Aurora",
         "5303.76",
         "2018 Promotion",
         "2018",
         "3",
         null,
         null
        ],
        [
         "19",
         "354730",
         "Canada",
         "New Brunswick",
         "Fredericton",
         "E3B 2H2",
         "Female",
         "College",
         "0",
         "Married",
         "Star",
         "3885.46",
         "Standard",
         "2014",
         "10",
         "2018.0",
         "1.0"
        ]
       ],
       "shape": {
        "columns": 16,
        "rows": 20
       }
      },
      "text/html": [
       "<div>\n",
       "<style scoped>\n",
       "    .dataframe tbody tr th:only-of-type {\n",
       "        vertical-align: middle;\n",
       "    }\n",
       "\n",
       "    .dataframe tbody tr th {\n",
       "        vertical-align: top;\n",
       "    }\n",
       "\n",
       "    .dataframe thead th {\n",
       "        text-align: right;\n",
       "    }\n",
       "</style>\n",
       "<table border=\"1\" class=\"dataframe\">\n",
       "  <thead>\n",
       "    <tr style=\"text-align: right;\">\n",
       "      <th></th>\n",
       "      <th>Loyalty Number</th>\n",
       "      <th>Country</th>\n",
       "      <th>Province</th>\n",
       "      <th>City</th>\n",
       "      <th>Postal Code</th>\n",
       "      <th>Gender</th>\n",
       "      <th>Education</th>\n",
       "      <th>Salary</th>\n",
       "      <th>Marital Status</th>\n",
       "      <th>Loyalty Card</th>\n",
       "      <th>CLV</th>\n",
       "      <th>Enrollment Type</th>\n",
       "      <th>Enrollment Year</th>\n",
       "      <th>Enrollment Month</th>\n",
       "      <th>Cancellation Year</th>\n",
       "      <th>Cancellation Month</th>\n",
       "    </tr>\n",
       "  </thead>\n",
       "  <tbody>\n",
       "    <tr>\n",
       "      <th>0</th>\n",
       "      <td>480934</td>\n",
       "      <td>Canada</td>\n",
       "      <td>Ontario</td>\n",
       "      <td>Toronto</td>\n",
       "      <td>M2Z 4K1</td>\n",
       "      <td>Female</td>\n",
       "      <td>Bachelor</td>\n",
       "      <td>83236</td>\n",
       "      <td>Married</td>\n",
       "      <td>Star</td>\n",
       "      <td>3839.14</td>\n",
       "      <td>Standard</td>\n",
       "      <td>2016</td>\n",
       "      <td>2</td>\n",
       "      <td>NaN</td>\n",
       "      <td>NaN</td>\n",
       "    </tr>\n",
       "    <tr>\n",
       "      <th>1</th>\n",
       "      <td>549612</td>\n",
       "      <td>Canada</td>\n",
       "      <td>Alberta</td>\n",
       "      <td>Edmonton</td>\n",
       "      <td>T3G 6Y6</td>\n",
       "      <td>Male</td>\n",
       "      <td>College</td>\n",
       "      <td>0</td>\n",
       "      <td>Divorced</td>\n",
       "      <td>Star</td>\n",
       "      <td>3839.61</td>\n",
       "      <td>Standard</td>\n",
       "      <td>2016</td>\n",
       "      <td>3</td>\n",
       "      <td>NaN</td>\n",
       "      <td>NaN</td>\n",
       "    </tr>\n",
       "    <tr>\n",
       "      <th>2</th>\n",
       "      <td>429460</td>\n",
       "      <td>Canada</td>\n",
       "      <td>British Columbia</td>\n",
       "      <td>Vancouver</td>\n",
       "      <td>V6E 3D9</td>\n",
       "      <td>Male</td>\n",
       "      <td>College</td>\n",
       "      <td>0</td>\n",
       "      <td>Single</td>\n",
       "      <td>Star</td>\n",
       "      <td>3839.75</td>\n",
       "      <td>Standard</td>\n",
       "      <td>2014</td>\n",
       "      <td>7</td>\n",
       "      <td>2018.0</td>\n",
       "      <td>1.0</td>\n",
       "    </tr>\n",
       "    <tr>\n",
       "      <th>3</th>\n",
       "      <td>608370</td>\n",
       "      <td>Canada</td>\n",
       "      <td>Ontario</td>\n",
       "      <td>Toronto</td>\n",
       "      <td>P1W 1K4</td>\n",
       "      <td>Male</td>\n",
       "      <td>College</td>\n",
       "      <td>0</td>\n",
       "      <td>Single</td>\n",
       "      <td>Star</td>\n",
       "      <td>3839.75</td>\n",
       "      <td>Standard</td>\n",
       "      <td>2013</td>\n",
       "      <td>2</td>\n",
       "      <td>NaN</td>\n",
       "      <td>NaN</td>\n",
       "    </tr>\n",
       "    <tr>\n",
       "      <th>4</th>\n",
       "      <td>530508</td>\n",
       "      <td>Canada</td>\n",
       "      <td>Quebec</td>\n",
       "      <td>Hull</td>\n",
       "      <td>J8Y 3Z5</td>\n",
       "      <td>Male</td>\n",
       "      <td>Bachelor</td>\n",
       "      <td>103495</td>\n",
       "      <td>Married</td>\n",
       "      <td>Star</td>\n",
       "      <td>3842.79</td>\n",
       "      <td>Standard</td>\n",
       "      <td>2014</td>\n",
       "      <td>10</td>\n",
       "      <td>NaN</td>\n",
       "      <td>NaN</td>\n",
       "    </tr>\n",
       "    <tr>\n",
       "      <th>5</th>\n",
       "      <td>193662</td>\n",
       "      <td>Canada</td>\n",
       "      <td>Yukon</td>\n",
       "      <td>Whitehorse</td>\n",
       "      <td>Y2K 6R0</td>\n",
       "      <td>Male</td>\n",
       "      <td>Bachelor</td>\n",
       "      <td>51124</td>\n",
       "      <td>Married</td>\n",
       "      <td>Star</td>\n",
       "      <td>3844.57</td>\n",
       "      <td>Standard</td>\n",
       "      <td>2012</td>\n",
       "      <td>5</td>\n",
       "      <td>NaN</td>\n",
       "      <td>NaN</td>\n",
       "    </tr>\n",
       "    <tr>\n",
       "      <th>6</th>\n",
       "      <td>927943</td>\n",
       "      <td>Canada</td>\n",
       "      <td>Ontario</td>\n",
       "      <td>Toronto</td>\n",
       "      <td>P5S 6R4</td>\n",
       "      <td>Female</td>\n",
       "      <td>College</td>\n",
       "      <td>0</td>\n",
       "      <td>Single</td>\n",
       "      <td>Star</td>\n",
       "      <td>3857.95</td>\n",
       "      <td>Standard</td>\n",
       "      <td>2014</td>\n",
       "      <td>6</td>\n",
       "      <td>NaN</td>\n",
       "      <td>NaN</td>\n",
       "    </tr>\n",
       "    <tr>\n",
       "      <th>7</th>\n",
       "      <td>188893</td>\n",
       "      <td>Canada</td>\n",
       "      <td>Ontario</td>\n",
       "      <td>Trenton</td>\n",
       "      <td>K8V 4B2</td>\n",
       "      <td>Male</td>\n",
       "      <td>Bachelor</td>\n",
       "      <td>100159</td>\n",
       "      <td>Married</td>\n",
       "      <td>Star</td>\n",
       "      <td>3861.49</td>\n",
       "      <td>Standard</td>\n",
       "      <td>2016</td>\n",
       "      <td>12</td>\n",
       "      <td>NaN</td>\n",
       "      <td>NaN</td>\n",
       "    </tr>\n",
       "    <tr>\n",
       "      <th>8</th>\n",
       "      <td>852392</td>\n",
       "      <td>Canada</td>\n",
       "      <td>Quebec</td>\n",
       "      <td>Montreal</td>\n",
       "      <td>H2Y 2W2</td>\n",
       "      <td>Female</td>\n",
       "      <td>Bachelor</td>\n",
       "      <td>100159</td>\n",
       "      <td>Married</td>\n",
       "      <td>Star</td>\n",
       "      <td>3861.49</td>\n",
       "      <td>Standard</td>\n",
       "      <td>2015</td>\n",
       "      <td>5</td>\n",
       "      <td>NaN</td>\n",
       "      <td>NaN</td>\n",
       "    </tr>\n",
       "    <tr>\n",
       "      <th>9</th>\n",
       "      <td>866307</td>\n",
       "      <td>Canada</td>\n",
       "      <td>Ontario</td>\n",
       "      <td>Toronto</td>\n",
       "      <td>M8Y 4K8</td>\n",
       "      <td>Male</td>\n",
       "      <td>Bachelor</td>\n",
       "      <td>100159</td>\n",
       "      <td>Married</td>\n",
       "      <td>Star</td>\n",
       "      <td>3861.49</td>\n",
       "      <td>Standard</td>\n",
       "      <td>2016</td>\n",
       "      <td>10</td>\n",
       "      <td>NaN</td>\n",
       "      <td>NaN</td>\n",
       "    </tr>\n",
       "    <tr>\n",
       "      <th>10</th>\n",
       "      <td>932823</td>\n",
       "      <td>Canada</td>\n",
       "      <td>British Columbia</td>\n",
       "      <td>Vancouver</td>\n",
       "      <td>V6E 3D9</td>\n",
       "      <td>Female</td>\n",
       "      <td>Bachelor</td>\n",
       "      <td>66444</td>\n",
       "      <td>Married</td>\n",
       "      <td>Star</td>\n",
       "      <td>3863.31</td>\n",
       "      <td>Standard</td>\n",
       "      <td>2015</td>\n",
       "      <td>3</td>\n",
       "      <td>NaN</td>\n",
       "      <td>NaN</td>\n",
       "    </tr>\n",
       "    <tr>\n",
       "      <th>11</th>\n",
       "      <td>144514</td>\n",
       "      <td>Canada</td>\n",
       "      <td>British Columbia</td>\n",
       "      <td>Dawson Creek</td>\n",
       "      <td>U5I 4F1</td>\n",
       "      <td>Female</td>\n",
       "      <td>Bachelor</td>\n",
       "      <td>49618</td>\n",
       "      <td>Married</td>\n",
       "      <td>Star</td>\n",
       "      <td>3864.78</td>\n",
       "      <td>Standard</td>\n",
       "      <td>2016</td>\n",
       "      <td>6</td>\n",
       "      <td>NaN</td>\n",
       "      <td>NaN</td>\n",
       "    </tr>\n",
       "    <tr>\n",
       "      <th>12</th>\n",
       "      <td>611765</td>\n",
       "      <td>Canada</td>\n",
       "      <td>Quebec</td>\n",
       "      <td>Quebec City</td>\n",
       "      <td>G1B 3L5</td>\n",
       "      <td>Male</td>\n",
       "      <td>Bachelor</td>\n",
       "      <td>90175</td>\n",
       "      <td>Single</td>\n",
       "      <td>Star</td>\n",
       "      <td>3867.97</td>\n",
       "      <td>Standard</td>\n",
       "      <td>2018</td>\n",
       "      <td>1</td>\n",
       "      <td>NaN</td>\n",
       "      <td>NaN</td>\n",
       "    </tr>\n",
       "    <tr>\n",
       "      <th>13</th>\n",
       "      <td>988178</td>\n",
       "      <td>Canada</td>\n",
       "      <td>Quebec</td>\n",
       "      <td>Montreal</td>\n",
       "      <td>H4G 3T4</td>\n",
       "      <td>Male</td>\n",
       "      <td>College</td>\n",
       "      <td>0</td>\n",
       "      <td>Single</td>\n",
       "      <td>Star</td>\n",
       "      <td>3871.07</td>\n",
       "      <td>Standard</td>\n",
       "      <td>2013</td>\n",
       "      <td>10</td>\n",
       "      <td>NaN</td>\n",
       "      <td>NaN</td>\n",
       "    </tr>\n",
       "    <tr>\n",
       "      <th>14</th>\n",
       "      <td>286114</td>\n",
       "      <td>Canada</td>\n",
       "      <td>Ontario</td>\n",
       "      <td>Toronto</td>\n",
       "      <td>M2M 7K8</td>\n",
       "      <td>Female</td>\n",
       "      <td>College</td>\n",
       "      <td>0</td>\n",
       "      <td>Single</td>\n",
       "      <td>Star</td>\n",
       "      <td>3872.22</td>\n",
       "      <td>Standard</td>\n",
       "      <td>2016</td>\n",
       "      <td>11</td>\n",
       "      <td>NaN</td>\n",
       "      <td>NaN</td>\n",
       "    </tr>\n",
       "    <tr>\n",
       "      <th>15</th>\n",
       "      <td>205785</td>\n",
       "      <td>Canada</td>\n",
       "      <td>Ontario</td>\n",
       "      <td>Toronto</td>\n",
       "      <td>M2M 6J7</td>\n",
       "      <td>Male</td>\n",
       "      <td>Master</td>\n",
       "      <td>128118</td>\n",
       "      <td>Married</td>\n",
       "      <td>Star</td>\n",
       "      <td>3873.65</td>\n",
       "      <td>Standard</td>\n",
       "      <td>2016</td>\n",
       "      <td>8</td>\n",
       "      <td>NaN</td>\n",
       "      <td>NaN</td>\n",
       "    </tr>\n",
       "    <tr>\n",
       "      <th>16</th>\n",
       "      <td>735304</td>\n",
       "      <td>Canada</td>\n",
       "      <td>Alberta</td>\n",
       "      <td>Edmonton</td>\n",
       "      <td>T3G 6Y6</td>\n",
       "      <td>Female</td>\n",
       "      <td>Master</td>\n",
       "      <td>128118</td>\n",
       "      <td>Married</td>\n",
       "      <td>Star</td>\n",
       "      <td>3873.65</td>\n",
       "      <td>Standard</td>\n",
       "      <td>2016</td>\n",
       "      <td>12</td>\n",
       "      <td>NaN</td>\n",
       "      <td>NaN</td>\n",
       "    </tr>\n",
       "    <tr>\n",
       "      <th>17</th>\n",
       "      <td>438936</td>\n",
       "      <td>Canada</td>\n",
       "      <td>Quebec</td>\n",
       "      <td>Montreal</td>\n",
       "      <td>H2Y 2W2</td>\n",
       "      <td>Male</td>\n",
       "      <td>Bachelor</td>\n",
       "      <td>94092</td>\n",
       "      <td>Married</td>\n",
       "      <td>Star</td>\n",
       "      <td>3878.77</td>\n",
       "      <td>Standard</td>\n",
       "      <td>2013</td>\n",
       "      <td>10</td>\n",
       "      <td>NaN</td>\n",
       "      <td>NaN</td>\n",
       "    </tr>\n",
       "    <tr>\n",
       "      <th>18</th>\n",
       "      <td>172755</td>\n",
       "      <td>Canada</td>\n",
       "      <td>Alberta</td>\n",
       "      <td>Edmonton</td>\n",
       "      <td>T3G 6Y6</td>\n",
       "      <td>Female</td>\n",
       "      <td>College</td>\n",
       "      <td>0</td>\n",
       "      <td>Single</td>\n",
       "      <td>Aurora</td>\n",
       "      <td>5303.76</td>\n",
       "      <td>2018 Promotion</td>\n",
       "      <td>2018</td>\n",
       "      <td>3</td>\n",
       "      <td>NaN</td>\n",
       "      <td>NaN</td>\n",
       "    </tr>\n",
       "    <tr>\n",
       "      <th>19</th>\n",
       "      <td>354730</td>\n",
       "      <td>Canada</td>\n",
       "      <td>New Brunswick</td>\n",
       "      <td>Fredericton</td>\n",
       "      <td>E3B 2H2</td>\n",
       "      <td>Female</td>\n",
       "      <td>College</td>\n",
       "      <td>0</td>\n",
       "      <td>Married</td>\n",
       "      <td>Star</td>\n",
       "      <td>3885.46</td>\n",
       "      <td>Standard</td>\n",
       "      <td>2014</td>\n",
       "      <td>10</td>\n",
       "      <td>2018.0</td>\n",
       "      <td>1.0</td>\n",
       "    </tr>\n",
       "  </tbody>\n",
       "</table>\n",
       "</div>"
      ],
      "text/plain": [
       "    Loyalty Number Country          Province          City Postal Code  \\\n",
       "0           480934  Canada           Ontario       Toronto     M2Z 4K1   \n",
       "1           549612  Canada           Alberta      Edmonton     T3G 6Y6   \n",
       "2           429460  Canada  British Columbia     Vancouver     V6E 3D9   \n",
       "3           608370  Canada           Ontario       Toronto     P1W 1K4   \n",
       "4           530508  Canada            Quebec          Hull     J8Y 3Z5   \n",
       "5           193662  Canada             Yukon    Whitehorse     Y2K 6R0   \n",
       "6           927943  Canada           Ontario       Toronto     P5S 6R4   \n",
       "7           188893  Canada           Ontario       Trenton     K8V 4B2   \n",
       "8           852392  Canada            Quebec      Montreal     H2Y 2W2   \n",
       "9           866307  Canada           Ontario       Toronto     M8Y 4K8   \n",
       "10          932823  Canada  British Columbia     Vancouver     V6E 3D9   \n",
       "11          144514  Canada  British Columbia  Dawson Creek     U5I 4F1   \n",
       "12          611765  Canada            Quebec   Quebec City     G1B 3L5   \n",
       "13          988178  Canada            Quebec      Montreal     H4G 3T4   \n",
       "14          286114  Canada           Ontario       Toronto     M2M 7K8   \n",
       "15          205785  Canada           Ontario       Toronto     M2M 6J7   \n",
       "16          735304  Canada           Alberta      Edmonton     T3G 6Y6   \n",
       "17          438936  Canada            Quebec      Montreal     H2Y 2W2   \n",
       "18          172755  Canada           Alberta      Edmonton     T3G 6Y6   \n",
       "19          354730  Canada     New Brunswick   Fredericton     E3B 2H2   \n",
       "\n",
       "    Gender Education  Salary Marital Status Loyalty Card      CLV  \\\n",
       "0   Female  Bachelor   83236        Married         Star  3839.14   \n",
       "1     Male   College       0       Divorced         Star  3839.61   \n",
       "2     Male   College       0         Single         Star  3839.75   \n",
       "3     Male   College       0         Single         Star  3839.75   \n",
       "4     Male  Bachelor  103495        Married         Star  3842.79   \n",
       "5     Male  Bachelor   51124        Married         Star  3844.57   \n",
       "6   Female   College       0         Single         Star  3857.95   \n",
       "7     Male  Bachelor  100159        Married         Star  3861.49   \n",
       "8   Female  Bachelor  100159        Married         Star  3861.49   \n",
       "9     Male  Bachelor  100159        Married         Star  3861.49   \n",
       "10  Female  Bachelor   66444        Married         Star  3863.31   \n",
       "11  Female  Bachelor   49618        Married         Star  3864.78   \n",
       "12    Male  Bachelor   90175         Single         Star  3867.97   \n",
       "13    Male   College       0         Single         Star  3871.07   \n",
       "14  Female   College       0         Single         Star  3872.22   \n",
       "15    Male    Master  128118        Married         Star  3873.65   \n",
       "16  Female    Master  128118        Married         Star  3873.65   \n",
       "17    Male  Bachelor   94092        Married         Star  3878.77   \n",
       "18  Female   College       0         Single       Aurora  5303.76   \n",
       "19  Female   College       0        Married         Star  3885.46   \n",
       "\n",
       "   Enrollment Type  Enrollment Year  Enrollment Month  Cancellation Year  \\\n",
       "0         Standard             2016                 2                NaN   \n",
       "1         Standard             2016                 3                NaN   \n",
       "2         Standard             2014                 7             2018.0   \n",
       "3         Standard             2013                 2                NaN   \n",
       "4         Standard             2014                10                NaN   \n",
       "5         Standard             2012                 5                NaN   \n",
       "6         Standard             2014                 6                NaN   \n",
       "7         Standard             2016                12                NaN   \n",
       "8         Standard             2015                 5                NaN   \n",
       "9         Standard             2016                10                NaN   \n",
       "10        Standard             2015                 3                NaN   \n",
       "11        Standard             2016                 6                NaN   \n",
       "12        Standard             2018                 1                NaN   \n",
       "13        Standard             2013                10                NaN   \n",
       "14        Standard             2016                11                NaN   \n",
       "15        Standard             2016                 8                NaN   \n",
       "16        Standard             2016                12                NaN   \n",
       "17        Standard             2013                10                NaN   \n",
       "18  2018 Promotion             2018                 3                NaN   \n",
       "19        Standard             2014                10             2018.0   \n",
       "\n",
       "    Cancellation Month  \n",
       "0                  NaN  \n",
       "1                  NaN  \n",
       "2                  1.0  \n",
       "3                  NaN  \n",
       "4                  NaN  \n",
       "5                  NaN  \n",
       "6                  NaN  \n",
       "7                  NaN  \n",
       "8                  NaN  \n",
       "9                  NaN  \n",
       "10                 NaN  \n",
       "11                 NaN  \n",
       "12                 NaN  \n",
       "13                 NaN  \n",
       "14                 NaN  \n",
       "15                 NaN  \n",
       "16                 NaN  \n",
       "17                 NaN  \n",
       "18                 NaN  \n",
       "19                 1.0  "
      ]
     },
     "metadata": {},
     "output_type": "display_data"
    }
   ],
   "source": [
    "# imputamos los nulos con una nueva categoría de 'Unknow' en la columna 'Salary'\n",
    "\n",
    "df_loyalty['Salary'].value_counts(normalize=True)\n",
    "df_loyalty['Salary'] = df_loyalty['Salary'].fillna(0)\n",
    "\n",
    "# para verificar los cambios\n",
    "print(df_loyalty['Salary'].isnull().sum()) # para obtener la suma total de nulos, si existe\n",
    "display(df_loyalty.head(20)) # para ver el DataFrame y comprobar los datos"
   ]
  },
  {
   "cell_type": "code",
   "execution_count": 239,
   "id": "767a6fea",
   "metadata": {},
   "outputs": [
    {
     "name": "stdout",
     "output_type": "stream",
     "text": [
      "Loyalty Number            0\n",
      "Country                   0\n",
      "Province                  0\n",
      "City                      0\n",
      "Postal Code               0\n",
      "Gender                    0\n",
      "Education                 0\n",
      "Salary                    0\n",
      "Marital Status            0\n",
      "Loyalty Card              0\n",
      "CLV                       0\n",
      "Enrollment Type           0\n",
      "Enrollment Year           0\n",
      "Enrollment Month          0\n",
      "Cancellation Year     14670\n",
      "Cancellation Month    14670\n",
      "dtype: int64\n"
     ]
    }
   ],
   "source": [
    "# hacemos otra comprobación del DataFrame, de las columnas que nos quedan por gestionar\n",
    "\n",
    "print(df_loyalty.isnull().sum())"
   ]
  },
  {
   "cell_type": "code",
   "execution_count": 240,
   "id": "249beda9",
   "metadata": {},
   "outputs": [
    {
     "name": "stdout",
     "output_type": "stream",
     "text": [
      "<class 'pandas.core.frame.DataFrame'>\n",
      "RangeIndex: 16737 entries, 0 to 16736\n",
      "Data columns (total 2 columns):\n",
      " #   Column              Non-Null Count  Dtype  \n",
      "---  ------              --------------  -----  \n",
      " 0   Cancellation Year   2067 non-null   float64\n",
      " 1   Cancellation Month  2067 non-null   float64\n",
      "dtypes: float64(2)\n",
      "memory usage: 261.6 KB\n",
      "None\n"
     ]
    }
   ],
   "source": [
    "# comprobamos el tipo de datos de estas columnas\n",
    "print(df_loyalty[['Cancellation Year', 'Cancellation Month']].info())"
   ]
  },
  {
   "cell_type": "code",
   "execution_count": 241,
   "id": "e8db02de",
   "metadata": {},
   "outputs": [
    {
     "name": "stdout",
     "output_type": "stream",
     "text": [
      "<class 'pandas.core.frame.DataFrame'>\n",
      "RangeIndex: 16737 entries, 0 to 16736\n",
      "Data columns (total 2 columns):\n",
      " #   Column              Non-Null Count  Dtype\n",
      "---  ------              --------------  -----\n",
      " 0   Cancellation Year   2067 non-null   Int64\n",
      " 1   Cancellation Month  2067 non-null   Int64\n",
      "dtypes: Int64(2)\n",
      "memory usage: 294.3 KB\n"
     ]
    }
   ],
   "source": [
    "# decidimos convertir los datos de float a int para luego convertirlo a object en las columnas 'Cancellation Year' y 'Cancellation Month'\n",
    "\n",
    "df_loyalty[['Cancellation Year', 'Cancellation Month']] = df_loyalty[['Cancellation Year', 'Cancellation Month']].astype('Int64')\n",
    "df_loyalty[['Cancellation Year', 'Cancellation Month']].info() # para comprobar el cambio\n",
    "\n",
    "# el tipo 'Int64' considera los Nan antes de analizarlos"
   ]
  },
  {
   "cell_type": "code",
   "execution_count": 242,
   "id": "ce596b39",
   "metadata": {},
   "outputs": [
    {
     "name": "stdout",
     "output_type": "stream",
     "text": [
      "Cancellation Year     0\n",
      "Cancellation Month    0\n",
      "dtype: int64\n"
     ]
    }
   ],
   "source": [
    "# imputamos los nulos con '0' que luego usaremos en el mapa de los nombres de los meses:\n",
    "\n",
    "df_loyalty[['Cancellation Year', 'Cancellation Month']].value_counts(normalize=True)\n",
    "df_loyalty[['Cancellation Year', 'Cancellation Month']] = df_loyalty[['Cancellation Year', 'Cancellation Month']].fillna(0)\n",
    "print(df_loyalty[['Cancellation Year', 'Cancellation Month']].isnull().sum()) # para verificar los cambios"
   ]
  },
  {
   "cell_type": "code",
   "execution_count": 243,
   "id": "a5393ccf",
   "metadata": {},
   "outputs": [
    {
     "name": "stdout",
     "output_type": "stream",
     "text": [
      "<class 'pandas.core.frame.DataFrame'>\n",
      "RangeIndex: 16737 entries, 0 to 16736\n",
      "Data columns (total 16 columns):\n",
      " #   Column              Non-Null Count  Dtype  \n",
      "---  ------              --------------  -----  \n",
      " 0   Loyalty Number      16737 non-null  int64  \n",
      " 1   Country             16737 non-null  object \n",
      " 2   Province            16737 non-null  object \n",
      " 3   City                16737 non-null  object \n",
      " 4   Postal Code         16737 non-null  object \n",
      " 5   Gender              16737 non-null  object \n",
      " 6   Education           16737 non-null  object \n",
      " 7   Salary              16737 non-null  Int64  \n",
      " 8   Marital Status      16737 non-null  object \n",
      " 9   Loyalty Card        16737 non-null  object \n",
      " 10  CLV                 16737 non-null  float64\n",
      " 11  Enrollment Type     16737 non-null  object \n",
      " 12  Enrollment Year     16737 non-null  int64  \n",
      " 13  Enrollment Month    16737 non-null  int64  \n",
      " 14  Cancellation Year   16737 non-null  Int64  \n",
      " 15  Cancellation Month  16737 non-null  Int64  \n",
      "dtypes: Int64(3), float64(1), int64(3), object(9)\n",
      "memory usage: 2.1+ MB\n"
     ]
    }
   ],
   "source": [
    "# luego de gestionar los nulos en estas columnas, verificamos los datos neuvamente:\n",
    "\n",
    "df_loyalty.info()"
   ]
  },
  {
   "cell_type": "code",
   "execution_count": 244,
   "id": "66867bc5",
   "metadata": {},
   "outputs": [
    {
     "name": "stdout",
     "output_type": "stream",
     "text": [
      "<class 'pandas.core.frame.DataFrame'>\n",
      "RangeIndex: 16737 entries, 0 to 16736\n",
      "Data columns (total 4 columns):\n",
      " #   Column              Non-Null Count  Dtype \n",
      "---  ------              --------------  ----- \n",
      " 0   Enrollment Year     16737 non-null  object\n",
      " 1   Enrollment Month    16737 non-null  object\n",
      " 2   Cancellation Year   16737 non-null  object\n",
      " 3   Cancellation Month  16737 non-null  object\n",
      "dtypes: object(4)\n",
      "memory usage: 523.2+ KB\n"
     ]
    }
   ],
   "source": [
    "# convertimos los datos de int a object en las columnas 'Enrollment Year' y 'Enrollment Month'\n",
    "\n",
    "df_loyalty[['Enrollment Year', 'Enrollment Month', 'Cancellation Year', 'Cancellation Month']] = df_loyalty[['Enrollment Year', 'Enrollment Month', 'Cancellation Year', 'Cancellation Month']].astype(str)\n",
    "df_loyalty[['Enrollment Year', 'Enrollment Month', 'Cancellation Year', 'Cancellation Month']].info() # para comprobar el cambio"
   ]
  },
  {
   "cell_type": "code",
   "execution_count": 245,
   "id": "f978fea8",
   "metadata": {},
   "outputs": [
    {
     "name": "stdout",
     "output_type": "stream",
     "text": [
      "['Febrero' 'Marzo' 'Julio' 'Octubre' 'Mayo' 'Junio' 'Diciembre' 'Enero'\n",
      " 'Noviembre' 'Agosto' 'Abril' 'Septiembre']\n",
      "['Sin data' 'Enero' 'Diciembre' 'Abril' 'Febrero' 'Julio' 'Noviembre'\n",
      " 'Mayo' 'Junio' 'Octubre' 'Agosto' 'Septiembre' 'Marzo']\n",
      "['Sin data' '2018' '2015' '2017' '2014' '2016' '2013']\n"
     ]
    }
   ],
   "source": [
    "# convertimos los meses con el mapa que hicimos para el primer DataFrame\n",
    "\n",
    "mapa_mes = {'0': 'Sin data', '1': 'Enero', '2': 'Febrero', '3': 'Marzo', '4': 'Abril', '5': 'Mayo', '6': 'Junio', \n",
    "            '7': 'Julio', '8': 'Agosto', '9': 'Septiembre', '10': 'Octubre', '11': 'Noviembre', '12': 'Diciembre'}\n",
    "\n",
    "for col in df_loyalty[['Enrollment Month','Cancellation Month', 'Cancellation Year']].columns:\n",
    "    df_loyalty[col] = df_loyalty[col].replace(mapa_mes)\n",
    "    print(df_loyalty[col].unique())\n",
    "\n",
    "# usamos 'replace' para que no afecte los valores nulos que tenemos en las columnas 'Cancellation Month', 'Cancellation Year'\n",
    "# comprobamos que en las columnas de 'Enrollment Month' que no teníamos nulos, tenemos 12 nuevos datos con los nombres de los meses\n",
    "# en cambio en 'Cancellation Month' tenemos nulos que se reemplazan por 'No data' (13 tipos de categorías)\n",
    "# y en 'Cancellation Year' tenemos datos nulos reemplazados por '"
   ]
  },
  {
   "cell_type": "code",
   "execution_count": 246,
   "id": "d555369a",
   "metadata": {},
   "outputs": [
    {
     "data": {
      "application/vnd.microsoft.datawrangler.viewer.v0+json": {
       "columns": [
        {
         "name": "index",
         "rawType": "object",
         "type": "string"
        },
        {
         "name": "count",
         "rawType": "object",
         "type": "unknown"
        },
        {
         "name": "unique",
         "rawType": "object",
         "type": "unknown"
        },
        {
         "name": "top",
         "rawType": "object",
         "type": "string"
        },
        {
         "name": "freq",
         "rawType": "object",
         "type": "unknown"
        }
       ],
       "ref": "175349f1-e71c-4222-8e2f-11a6f2af2e6c",
       "rows": [
        [
         "Country",
         "16737",
         "1",
         "Canada",
         "16737"
        ],
        [
         "Province",
         "16737",
         "11",
         "Ontario",
         "5404"
        ],
        [
         "City",
         "16737",
         "29",
         "Toronto",
         "3351"
        ],
        [
         "Postal Code",
         "16737",
         "55",
         "V6E 3D9",
         "911"
        ],
        [
         "Gender",
         "16737",
         "2",
         "Female",
         "8410"
        ],
        [
         "Education",
         "16737",
         "5",
         "Bachelor",
         "10475"
        ],
        [
         "Marital Status",
         "16737",
         "3",
         "Married",
         "9735"
        ],
        [
         "Loyalty Card",
         "16737",
         "3",
         "Star",
         "7637"
        ],
        [
         "Enrollment Type",
         "16737",
         "2",
         "Standard",
         "15766"
        ],
        [
         "Enrollment Year",
         "16737",
         "7",
         "2018",
         "3010"
        ],
        [
         "Enrollment Month",
         "16737",
         "12",
         "Mayo",
         "1503"
        ],
        [
         "Cancellation Year",
         "16737",
         "7",
         "Sin data",
         "14670"
        ],
        [
         "Cancellation Month",
         "16737",
         "13",
         "Sin data",
         "14670"
        ]
       ],
       "shape": {
        "columns": 4,
        "rows": 13
       }
      },
      "text/html": [
       "<div>\n",
       "<style scoped>\n",
       "    .dataframe tbody tr th:only-of-type {\n",
       "        vertical-align: middle;\n",
       "    }\n",
       "\n",
       "    .dataframe tbody tr th {\n",
       "        vertical-align: top;\n",
       "    }\n",
       "\n",
       "    .dataframe thead th {\n",
       "        text-align: right;\n",
       "    }\n",
       "</style>\n",
       "<table border=\"1\" class=\"dataframe\">\n",
       "  <thead>\n",
       "    <tr style=\"text-align: right;\">\n",
       "      <th></th>\n",
       "      <th>count</th>\n",
       "      <th>unique</th>\n",
       "      <th>top</th>\n",
       "      <th>freq</th>\n",
       "    </tr>\n",
       "  </thead>\n",
       "  <tbody>\n",
       "    <tr>\n",
       "      <th>Country</th>\n",
       "      <td>16737</td>\n",
       "      <td>1</td>\n",
       "      <td>Canada</td>\n",
       "      <td>16737</td>\n",
       "    </tr>\n",
       "    <tr>\n",
       "      <th>Province</th>\n",
       "      <td>16737</td>\n",
       "      <td>11</td>\n",
       "      <td>Ontario</td>\n",
       "      <td>5404</td>\n",
       "    </tr>\n",
       "    <tr>\n",
       "      <th>City</th>\n",
       "      <td>16737</td>\n",
       "      <td>29</td>\n",
       "      <td>Toronto</td>\n",
       "      <td>3351</td>\n",
       "    </tr>\n",
       "    <tr>\n",
       "      <th>Postal Code</th>\n",
       "      <td>16737</td>\n",
       "      <td>55</td>\n",
       "      <td>V6E 3D9</td>\n",
       "      <td>911</td>\n",
       "    </tr>\n",
       "    <tr>\n",
       "      <th>Gender</th>\n",
       "      <td>16737</td>\n",
       "      <td>2</td>\n",
       "      <td>Female</td>\n",
       "      <td>8410</td>\n",
       "    </tr>\n",
       "    <tr>\n",
       "      <th>Education</th>\n",
       "      <td>16737</td>\n",
       "      <td>5</td>\n",
       "      <td>Bachelor</td>\n",
       "      <td>10475</td>\n",
       "    </tr>\n",
       "    <tr>\n",
       "      <th>Marital Status</th>\n",
       "      <td>16737</td>\n",
       "      <td>3</td>\n",
       "      <td>Married</td>\n",
       "      <td>9735</td>\n",
       "    </tr>\n",
       "    <tr>\n",
       "      <th>Loyalty Card</th>\n",
       "      <td>16737</td>\n",
       "      <td>3</td>\n",
       "      <td>Star</td>\n",
       "      <td>7637</td>\n",
       "    </tr>\n",
       "    <tr>\n",
       "      <th>Enrollment Type</th>\n",
       "      <td>16737</td>\n",
       "      <td>2</td>\n",
       "      <td>Standard</td>\n",
       "      <td>15766</td>\n",
       "    </tr>\n",
       "    <tr>\n",
       "      <th>Enrollment Year</th>\n",
       "      <td>16737</td>\n",
       "      <td>7</td>\n",
       "      <td>2018</td>\n",
       "      <td>3010</td>\n",
       "    </tr>\n",
       "    <tr>\n",
       "      <th>Enrollment Month</th>\n",
       "      <td>16737</td>\n",
       "      <td>12</td>\n",
       "      <td>Mayo</td>\n",
       "      <td>1503</td>\n",
       "    </tr>\n",
       "    <tr>\n",
       "      <th>Cancellation Year</th>\n",
       "      <td>16737</td>\n",
       "      <td>7</td>\n",
       "      <td>Sin data</td>\n",
       "      <td>14670</td>\n",
       "    </tr>\n",
       "    <tr>\n",
       "      <th>Cancellation Month</th>\n",
       "      <td>16737</td>\n",
       "      <td>13</td>\n",
       "      <td>Sin data</td>\n",
       "      <td>14670</td>\n",
       "    </tr>\n",
       "  </tbody>\n",
       "</table>\n",
       "</div>"
      ],
      "text/plain": [
       "                    count unique       top   freq\n",
       "Country             16737      1    Canada  16737\n",
       "Province            16737     11   Ontario   5404\n",
       "City                16737     29   Toronto   3351\n",
       "Postal Code         16737     55   V6E 3D9    911\n",
       "Gender              16737      2    Female   8410\n",
       "Education           16737      5  Bachelor  10475\n",
       "Marital Status      16737      3   Married   9735\n",
       "Loyalty Card        16737      3      Star   7637\n",
       "Enrollment Type     16737      2  Standard  15766\n",
       "Enrollment Year     16737      7      2018   3010\n",
       "Enrollment Month    16737     12      Mayo   1503\n",
       "Cancellation Year   16737      7  Sin data  14670\n",
       "Cancellation Month  16737     13  Sin data  14670"
      ]
     },
     "execution_count": 246,
     "metadata": {},
     "output_type": "execute_result"
    }
   ],
   "source": [
    "# 4. Exploramos los datos de las columnas categóricas usando 'describe()'\n",
    "\n",
    "df_loyalty.describe(include='O').T"
   ]
  },
  {
   "cell_type": "code",
   "execution_count": 247,
   "id": "9f6cf12b",
   "metadata": {},
   "outputs": [
    {
     "data": {
      "application/vnd.microsoft.datawrangler.viewer.v0+json": {
       "columns": [
        {
         "name": "index",
         "rawType": "object",
         "type": "string"
        },
        {
         "name": "count",
         "rawType": "object",
         "type": "unknown"
        },
        {
         "name": "mean",
         "rawType": "object",
         "type": "unknown"
        },
        {
         "name": "std",
         "rawType": "object",
         "type": "unknown"
        },
        {
         "name": "min",
         "rawType": "object",
         "type": "unknown"
        },
        {
         "name": "25%",
         "rawType": "object",
         "type": "unknown"
        },
        {
         "name": "50%",
         "rawType": "object",
         "type": "unknown"
        },
        {
         "name": "75%",
         "rawType": "object",
         "type": "unknown"
        },
        {
         "name": "max",
         "rawType": "object",
         "type": "unknown"
        }
       ],
       "ref": "19a87983-bc27-4318-9fc2-cd9a1c3ec5c2",
       "rows": [
        [
         "Loyalty Number",
         "16737.0",
         "549735.8804445241",
         "258912.13245338068",
         "100018.0",
         "326603.0",
         "550434.0",
         "772019.0",
         "999986.0"
        ],
        [
         "Salary",
         "16737.0",
         "59264.647308358726",
         "45746.42778489722",
         "0.0",
         "0.0",
         "63654.0",
         "82940.0",
         "407228.0"
        ],
        [
         "CLV",
         "16737.0",
         "7988.896535818843",
         "6860.982280053849",
         "1898.01",
         "3980.84",
         "5780.18",
         "8940.58",
         "83325.38"
        ]
       ],
       "shape": {
        "columns": 8,
        "rows": 3
       }
      },
      "text/html": [
       "<div>\n",
       "<style scoped>\n",
       "    .dataframe tbody tr th:only-of-type {\n",
       "        vertical-align: middle;\n",
       "    }\n",
       "\n",
       "    .dataframe tbody tr th {\n",
       "        vertical-align: top;\n",
       "    }\n",
       "\n",
       "    .dataframe thead th {\n",
       "        text-align: right;\n",
       "    }\n",
       "</style>\n",
       "<table border=\"1\" class=\"dataframe\">\n",
       "  <thead>\n",
       "    <tr style=\"text-align: right;\">\n",
       "      <th></th>\n",
       "      <th>count</th>\n",
       "      <th>mean</th>\n",
       "      <th>std</th>\n",
       "      <th>min</th>\n",
       "      <th>25%</th>\n",
       "      <th>50%</th>\n",
       "      <th>75%</th>\n",
       "      <th>max</th>\n",
       "    </tr>\n",
       "  </thead>\n",
       "  <tbody>\n",
       "    <tr>\n",
       "      <th>Loyalty Number</th>\n",
       "      <td>16737.0</td>\n",
       "      <td>549735.880445</td>\n",
       "      <td>258912.132453</td>\n",
       "      <td>100018.0</td>\n",
       "      <td>326603.0</td>\n",
       "      <td>550434.0</td>\n",
       "      <td>772019.0</td>\n",
       "      <td>999986.0</td>\n",
       "    </tr>\n",
       "    <tr>\n",
       "      <th>Salary</th>\n",
       "      <td>16737.0</td>\n",
       "      <td>59264.647308</td>\n",
       "      <td>45746.427785</td>\n",
       "      <td>0.0</td>\n",
       "      <td>0.0</td>\n",
       "      <td>63654.0</td>\n",
       "      <td>82940.0</td>\n",
       "      <td>407228.0</td>\n",
       "    </tr>\n",
       "    <tr>\n",
       "      <th>CLV</th>\n",
       "      <td>16737.0</td>\n",
       "      <td>7988.896536</td>\n",
       "      <td>6860.98228</td>\n",
       "      <td>1898.01</td>\n",
       "      <td>3980.84</td>\n",
       "      <td>5780.18</td>\n",
       "      <td>8940.58</td>\n",
       "      <td>83325.38</td>\n",
       "    </tr>\n",
       "  </tbody>\n",
       "</table>\n",
       "</div>"
      ],
      "text/plain": [
       "                  count           mean            std       min       25%  \\\n",
       "Loyalty Number  16737.0  549735.880445  258912.132453  100018.0  326603.0   \n",
       "Salary          16737.0   59264.647308   45746.427785       0.0       0.0   \n",
       "CLV             16737.0    7988.896536     6860.98228   1898.01   3980.84   \n",
       "\n",
       "                     50%       75%       max  \n",
       "Loyalty Number  550434.0  772019.0  999986.0  \n",
       "Salary           63654.0   82940.0  407228.0  \n",
       "CLV              5780.18   8940.58  83325.38  "
      ]
     },
     "execution_count": 247,
     "metadata": {},
     "output_type": "execute_result"
    }
   ],
   "source": [
    "# exploramos los datos de las columnas numéricas usando describe()\n",
    "\n",
    "df_loyalty.describe().T\n",
    "\n",
    "# concluímos que las media y la mediana no están cercanas en los datos de algunas columnas\n",
    "# y en algunas columnas la dispersión de los datos es alta"
   ]
  },
  {
   "cell_type": "code",
   "execution_count": 248,
   "id": "d51edbc4",
   "metadata": {},
   "outputs": [
    {
     "data": {
      "text/plain": [
       "0"
      ]
     },
     "execution_count": 248,
     "metadata": {},
     "output_type": "execute_result"
    }
   ],
   "source": [
    "# 5. Exploramos el DataFrame para detectar registros duplicados\n",
    "\n",
    "df_loyalty.duplicated().sum() \n",
    "# no se registran datos duplicados en el DataFrame"
   ]
  },
  {
   "cell_type": "code",
   "execution_count": 249,
   "id": "14dac16e",
   "metadata": {},
   "outputs": [
    {
     "name": "stdout",
     "output_type": "stream",
     "text": [
      "Columna --> Country\n",
      "Country\n",
      "Canada    16737\n",
      "Name: count, dtype: int64\n",
      "***************************************************************************\n",
      "Columna --> Province\n",
      "Province\n",
      "Ontario                 5404\n",
      "British Columbia        4409\n",
      "Quebec                  3300\n",
      "Alberta                  969\n",
      "Manitoba                 658\n",
      "New Brunswick            636\n",
      "Nova Scotia              518\n",
      "Saskatchewan             409\n",
      "Newfoundland             258\n",
      "Yukon                    110\n",
      "Prince Edward Island      66\n",
      "Name: count, dtype: int64\n",
      "***************************************************************************\n",
      "Columna --> City\n",
      "City\n",
      "Toronto           3351\n",
      "Vancouver         2582\n",
      "Montreal          2059\n",
      "Winnipeg           658\n",
      "Whistler           582\n",
      "Halifax            518\n",
      "Ottawa             509\n",
      "Trenton            486\n",
      "Edmonton           486\n",
      "Quebec City        485\n",
      "Dawson Creek       444\n",
      "Fredericton        425\n",
      "Regina             409\n",
      "Kingston           401\n",
      "Tremblant          398\n",
      "Victoria           389\n",
      "Hull               358\n",
      "West Vancouver     324\n",
      "St. John's         258\n",
      "Thunder Bay        256\n",
      "Sudbury            227\n",
      "Moncton            211\n",
      "Calgary            191\n",
      "Banff              179\n",
      "London             174\n",
      "Peace River        113\n",
      "Whitehorse         110\n",
      "Kelowna             88\n",
      "Charlottetown       66\n",
      "Name: count, dtype: int64\n",
      "***************************************************************************\n",
      "Columna --> Postal Code\n",
      "Postal Code\n",
      "V6E 3D9    911\n",
      "V5R 1W3    684\n",
      "V6T 1Y8    582\n",
      "V6E 3Z3    544\n",
      "M2M 7K8    534\n",
      "P1J 8T7    500\n",
      "H2T 9K8    499\n",
      "K8V 4B2    486\n",
      "G1B 3L5    485\n",
      "H2T 2J6    446\n",
      "U5I 4F1    444\n",
      "V1E 4R6    443\n",
      "E3B 2H2    425\n",
      "R2C 0M5    415\n",
      "M9K 2P4    401\n",
      "H5Y 2S9    398\n",
      "V10 6T5    389\n",
      "K1F 2R2    389\n",
      "H2Y 2W2    365\n",
      "J8Y 3Z5    358\n",
      "M8Y 4K8    340\n",
      "H4G 3T4    338\n",
      "B3J 9S2    329\n",
      "V6V 8Z3    324\n",
      "P2T 6G3    322\n",
      "H2Y 4R4    315\n",
      "M1R 4K3    313\n",
      "P1L 8X8    282\n",
      "P1W 1K4    275\n",
      "T9G 1W3    266\n",
      "A1C 6H9    258\n",
      "M2Z 4K1    257\n",
      "K8T 5M5    256\n",
      "P5S 6R4    246\n",
      "M5V 1G5    227\n",
      "S6J 3G0    226\n",
      "T3G 6Y6    220\n",
      "E1A 2A7    211\n",
      "T3E 2V9    191\n",
      "B3C 2M8    189\n",
      "S1J 3C5    183\n",
      "T4V 1D4    179\n",
      "M5B 3E4    174\n",
      "M2M 6J7    153\n",
      "R6Y 4T5    143\n",
      "M2P 4F6    126\n",
      "K1G 4Z0    120\n",
      "T9O 2W2    113\n",
      "Y2K 6R0    110\n",
      "R3R 3T4    100\n",
      "H3T 8L4     89\n",
      "V09 2E9     88\n",
      "C1A 6E8     66\n",
      "H3J 5I6      7\n",
      "M3R 4K8      3\n",
      "Name: count, dtype: int64\n",
      "***************************************************************************\n",
      "Columna --> Gender\n",
      "Gender\n",
      "Female    8410\n",
      "Male      8327\n",
      "Name: count, dtype: int64\n",
      "***************************************************************************\n",
      "Columna --> Education\n",
      "Education\n",
      "Bachelor                10475\n",
      "College                  4238\n",
      "High School or Below      782\n",
      "Doctor                    734\n",
      "Master                    508\n",
      "Name: count, dtype: int64\n",
      "***************************************************************************\n",
      "Columna --> Marital Status\n",
      "Marital Status\n",
      "Married     9735\n",
      "Single      4484\n",
      "Divorced    2518\n",
      "Name: count, dtype: int64\n",
      "***************************************************************************\n",
      "Columna --> Loyalty Card\n",
      "Loyalty Card\n",
      "Star      7637\n",
      "Nova      5671\n",
      "Aurora    3429\n",
      "Name: count, dtype: int64\n",
      "***************************************************************************\n",
      "Columna --> Enrollment Type\n",
      "Enrollment Type\n",
      "Standard          15766\n",
      "2018 Promotion      971\n",
      "Name: count, dtype: int64\n",
      "***************************************************************************\n",
      "Columna --> Enrollment Year\n",
      "Enrollment Year\n",
      "2018    3010\n",
      "2017    2487\n",
      "2016    2456\n",
      "2013    2397\n",
      "2014    2370\n",
      "2015    2331\n",
      "2012    1686\n",
      "Name: count, dtype: int64\n",
      "***************************************************************************\n",
      "Columna --> Enrollment Month\n",
      "Enrollment Month\n",
      "Mayo          1503\n",
      "Diciembre     1480\n",
      "Julio         1473\n",
      "Noviembre     1446\n",
      "Octubre       1444\n",
      "Agosto        1430\n",
      "Junio         1412\n",
      "Septiembre    1391\n",
      "Abril         1388\n",
      "Marzo         1358\n",
      "Febrero       1220\n",
      "Enero         1192\n",
      "Name: count, dtype: int64\n",
      "***************************************************************************\n",
      "Columna --> Cancellation Year\n",
      "Cancellation Year\n",
      "Sin data    14670\n",
      "2018          645\n",
      "2017          506\n",
      "2016          427\n",
      "2015          265\n",
      "2014          181\n",
      "2013           43\n",
      "Name: count, dtype: int64\n",
      "***************************************************************************\n",
      "Columna --> Cancellation Month\n",
      "Cancellation Month\n",
      "Sin data      14670\n",
      "Diciembre       213\n",
      "Noviembre       212\n",
      "Agosto          208\n",
      "Julio           186\n",
      "Octubre         180\n",
      "Septiembre      176\n",
      "Junio           165\n",
      "Enero           155\n",
      "Marzo           149\n",
      "Mayo            148\n",
      "Febrero         139\n",
      "Abril           136\n",
      "Name: count, dtype: int64\n",
      "***************************************************************************\n"
     ]
    }
   ],
   "source": [
    "# 6. Análisis la variable categóricas, usando un 'value_count'\n",
    "\n",
    "for col in df_loyalty.select_dtypes(include='O').columns:\n",
    "    print(f\"Columna --> {col}\")\n",
    "    print(f\"{df_loyalty[col].value_counts()}\") # nos muestra las veces que aparece un dato en cada categoría\n",
    "    print('***' * 25)"
   ]
  },
  {
   "cell_type": "code",
   "execution_count": 250,
   "id": "a2f52b6d",
   "metadata": {},
   "outputs": [],
   "source": [
    "# Algunas conclusiones: \n",
    "# El país de estudio es Canada\n",
    "# Ontario la Provincia dominante y Toronto donde vive la mayoría de los clientes\n",
    "# La mayoría de los clientes son mujeres, y el nivel educativo que predomina es 'Bachelor'\n",
    "# El status marital que predomina es 'Married'\n",
    "# La mayoría de clientes se registró de forma 'Standard' (porcentaje de promoción?)\n",
    "# Los registros han subido cada año, significativamente en el 2018. No tenemos registros del 2013 y 2014\n",
    "# El mes que mas registros tenemos es Mayo, seguido de Diciembre en segundo lugar\n",
    "# Hay muchos clientes que han cancelado su registro, pero el año que mas de registraron cancelaciones fue en 2018 y el mes de Diciembre"
   ]
  },
  {
   "cell_type": "code",
   "execution_count": 251,
   "id": "bc6f272e",
   "metadata": {},
   "outputs": [
    {
     "data": {
      "text/plain": [
       "Index(['Loyalty Number', 'Salary', 'CLV'], dtype='object')"
      ]
     },
     "execution_count": 251,
     "metadata": {},
     "output_type": "execute_result"
    }
   ],
   "source": [
    "# 7. Análisis de la variable numéricas, usando histograma y boxplot\n",
    "# seleccionamos las columnas que nos interesan\n",
    "\n",
    "df_loyalty.select_dtypes(include='number').columns # por el tipo de datos solo queremos ver los numéricos"
   ]
  },
  {
   "cell_type": "code",
   "execution_count": 252,
   "id": "5c84f944",
   "metadata": {},
   "outputs": [
    {
     "data": {
      "image/png": "[encoded data removed]",
      "text/plain": [
       "<Figure size 2000x1000 with 2 Axes>"
      ]
     },
     "metadata": {},
     "output_type": "display_data"
    }
   ],
   "source": [
    "# se realiza un histograma para verificar la distribución de los datos en las columnas 'Salary', 'CLV'\n",
    "# Customer lifetime value (CLV): son los ingresos o ganancias totales generados por un cliente durante todo el transcurso de la relación con la empresa\n",
    "\n",
    "df_loyalty[['Salary', 'CLV']].hist(bins=25, figsize=(20,10));"
   ]
  },
  {
   "cell_type": "code",
   "execution_count": 253,
   "id": "abe1a18c",
   "metadata": {},
   "outputs": [
    {
     "data": {
      "image/png": "[encoded data removed]",
      "text/plain": [
       "<Figure size 640x480 with 1 Axes>"
      ]
     },
     "metadata": {},
     "output_type": "display_data"
    },
    {
     "data": {
      "image/png": "[encoded data removed]",
      "text/plain": [
       "<Figure size 640x480 with 1 Axes>"
      ]
     },
     "metadata": {},
     "output_type": "display_data"
    }
   ],
   "source": [
    "# usamos las columnas que nos aportan información:\n",
    "\n",
    "for col in df_loyalty[['Salary', 'CLV']].columns:\n",
    "    media_col = round(df_loyalty[col].mean(), 2) # se incorpora la media en el gráfico\n",
    "    sns.boxplot(data=df_loyalty, x=col)\n",
    "    plt.axvline(x=media_col, color='red', linestyle='--', linewidth=2, label=f'Media: {media_col}')\n",
    "    plt.legend()\n",
    "    plt.show();"
   ]
  },
  {
   "cell_type": "code",
   "execution_count": 254,
   "id": "878692c3",
   "metadata": {},
   "outputs": [],
   "source": [
    "# vemos una gran cantidad de valores atípicos en la gráfica de salario y CVL, desde los 200.000 y 20.000 respectivamente\n",
    "# podemos intuir que hay una relación entre el salario y el profit que los clientes generan \n",
    "# la mayoría de los clientes tienen un salario menor a los 100.000, que generan menos de 10.000 en ganancias\n",
    "# la mediana y la media se ven afectados por esos valores atípicos, siendo la media en 60K aprox. para el salario y 8K aprox. de media de ganancia"
   ]
  },
  {
   "cell_type": "markdown",
   "id": "648dd8c0",
   "metadata": {},
   "source": [
    "## III. Trabajamos con los DataFrame ya limpios y analisados individualmente para unirlos en un solo DataFrame\n",
    "#### DataFrame: `df_complete`"
   ]
  },
  {
   "cell_type": "code",
   "execution_count": 255,
   "id": "941e4cfd",
   "metadata": {},
   "outputs": [
    {
     "data": {
      "application/vnd.microsoft.datawrangler.viewer.v0+json": {
       "columns": [
        {
         "name": "index",
         "rawType": "int64",
         "type": "integer"
        },
        {
         "name": "Loyalty Number",
         "rawType": "int64",
         "type": "integer"
        },
        {
         "name": "Year",
         "rawType": "object",
         "type": "unknown"
        },
        {
         "name": "Month",
         "rawType": "object",
         "type": "string"
        },
        {
         "name": "Flights Booked",
         "rawType": "int64",
         "type": "integer"
        },
        {
         "name": "Flights with Companions",
         "rawType": "int64",
         "type": "integer"
        },
        {
         "name": "Total Flights",
         "rawType": "int64",
         "type": "integer"
        },
        {
         "name": "Distance",
         "rawType": "int64",
         "type": "integer"
        },
        {
         "name": "Points Accumulated",
         "rawType": "int32",
         "type": "integer"
        },
        {
         "name": "Points Redeemed",
         "rawType": "int64",
         "type": "integer"
        },
        {
         "name": "Dollar Cost Points Redeemed",
         "rawType": "int64",
         "type": "integer"
        }
       ],
       "ref": "62c9764c-d1e3-44e6-ab67-6fbf0bfb7a39",
       "rows": [
        [
         "0",
         "100018",
         "2017",
         "Enero",
         "3",
         "0",
         "3",
         "1521",
         "152",
         "0",
         "0"
        ],
        [
         "1",
         "100102",
         "2017",
         "Enero",
         "10",
         "4",
         "14",
         "2030",
         "203",
         "0",
         "0"
        ],
        [
         "2",
         "100140",
         "2017",
         "Enero",
         "6",
         "0",
         "6",
         "1200",
         "120",
         "0",
         "0"
        ],
        [
         "3",
         "100214",
         "2017",
         "Enero",
         "0",
         "0",
         "0",
         "0",
         "0",
         "0",
         "0"
        ],
        [
         "4",
         "100272",
         "2017",
         "Enero",
         "0",
         "0",
         "0",
         "0",
         "0",
         "0",
         "0"
        ]
       ],
       "shape": {
        "columns": 10,
        "rows": 5
       }
      },
      "text/html": [
       "<div>\n",
       "<style scoped>\n",
       "    .dataframe tbody tr th:only-of-type {\n",
       "        vertical-align: middle;\n",
       "    }\n",
       "\n",
       "    .dataframe tbody tr th {\n",
       "        vertical-align: top;\n",
       "    }\n",
       "\n",
       "    .dataframe thead th {\n",
       "        text-align: right;\n",
       "    }\n",
       "</style>\n",
       "<table border=\"1\" class=\"dataframe\">\n",
       "  <thead>\n",
       "    <tr style=\"text-align: right;\">\n",
       "      <th></th>\n",
       "      <th>Loyalty Number</th>\n",
       "      <th>Year</th>\n",
       "      <th>Month</th>\n",
       "      <th>Flights Booked</th>\n",
       "      <th>Flights with Companions</th>\n",
       "      <th>Total Flights</th>\n",
       "      <th>Distance</th>\n",
       "      <th>Points Accumulated</th>\n",
       "      <th>Points Redeemed</th>\n",
       "      <th>Dollar Cost Points Redeemed</th>\n",
       "    </tr>\n",
       "  </thead>\n",
       "  <tbody>\n",
       "    <tr>\n",
       "      <th>0</th>\n",
       "      <td>100018</td>\n",
       "      <td>2017</td>\n",
       "      <td>Enero</td>\n",
       "      <td>3</td>\n",
       "      <td>0</td>\n",
       "      <td>3</td>\n",
       "      <td>1521</td>\n",
       "      <td>152</td>\n",
       "      <td>0</td>\n",
       "      <td>0</td>\n",
       "    </tr>\n",
       "    <tr>\n",
       "      <th>1</th>\n",
       "      <td>100102</td>\n",
       "      <td>2017</td>\n",
       "      <td>Enero</td>\n",
       "      <td>10</td>\n",
       "      <td>4</td>\n",
       "      <td>14</td>\n",
       "      <td>2030</td>\n",
       "      <td>203</td>\n",
       "      <td>0</td>\n",
       "      <td>0</td>\n",
       "    </tr>\n",
       "    <tr>\n",
       "      <th>2</th>\n",
       "      <td>100140</td>\n",
       "      <td>2017</td>\n",
       "      <td>Enero</td>\n",
       "      <td>6</td>\n",
       "      <td>0</td>\n",
       "      <td>6</td>\n",
       "      <td>1200</td>\n",
       "      <td>120</td>\n",
       "      <td>0</td>\n",
       "      <td>0</td>\n",
       "    </tr>\n",
       "    <tr>\n",
       "      <th>3</th>\n",
       "      <td>100214</td>\n",
       "      <td>2017</td>\n",
       "      <td>Enero</td>\n",
       "      <td>0</td>\n",
       "      <td>0</td>\n",
       "      <td>0</td>\n",
       "      <td>0</td>\n",
       "      <td>0</td>\n",
       "      <td>0</td>\n",
       "      <td>0</td>\n",
       "    </tr>\n",
       "    <tr>\n",
       "      <th>4</th>\n",
       "      <td>100272</td>\n",
       "      <td>2017</td>\n",
       "      <td>Enero</td>\n",
       "      <td>0</td>\n",
       "      <td>0</td>\n",
       "      <td>0</td>\n",
       "      <td>0</td>\n",
       "      <td>0</td>\n",
       "      <td>0</td>\n",
       "      <td>0</td>\n",
       "    </tr>\n",
       "  </tbody>\n",
       "</table>\n",
       "</div>"
      ],
      "text/plain": [
       "   Loyalty Number  Year  Month  Flights Booked  Flights with Companions  \\\n",
       "0          100018  2017  Enero               3                        0   \n",
       "1          100102  2017  Enero              10                        4   \n",
       "2          100140  2017  Enero               6                        0   \n",
       "3          100214  2017  Enero               0                        0   \n",
       "4          100272  2017  Enero               0                        0   \n",
       "\n",
       "   Total Flights  Distance  Points Accumulated  Points Redeemed  \\\n",
       "0              3      1521                 152                0   \n",
       "1             14      2030                 203                0   \n",
       "2              6      1200                 120                0   \n",
       "3              0         0                   0                0   \n",
       "4              0         0                   0                0   \n",
       "\n",
       "   Dollar Cost Points Redeemed  \n",
       "0                            0  \n",
       "1                            0  \n",
       "2                            0  \n",
       "3                            0  \n",
       "4                            0  "
      ]
     },
     "metadata": {},
     "output_type": "display_data"
    },
    {
     "data": {
      "application/vnd.microsoft.datawrangler.viewer.v0+json": {
       "columns": [
        {
         "name": "index",
         "rawType": "int64",
         "type": "integer"
        },
        {
         "name": "Loyalty Number",
         "rawType": "int64",
         "type": "integer"
        },
        {
         "name": "Country",
         "rawType": "object",
         "type": "string"
        },
        {
         "name": "Province",
         "rawType": "object",
         "type": "string"
        },
        {
         "name": "City",
         "rawType": "object",
         "type": "string"
        },
        {
         "name": "Postal Code",
         "rawType": "object",
         "type": "string"
        },
        {
         "name": "Gender",
         "rawType": "object",
         "type": "string"
        },
        {
         "name": "Education",
         "rawType": "object",
         "type": "string"
        },
        {
         "name": "Salary",
         "rawType": "Int64",
         "type": "integer"
        },
        {
         "name": "Marital Status",
         "rawType": "object",
         "type": "string"
        },
        {
         "name": "Loyalty Card",
         "rawType": "object",
         "type": "string"
        },
        {
         "name": "CLV",
         "rawType": "float64",
         "type": "float"
        },
        {
         "name": "Enrollment Type",
         "rawType": "object",
         "type": "string"
        },
        {
         "name": "Enrollment Year",
         "rawType": "object",
         "type": "string"
        },
        {
         "name": "Enrollment Month",
         "rawType": "object",
         "type": "string"
        },
        {
         "name": "Cancellation Year",
         "rawType": "object",
         "type": "string"
        },
        {
         "name": "Cancellation Month",
         "rawType": "object",
         "type": "string"
        }
       ],
       "ref": "0cd29a2f-5721-49b7-aba6-9536323c6c85",
       "rows": [
        [
         "0",
         "480934",
         "Canada",
         "Ontario",
         "Toronto",
         "M2Z 4K1",
         "Female",
         "Bachelor",
         "83236",
         "Married",
         "Star",
         "3839.14",
         "Standard",
         "2016",
         "Febrero",
         "Sin data",
         "Sin data"
        ],
        [
         "1",
         "549612",
         "Canada",
         "Alberta",
         "Edmonton",
         "T3G 6Y6",
         "Male",
         "College",
         "0",
         "Divorced",
         "Star",
         "3839.61",
         "Standard",
         "2016",
         "Marzo",
         "Sin data",
         "Sin data"
        ],
        [
         "2",
         "429460",
         "Canada",
         "British Columbia",
         "Vancouver",
         "V6E 3D9",
         "Male",
         "College",
         "0",
         "Single",
         "Star",
         "3839.75",
         "Standard",
         "2014",
         "Julio",
         "2018",
         "Enero"
        ],
        [
         "3",
         "608370",
         "Canada",
         "Ontario",
         "Toronto",
         "P1W 1K4",
         "Male",
         "College",
         "0",
         "Single",
         "Star",
         "3839.75",
         "Standard",
         "2013",
         "Febrero",
         "Sin data",
         "Sin data"
        ],
        [
         "4",
         "530508",
         "Canada",
         "Quebec",
         "Hull",
         "J8Y 3Z5",
         "Male",
         "Bachelor",
         "103495",
         "Married",
         "Star",
         "3842.79",
         "Standard",
         "2014",
         "Octubre",
         "Sin data",
         "Sin data"
        ]
       ],
       "shape": {
        "columns": 16,
        "rows": 5
       }
      },
      "text/html": [
       "<div>\n",
       "<style scoped>\n",
       "    .dataframe tbody tr th:only-of-type {\n",
       "        vertical-align: middle;\n",
       "    }\n",
       "\n",
       "    .dataframe tbody tr th {\n",
       "        vertical-align: top;\n",
       "    }\n",
       "\n",
       "    .dataframe thead th {\n",
       "        text-align: right;\n",
       "    }\n",
       "</style>\n",
       "<table border=\"1\" class=\"dataframe\">\n",
       "  <thead>\n",
       "    <tr style=\"text-align: right;\">\n",
       "      <th></th>\n",
       "      <th>Loyalty Number</th>\n",
       "      <th>Country</th>\n",
       "      <th>Province</th>\n",
       "      <th>City</th>\n",
       "      <th>Postal Code</th>\n",
       "      <th>Gender</th>\n",
       "      <th>Education</th>\n",
       "      <th>Salary</th>\n",
       "      <th>Marital Status</th>\n",
       "      <th>Loyalty Card</th>\n",
       "      <th>CLV</th>\n",
       "      <th>Enrollment Type</th>\n",
       "      <th>Enrollment Year</th>\n",
       "      <th>Enrollment Month</th>\n",
       "      <th>Cancellation Year</th>\n",
       "      <th>Cancellation Month</th>\n",
       "    </tr>\n",
       "  </thead>\n",
       "  <tbody>\n",
       "    <tr>\n",
       "      <th>0</th>\n",
       "      <td>480934</td>\n",
       "      <td>Canada</td>\n",
       "      <td>Ontario</td>\n",
       "      <td>Toronto</td>\n",
       "      <td>M2Z 4K1</td>\n",
       "      <td>Female</td>\n",
       "      <td>Bachelor</td>\n",
       "      <td>83236</td>\n",
       "      <td>Married</td>\n",
       "      <td>Star</td>\n",
       "      <td>3839.14</td>\n",
       "      <td>Standard</td>\n",
       "      <td>2016</td>\n",
       "      <td>Febrero</td>\n",
       "      <td>Sin data</td>\n",
       "      <td>Sin data</td>\n",
       "    </tr>\n",
       "    <tr>\n",
       "      <th>1</th>\n",
       "      <td>549612</td>\n",
       "      <td>Canada</td>\n",
       "      <td>Alberta</td>\n",
       "      <td>Edmonton</td>\n",
       "      <td>T3G 6Y6</td>\n",
       "      <td>Male</td>\n",
       "      <td>College</td>\n",
       "      <td>0</td>\n",
       "      <td>Divorced</td>\n",
       "      <td>Star</td>\n",
       "      <td>3839.61</td>\n",
       "      <td>Standard</td>\n",
       "      <td>2016</td>\n",
       "      <td>Marzo</td>\n",
       "      <td>Sin data</td>\n",
       "      <td>Sin data</td>\n",
       "    </tr>\n",
       "    <tr>\n",
       "      <th>2</th>\n",
       "      <td>429460</td>\n",
       "      <td>Canada</td>\n",
       "      <td>British Columbia</td>\n",
       "      <td>Vancouver</td>\n",
       "      <td>V6E 3D9</td>\n",
       "      <td>Male</td>\n",
       "      <td>College</td>\n",
       "      <td>0</td>\n",
       "      <td>Single</td>\n",
       "      <td>Star</td>\n",
       "      <td>3839.75</td>\n",
       "      <td>Standard</td>\n",
       "      <td>2014</td>\n",
       "      <td>Julio</td>\n",
       "      <td>2018</td>\n",
       "      <td>Enero</td>\n",
       "    </tr>\n",
       "    <tr>\n",
       "      <th>3</th>\n",
       "      <td>608370</td>\n",
       "      <td>Canada</td>\n",
       "      <td>Ontario</td>\n",
       "      <td>Toronto</td>\n",
       "      <td>P1W 1K4</td>\n",
       "      <td>Male</td>\n",
       "      <td>College</td>\n",
       "      <td>0</td>\n",
       "      <td>Single</td>\n",
       "      <td>Star</td>\n",
       "      <td>3839.75</td>\n",
       "      <td>Standard</td>\n",
       "      <td>2013</td>\n",
       "      <td>Febrero</td>\n",
       "      <td>Sin data</td>\n",
       "      <td>Sin data</td>\n",
       "    </tr>\n",
       "    <tr>\n",
       "      <th>4</th>\n",
       "      <td>530508</td>\n",
       "      <td>Canada</td>\n",
       "      <td>Quebec</td>\n",
       "      <td>Hull</td>\n",
       "      <td>J8Y 3Z5</td>\n",
       "      <td>Male</td>\n",
       "      <td>Bachelor</td>\n",
       "      <td>103495</td>\n",
       "      <td>Married</td>\n",
       "      <td>Star</td>\n",
       "      <td>3842.79</td>\n",
       "      <td>Standard</td>\n",
       "      <td>2014</td>\n",
       "      <td>Octubre</td>\n",
       "      <td>Sin data</td>\n",
       "      <td>Sin data</td>\n",
       "    </tr>\n",
       "  </tbody>\n",
       "</table>\n",
       "</div>"
      ],
      "text/plain": [
       "   Loyalty Number Country          Province       City Postal Code  Gender  \\\n",
       "0          480934  Canada           Ontario    Toronto     M2Z 4K1  Female   \n",
       "1          549612  Canada           Alberta   Edmonton     T3G 6Y6    Male   \n",
       "2          429460  Canada  British Columbia  Vancouver     V6E 3D9    Male   \n",
       "3          608370  Canada           Ontario    Toronto     P1W 1K4    Male   \n",
       "4          530508  Canada            Quebec       Hull     J8Y 3Z5    Male   \n",
       "\n",
       "  Education  Salary Marital Status Loyalty Card      CLV Enrollment Type  \\\n",
       "0  Bachelor   83236        Married         Star  3839.14        Standard   \n",
       "1   College       0       Divorced         Star  3839.61        Standard   \n",
       "2   College       0         Single         Star  3839.75        Standard   \n",
       "3   College       0         Single         Star  3839.75        Standard   \n",
       "4  Bachelor  103495        Married         Star  3842.79        Standard   \n",
       "\n",
       "  Enrollment Year Enrollment Month Cancellation Year Cancellation Month  \n",
       "0            2016          Febrero          Sin data           Sin data  \n",
       "1            2016            Marzo          Sin data           Sin data  \n",
       "2            2014            Julio              2018              Enero  \n",
       "3            2013          Febrero          Sin data           Sin data  \n",
       "4            2014          Octubre          Sin data           Sin data  "
      ]
     },
     "metadata": {},
     "output_type": "display_data"
    }
   ],
   "source": [
    "display(df_flight.head())\n",
    "display(df_loyalty.head())"
   ]
  },
  {
   "cell_type": "code",
   "execution_count": 256,
   "id": "7d5c31e6",
   "metadata": {},
   "outputs": [
    {
     "data": {
      "application/vnd.microsoft.datawrangler.viewer.v0+json": {
       "columns": [
        {
         "name": "index",
         "rawType": "int64",
         "type": "integer"
        },
        {
         "name": "Loyalty Number",
         "rawType": "int64",
         "type": "integer"
        },
        {
         "name": "Country",
         "rawType": "object",
         "type": "string"
        },
        {
         "name": "Province",
         "rawType": "object",
         "type": "string"
        },
        {
         "name": "City",
         "rawType": "object",
         "type": "string"
        },
        {
         "name": "Postal Code",
         "rawType": "object",
         "type": "string"
        },
        {
         "name": "Gender",
         "rawType": "object",
         "type": "string"
        },
        {
         "name": "Education",
         "rawType": "object",
         "type": "string"
        },
        {
         "name": "Salary",
         "rawType": "Int64",
         "type": "integer"
        },
        {
         "name": "Marital Status",
         "rawType": "object",
         "type": "string"
        },
        {
         "name": "Loyalty Card",
         "rawType": "object",
         "type": "string"
        },
        {
         "name": "CLV",
         "rawType": "float64",
         "type": "float"
        },
        {
         "name": "Enrollment Type",
         "rawType": "object",
         "type": "string"
        },
        {
         "name": "Enrollment Year",
         "rawType": "object",
         "type": "string"
        },
        {
         "name": "Enrollment Month",
         "rawType": "object",
         "type": "string"
        },
        {
         "name": "Cancellation Year",
         "rawType": "object",
         "type": "string"
        },
        {
         "name": "Cancellation Month",
         "rawType": "object",
         "type": "string"
        },
        {
         "name": "Year",
         "rawType": "object",
         "type": "unknown"
        },
        {
         "name": "Month",
         "rawType": "object",
         "type": "string"
        },
        {
         "name": "Flights Booked",
         "rawType": "int64",
         "type": "integer"
        },
        {
         "name": "Flights with Companions",
         "rawType": "int64",
         "type": "integer"
        },
        {
         "name": "Total Flights",
         "rawType": "int64",
         "type": "integer"
        },
        {
         "name": "Distance",
         "rawType": "int64",
         "type": "integer"
        },
        {
         "name": "Points Accumulated",
         "rawType": "int32",
         "type": "integer"
        },
        {
         "name": "Points Redeemed",
         "rawType": "int64",
         "type": "integer"
        },
        {
         "name": "Dollar Cost Points Redeemed",
         "rawType": "int64",
         "type": "integer"
        }
       ],
       "ref": "23bdd0c8-ecee-4faf-974a-7aa2aafbf2d7",
       "rows": [
        [
         "0",
         "480934",
         "Canada",
         "Ontario",
         "Toronto",
         "M2Z 4K1",
         "Female",
         "Bachelor",
         "83236",
         "Married",
         "Star",
         "3839.14",
         "Standard",
         "2016",
         "Febrero",
         "Sin data",
         "Sin data",
         "2017",
         "Enero",
         "0",
         "0",
         "0",
         "0",
         "0",
         "0",
         "0"
        ],
        [
         "1",
         "480934",
         "Canada",
         "Ontario",
         "Toronto",
         "M2Z 4K1",
         "Female",
         "Bachelor",
         "83236",
         "Married",
         "Star",
         "3839.14",
         "Standard",
         "2016",
         "Febrero",
         "Sin data",
         "Sin data",
         "2017",
         "Febrero",
         "3",
         "0",
         "3",
         "2823",
         "282",
         "0",
         "0"
        ],
        [
         "2",
         "480934",
         "Canada",
         "Ontario",
         "Toronto",
         "M2Z 4K1",
         "Female",
         "Bachelor",
         "83236",
         "Married",
         "Star",
         "3839.14",
         "Standard",
         "2016",
         "Febrero",
         "Sin data",
         "Sin data",
         "2017",
         "Marzo",
         "0",
         "0",
         "0",
         "0",
         "0",
         "0",
         "0"
        ],
        [
         "3",
         "480934",
         "Canada",
         "Ontario",
         "Toronto",
         "M2Z 4K1",
         "Female",
         "Bachelor",
         "83236",
         "Married",
         "Star",
         "3839.14",
         "Standard",
         "2016",
         "Febrero",
         "Sin data",
         "Sin data",
         "2017",
         "Abril",
         "0",
         "0",
         "0",
         "0",
         "0",
         "0",
         "0"
        ],
        [
         "4",
         "480934",
         "Canada",
         "Ontario",
         "Toronto",
         "M2Z 4K1",
         "Female",
         "Bachelor",
         "83236",
         "Married",
         "Star",
         "3839.14",
         "Standard",
         "2016",
         "Febrero",
         "Sin data",
         "Sin data",
         "2018",
         "Octubre",
         "6",
         "2",
         "8",
         "3352",
         "335",
         "465",
         "38"
        ]
       ],
       "shape": {
        "columns": 25,
        "rows": 5
       }
      },
      "text/html": [
       "<div>\n",
       "<style scoped>\n",
       "    .dataframe tbody tr th:only-of-type {\n",
       "        vertical-align: middle;\n",
       "    }\n",
       "\n",
       "    .dataframe tbody tr th {\n",
       "        vertical-align: top;\n",
       "    }\n",
       "\n",
       "    .dataframe thead th {\n",
       "        text-align: right;\n",
       "    }\n",
       "</style>\n",
       "<table border=\"1\" class=\"dataframe\">\n",
       "  <thead>\n",
       "    <tr style=\"text-align: right;\">\n",
       "      <th></th>\n",
       "      <th>Loyalty Number</th>\n",
       "      <th>Country</th>\n",
       "      <th>Province</th>\n",
       "      <th>City</th>\n",
       "      <th>Postal Code</th>\n",
       "      <th>Gender</th>\n",
       "      <th>Education</th>\n",
       "      <th>Salary</th>\n",
       "      <th>Marital Status</th>\n",
       "      <th>Loyalty Card</th>\n",
       "      <th>CLV</th>\n",
       "      <th>Enrollment Type</th>\n",
       "      <th>Enrollment Year</th>\n",
       "      <th>Enrollment Month</th>\n",
       "      <th>Cancellation Year</th>\n",
       "      <th>Cancellation Month</th>\n",
       "      <th>Year</th>\n",
       "      <th>Month</th>\n",
       "      <th>Flights Booked</th>\n",
       "      <th>Flights with Companions</th>\n",
       "      <th>Total Flights</th>\n",
       "      <th>Distance</th>\n",
       "      <th>Points Accumulated</th>\n",
       "      <th>Points Redeemed</th>\n",
       "      <th>Dollar Cost Points Redeemed</th>\n",
       "    </tr>\n",
       "  </thead>\n",
       "  <tbody>\n",
       "    <tr>\n",
       "      <th>0</th>\n",
       "      <td>480934</td>\n",
       "      <td>Canada</td>\n",
       "      <td>Ontario</td>\n",
       "      <td>Toronto</td>\n",
       "      <td>M2Z 4K1</td>\n",
       "      <td>Female</td>\n",
       "      <td>Bachelor</td>\n",
       "      <td>83236</td>\n",
       "      <td>Married</td>\n",
       "      <td>Star</td>\n",
       "      <td>3839.14</td>\n",
       "      <td>Standard</td>\n",
       "      <td>2016</td>\n",
       "      <td>Febrero</td>\n",
       "      <td>Sin data</td>\n",
       "      <td>Sin data</td>\n",
       "      <td>2017</td>\n",
       "      <td>Enero</td>\n",
       "      <td>0</td>\n",
       "      <td>0</td>\n",
       "      <td>0</td>\n",
       "      <td>0</td>\n",
       "      <td>0</td>\n",
       "      <td>0</td>\n",
       "      <td>0</td>\n",
       "    </tr>\n",
       "    <tr>\n",
       "      <th>1</th>\n",
       "      <td>480934</td>\n",
       "      <td>Canada</td>\n",
       "      <td>Ontario</td>\n",
       "      <td>Toronto</td>\n",
       "      <td>M2Z 4K1</td>\n",
       "      <td>Female</td>\n",
       "      <td>Bachelor</td>\n",
       "      <td>83236</td>\n",
       "      <td>Married</td>\n",
       "      <td>Star</td>\n",
       "      <td>3839.14</td>\n",
       "      <td>Standard</td>\n",
       "      <td>2016</td>\n",
       "      <td>Febrero</td>\n",
       "      <td>Sin data</td>\n",
       "      <td>Sin data</td>\n",
       "      <td>2017</td>\n",
       "      <td>Febrero</td>\n",
       "      <td>3</td>\n",
       "      <td>0</td>\n",
       "      <td>3</td>\n",
       "      <td>2823</td>\n",
       "      <td>282</td>\n",
       "      <td>0</td>\n",
       "      <td>0</td>\n",
       "    </tr>\n",
       "    <tr>\n",
       "      <th>2</th>\n",
       "      <td>480934</td>\n",
       "      <td>Canada</td>\n",
       "      <td>Ontario</td>\n",
       "      <td>Toronto</td>\n",
       "      <td>M2Z 4K1</td>\n",
       "      <td>Female</td>\n",
       "      <td>Bachelor</td>\n",
       "      <td>83236</td>\n",
       "      <td>Married</td>\n",
       "      <td>Star</td>\n",
       "      <td>3839.14</td>\n",
       "      <td>Standard</td>\n",
       "      <td>2016</td>\n",
       "      <td>Febrero</td>\n",
       "      <td>Sin data</td>\n",
       "      <td>Sin data</td>\n",
       "      <td>2017</td>\n",
       "      <td>Marzo</td>\n",
       "      <td>0</td>\n",
       "      <td>0</td>\n",
       "      <td>0</td>\n",
       "      <td>0</td>\n",
       "      <td>0</td>\n",
       "      <td>0</td>\n",
       "      <td>0</td>\n",
       "    </tr>\n",
       "    <tr>\n",
       "      <th>3</th>\n",
       "      <td>480934</td>\n",
       "      <td>Canada</td>\n",
       "      <td>Ontario</td>\n",
       "      <td>Toronto</td>\n",
       "      <td>M2Z 4K1</td>\n",
       "      <td>Female</td>\n",
       "      <td>Bachelor</td>\n",
       "      <td>83236</td>\n",
       "      <td>Married</td>\n",
       "      <td>Star</td>\n",
       "      <td>3839.14</td>\n",
       "      <td>Standard</td>\n",
       "      <td>2016</td>\n",
       "      <td>Febrero</td>\n",
       "      <td>Sin data</td>\n",
       "      <td>Sin data</td>\n",
       "      <td>2017</td>\n",
       "      <td>Abril</td>\n",
       "      <td>0</td>\n",
       "      <td>0</td>\n",
       "      <td>0</td>\n",
       "      <td>0</td>\n",
       "      <td>0</td>\n",
       "      <td>0</td>\n",
       "      <td>0</td>\n",
       "    </tr>\n",
       "    <tr>\n",
       "      <th>4</th>\n",
       "      <td>480934</td>\n",
       "      <td>Canada</td>\n",
       "      <td>Ontario</td>\n",
       "      <td>Toronto</td>\n",
       "      <td>M2Z 4K1</td>\n",
       "      <td>Female</td>\n",
       "      <td>Bachelor</td>\n",
       "      <td>83236</td>\n",
       "      <td>Married</td>\n",
       "      <td>Star</td>\n",
       "      <td>3839.14</td>\n",
       "      <td>Standard</td>\n",
       "      <td>2016</td>\n",
       "      <td>Febrero</td>\n",
       "      <td>Sin data</td>\n",
       "      <td>Sin data</td>\n",
       "      <td>2018</td>\n",
       "      <td>Octubre</td>\n",
       "      <td>6</td>\n",
       "      <td>2</td>\n",
       "      <td>8</td>\n",
       "      <td>3352</td>\n",
       "      <td>335</td>\n",
       "      <td>465</td>\n",
       "      <td>38</td>\n",
       "    </tr>\n",
       "  </tbody>\n",
       "</table>\n",
       "</div>"
      ],
      "text/plain": [
       "   Loyalty Number Country Province     City Postal Code  Gender Education  \\\n",
       "0          480934  Canada  Ontario  Toronto     M2Z 4K1  Female  Bachelor   \n",
       "1          480934  Canada  Ontario  Toronto     M2Z 4K1  Female  Bachelor   \n",
       "2          480934  Canada  Ontario  Toronto     M2Z 4K1  Female  Bachelor   \n",
       "3          480934  Canada  Ontario  Toronto     M2Z 4K1  Female  Bachelor   \n",
       "4          480934  Canada  Ontario  Toronto     M2Z 4K1  Female  Bachelor   \n",
       "\n",
       "   Salary Marital Status Loyalty Card      CLV Enrollment Type  \\\n",
       "0   83236        Married         Star  3839.14        Standard   \n",
       "1   83236        Married         Star  3839.14        Standard   \n",
       "2   83236        Married         Star  3839.14        Standard   \n",
       "3   83236        Married         Star  3839.14        Standard   \n",
       "4   83236        Married         Star  3839.14        Standard   \n",
       "\n",
       "  Enrollment Year Enrollment Month Cancellation Year Cancellation Month  Year  \\\n",
       "0            2016          Febrero          Sin data           Sin data  2017   \n",
       "1            2016          Febrero          Sin data           Sin data  2017   \n",
       "2            2016          Febrero          Sin data           Sin data  2017   \n",
       "3            2016          Febrero          Sin data           Sin data  2017   \n",
       "4            2016          Febrero          Sin data           Sin data  2018   \n",
       "\n",
       "     Month  Flights Booked  Flights with Companions  Total Flights  Distance  \\\n",
       "0    Enero               0                        0              0         0   \n",
       "1  Febrero               3                        0              3      2823   \n",
       "2    Marzo               0                        0              0         0   \n",
       "3    Abril               0                        0              0         0   \n",
       "4  Octubre               6                        2              8      3352   \n",
       "\n",
       "   Points Accumulated  Points Redeemed  Dollar Cost Points Redeemed  \n",
       "0                   0                0                            0  \n",
       "1                 282                0                            0  \n",
       "2                   0                0                            0  \n",
       "3                   0                0                            0  \n",
       "4                 335              465                           38  "
      ]
     },
     "execution_count": 256,
     "metadata": {},
     "output_type": "execute_result"
    }
   ],
   "source": [
    "# unimos por 'Loyalty Number', usando la funcion merge para conservar las filas que coinciden\n",
    "\n",
    "df_completo = df_loyalty.merge(df_flight, on='Loyalty Number')\n",
    "df_completo.head()"
   ]
  },
  {
   "cell_type": "code",
   "execution_count": 257,
   "id": "8ede9dbe",
   "metadata": {},
   "outputs": [
    {
     "name": "stdout",
     "output_type": "stream",
     "text": [
      "<class 'pandas.core.frame.DataFrame'>\n",
      "RangeIndex: 403760 entries, 0 to 403759\n",
      "Data columns (total 25 columns):\n",
      " #   Column                       Non-Null Count   Dtype  \n",
      "---  ------                       --------------   -----  \n",
      " 0   Loyalty Number               403760 non-null  int64  \n",
      " 1   Country                      403760 non-null  object \n",
      " 2   Province                     403760 non-null  object \n",
      " 3   City                         403760 non-null  object \n",
      " 4   Postal Code                  403760 non-null  object \n",
      " 5   Gender                       403760 non-null  object \n",
      " 6   Education                    403760 non-null  object \n",
      " 7   Salary                       403760 non-null  Int64  \n",
      " 8   Marital Status               403760 non-null  object \n",
      " 9   Loyalty Card                 403760 non-null  object \n",
      " 10  CLV                          403760 non-null  float64\n",
      " 11  Enrollment Type              403760 non-null  object \n",
      " 12  Enrollment Year              403760 non-null  object \n",
      " 13  Enrollment Month             403760 non-null  object \n",
      " 14  Cancellation Year            403760 non-null  object \n",
      " 15  Cancellation Month           403760 non-null  object \n",
      " 16  Year                         403760 non-null  object \n",
      " 17  Month                        403760 non-null  object \n",
      " 18  Flights Booked               403760 non-null  int64  \n",
      " 19  Flights with Companions      403760 non-null  int64  \n",
      " 20  Total Flights                403760 non-null  int64  \n",
      " 21  Distance                     403760 non-null  int64  \n",
      " 22  Points Accumulated           403760 non-null  int32  \n",
      " 23  Points Redeemed              403760 non-null  int64  \n",
      " 24  Dollar Cost Points Redeemed  403760 non-null  int64  \n",
      "dtypes: Int64(1), float64(1), int32(1), int64(7), object(15)\n",
      "memory usage: 75.9+ MB\n"
     ]
    }
   ],
   "source": [
    "df_completo.info()"
   ]
  },
  {
   "cell_type": "markdown",
   "id": "5792145d",
   "metadata": {},
   "source": [
    "## IV. Visualización para hacer consultas y responder preguntas"
   ]
  },
  {
   "cell_type": "code",
   "execution_count": 258,
   "id": "2e560bf2",
   "metadata": {},
   "outputs": [
    {
     "data": {
      "text/plain": [
       "Index(['Loyalty Number', 'Country', 'Province', 'City', 'Postal Code',\n",
       "       'Gender', 'Education', 'Salary', 'Marital Status', 'Loyalty Card',\n",
       "       'CLV', 'Enrollment Type', 'Enrollment Year', 'Enrollment Month',\n",
       "       'Cancellation Year', 'Cancellation Month', 'Year', 'Month',\n",
       "       'Flights Booked', 'Flights with Companions', 'Total Flights',\n",
       "       'Distance', 'Points Accumulated', 'Points Redeemed',\n",
       "       'Dollar Cost Points Redeemed'],\n",
       "      dtype='object')"
      ]
     },
     "execution_count": 258,
     "metadata": {},
     "output_type": "execute_result"
    }
   ],
   "source": [
    "# columnas que tenemos en el DataFrame completo\n",
    "df_completo.columns"
   ]
  },
  {
   "cell_type": "code",
   "execution_count": 259,
   "id": "9ea6a8cc",
   "metadata": {},
   "outputs": [],
   "source": [
    "# 1. ¿Cómo se distribuye la cantidad de vuelos reservados por mes durante el año?"
   ]
  },
  {
   "cell_type": "code",
   "execution_count": 260,
   "id": "9ca91e06",
   "metadata": {},
   "outputs": [],
   "source": [
    "# debemos crear una mascara para ordenar los meses correctamente, para una mejor visualización\n",
    "orden = ['Enero', 'Febrero', 'Marzo', 'Abril', 'Mayo', 'Junio', 'Julio', 'Agosto', 'Septiembre', 'Octubre', 'Noviembre', 'Diciembre']\n",
    "\n",
    "# aplicamos usando Pandas para que ordene la categoría indicada en el orden indicado\n",
    "df_completo['Month'] = pd.Categorical(df_completo['Month'], categories=orden, ordered=True)"
   ]
  },
  {
   "cell_type": "code",
   "execution_count": 261,
   "id": "c4239ddf",
   "metadata": {},
   "outputs": [
    {
     "data": {
      "image/png": "[encoded data removed]",
      "text/plain": [
       "<Figure size 640x480 with 1 Axes>"
      ]
     },
     "metadata": {},
     "output_type": "display_data"
    }
   ],
   "source": [
    "# se usa lineplot para ver la distribución y evolución por meses por cada año\n",
    "# la librería seaborn ayuda a manejar variables categóricas (mes) y numéricas (cantidad de vuelos)\n",
    "\n",
    "sns.lineplot(data=df_completo, x='Month', y='Flights Booked', hue='Year', marker='o')\n",
    "plt.title('Evolución de vuelos por mes (2017 vs 2018)')\n",
    "plt.xticks(rotation = 45)\n",
    "plt.ylabel('Cantidad de vuelos')\n",
    "plt.xlabel('Mes')\n",
    "plt.show();"
   ]
  },
  {
   "cell_type": "code",
   "execution_count": 262,
   "id": "2d9e24af",
   "metadata": {},
   "outputs": [
    {
     "data": {
      "image/png": "[encoded data removed]",
      "text/plain": [
       "<Figure size 640x480 with 1 Axes>"
      ]
     },
     "metadata": {},
     "output_type": "display_data"
    }
   ],
   "source": [
    "# visualizamos usando barplot para ver la distribución por mes, comparando cada año\n",
    "\n",
    "sns.barplot(data=df_completo, x='Month', y='Flights Booked', errorbar=None, hue='Year')\n",
    "plt.title('Cantidad de vuelos por mes (2017 vs 2018)')\n",
    "plt.xticks(rotation=45)\n",
    "plt.ylabel('Cantidad de vuelos')\n",
    "plt.xlabel('Mes')\n",
    "plt.show();"
   ]
  },
  {
   "cell_type": "markdown",
   "id": "63ce0418",
   "metadata": {},
   "source": [
    "### Conclusiones:\n",
    "- En 2018 se hicieron mas reservas de vuelos comparado con 2017\n",
    "- Julio 2018 es el mes que mas reservas se han realizado comparado con Julio 2017\n",
    "- Las reservas de vuelos distribuídas por meses, sigue el mismo patrón para ambos años, siendo Febrero el mes que menos reservas se observan"
   ]
  },
  {
   "cell_type": "code",
   "execution_count": 263,
   "id": "c6e81942",
   "metadata": {},
   "outputs": [],
   "source": [
    "# 2. ¿Existe una relación entre la distancia de los vuelos y los puntos acumulados por los cliente?"
   ]
  },
  {
   "cell_type": "code",
   "execution_count": 264,
   "id": "7ccc46bb",
   "metadata": {},
   "outputs": [
    {
     "data": {
      "image/png": "[encoded data removed]",
      "text/plain": [
       "<Figure size 640x480 with 1 Axes>"
      ]
     },
     "metadata": {},
     "output_type": "display_data"
    }
   ],
   "source": [
    "# se usa scatterplot para relacionar dos variables numéricas\n",
    "\n",
    "sns.scatterplot(data = df_completo, x='Distance', y = 'Points Accumulated')\n",
    "plt.title('Relación distancia de vuelos y puntos acumulados')\n",
    "plt.ylabel('Puntos acumulados')\n",
    "plt.xlabel('Distancia')\n",
    "plt.show();"
   ]
  },
  {
   "cell_type": "code",
   "execution_count": 265,
   "id": "66f8bf22",
   "metadata": {},
   "outputs": [
    {
     "data": {
      "image/png": "[encoded data removed]",
      "text/plain": [
       "<Figure size 640x480 with 1 Axes>"
      ]
     },
     "metadata": {},
     "output_type": "display_data"
    }
   ],
   "source": [
    "# también podemos visualizar la relación de dos variables numéricas usando regplot\n",
    "\n",
    "sns.regplot(data=df_completo, x='Distance', y='Points Accumulated', color='purple')\n",
    "plt.title('Relación distancia de vuelos y puntos acumulados')\n",
    "plt.ylabel('Puntos acumulados')\n",
    "plt.xlabel('Distancia')\n",
    "plt.show();"
   ]
  },
  {
   "cell_type": "markdown",
   "id": "f67d8ea0",
   "metadata": {},
   "source": [
    "### Conclusiones: \n",
    "\n",
    "- Existe una relación directa y positiva entre la distancia de vuelo y puntos acumulados, mientras mas distancia de vuelo mas puntos acumulados"
   ]
  },
  {
   "cell_type": "code",
   "execution_count": 266,
   "id": "bc35f686",
   "metadata": {},
   "outputs": [],
   "source": [
    "# 3. ¿Cuál es la distribución de los clientes por provincia o estado?"
   ]
  },
  {
   "cell_type": "code",
   "execution_count": 273,
   "id": "b513df8b",
   "metadata": {},
   "outputs": [
    {
     "name": "stderr",
     "output_type": "stream",
     "text": [
      "C:\\Users\\maryl\\AppData\\Local\\Temp\\ipykernel_20552\\588808769.py:3: FutureWarning: The default of observed=False is deprecated and will be changed to True in a future version of pandas. Pass observed=False to retain current behavior or observed=True to adopt the future default and silence this warning.\n",
      "  df_agrupado = df_completo.groupby('Province', as_index=False)['Loyalty Number'].sum()\n"
     ]
    }
   ],
   "source": [
    "# para visualizar los datos de mayor a menor\n",
    "# agrupar por provincia y sumar los clientes totales\n",
    "df_agrupado = df_completo.groupby('Province', as_index=False)['Loyalty Number'].sum()\n",
    "\n",
    "# ordenar de mayor a menor\n",
    "df_agrupado = df_agrupado.sort_values('Loyalty Number', ascending=False)"
   ]
  },
  {
   "cell_type": "code",
   "execution_count": 274,
   "id": "5777540c",
   "metadata": {},
   "outputs": [
    {
     "data": {
      "image/png": "[encoded data removed]",
      "text/plain": [
       "<Figure size 640x480 with 1 Axes>"
      ]
     },
     "metadata": {},
     "output_type": "display_data"
    }
   ],
   "source": [
    "# visualizamos usando barplot para ver la distribución de clientes por provincia en un gráfico de barras\n",
    "\n",
    "sns.barplot(data=df_agrupado, x='Province', y='Loyalty Number', errorbar=None)\n",
    "plt.title('Clientes por provincia')\n",
    "plt.xticks(rotation=90)\n",
    "plt.ylabel('Clientes')\n",
    "plt.xlabel('Provincia')\n",
    "plt.show();"
   ]
  },
  {
   "cell_type": "code",
   "execution_count": null,
   "id": "8597f075",
   "metadata": {},
   "outputs": [],
   "source": [
    "# 4. ¿Cómo se compara el salario promedio entre los diferentes niveles educativos de los clientes?"
   ]
  },
  {
   "cell_type": "code",
   "execution_count": null,
   "id": "b7e78c21",
   "metadata": {},
   "outputs": [],
   "source": [
    "# 5. ¿Cuál es la proporción de clientes con diferentes tipos de tarjetas de fidelidad?"
   ]
  },
  {
   "cell_type": "code",
   "execution_count": null,
   "id": "76ab15eb",
   "metadata": {},
   "outputs": [],
   "source": [
    "# 6. ¿Cómo se distribuyen los clientes según su estado civil y género?"
   ]
  },
  {
   "cell_type": "markdown",
   "id": "e81ba34f",
   "metadata": {},
   "source": [
    "## V. Evaluación de Diferencias en Reservas de Vuelos por Nivel Educativo\n",
    "\n",
    "Se busca evaluar si existen diferencias significativas en el número de vuelos reservados según el nivel educativo de los clientes"
   ]
  },
  {
   "cell_type": "code",
   "execution_count": null,
   "id": "5017fbe3",
   "metadata": {},
   "outputs": [],
   "source": [
    "# 1. Preparación de Datos: Filtra el conjunto de datos para incluir únicamente las columnas relevantes:\n",
    "# 'Flights Booked' y 'Education'"
   ]
  },
  {
   "cell_type": "code",
   "execution_count": null,
   "id": "21d8089b",
   "metadata": {},
   "outputs": [],
   "source": [
    "# 2. Análisis Descriptivo: Agrupa los datos por nivel educativo y calcula estadísticas descriptivas\n",
    "# básicas (como el promedio, la desviación estándar) del número de vuelos reservados para cada grupo"
   ]
  },
  {
   "cell_type": "code",
   "execution_count": null,
   "id": "646cae18",
   "metadata": {},
   "outputs": [],
   "source": [
    "# 3. Prueba Estadística: Realiza una prueba de hipótesis para determinar si existe una diferencia significativa \n",
    "# en el número de vuelos reservados entre los diferentes niveles educativos"
   ]
  }
 ],
 "metadata": {
  "kernelspec": {
   "display_name": "base",
   "language": "python",
   "name": "python3"
  },
  "language_info": {
   "codemirror_mode": {
    "name": "ipython",
    "version": 3
   },
   "file_extension": ".py",
   "mimetype": "text/x-python",
   "name": "python",
   "nbconvert_exporter": "python",
   "pygments_lexer": "ipython3",
   "version": "3.12.7"
  }
 },
 "nbformat": 4,
 "nbformat_minor": 5
}
